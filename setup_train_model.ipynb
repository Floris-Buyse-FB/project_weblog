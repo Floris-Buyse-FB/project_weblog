{
 "cells": [
  {
   "cell_type": "code",
   "execution_count": 42,
   "metadata": {},
   "outputs": [],
   "source": [
    "import pandas as pd\n",
    "import numpy as np\n",
    "import matplotlib.pyplot as plt\n",
    "import seaborn as sns\n",
    "import os"
   ]
  },
  {
   "cell_type": "code",
   "execution_count": 43,
   "metadata": {},
   "outputs": [
    {
     "data": {
      "text/html": [
       "<div>\n",
       "<style scoped>\n",
       "    .dataframe tbody tr th:only-of-type {\n",
       "        vertical-align: middle;\n",
       "    }\n",
       "\n",
       "    .dataframe tbody tr th {\n",
       "        vertical-align: top;\n",
       "    }\n",
       "\n",
       "    .dataframe thead th {\n",
       "        text-align: right;\n",
       "    }\n",
       "</style>\n",
       "<table border=\"1\" class=\"dataframe\">\n",
       "  <thead>\n",
       "    <tr style=\"text-align: right;\">\n",
       "      <th></th>\n",
       "      <th>ID</th>\n",
       "      <th>NUMBER_OF_REQUESTS</th>\n",
       "      <th>TOTAL_DURATION</th>\n",
       "      <th>AVERAGE_TIME</th>\n",
       "      <th>STANDARD_DEVIATION</th>\n",
       "      <th>REPEATED_REQUESTS</th>\n",
       "      <th>HTTP_RESPONSE_2XX</th>\n",
       "      <th>HTTP_RESPONSE_3XX</th>\n",
       "      <th>HTTP_RESPONSE_4XX</th>\n",
       "      <th>HTTP_RESPONSE_5XX</th>\n",
       "      <th>...</th>\n",
       "      <th>DEPTH</th>\n",
       "      <th>STD_DEPTH</th>\n",
       "      <th>CONSECUTIVE</th>\n",
       "      <th>DATA</th>\n",
       "      <th>PPI</th>\n",
       "      <th>SF_REFERRER</th>\n",
       "      <th>SF_FILETYPE</th>\n",
       "      <th>MAX_BARRAGE</th>\n",
       "      <th>PENALTY</th>\n",
       "      <th>ROBOT</th>\n",
       "    </tr>\n",
       "  </thead>\n",
       "  <tbody>\n",
       "    <tr>\n",
       "      <th>0</th>\n",
       "      <td>obSnwGoBCue8G08E_WCX</td>\n",
       "      <td>79</td>\n",
       "      <td>592</td>\n",
       "      <td>7.589744</td>\n",
       "      <td>1.800540</td>\n",
       "      <td>0.000000</td>\n",
       "      <td>0.873418</td>\n",
       "      <td>0.126582</td>\n",
       "      <td>0.000000</td>\n",
       "      <td>0.000000</td>\n",
       "      <td>...</td>\n",
       "      <td>4.0</td>\n",
       "      <td>0.494041</td>\n",
       "      <td>0.101266</td>\n",
       "      <td>1555089.0</td>\n",
       "      <td>2.718334e+07</td>\n",
       "      <td>0.000000</td>\n",
       "      <td>0.205128</td>\n",
       "      <td>1</td>\n",
       "      <td>0</td>\n",
       "      <td>1</td>\n",
       "    </tr>\n",
       "    <tr>\n",
       "      <th>1</th>\n",
       "      <td>nLSnwGoBCue8G08E_WCX</td>\n",
       "      <td>350</td>\n",
       "      <td>103621</td>\n",
       "      <td>296.908300</td>\n",
       "      <td>260.332670</td>\n",
       "      <td>0.000000</td>\n",
       "      <td>0.997143</td>\n",
       "      <td>0.000000</td>\n",
       "      <td>0.002857</td>\n",
       "      <td>0.000000</td>\n",
       "      <td>...</td>\n",
       "      <td>6.0</td>\n",
       "      <td>0.341303</td>\n",
       "      <td>0.425714</td>\n",
       "      <td>2071344.0</td>\n",
       "      <td>1.427714e+01</td>\n",
       "      <td>0.547278</td>\n",
       "      <td>0.461318</td>\n",
       "      <td>4</td>\n",
       "      <td>0</td>\n",
       "      <td>1</td>\n",
       "    </tr>\n",
       "    <tr>\n",
       "      <th>2</th>\n",
       "      <td>ErSowGoBCue8G08ECmHa</td>\n",
       "      <td>15</td>\n",
       "      <td>368</td>\n",
       "      <td>26.285715</td>\n",
       "      <td>87.329780</td>\n",
       "      <td>0.000000</td>\n",
       "      <td>1.000000</td>\n",
       "      <td>0.000000</td>\n",
       "      <td>0.000000</td>\n",
       "      <td>0.000000</td>\n",
       "      <td>...</td>\n",
       "      <td>3.0</td>\n",
       "      <td>0.000000</td>\n",
       "      <td>0.000000</td>\n",
       "      <td>49505.0</td>\n",
       "      <td>1.413333e+01</td>\n",
       "      <td>0.642857</td>\n",
       "      <td>1.000000</td>\n",
       "      <td>2</td>\n",
       "      <td>0</td>\n",
       "      <td>0</td>\n",
       "    </tr>\n",
       "    <tr>\n",
       "      <th>3</th>\n",
       "      <td>E7SowGoBCue8G08ECmHa</td>\n",
       "      <td>28</td>\n",
       "      <td>11</td>\n",
       "      <td>0.407407</td>\n",
       "      <td>1.097447</td>\n",
       "      <td>0.000000</td>\n",
       "      <td>1.000000</td>\n",
       "      <td>0.000000</td>\n",
       "      <td>0.000000</td>\n",
       "      <td>0.000000</td>\n",
       "      <td>...</td>\n",
       "      <td>3.0</td>\n",
       "      <td>0.000000</td>\n",
       "      <td>0.821429</td>\n",
       "      <td>45984.0</td>\n",
       "      <td>1.332143e+01</td>\n",
       "      <td>0.037037</td>\n",
       "      <td>0.148148</td>\n",
       "      <td>5</td>\n",
       "      <td>0</td>\n",
       "      <td>0</td>\n",
       "    </tr>\n",
       "    <tr>\n",
       "      <th>4</th>\n",
       "      <td>FbSowGoBCue8G08ECmHa</td>\n",
       "      <td>9342</td>\n",
       "      <td>80946</td>\n",
       "      <td>8.665668</td>\n",
       "      <td>17.566462</td>\n",
       "      <td>0.000107</td>\n",
       "      <td>0.996896</td>\n",
       "      <td>0.002569</td>\n",
       "      <td>0.000214</td>\n",
       "      <td>0.000321</td>\n",
       "      <td>...</td>\n",
       "      <td>4.0</td>\n",
       "      <td>0.152943</td>\n",
       "      <td>0.953757</td>\n",
       "      <td>83171793.0</td>\n",
       "      <td>1.307407e+01</td>\n",
       "      <td>0.000000</td>\n",
       "      <td>0.023552</td>\n",
       "      <td>1</td>\n",
       "      <td>0</td>\n",
       "      <td>1</td>\n",
       "    </tr>\n",
       "  </tbody>\n",
       "</table>\n",
       "<p>5 rows × 32 columns</p>\n",
       "</div>"
      ],
      "text/plain": [
       "                     ID  NUMBER_OF_REQUESTS  TOTAL_DURATION  AVERAGE_TIME  \\\n",
       "0  obSnwGoBCue8G08E_WCX                  79             592      7.589744   \n",
       "1  nLSnwGoBCue8G08E_WCX                 350          103621    296.908300   \n",
       "2  ErSowGoBCue8G08ECmHa                  15             368     26.285715   \n",
       "3  E7SowGoBCue8G08ECmHa                  28              11      0.407407   \n",
       "4  FbSowGoBCue8G08ECmHa                9342           80946      8.665668   \n",
       "\n",
       "   STANDARD_DEVIATION  REPEATED_REQUESTS  HTTP_RESPONSE_2XX  \\\n",
       "0            1.800540           0.000000           0.873418   \n",
       "1          260.332670           0.000000           0.997143   \n",
       "2           87.329780           0.000000           1.000000   \n",
       "3            1.097447           0.000000           1.000000   \n",
       "4           17.566462           0.000107           0.996896   \n",
       "\n",
       "   HTTP_RESPONSE_3XX  HTTP_RESPONSE_4XX  HTTP_RESPONSE_5XX  ...  DEPTH  \\\n",
       "0           0.126582           0.000000           0.000000  ...    4.0   \n",
       "1           0.000000           0.002857           0.000000  ...    6.0   \n",
       "2           0.000000           0.000000           0.000000  ...    3.0   \n",
       "3           0.000000           0.000000           0.000000  ...    3.0   \n",
       "4           0.002569           0.000214           0.000321  ...    4.0   \n",
       "\n",
       "   STD_DEPTH  CONSECUTIVE        DATA           PPI  SF_REFERRER  SF_FILETYPE  \\\n",
       "0   0.494041     0.101266   1555089.0  2.718334e+07     0.000000     0.205128   \n",
       "1   0.341303     0.425714   2071344.0  1.427714e+01     0.547278     0.461318   \n",
       "2   0.000000     0.000000     49505.0  1.413333e+01     0.642857     1.000000   \n",
       "3   0.000000     0.821429     45984.0  1.332143e+01     0.037037     0.148148   \n",
       "4   0.152943     0.953757  83171793.0  1.307407e+01     0.000000     0.023552   \n",
       "\n",
       "   MAX_BARRAGE  PENALTY  ROBOT  \n",
       "0            1        0      1  \n",
       "1            4        0      1  \n",
       "2            2        0      0  \n",
       "3            5        0      0  \n",
       "4            1        0      1  \n",
       "\n",
       "[5 rows x 32 columns]"
      ]
     },
     "execution_count": 43,
     "metadata": {},
     "output_type": "execute_result"
    }
   ],
   "source": [
    "df = pd.read_csv('weblogs.csv')\n",
    "df.head()"
   ]
  },
  {
   "attachments": {},
   "cell_type": "markdown",
   "metadata": {},
   "source": [
    "Note: \n",
    "\n",
    "- STANDARD_DEVIATION --> 52945 non-null count while others have 67352 non-null count\n",
    "\n",
    "- SF_REFERRERE --> 52945 non-null count while others have 67352 non-null count\n",
    "\n",
    "- SF_FILETYPE --> 52945 non-null count while others have 67352 non-null count"
   ]
  },
  {
   "cell_type": "code",
   "execution_count": 44,
   "metadata": {},
   "outputs": [
    {
     "name": "stdout",
     "output_type": "stream",
     "text": [
      "<class 'pandas.core.frame.DataFrame'>\n",
      "RangeIndex: 67352 entries, 0 to 67351\n",
      "Data columns (total 32 columns):\n",
      " #   Column              Non-Null Count  Dtype  \n",
      "---  ------              --------------  -----  \n",
      " 0   ID                  67352 non-null  object \n",
      " 1   NUMBER_OF_REQUESTS  67352 non-null  int64  \n",
      " 2   TOTAL_DURATION      67352 non-null  int64  \n",
      " 3   AVERAGE_TIME        67352 non-null  float64\n",
      " 4   STANDARD_DEVIATION  52945 non-null  float64\n",
      " 5   REPEATED_REQUESTS   67352 non-null  float64\n",
      " 6   HTTP_RESPONSE_2XX   67352 non-null  float64\n",
      " 7   HTTP_RESPONSE_3XX   67352 non-null  float64\n",
      " 8   HTTP_RESPONSE_4XX   67352 non-null  float64\n",
      " 9   HTTP_RESPONSE_5XX   67352 non-null  float64\n",
      " 10  GET_METHOD          67352 non-null  float64\n",
      " 11  POST_METHOD         67352 non-null  float64\n",
      " 12  HEAD_METHOD         67352 non-null  float64\n",
      " 13  OTHER_METHOD        67352 non-null  float64\n",
      " 14  NIGHT               67352 non-null  float64\n",
      " 15  UNASSIGNED          67352 non-null  float64\n",
      " 16  IMAGES              67352 non-null  float64\n",
      " 17  TOTAL_HTML          67352 non-null  float64\n",
      " 18  HTML_TO_IMAGE       67352 non-null  float64\n",
      " 19  HTML_TO_CSS         67352 non-null  float64\n",
      " 20  HTML_TO_JS          67352 non-null  float64\n",
      " 21  WIDTH               67352 non-null  float64\n",
      " 22  DEPTH               67352 non-null  float64\n",
      " 23  STD_DEPTH           67352 non-null  float64\n",
      " 24  CONSECUTIVE         67352 non-null  float64\n",
      " 25  DATA                67352 non-null  float64\n",
      " 26  PPI                 67352 non-null  float64\n",
      " 27  SF_REFERRER         52945 non-null  float64\n",
      " 28  SF_FILETYPE         52945 non-null  float64\n",
      " 29  MAX_BARRAGE         67352 non-null  int64  \n",
      " 30  PENALTY             67352 non-null  int64  \n",
      " 31  ROBOT               67352 non-null  int64  \n",
      "dtypes: float64(26), int64(5), object(1)\n",
      "memory usage: 16.4+ MB\n"
     ]
    }
   ],
   "source": [
    "df.info()"
   ]
  },
  {
   "attachments": {},
   "cell_type": "markdown",
   "metadata": {},
   "source": [
    "UNASSIGNED: Requests with non-assigned referrers are HTTP requests that are made without a referrer header and are often generated programmatically for various purposes such as web scraping, testing, or monitoring."
   ]
  },
  {
   "attachments": {},
   "cell_type": "markdown",
   "metadata": {},
   "source": [
    "##### DATA CLEANING"
   ]
  },
  {
   "cell_type": "code",
   "execution_count": 45,
   "metadata": {},
   "outputs": [],
   "source": [
    "df = df.drop(['NIGHT', 'ID'], axis=1)"
   ]
  },
  {
   "cell_type": "code",
   "execution_count": 46,
   "metadata": {},
   "outputs": [
    {
     "data": {
      "text/plain": [
       "0.000000    67341\n",
       "1.000000        4\n",
       "0.064516        1\n",
       "0.084746        1\n",
       "0.032787        1\n",
       "0.053571        1\n",
       "0.030928        1\n",
       "0.033333        1\n",
       "0.028571        1\n",
       "Name: OTHER_METHOD, dtype: int64"
      ]
     },
     "execution_count": 46,
     "metadata": {},
     "output_type": "execute_result"
    }
   ],
   "source": [
    "df['OTHER_METHOD'].value_counts()"
   ]
  },
  {
   "cell_type": "code",
   "execution_count": 47,
   "metadata": {},
   "outputs": [],
   "source": [
    "df = df.drop('OTHER_METHOD', axis=1)"
   ]
  },
  {
   "cell_type": "code",
   "execution_count": 48,
   "metadata": {},
   "outputs": [
    {
     "data": {
      "text/plain": [
       "NUMBER_OF_REQUESTS    67352\n",
       "TOTAL_DURATION        67352\n",
       "AVERAGE_TIME          67352\n",
       "STANDARD_DEVIATION    52945\n",
       "REPEATED_REQUESTS     67352\n",
       "HTTP_RESPONSE_2XX     67352\n",
       "HTTP_RESPONSE_3XX     67352\n",
       "HTTP_RESPONSE_4XX     67352\n",
       "HTTP_RESPONSE_5XX     67352\n",
       "GET_METHOD            67352\n",
       "POST_METHOD           67352\n",
       "HEAD_METHOD           67352\n",
       "UNASSIGNED            67352\n",
       "IMAGES                67352\n",
       "TOTAL_HTML            67352\n",
       "HTML_TO_IMAGE         67352\n",
       "HTML_TO_CSS           67352\n",
       "HTML_TO_JS            67352\n",
       "WIDTH                 67352\n",
       "DEPTH                 67352\n",
       "STD_DEPTH             67352\n",
       "CONSECUTIVE           67352\n",
       "DATA                  67352\n",
       "PPI                   67352\n",
       "SF_REFERRER           52945\n",
       "SF_FILETYPE           52945\n",
       "MAX_BARRAGE           67352\n",
       "PENALTY               67352\n",
       "ROBOT                 67352\n",
       "dtype: int64"
      ]
     },
     "execution_count": 48,
     "metadata": {},
     "output_type": "execute_result"
    }
   ],
   "source": [
    "column_counts = df.count()\n",
    "column_counts"
   ]
  },
  {
   "attachments": {},
   "cell_type": "markdown",
   "metadata": {},
   "source": [
    "##### DATA OPSPLITSEN IN X EN Y"
   ]
  },
  {
   "cell_type": "code",
   "execution_count": 49,
   "metadata": {},
   "outputs": [],
   "source": [
    "# data opsplitsen in X en y\n",
    "X = df.loc[:, df.columns != 'ROBOT']\n",
    "y = df['ROBOT']"
   ]
  },
  {
   "cell_type": "code",
   "execution_count": 50,
   "metadata": {},
   "outputs": [
    {
     "name": "stdout",
     "output_type": "stream",
     "text": [
      "(67352, 28) (67352,)\n"
     ]
    }
   ],
   "source": [
    "print(X.shape, y.shape)"
   ]
  },
  {
   "attachments": {},
   "cell_type": "markdown",
   "metadata": {},
   "source": [
    "##### TRAINING EN TEST DATA"
   ]
  },
  {
   "cell_type": "code",
   "execution_count": 51,
   "metadata": {},
   "outputs": [],
   "source": [
    "# training en test data opsplitsen\n",
    "from sklearn.model_selection import train_test_split\n",
    "X_train, X_test, y_train, y_test = train_test_split(X, y, test_size=0.2, random_state=42)"
   ]
  },
  {
   "cell_type": "code",
   "execution_count": 52,
   "metadata": {},
   "outputs": [
    {
     "name": "stdout",
     "output_type": "stream",
     "text": [
      "(53881, 28) (13471, 28) (53881,) (13471,)\n"
     ]
    }
   ],
   "source": [
    "print(X_train.shape, X_test.shape, y_train.shape, y_test.shape)"
   ]
  },
  {
   "attachments": {},
   "cell_type": "markdown",
   "metadata": {},
   "source": [
    "##### NaN WAARDEN OPVULLEN"
   ]
  },
  {
   "cell_type": "code",
   "execution_count": 53,
   "metadata": {},
   "outputs": [],
   "source": [
    "# NUMERIC DATA NaN vervangen door nullen\n",
    "X_train = X_train.fillna(0)\n",
    "X_test = X_test.fillna(0)"
   ]
  },
  {
   "attachments": {},
   "cell_type": "markdown",
   "metadata": {},
   "source": [
    "#### NUMERIEKE DATA STANDAADISEREN"
   ]
  },
  {
   "cell_type": "code",
   "execution_count": 54,
   "metadata": {},
   "outputs": [
    {
     "data": {
      "text/plain": [
       "Index(['NUMBER_OF_REQUESTS', 'TOTAL_DURATION', 'AVERAGE_TIME',\n",
       "       'STANDARD_DEVIATION', 'REPEATED_REQUESTS', 'HTTP_RESPONSE_2XX',\n",
       "       'HTTP_RESPONSE_3XX', 'HTTP_RESPONSE_4XX', 'HTTP_RESPONSE_5XX',\n",
       "       'GET_METHOD', 'POST_METHOD', 'HEAD_METHOD', 'UNASSIGNED', 'IMAGES',\n",
       "       'TOTAL_HTML', 'HTML_TO_IMAGE', 'HTML_TO_CSS', 'HTML_TO_JS', 'WIDTH',\n",
       "       'DEPTH', 'STD_DEPTH', 'CONSECUTIVE', 'DATA', 'PPI', 'SF_REFERRER',\n",
       "       'SF_FILETYPE', 'MAX_BARRAGE', 'PENALTY'],\n",
       "      dtype='object')"
      ]
     },
     "execution_count": 54,
     "metadata": {},
     "output_type": "execute_result"
    }
   ],
   "source": [
    "# numeric data standaardiseren\n",
    "numeric_cols = X.select_dtypes(['int64', 'float64']).columns\n",
    "numeric_cols"
   ]
  },
  {
   "cell_type": "code",
   "execution_count": 55,
   "metadata": {},
   "outputs": [
    {
     "data": {
      "text/html": [
       "<div>\n",
       "<style scoped>\n",
       "    .dataframe tbody tr th:only-of-type {\n",
       "        vertical-align: middle;\n",
       "    }\n",
       "\n",
       "    .dataframe tbody tr th {\n",
       "        vertical-align: top;\n",
       "    }\n",
       "\n",
       "    .dataframe thead th {\n",
       "        text-align: right;\n",
       "    }\n",
       "</style>\n",
       "<table border=\"1\" class=\"dataframe\">\n",
       "  <thead>\n",
       "    <tr style=\"text-align: right;\">\n",
       "      <th></th>\n",
       "      <th>NUMBER_OF_REQUESTS</th>\n",
       "      <th>TOTAL_DURATION</th>\n",
       "      <th>AVERAGE_TIME</th>\n",
       "      <th>STANDARD_DEVIATION</th>\n",
       "      <th>REPEATED_REQUESTS</th>\n",
       "      <th>HTTP_RESPONSE_2XX</th>\n",
       "      <th>HTTP_RESPONSE_3XX</th>\n",
       "      <th>HTTP_RESPONSE_4XX</th>\n",
       "      <th>HTTP_RESPONSE_5XX</th>\n",
       "      <th>GET_METHOD</th>\n",
       "      <th>...</th>\n",
       "      <th>WIDTH</th>\n",
       "      <th>DEPTH</th>\n",
       "      <th>STD_DEPTH</th>\n",
       "      <th>CONSECUTIVE</th>\n",
       "      <th>DATA</th>\n",
       "      <th>PPI</th>\n",
       "      <th>SF_REFERRER</th>\n",
       "      <th>SF_FILETYPE</th>\n",
       "      <th>MAX_BARRAGE</th>\n",
       "      <th>PENALTY</th>\n",
       "    </tr>\n",
       "  </thead>\n",
       "  <tbody>\n",
       "    <tr>\n",
       "      <th>0</th>\n",
       "      <td>0.110077</td>\n",
       "      <td>-0.016955</td>\n",
       "      <td>-0.172282</td>\n",
       "      <td>-0.428530</td>\n",
       "      <td>-0.52470</td>\n",
       "      <td>-0.949658</td>\n",
       "      <td>2.031770</td>\n",
       "      <td>-0.119117</td>\n",
       "      <td>-0.044044</td>\n",
       "      <td>0.127974</td>\n",
       "      <td>...</td>\n",
       "      <td>-0.055814</td>\n",
       "      <td>-0.565587</td>\n",
       "      <td>-0.313308</td>\n",
       "      <td>-0.918823</td>\n",
       "      <td>0.636457</td>\n",
       "      <td>0.598414</td>\n",
       "      <td>-1.070996</td>\n",
       "      <td>-0.723905</td>\n",
       "      <td>-0.697260</td>\n",
       "      <td>-0.271244</td>\n",
       "    </tr>\n",
       "    <tr>\n",
       "      <th>1</th>\n",
       "      <td>1.700414</td>\n",
       "      <td>12.802016</td>\n",
       "      <td>1.744076</td>\n",
       "      <td>2.447709</td>\n",
       "      <td>-0.52470</td>\n",
       "      <td>0.155591</td>\n",
       "      <td>-0.138971</td>\n",
       "      <td>-0.088221</td>\n",
       "      <td>-0.044044</td>\n",
       "      <td>0.127974</td>\n",
       "      <td>...</td>\n",
       "      <td>1.932869</td>\n",
       "      <td>0.775613</td>\n",
       "      <td>-0.568455</td>\n",
       "      <td>0.239006</td>\n",
       "      <td>0.902944</td>\n",
       "      <td>-0.032682</td>\n",
       "      <td>1.175795</td>\n",
       "      <td>0.305629</td>\n",
       "      <td>-0.543951</td>\n",
       "      <td>-0.271244</td>\n",
       "    </tr>\n",
       "    <tr>\n",
       "      <th>2</th>\n",
       "      <td>-0.265500</td>\n",
       "      <td>-0.044825</td>\n",
       "      <td>-0.048446</td>\n",
       "      <td>0.523006</td>\n",
       "      <td>-0.52470</td>\n",
       "      <td>0.181114</td>\n",
       "      <td>-0.138971</td>\n",
       "      <td>-0.119117</td>\n",
       "      <td>-0.044044</td>\n",
       "      <td>0.127974</td>\n",
       "      <td>...</td>\n",
       "      <td>-0.251312</td>\n",
       "      <td>-1.236188</td>\n",
       "      <td>-1.138600</td>\n",
       "      <td>-1.280201</td>\n",
       "      <td>-0.140715</td>\n",
       "      <td>-0.032682</td>\n",
       "      <td>1.568186</td>\n",
       "      <td>2.470395</td>\n",
       "      <td>-0.646157</td>\n",
       "      <td>-0.271244</td>\n",
       "    </tr>\n",
       "    <tr>\n",
       "      <th>3</th>\n",
       "      <td>-0.189211</td>\n",
       "      <td>-0.089243</td>\n",
       "      <td>-0.219856</td>\n",
       "      <td>-0.436352</td>\n",
       "      <td>-0.52470</td>\n",
       "      <td>0.181114</td>\n",
       "      <td>-0.138971</td>\n",
       "      <td>-0.119117</td>\n",
       "      <td>-0.044044</td>\n",
       "      <td>0.127974</td>\n",
       "      <td>...</td>\n",
       "      <td>-0.163675</td>\n",
       "      <td>-1.236188</td>\n",
       "      <td>-1.138600</td>\n",
       "      <td>1.651156</td>\n",
       "      <td>-0.142532</td>\n",
       "      <td>-0.032682</td>\n",
       "      <td>-0.918945</td>\n",
       "      <td>-0.952887</td>\n",
       "      <td>-0.492848</td>\n",
       "      <td>-0.271244</td>\n",
       "    </tr>\n",
       "    <tr>\n",
       "      <th>4</th>\n",
       "      <td>54.469067</td>\n",
       "      <td>9.980770</td>\n",
       "      <td>-0.165156</td>\n",
       "      <td>-0.253130</td>\n",
       "      <td>-0.52335</td>\n",
       "      <td>0.153383</td>\n",
       "      <td>-0.094915</td>\n",
       "      <td>-0.116802</td>\n",
       "      <td>-0.031801</td>\n",
       "      <td>0.127974</td>\n",
       "      <td>...</td>\n",
       "      <td>60.582181</td>\n",
       "      <td>-0.565587</td>\n",
       "      <td>-0.883109</td>\n",
       "      <td>2.123385</td>\n",
       "      <td>42.766394</td>\n",
       "      <td>-0.032682</td>\n",
       "      <td>-1.070996</td>\n",
       "      <td>-1.453593</td>\n",
       "      <td>-0.697260</td>\n",
       "      <td>-0.271244</td>\n",
       "    </tr>\n",
       "    <tr>\n",
       "      <th>...</th>\n",
       "      <td>...</td>\n",
       "      <td>...</td>\n",
       "      <td>...</td>\n",
       "      <td>...</td>\n",
       "      <td>...</td>\n",
       "      <td>...</td>\n",
       "      <td>...</td>\n",
       "      <td>...</td>\n",
       "      <td>...</td>\n",
       "      <td>...</td>\n",
       "      <td>...</td>\n",
       "      <td>...</td>\n",
       "      <td>...</td>\n",
       "      <td>...</td>\n",
       "      <td>...</td>\n",
       "      <td>...</td>\n",
       "      <td>...</td>\n",
       "      <td>...</td>\n",
       "      <td>...</td>\n",
       "      <td>...</td>\n",
       "      <td>...</td>\n",
       "    </tr>\n",
       "    <tr>\n",
       "      <th>67347</th>\n",
       "      <td>-0.253763</td>\n",
       "      <td>-0.090363</td>\n",
       "      <td>-0.221727</td>\n",
       "      <td>-0.444882</td>\n",
       "      <td>-0.52470</td>\n",
       "      <td>0.181114</td>\n",
       "      <td>-0.138971</td>\n",
       "      <td>-0.119117</td>\n",
       "      <td>-0.044044</td>\n",
       "      <td>0.127974</td>\n",
       "      <td>...</td>\n",
       "      <td>-0.237829</td>\n",
       "      <td>0.775613</td>\n",
       "      <td>0.750912</td>\n",
       "      <td>-0.440529</td>\n",
       "      <td>-0.098075</td>\n",
       "      <td>-0.032682</td>\n",
       "      <td>1.238288</td>\n",
       "      <td>0.209913</td>\n",
       "      <td>-0.748363</td>\n",
       "      <td>-0.271244</td>\n",
       "    </tr>\n",
       "    <tr>\n",
       "      <th>67348</th>\n",
       "      <td>-0.347658</td>\n",
       "      <td>-0.090612</td>\n",
       "      <td>-0.222554</td>\n",
       "      <td>NaN</td>\n",
       "      <td>-0.52470</td>\n",
       "      <td>0.181114</td>\n",
       "      <td>-0.138971</td>\n",
       "      <td>-0.119117</td>\n",
       "      <td>-0.044044</td>\n",
       "      <td>0.127974</td>\n",
       "      <td>...</td>\n",
       "      <td>-0.345690</td>\n",
       "      <td>-0.565587</td>\n",
       "      <td>-1.138600</td>\n",
       "      <td>-1.280201</td>\n",
       "      <td>-0.159470</td>\n",
       "      <td>-0.032682</td>\n",
       "      <td>NaN</td>\n",
       "      <td>NaN</td>\n",
       "      <td>-0.748363</td>\n",
       "      <td>-0.271244</td>\n",
       "    </tr>\n",
       "    <tr>\n",
       "      <th>67349</th>\n",
       "      <td>-0.347658</td>\n",
       "      <td>-0.090612</td>\n",
       "      <td>-0.222554</td>\n",
       "      <td>NaN</td>\n",
       "      <td>-0.52470</td>\n",
       "      <td>0.181114</td>\n",
       "      <td>-0.138971</td>\n",
       "      <td>-0.119117</td>\n",
       "      <td>-0.044044</td>\n",
       "      <td>0.127974</td>\n",
       "      <td>...</td>\n",
       "      <td>-0.345690</td>\n",
       "      <td>-1.236188</td>\n",
       "      <td>-1.138600</td>\n",
       "      <td>-1.280201</td>\n",
       "      <td>-0.165568</td>\n",
       "      <td>-0.032682</td>\n",
       "      <td>NaN</td>\n",
       "      <td>NaN</td>\n",
       "      <td>-0.748363</td>\n",
       "      <td>-0.271244</td>\n",
       "    </tr>\n",
       "    <tr>\n",
       "      <th>67350</th>\n",
       "      <td>-0.347658</td>\n",
       "      <td>-0.090612</td>\n",
       "      <td>-0.222554</td>\n",
       "      <td>NaN</td>\n",
       "      <td>-0.52470</td>\n",
       "      <td>0.181114</td>\n",
       "      <td>-0.138971</td>\n",
       "      <td>-0.119117</td>\n",
       "      <td>-0.044044</td>\n",
       "      <td>0.127974</td>\n",
       "      <td>...</td>\n",
       "      <td>-0.345690</td>\n",
       "      <td>-0.565587</td>\n",
       "      <td>-1.138600</td>\n",
       "      <td>-1.280201</td>\n",
       "      <td>-0.162189</td>\n",
       "      <td>-0.032682</td>\n",
       "      <td>NaN</td>\n",
       "      <td>NaN</td>\n",
       "      <td>-0.748363</td>\n",
       "      <td>-0.271244</td>\n",
       "    </tr>\n",
       "    <tr>\n",
       "      <th>67351</th>\n",
       "      <td>-0.347658</td>\n",
       "      <td>-0.090612</td>\n",
       "      <td>-0.222554</td>\n",
       "      <td>NaN</td>\n",
       "      <td>-0.52470</td>\n",
       "      <td>0.181114</td>\n",
       "      <td>-0.138971</td>\n",
       "      <td>-0.119117</td>\n",
       "      <td>-0.044044</td>\n",
       "      <td>0.127974</td>\n",
       "      <td>...</td>\n",
       "      <td>-0.345690</td>\n",
       "      <td>0.105013</td>\n",
       "      <td>-1.138600</td>\n",
       "      <td>-1.280201</td>\n",
       "      <td>-0.163316</td>\n",
       "      <td>-0.032682</td>\n",
       "      <td>NaN</td>\n",
       "      <td>NaN</td>\n",
       "      <td>-0.748363</td>\n",
       "      <td>-0.271244</td>\n",
       "    </tr>\n",
       "  </tbody>\n",
       "</table>\n",
       "<p>67352 rows × 28 columns</p>\n",
       "</div>"
      ],
      "text/plain": [
       "       NUMBER_OF_REQUESTS  TOTAL_DURATION  AVERAGE_TIME  STANDARD_DEVIATION  \\\n",
       "0                0.110077       -0.016955     -0.172282           -0.428530   \n",
       "1                1.700414       12.802016      1.744076            2.447709   \n",
       "2               -0.265500       -0.044825     -0.048446            0.523006   \n",
       "3               -0.189211       -0.089243     -0.219856           -0.436352   \n",
       "4               54.469067        9.980770     -0.165156           -0.253130   \n",
       "...                   ...             ...           ...                 ...   \n",
       "67347           -0.253763       -0.090363     -0.221727           -0.444882   \n",
       "67348           -0.347658       -0.090612     -0.222554                 NaN   \n",
       "67349           -0.347658       -0.090612     -0.222554                 NaN   \n",
       "67350           -0.347658       -0.090612     -0.222554                 NaN   \n",
       "67351           -0.347658       -0.090612     -0.222554                 NaN   \n",
       "\n",
       "       REPEATED_REQUESTS  HTTP_RESPONSE_2XX  HTTP_RESPONSE_3XX  \\\n",
       "0               -0.52470          -0.949658           2.031770   \n",
       "1               -0.52470           0.155591          -0.138971   \n",
       "2               -0.52470           0.181114          -0.138971   \n",
       "3               -0.52470           0.181114          -0.138971   \n",
       "4               -0.52335           0.153383          -0.094915   \n",
       "...                  ...                ...                ...   \n",
       "67347           -0.52470           0.181114          -0.138971   \n",
       "67348           -0.52470           0.181114          -0.138971   \n",
       "67349           -0.52470           0.181114          -0.138971   \n",
       "67350           -0.52470           0.181114          -0.138971   \n",
       "67351           -0.52470           0.181114          -0.138971   \n",
       "\n",
       "       HTTP_RESPONSE_4XX  HTTP_RESPONSE_5XX  GET_METHOD  ...      WIDTH  \\\n",
       "0              -0.119117          -0.044044    0.127974  ...  -0.055814   \n",
       "1              -0.088221          -0.044044    0.127974  ...   1.932869   \n",
       "2              -0.119117          -0.044044    0.127974  ...  -0.251312   \n",
       "3              -0.119117          -0.044044    0.127974  ...  -0.163675   \n",
       "4              -0.116802          -0.031801    0.127974  ...  60.582181   \n",
       "...                  ...                ...         ...  ...        ...   \n",
       "67347          -0.119117          -0.044044    0.127974  ...  -0.237829   \n",
       "67348          -0.119117          -0.044044    0.127974  ...  -0.345690   \n",
       "67349          -0.119117          -0.044044    0.127974  ...  -0.345690   \n",
       "67350          -0.119117          -0.044044    0.127974  ...  -0.345690   \n",
       "67351          -0.119117          -0.044044    0.127974  ...  -0.345690   \n",
       "\n",
       "          DEPTH  STD_DEPTH  CONSECUTIVE       DATA       PPI  SF_REFERRER  \\\n",
       "0     -0.565587  -0.313308    -0.918823   0.636457  0.598414    -1.070996   \n",
       "1      0.775613  -0.568455     0.239006   0.902944 -0.032682     1.175795   \n",
       "2     -1.236188  -1.138600    -1.280201  -0.140715 -0.032682     1.568186   \n",
       "3     -1.236188  -1.138600     1.651156  -0.142532 -0.032682    -0.918945   \n",
       "4     -0.565587  -0.883109     2.123385  42.766394 -0.032682    -1.070996   \n",
       "...         ...        ...          ...        ...       ...          ...   \n",
       "67347  0.775613   0.750912    -0.440529  -0.098075 -0.032682     1.238288   \n",
       "67348 -0.565587  -1.138600    -1.280201  -0.159470 -0.032682          NaN   \n",
       "67349 -1.236188  -1.138600    -1.280201  -0.165568 -0.032682          NaN   \n",
       "67350 -0.565587  -1.138600    -1.280201  -0.162189 -0.032682          NaN   \n",
       "67351  0.105013  -1.138600    -1.280201  -0.163316 -0.032682          NaN   \n",
       "\n",
       "       SF_FILETYPE  MAX_BARRAGE   PENALTY  \n",
       "0        -0.723905    -0.697260 -0.271244  \n",
       "1         0.305629    -0.543951 -0.271244  \n",
       "2         2.470395    -0.646157 -0.271244  \n",
       "3        -0.952887    -0.492848 -0.271244  \n",
       "4        -1.453593    -0.697260 -0.271244  \n",
       "...            ...          ...       ...  \n",
       "67347     0.209913    -0.748363 -0.271244  \n",
       "67348          NaN    -0.748363 -0.271244  \n",
       "67349          NaN    -0.748363 -0.271244  \n",
       "67350          NaN    -0.748363 -0.271244  \n",
       "67351          NaN    -0.748363 -0.271244  \n",
       "\n",
       "[67352 rows x 28 columns]"
      ]
     },
     "execution_count": 55,
     "metadata": {},
     "output_type": "execute_result"
    }
   ],
   "source": [
    "from sklearn.preprocessing import StandardScaler\n",
    "\n",
    "scaler = StandardScaler()\n",
    "df[numeric_cols] = scaler.fit_transform(df[numeric_cols])\n",
    "df[numeric_cols]"
   ]
  },
  {
   "attachments": {},
   "cell_type": "markdown",
   "metadata": {},
   "source": [
    "##### MODEL TRAINEN"
   ]
  },
  {
   "cell_type": "code",
   "execution_count": 56,
   "metadata": {},
   "outputs": [
    {
     "name": "stdout",
     "output_type": "stream",
     "text": [
      "Fitting 3 folds for each of 450 candidates, totalling 1350 fits\n"
     ]
    },
    {
     "data": {
      "text/plain": [
       "{'max_depth': 25,\n",
       " 'min_samples_leaf': 1,\n",
       " 'min_samples_split': 2,\n",
       " 'n_estimators': 100}"
      ]
     },
     "execution_count": 56,
     "metadata": {},
     "output_type": "execute_result"
    }
   ],
   "source": [
    "from sklearn.ensemble import RandomForestClassifier\n",
    "from sklearn.model_selection import GridSearchCV\n",
    "\n",
    "param_grid = {\n",
    "    'n_estimators': [100, 200, 300, 400, 500],\n",
    "    'max_depth': [5, 10, 15, 20, 25, 30, 35, 40, 45, 50],\n",
    "    'min_samples_split': [2, 5, 10],\n",
    "    'min_samples_leaf': [1, 2, 4]\n",
    "}\n",
    "\n",
    "rf = RandomForestClassifier()\n",
    "grid_search = GridSearchCV(estimator=rf, param_grid=param_grid, cv=3, n_jobs=-1, verbose=2)\n",
    "grid_search.fit(X_train, y_train)\n",
    "\n",
    "grid_search.best_params_"
   ]
  },
  {
   "cell_type": "code",
   "execution_count": 57,
   "metadata": {},
   "outputs": [
    {
     "data": {
      "text/plain": [
       "0.9787123213882492"
      ]
     },
     "execution_count": 57,
     "metadata": {},
     "output_type": "execute_result"
    }
   ],
   "source": [
    "grid_search.best_score_"
   ]
  },
  {
   "cell_type": "code",
   "execution_count": 58,
   "metadata": {},
   "outputs": [],
   "source": [
    "# model opslaan\n",
    "import pickle\n",
    "filename = './modellen/random_forest_classifier_27_2_23.sav'\n",
    "pickle.dump(grid_search, open(filename, 'wb'))"
   ]
  },
  {
   "attachments": {},
   "cell_type": "markdown",
   "metadata": {},
   "source": [
    "##### CROSS VALIDATION AND CONFUSION MATRIX"
   ]
  },
  {
   "cell_type": "code",
   "execution_count": 59,
   "metadata": {},
   "outputs": [
    {
     "data": {
      "text/plain": [
       "array([0, 0, 0, ..., 0, 0, 0], dtype=int64)"
      ]
     },
     "execution_count": 59,
     "metadata": {},
     "output_type": "execute_result"
    }
   ],
   "source": [
    "from sklearn.model_selection import cross_val_predict\n",
    "\n",
    "y_test_pred = cross_val_predict(rf, X_test, y_test, cv=3)\n",
    "y_test_pred"
   ]
  },
  {
   "cell_type": "code",
   "execution_count": 60,
   "metadata": {},
   "outputs": [
    {
     "data": {
      "text/plain": [
       "array([[10630,   155],\n",
       "       [  222,  2464]], dtype=int64)"
      ]
     },
     "execution_count": 60,
     "metadata": {},
     "output_type": "execute_result"
    }
   ],
   "source": [
    "from sklearn.metrics import confusion_matrix\n",
    "\n",
    "cm = confusion_matrix(y_test, y_test_pred)\n",
    "cm"
   ]
  },
  {
   "cell_type": "code",
   "execution_count": 61,
   "metadata": {},
   "outputs": [
    {
     "data": {
      "image/png": "[encoded data removed]",
      "text/plain": [
       "<Figure size 640x480 with 2 Axes>"
      ]
     },
     "metadata": {},
     "output_type": "display_data"
    }
   ],
   "source": [
    "from sklearn.metrics import ConfusionMatrixDisplay\n",
    "\n",
    "plt.rc('font', size=9)\n",
    "ConfusionMatrixDisplay.from_predictions(y_test, y_test_pred, normalize=\"true\", values_format='.0%')\n",
    "plt.show()"
   ]
  },
  {
   "attachments": {},
   "cell_type": "markdown",
   "metadata": {},
   "source": [
    "##### PRECISION, RECALL, F1 SCORE"
   ]
  },
  {
   "cell_type": "code",
   "execution_count": 64,
   "metadata": {},
   "outputs": [
    {
     "name": "stdout",
     "output_type": "stream",
     "text": [
      "              precision    recall  f1-score   support\n",
      "\n",
      "           0       0.98      0.99      0.98     10785\n",
      "           1       0.94      0.92      0.93      2686\n",
      "\n",
      "    accuracy                           0.97     13471\n",
      "   macro avg       0.96      0.95      0.96     13471\n",
      "weighted avg       0.97      0.97      0.97     13471\n",
      "\n"
     ]
    }
   ],
   "source": [
    "# precision, recall, f1-score\n",
    "from sklearn.metrics import classification_report\n",
    "\n",
    "print(classification_report(y_test, y_test_pred))"
   ]
  },
  {
   "attachments": {},
   "cell_type": "markdown",
   "metadata": {},
   "source": [
    "##### ROC CURVE EN AUC"
   ]
  },
  {
   "cell_type": "code",
   "execution_count": 65,
   "metadata": {},
   "outputs": [
    {
     "data": {
      "image/png": "[encoded data removed]",
      "text/plain": [
       "<Figure size 640x480 with 1 Axes>"
      ]
     },
     "metadata": {},
     "output_type": "display_data"
    }
   ],
   "source": [
    "# ROC curve\n",
    "from sklearn.metrics import roc_curve\n",
    "\n",
    "fpr, tpr, thresholds = roc_curve(y_test, y_test_pred)\n",
    "\n",
    "def plot_roc_curve(fpr, tpr, label=None):\n",
    "    plt.plot(fpr, tpr, linewidth=2, label=label)\n",
    "    plt.plot([0, 1], [0, 1], 'k--')\n",
    "    plt.axis([0, 1, 0, 1])\n",
    "    plt.xlabel('False Positive Rate')\n",
    "    plt.ylabel('True Positive Rate')\n",
    "\n",
    "plot_roc_curve(fpr, tpr)\n",
    "plt.show()"
   ]
  },
  {
   "cell_type": "code",
   "execution_count": 66,
   "metadata": {},
   "outputs": [
    {
     "data": {
      "text/plain": [
       "0.951488702732726"
      ]
     },
     "execution_count": 66,
     "metadata": {},
     "output_type": "execute_result"
    }
   ],
   "source": [
    "# roc_auc_score\n",
    "from sklearn.metrics import roc_auc_score\n",
    "\n",
    "roc_auc_score(y_test, y_test_pred)"
   ]
  },
  {
   "attachments": {},
   "cell_type": "markdown",
   "metadata": {},
   "source": [
    "##### EVALUATIE MET TEST DATA"
   ]
  },
  {
   "cell_type": "code",
   "execution_count": 62,
   "metadata": {},
   "outputs": [
    {
     "data": {
      "text/html": [
       "<style>#sk-container-id-1 {color: black;background-color: white;}#sk-container-id-1 pre{padding: 0;}#sk-container-id-1 div.sk-toggleable {background-color: white;}#sk-container-id-1 label.sk-toggleable__label {cursor: pointer;display: block;width: 100%;margin-bottom: 0;padding: 0.3em;box-sizing: border-box;text-align: center;}#sk-container-id-1 label.sk-toggleable__label-arrow:before {content: \"▸\";float: left;margin-right: 0.25em;color: #696969;}#sk-container-id-1 label.sk-toggleable__label-arrow:hover:before {color: black;}#sk-container-id-1 div.sk-estimator:hover label.sk-toggleable__label-arrow:before {color: black;}#sk-container-id-1 div.sk-toggleable__content {max-height: 0;max-width: 0;overflow: hidden;text-align: left;background-color: #f0f8ff;}#sk-container-id-1 div.sk-toggleable__content pre {margin: 0.2em;color: black;border-radius: 0.25em;background-color: #f0f8ff;}#sk-container-id-1 input.sk-toggleable__control:checked~div.sk-toggleable__content {max-height: 200px;max-width: 100%;overflow: auto;}#sk-container-id-1 input.sk-toggleable__control:checked~label.sk-toggleable__label-arrow:before {content: \"▾\";}#sk-container-id-1 div.sk-estimator input.sk-toggleable__control:checked~label.sk-toggleable__label {background-color: #d4ebff;}#sk-container-id-1 div.sk-label input.sk-toggleable__control:checked~label.sk-toggleable__label {background-color: #d4ebff;}#sk-container-id-1 input.sk-hidden--visually {border: 0;clip: rect(1px 1px 1px 1px);clip: rect(1px, 1px, 1px, 1px);height: 1px;margin: -1px;overflow: hidden;padding: 0;position: absolute;width: 1px;}#sk-container-id-1 div.sk-estimator {font-family: monospace;background-color: #f0f8ff;border: 1px dotted black;border-radius: 0.25em;box-sizing: border-box;margin-bottom: 0.5em;}#sk-container-id-1 div.sk-estimator:hover {background-color: #d4ebff;}#sk-container-id-1 div.sk-parallel-item::after {content: \"\";width: 100%;border-bottom: 1px solid gray;flex-grow: 1;}#sk-container-id-1 div.sk-label:hover label.sk-toggleable__label {background-color: #d4ebff;}#sk-container-id-1 div.sk-serial::before {content: \"\";position: absolute;border-left: 1px solid gray;box-sizing: border-box;top: 0;bottom: 0;left: 50%;z-index: 0;}#sk-container-id-1 div.sk-serial {display: flex;flex-direction: column;align-items: center;background-color: white;padding-right: 0.2em;padding-left: 0.2em;position: relative;}#sk-container-id-1 div.sk-item {position: relative;z-index: 1;}#sk-container-id-1 div.sk-parallel {display: flex;align-items: stretch;justify-content: center;background-color: white;position: relative;}#sk-container-id-1 div.sk-item::before, #sk-container-id-1 div.sk-parallel-item::before {content: \"\";position: absolute;border-left: 1px solid gray;box-sizing: border-box;top: 0;bottom: 0;left: 50%;z-index: -1;}#sk-container-id-1 div.sk-parallel-item {display: flex;flex-direction: column;z-index: 1;position: relative;background-color: white;}#sk-container-id-1 div.sk-parallel-item:first-child::after {align-self: flex-end;width: 50%;}#sk-container-id-1 div.sk-parallel-item:last-child::after {align-self: flex-start;width: 50%;}#sk-container-id-1 div.sk-parallel-item:only-child::after {width: 0;}#sk-container-id-1 div.sk-dashed-wrapped {border: 1px dashed gray;margin: 0 0.4em 0.5em 0.4em;box-sizing: border-box;padding-bottom: 0.4em;background-color: white;}#sk-container-id-1 div.sk-label label {font-family: monospace;font-weight: bold;display: inline-block;line-height: 1.2em;}#sk-container-id-1 div.sk-label-container {text-align: center;}#sk-container-id-1 div.sk-container {/* jupyter's `normalize.less` sets `[hidden] { display: none; }` but bootstrap.min.css set `[hidden] { display: none !important; }` so we also need the `!important` here to be able to override the default hidden behavior on the sphinx rendered scikit-learn.org. See: https://github.com/scikit-learn/scikit-learn/issues/21755 */display: inline-block !important;position: relative;}#sk-container-id-1 div.sk-text-repr-fallback {display: none;}</style><div id=\"sk-container-id-1\" class=\"sk-top-container\"><div class=\"sk-text-repr-fallback\"><pre>RandomForestClassifier(max_depth=25)</pre><b>In a Jupyter environment, please rerun this cell to show the HTML representation or trust the notebook. <br />On GitHub, the HTML representation is unable to render, please try loading this page with nbviewer.org.</b></div><div class=\"sk-container\" hidden><div class=\"sk-item\"><div class=\"sk-estimator sk-toggleable\"><input class=\"sk-toggleable__control sk-hidden--visually\" id=\"sk-estimator-id-1\" type=\"checkbox\" checked><label for=\"sk-estimator-id-1\" class=\"sk-toggleable__label sk-toggleable__label-arrow\">RandomForestClassifier</label><div class=\"sk-toggleable__content\"><pre>RandomForestClassifier(max_depth=25)</pre></div></div></div></div></div>"
      ],
      "text/plain": [
       "RandomForestClassifier(max_depth=25)"
      ]
     },
     "execution_count": 62,
     "metadata": {},
     "output_type": "execute_result"
    }
   ],
   "source": [
    "clf = RandomForestClassifier(n_estimators=100, max_depth=25, min_samples_split=2, min_samples_leaf=1)\n",
    "clf.fit(X_train, y_train)"
   ]
  },
  {
   "cell_type": "code",
   "execution_count": 63,
   "metadata": {},
   "outputs": [
    {
     "name": "stdout",
     "output_type": "stream",
     "text": [
      "0.9801796451636849\n"
     ]
    }
   ],
   "source": [
    "accuracy = clf.score(X_test, y_test)\n",
    "print(accuracy)"
   ]
  },
  {
   "cell_type": "code",
   "execution_count": 67,
   "metadata": {},
   "outputs": [],
   "source": [
    "# model opslaan\n",
    "filename = './modellen/random_forest_classifier_final_27_2_23.sav'\n",
    "pickle.dump(clf, open(filename, 'wb'))"
   ]
  }
 ],
 "metadata": {
  "kernelspec": {
   "display_name": "Python 3",
   "language": "python",
   "name": "python3"
  },
  "language_info": {
   "codemirror_mode": {
    "name": "ipython",
    "version": 3
   },
   "file_extension": ".py",
   "mimetype": "text/x-python",
   "name": "python",
   "nbconvert_exporter": "python",
   "pygments_lexer": "ipython3",
   "version": "3.11.2"
  },
  "orig_nbformat": 4
 },
 "nbformat": 4,
 "nbformat_minor": 2
}
