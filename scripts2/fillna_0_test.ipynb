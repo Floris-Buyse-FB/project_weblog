{
 "cells": [
  {
   "cell_type": "code",
   "execution_count": 63,
   "metadata": {},
   "outputs": [],
   "source": [
    "import pandas as pd\n",
    "import numpy as np\n",
    "import matplotlib.pyplot as plt\n",
    "import sklearn\n",
    "import pickle\n",
    "from sklearn.model_selection import train_test_split, GridSearchCV, cross_val_predict, cross_val_score\n",
    "from sklearn.preprocessing import StandardScaler\n",
    "from sklearn.tree import DecisionTreeClassifier\n",
    "from sklearn.ensemble import BaggingClassifier\n",
    "from sklearn.metrics import accuracy_score, confusion_matrix, precision_score, recall_score, f1_score, classification_report\n",
    "from sklearn.ensemble import AdaBoostClassifier\n",
    "from sklearn.ensemble import GradientBoostingClassifier\n",
    "from sklearn.metrics import mean_squared_error\n",
    "from sklearn.metrics import ConfusionMatrixDisplay"
   ]
  },
  {
   "cell_type": "code",
   "execution_count": 64,
   "metadata": {},
   "outputs": [],
   "source": [
    "df = pd.read_csv('../data/weblogs.csv')\n",
    "\n",
    "df = df.drop(['ID', 'OTHER_METHOD', 'SF_REFERRER', 'REPEATED_REQUESTS', 'HEAD_METHOD', 'POST_METHOD', 'HTTP_RESPONSE_4XX', 'HTTP_RESPONSE_3XX', 'HTTP_RESPONSE_5XX'], axis=1)\n",
    "\n",
    "X = df.loc[:, df.columns != 'ROBOT']\n",
    "y = df['ROBOT']"
   ]
  },
  {
   "cell_type": "code",
   "execution_count": 65,
   "metadata": {},
   "outputs": [
    {
     "name": "stdout",
     "output_type": "stream",
     "text": [
      "<class 'pandas.core.frame.DataFrame'>\n",
      "RangeIndex: 67352 entries, 0 to 67351\n",
      "Data columns (total 22 columns):\n",
      " #   Column              Non-Null Count  Dtype  \n",
      "---  ------              --------------  -----  \n",
      " 0   NUMBER_OF_REQUESTS  67352 non-null  int64  \n",
      " 1   TOTAL_DURATION      67352 non-null  int64  \n",
      " 2   AVERAGE_TIME        67352 non-null  float64\n",
      " 3   STANDARD_DEVIATION  52945 non-null  float64\n",
      " 4   HTTP_RESPONSE_2XX   67352 non-null  float64\n",
      " 5   GET_METHOD          67352 non-null  float64\n",
      " 6   NIGHT               67352 non-null  float64\n",
      " 7   UNASSIGNED          67352 non-null  float64\n",
      " 8   IMAGES              67352 non-null  float64\n",
      " 9   TOTAL_HTML          67352 non-null  float64\n",
      " 10  HTML_TO_IMAGE       67352 non-null  float64\n",
      " 11  HTML_TO_CSS         67352 non-null  float64\n",
      " 12  HTML_TO_JS          67352 non-null  float64\n",
      " 13  WIDTH               67352 non-null  float64\n",
      " 14  DEPTH               67352 non-null  float64\n",
      " 15  STD_DEPTH           67352 non-null  float64\n",
      " 16  CONSECUTIVE         67352 non-null  float64\n",
      " 17  DATA                67352 non-null  float64\n",
      " 18  PPI                 67352 non-null  float64\n",
      " 19  SF_FILETYPE         52945 non-null  float64\n",
      " 20  MAX_BARRAGE         67352 non-null  int64  \n",
      " 21  PENALTY             67352 non-null  int64  \n",
      "dtypes: float64(18), int64(4)\n",
      "memory usage: 11.3 MB\n"
     ]
    }
   ],
   "source": [
    "X.info()"
   ]
  },
  {
   "cell_type": "code",
   "execution_count": 66,
   "metadata": {},
   "outputs": [],
   "source": [
    "X = X.fillna(0)"
   ]
  },
  {
   "cell_type": "code",
   "execution_count": 67,
   "metadata": {},
   "outputs": [
    {
     "data": {
      "text/plain": [
       "NUMBER_OF_REQUESTS    1.704055e+02\n",
       "TOTAL_DURATION        8.037288e+03\n",
       "AVERAGE_TIME          1.509743e+02\n",
       "STANDARD_DEVIATION    8.139176e+01\n",
       "HTTP_RESPONSE_2XX     1.119441e-01\n",
       "GET_METHOD            5.458825e-02\n",
       "NIGHT                 2.547399e-01\n",
       "UNASSIGNED            4.237582e-01\n",
       "IMAGES                3.054074e-01\n",
       "TOTAL_HTML            3.512502e-01\n",
       "HTML_TO_IMAGE         5.067831e+00\n",
       "HTML_TO_CSS           1.671526e+00\n",
       "HTML_TO_JS            2.688560e+00\n",
       "WIDTH                 1.483404e+02\n",
       "DEPTH                 1.491212e+00\n",
       "STD_DEPTH             5.986306e-01\n",
       "CONSECUTIVE           2.802233e-01\n",
       "DATA                  1.937276e+06\n",
       "PPI                   4.307353e+07\n",
       "SF_FILETYPE           2.713591e-01\n",
       "MAX_BARRAGE           1.956844e+01\n",
       "PENALTY               5.816903e+00\n",
       "dtype: float64"
      ]
     },
     "execution_count": 67,
     "metadata": {},
     "output_type": "execute_result"
    }
   ],
   "source": [
    "X.std()"
   ]
  },
  {
   "cell_type": "code",
   "execution_count": 68,
   "metadata": {},
   "outputs": [],
   "source": [
    "X = df.loc[:, df.columns != 'ROBOT']\n",
    "\n",
    "# fill X with mean\n",
    "X = X.fillna(X.mean())"
   ]
  },
  {
   "cell_type": "code",
   "execution_count": 69,
   "metadata": {},
   "outputs": [
    {
     "data": {
      "text/plain": [
       "NUMBER_OF_REQUESTS    1.704055e+02\n",
       "TOTAL_DURATION        8.037288e+03\n",
       "AVERAGE_TIME          1.509743e+02\n",
       "STANDARD_DEVIATION    7.969481e+01\n",
       "HTTP_RESPONSE_2XX     1.119441e-01\n",
       "GET_METHOD            5.458825e-02\n",
       "NIGHT                 2.547399e-01\n",
       "UNASSIGNED            4.237582e-01\n",
       "IMAGES                3.054074e-01\n",
       "TOTAL_HTML            3.512502e-01\n",
       "HTML_TO_IMAGE         5.067831e+00\n",
       "HTML_TO_CSS           1.671526e+00\n",
       "HTML_TO_JS            2.688560e+00\n",
       "WIDTH                 1.483404e+02\n",
       "DEPTH                 1.491212e+00\n",
       "STD_DEPTH             5.986306e-01\n",
       "CONSECUTIVE           2.802233e-01\n",
       "DATA                  1.937276e+06\n",
       "PPI                   4.307353e+07\n",
       "SF_FILETYPE           2.206286e-01\n",
       "MAX_BARRAGE           1.956844e+01\n",
       "PENALTY               5.816903e+00\n",
       "dtype: float64"
      ]
     },
     "execution_count": 69,
     "metadata": {},
     "output_type": "execute_result"
    }
   ],
   "source": [
    "X.std()"
   ]
  }
 ],
 "metadata": {
  "kernelspec": {
   "display_name": "Python 3",
   "language": "python",
   "name": "python3"
  },
  "language_info": {
   "codemirror_mode": {
    "name": "ipython",
    "version": 3
   },
   "file_extension": ".py",
   "mimetype": "text/x-python",
   "name": "python",
   "nbconvert_exporter": "python",
   "pygments_lexer": "ipython3",
   "version": "3.11.3"
  },
  "orig_nbformat": 4
 },
 "nbformat": 4,
 "nbformat_minor": 2
}
