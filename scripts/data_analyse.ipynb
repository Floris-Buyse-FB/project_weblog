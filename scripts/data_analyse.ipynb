{
 "cells": [
  {
   "cell_type": "code",
   "execution_count": 2,
   "metadata": {},
   "outputs": [
    {
     "data": {
      "text/html": [
       "<div>\n",
       "<style scoped>\n",
       "    .dataframe tbody tr th:only-of-type {\n",
       "        vertical-align: middle;\n",
       "    }\n",
       "\n",
       "    .dataframe tbody tr th {\n",
       "        vertical-align: top;\n",
       "    }\n",
       "\n",
       "    .dataframe thead th {\n",
       "        text-align: right;\n",
       "    }\n",
       "</style>\n",
       "<table border=\"1\" class=\"dataframe\">\n",
       "  <thead>\n",
       "    <tr style=\"text-align: right;\">\n",
       "      <th></th>\n",
       "      <th>ID</th>\n",
       "      <th>NUMBER_OF_REQUESTS</th>\n",
       "      <th>TOTAL_DURATION</th>\n",
       "      <th>AVERAGE_TIME</th>\n",
       "      <th>STANDARD_DEVIATION</th>\n",
       "      <th>REPEATED_REQUESTS</th>\n",
       "      <th>HTTP_RESPONSE_2XX</th>\n",
       "      <th>HTTP_RESPONSE_3XX</th>\n",
       "      <th>HTTP_RESPONSE_4XX</th>\n",
       "      <th>HTTP_RESPONSE_5XX</th>\n",
       "      <th>...</th>\n",
       "      <th>DEPTH</th>\n",
       "      <th>STD_DEPTH</th>\n",
       "      <th>CONSECUTIVE</th>\n",
       "      <th>DATA</th>\n",
       "      <th>PPI</th>\n",
       "      <th>SF_REFERRER</th>\n",
       "      <th>SF_FILETYPE</th>\n",
       "      <th>MAX_BARRAGE</th>\n",
       "      <th>PENALTY</th>\n",
       "      <th>ROBOT</th>\n",
       "    </tr>\n",
       "  </thead>\n",
       "  <tbody>\n",
       "    <tr>\n",
       "      <th>0</th>\n",
       "      <td>obSnwGoBCue8G08E_WCX</td>\n",
       "      <td>79</td>\n",
       "      <td>592</td>\n",
       "      <td>7.589744</td>\n",
       "      <td>1.800540</td>\n",
       "      <td>0.000000</td>\n",
       "      <td>0.873418</td>\n",
       "      <td>0.126582</td>\n",
       "      <td>0.000000</td>\n",
       "      <td>0.000000</td>\n",
       "      <td>...</td>\n",
       "      <td>4.0</td>\n",
       "      <td>0.494041</td>\n",
       "      <td>0.101266</td>\n",
       "      <td>1555089.0</td>\n",
       "      <td>2.718334e+07</td>\n",
       "      <td>0.000000</td>\n",
       "      <td>0.205128</td>\n",
       "      <td>1</td>\n",
       "      <td>0</td>\n",
       "      <td>1</td>\n",
       "    </tr>\n",
       "    <tr>\n",
       "      <th>1</th>\n",
       "      <td>nLSnwGoBCue8G08E_WCX</td>\n",
       "      <td>350</td>\n",
       "      <td>103621</td>\n",
       "      <td>296.908300</td>\n",
       "      <td>260.332670</td>\n",
       "      <td>0.000000</td>\n",
       "      <td>0.997143</td>\n",
       "      <td>0.000000</td>\n",
       "      <td>0.002857</td>\n",
       "      <td>0.000000</td>\n",
       "      <td>...</td>\n",
       "      <td>6.0</td>\n",
       "      <td>0.341303</td>\n",
       "      <td>0.425714</td>\n",
       "      <td>2071344.0</td>\n",
       "      <td>1.427714e+01</td>\n",
       "      <td>0.547278</td>\n",
       "      <td>0.461318</td>\n",
       "      <td>4</td>\n",
       "      <td>0</td>\n",
       "      <td>1</td>\n",
       "    </tr>\n",
       "    <tr>\n",
       "      <th>2</th>\n",
       "      <td>ErSowGoBCue8G08ECmHa</td>\n",
       "      <td>15</td>\n",
       "      <td>368</td>\n",
       "      <td>26.285715</td>\n",
       "      <td>87.329780</td>\n",
       "      <td>0.000000</td>\n",
       "      <td>1.000000</td>\n",
       "      <td>0.000000</td>\n",
       "      <td>0.000000</td>\n",
       "      <td>0.000000</td>\n",
       "      <td>...</td>\n",
       "      <td>3.0</td>\n",
       "      <td>0.000000</td>\n",
       "      <td>0.000000</td>\n",
       "      <td>49505.0</td>\n",
       "      <td>1.413333e+01</td>\n",
       "      <td>0.642857</td>\n",
       "      <td>1.000000</td>\n",
       "      <td>2</td>\n",
       "      <td>0</td>\n",
       "      <td>0</td>\n",
       "    </tr>\n",
       "    <tr>\n",
       "      <th>3</th>\n",
       "      <td>E7SowGoBCue8G08ECmHa</td>\n",
       "      <td>28</td>\n",
       "      <td>11</td>\n",
       "      <td>0.407407</td>\n",
       "      <td>1.097447</td>\n",
       "      <td>0.000000</td>\n",
       "      <td>1.000000</td>\n",
       "      <td>0.000000</td>\n",
       "      <td>0.000000</td>\n",
       "      <td>0.000000</td>\n",
       "      <td>...</td>\n",
       "      <td>3.0</td>\n",
       "      <td>0.000000</td>\n",
       "      <td>0.821429</td>\n",
       "      <td>45984.0</td>\n",
       "      <td>1.332143e+01</td>\n",
       "      <td>0.037037</td>\n",
       "      <td>0.148148</td>\n",
       "      <td>5</td>\n",
       "      <td>0</td>\n",
       "      <td>0</td>\n",
       "    </tr>\n",
       "    <tr>\n",
       "      <th>4</th>\n",
       "      <td>FbSowGoBCue8G08ECmHa</td>\n",
       "      <td>9342</td>\n",
       "      <td>80946</td>\n",
       "      <td>8.665668</td>\n",
       "      <td>17.566462</td>\n",
       "      <td>0.000107</td>\n",
       "      <td>0.996896</td>\n",
       "      <td>0.002569</td>\n",
       "      <td>0.000214</td>\n",
       "      <td>0.000321</td>\n",
       "      <td>...</td>\n",
       "      <td>4.0</td>\n",
       "      <td>0.152943</td>\n",
       "      <td>0.953757</td>\n",
       "      <td>83171793.0</td>\n",
       "      <td>1.307407e+01</td>\n",
       "      <td>0.000000</td>\n",
       "      <td>0.023552</td>\n",
       "      <td>1</td>\n",
       "      <td>0</td>\n",
       "      <td>1</td>\n",
       "    </tr>\n",
       "  </tbody>\n",
       "</table>\n",
       "<p>5 rows × 32 columns</p>\n",
       "</div>"
      ],
      "text/plain": [
       "                     ID  NUMBER_OF_REQUESTS  TOTAL_DURATION  AVERAGE_TIME  \\\n",
       "0  obSnwGoBCue8G08E_WCX                  79             592      7.589744   \n",
       "1  nLSnwGoBCue8G08E_WCX                 350          103621    296.908300   \n",
       "2  ErSowGoBCue8G08ECmHa                  15             368     26.285715   \n",
       "3  E7SowGoBCue8G08ECmHa                  28              11      0.407407   \n",
       "4  FbSowGoBCue8G08ECmHa                9342           80946      8.665668   \n",
       "\n",
       "   STANDARD_DEVIATION  REPEATED_REQUESTS  HTTP_RESPONSE_2XX  \\\n",
       "0            1.800540           0.000000           0.873418   \n",
       "1          260.332670           0.000000           0.997143   \n",
       "2           87.329780           0.000000           1.000000   \n",
       "3            1.097447           0.000000           1.000000   \n",
       "4           17.566462           0.000107           0.996896   \n",
       "\n",
       "   HTTP_RESPONSE_3XX  HTTP_RESPONSE_4XX  HTTP_RESPONSE_5XX  ...  DEPTH  \\\n",
       "0           0.126582           0.000000           0.000000  ...    4.0   \n",
       "1           0.000000           0.002857           0.000000  ...    6.0   \n",
       "2           0.000000           0.000000           0.000000  ...    3.0   \n",
       "3           0.000000           0.000000           0.000000  ...    3.0   \n",
       "4           0.002569           0.000214           0.000321  ...    4.0   \n",
       "\n",
       "   STD_DEPTH  CONSECUTIVE        DATA           PPI  SF_REFERRER  SF_FILETYPE  \\\n",
       "0   0.494041     0.101266   1555089.0  2.718334e+07     0.000000     0.205128   \n",
       "1   0.341303     0.425714   2071344.0  1.427714e+01     0.547278     0.461318   \n",
       "2   0.000000     0.000000     49505.0  1.413333e+01     0.642857     1.000000   \n",
       "3   0.000000     0.821429     45984.0  1.332143e+01     0.037037     0.148148   \n",
       "4   0.152943     0.953757  83171793.0  1.307407e+01     0.000000     0.023552   \n",
       "\n",
       "   MAX_BARRAGE  PENALTY  ROBOT  \n",
       "0            1        0      1  \n",
       "1            4        0      1  \n",
       "2            2        0      0  \n",
       "3            5        0      0  \n",
       "4            1        0      1  \n",
       "\n",
       "[5 rows x 32 columns]"
      ]
     },
     "execution_count": 2,
     "metadata": {},
     "output_type": "execute_result"
    }
   ],
   "source": [
    "import pandas as pd\n",
    "import numpy as np\n",
    "import matplotlib.pyplot as plt\n",
    "import seaborn as sns\n",
    "import os\n",
    "from sklearn.model_selection import train_test_split\n",
    "from sklearn.preprocessing import StandardScaler\n",
    "\n",
    "df = pd.read_csv('../data/weblogs.csv')\n",
    "df.head()"
   ]
  },
  {
   "cell_type": "code",
   "execution_count": 3,
   "metadata": {},
   "outputs": [
    {
     "name": "stdout",
     "output_type": "stream",
     "text": [
      "<class 'pandas.core.frame.DataFrame'>\n",
      "RangeIndex: 67352 entries, 0 to 67351\n",
      "Data columns (total 32 columns):\n",
      " #   Column              Non-Null Count  Dtype  \n",
      "---  ------              --------------  -----  \n",
      " 0   ID                  67352 non-null  object \n",
      " 1   NUMBER_OF_REQUESTS  67352 non-null  int64  \n",
      " 2   TOTAL_DURATION      67352 non-null  int64  \n",
      " 3   AVERAGE_TIME        67352 non-null  float64\n",
      " 4   STANDARD_DEVIATION  52945 non-null  float64\n",
      " 5   REPEATED_REQUESTS   67352 non-null  float64\n",
      " 6   HTTP_RESPONSE_2XX   67352 non-null  float64\n",
      " 7   HTTP_RESPONSE_3XX   67352 non-null  float64\n",
      " 8   HTTP_RESPONSE_4XX   67352 non-null  float64\n",
      " 9   HTTP_RESPONSE_5XX   67352 non-null  float64\n",
      " 10  GET_METHOD          67352 non-null  float64\n",
      " 11  POST_METHOD         67352 non-null  float64\n",
      " 12  HEAD_METHOD         67352 non-null  float64\n",
      " 13  OTHER_METHOD        67352 non-null  float64\n",
      " 14  NIGHT               67352 non-null  float64\n",
      " 15  UNASSIGNED          67352 non-null  float64\n",
      " 16  IMAGES              67352 non-null  float64\n",
      " 17  TOTAL_HTML          67352 non-null  float64\n",
      " 18  HTML_TO_IMAGE       67352 non-null  float64\n",
      " 19  HTML_TO_CSS         67352 non-null  float64\n",
      " 20  HTML_TO_JS          67352 non-null  float64\n",
      " 21  WIDTH               67352 non-null  float64\n",
      " 22  DEPTH               67352 non-null  float64\n",
      " 23  STD_DEPTH           67352 non-null  float64\n",
      " 24  CONSECUTIVE         67352 non-null  float64\n",
      " 25  DATA                67352 non-null  float64\n",
      " 26  PPI                 67352 non-null  float64\n",
      " 27  SF_REFERRER         52945 non-null  float64\n",
      " 28  SF_FILETYPE         52945 non-null  float64\n",
      " 29  MAX_BARRAGE         67352 non-null  int64  \n",
      " 30  PENALTY             67352 non-null  int64  \n",
      " 31  ROBOT               67352 non-null  int64  \n",
      "dtypes: float64(26), int64(5), object(1)\n",
      "memory usage: 16.4+ MB\n"
     ]
    }
   ],
   "source": [
    "df.info()"
   ]
  },
  {
   "cell_type": "code",
   "execution_count": 4,
   "metadata": {},
   "outputs": [
    {
     "name": "stderr",
     "output_type": "stream",
     "text": [
      "C:\\Users\\buyse\\AppData\\Local\\Temp\\ipykernel_19052\\306686603.py:4: SettingWithCopyWarning: \n",
      "A value is trying to be set on a copy of a slice from a DataFrame\n",
      "\n",
      "See the caveats in the documentation: https://pandas.pydata.org/pandas-docs/stable/user_guide/indexing.html#returning-a-view-versus-a-copy\n",
      "  X.fillna(0, inplace=True)\n"
     ]
    }
   ],
   "source": [
    "X = df.loc[:, df.columns != 'ROBOT']\n",
    "y = df['ROBOT']\n",
    "\n",
    "X.fillna(0, inplace=True)"
   ]
  },
  {
   "cell_type": "code",
   "execution_count": 5,
   "metadata": {},
   "outputs": [
    {
     "data": {
      "image/png": "[encoded data removed]",
      "text/plain": [
       "<Figure size 640x480 with 1 Axes>"
      ]
     },
     "metadata": {},
     "output_type": "display_data"
    }
   ],
   "source": [
    "p_x = np.arange(2)\n",
    "p_y = [y.value_counts()[0], y.value_counts()[1]]\n",
    "\n",
    "plt.bar(p_x, p_y, color=['grey', 'black'])\n",
    "plt.xticks(p_x, ('Human', 'Robot'))\n",
    "plt.ylabel('Amount')\n",
    "plt.title('Amount of Human and Robot')\n",
    "plt.show()"
   ]
  },
  {
   "cell_type": "code",
   "execution_count": 6,
   "metadata": {},
   "outputs": [
    {
     "data": {
      "text/plain": [
       "0.000000    62253\n",
       "1.000000     4588\n",
       "0.500000       32\n",
       "0.333333       12\n",
       "0.750000        7\n",
       "            ...  \n",
       "0.602941        1\n",
       "0.529412        1\n",
       "0.483871        1\n",
       "0.830645        1\n",
       "0.460526        1\n",
       "Name: NIGHT, Length: 389, dtype: int64"
      ]
     },
     "execution_count": 6,
     "metadata": {},
     "output_type": "execute_result"
    }
   ],
   "source": [
    "df['NIGHT'].value_counts()"
   ]
  },
  {
   "cell_type": "code",
   "execution_count": 7,
   "metadata": {},
   "outputs": [
    {
     "data": {
      "text/plain": [
       "0.000000    67341\n",
       "1.000000        4\n",
       "0.064516        1\n",
       "0.084746        1\n",
       "0.032787        1\n",
       "0.053571        1\n",
       "0.030928        1\n",
       "0.033333        1\n",
       "0.028571        1\n",
       "Name: OTHER_METHOD, dtype: int64"
      ]
     },
     "execution_count": 7,
     "metadata": {},
     "output_type": "execute_result"
    }
   ],
   "source": [
    "df['OTHER_METHOD'].value_counts()"
   ]
  },
  {
   "cell_type": "code",
   "execution_count": 8,
   "metadata": {},
   "outputs": [],
   "source": [
    "df = df.drop(['NIGHT', 'ID', 'OTHER_METHOD'], axis=1)"
   ]
  }
 ],
 "metadata": {
  "kernelspec": {
   "display_name": "Python 3",
   "language": "python",
   "name": "python3"
  },
  "language_info": {
   "codemirror_mode": {
    "name": "ipython",
    "version": 3
   },
   "file_extension": ".py",
   "mimetype": "text/x-python",
   "name": "python",
   "nbconvert_exporter": "python",
   "pygments_lexer": "ipython3",
   "version": "3.11.2"
  },
  "orig_nbformat": 4
 },
 "nbformat": 4,
 "nbformat_minor": 2
}
