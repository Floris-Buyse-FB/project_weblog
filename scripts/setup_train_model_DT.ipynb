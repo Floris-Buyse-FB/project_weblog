{
 "cells": [
  {
   "cell_type": "code",
   "execution_count": 39,
   "metadata": {},
   "outputs": [],
   "source": [
    "import pandas as pd\n",
    "import numpy as np\n",
    "import matplotlib.pyplot as plt\n",
    "import seaborn as sns\n",
    "import os\n",
    "from sklearn.model_selection import train_test_split\n",
    "from sklearn.preprocessing import StandardScaler\n",
    "\n",
    "df = pd.read_csv('../data/weblogs.csv')\n",
    "df.head()\n",
    "\n",
    "df = df.drop(['NIGHT', 'ID', 'OTHER_METHOD'], axis=1)\n",
    "\n",
    "X = df.loc[:, df.columns != 'ROBOT']\n",
    "y = df['ROBOT']\n",
    "\n",
    "\n",
    "X_train, X_test, y_train, y_test = train_test_split(X, y, test_size=0.2, random_state=42)\n",
    "\n",
    "X_train = X_train.fillna(0)\n",
    "X_test = X_test.fillna(0)\n",
    "\n",
    "numeric_cols = X.select_dtypes(['int64', 'float64']).columns\n",
    "\n",
    "scaler = StandardScaler()\n",
    "df[numeric_cols] = scaler.fit_transform(df[numeric_cols])"
   ]
  },
  {
   "cell_type": "code",
   "execution_count": 42,
   "metadata": {},
   "outputs": [
    {
     "name": "stdout",
     "output_type": "stream",
     "text": [
      "Best parameters: {'max_depth': 14, 'min_samples_leaf': 2, 'min_samples_split': 3}\n",
      "\n",
      "Best score: 0.9754087625362352\n",
      "\n",
      "Accuracy: 0.9738697943730977\n",
      "\n",
      "Classification report:\n",
      "              precision    recall  f1-score   support\n",
      "\n",
      "           0       0.99      0.98      0.98     10785\n",
      "           1       0.93      0.94      0.93      2686\n",
      "\n",
      "    accuracy                           0.97     13471\n",
      "   macro avg       0.96      0.96      0.96     13471\n",
      "weighted avg       0.97      0.97      0.97     13471\n",
      "\n",
      "\n",
      "Confusion matrix:\n",
      "[[10593   192]\n",
      " [  160  2526]]\n",
      "\n"
     ]
    }
   ],
   "source": [
    "from sklearn.tree import DecisionTreeClassifier\n",
    "from sklearn.model_selection import GridSearchCV\n",
    "from sklearn.metrics import accuracy_score, classification_report, confusion_matrix\n",
    "\n",
    "param_grid = {\n",
    "    'max_depth': np.arange(9, 100),\n",
    "    'min_samples_split': [2, 3, 4, 5, 6, 7, 8, 9, 10],\n",
    "    'min_samples_leaf': [1, 2, 4],\n",
    "}\n",
    "\n",
    "gscv = GridSearchCV(DecisionTreeClassifier(), param_grid, cv=5, n_jobs=-1)\n",
    "gscv.fit(X_train, y_train)\n",
    "\n",
    "print(f\"Best parameters: {gscv.best_params_}\\n\")\n",
    "print(f\"Best score: {gscv.best_score_}\\n\")\n",
    "\n",
    "best_clf = gscv.best_estimator_\n",
    "y_pred = best_clf.predict(X_test)\n",
    "\n",
    "print(f\"Accuracy: {accuracy_score(y_test, y_pred)}\\n\")\n",
    "print(f\"Classification report:\\n{classification_report(y_test, y_pred)}\\n\")\n",
    "print(f\"Confusion matrix:\\n{confusion_matrix(y_test, y_pred)}\\n\")"
   ]
  },
  {
   "cell_type": "code",
   "execution_count": 43,
   "metadata": {},
   "outputs": [
    {
     "name": "stdout",
     "output_type": "stream",
     "text": [
      "Accuracy: 0.9740182614505234\n",
      "\n"
     ]
    }
   ],
   "source": [
    "test_dtc_1 = DecisionTreeClassifier(max_depth=14, min_samples_leaf=2, min_samples_split=3, random_state=42)\n",
    "test_dtc_1.fit(X_train, y_train)\n",
    "y_pred = test_dtc_1.predict(X_test)\n",
    "\n",
    "print(f\"Accuracy: {accuracy_score(y_test, y_pred)}\\n\")"
   ]
  },
  {
   "cell_type": "code",
   "execution_count": 48,
   "metadata": {},
   "outputs": [
    {
     "name": "stdout",
     "output_type": "stream",
     "text": [
      "Confusion matrix:\n",
      "[[10602   183]\n",
      " [  237  2449]]\n",
      "\n"
     ]
    },
    {
     "data": {
      "image/png": "[encoded data removed]",
      "text/plain": [
       "<Figure size 640x480 with 2 Axes>"
      ]
     },
     "metadata": {},
     "output_type": "display_data"
    }
   ],
   "source": [
    "from sklearn.metrics import ConfusionMatrixDisplay\n",
    "from sklearn.model_selection import cross_val_predict\n",
    "\n",
    "y_test_pred = cross_val_predict(test_dtc_1, X_test, y_test, cv=5)\n",
    "\n",
    "print(f\"Confusion matrix:\\n{confusion_matrix(y_test, y_test_pred)}\\n\")\n",
    "\n",
    "plt.rc('font', size=9)\n",
    "ConfusionMatrixDisplay.from_predictions(y_test, y_test_pred, normalize=\"true\", values_format='.0%')\n",
    "plt.show()"
   ]
  },
  {
   "cell_type": "code",
   "execution_count": 50,
   "metadata": {},
   "outputs": [],
   "source": [
    "import pickle\n",
    "filename = '../modellen/decision_tree_classifier_final_min-sample-split_3_max-depth_14.sav'\n",
    "pickle.dump(test_dtc_1, open(filename, 'wb'))"
   ]
  }
 ],
 "metadata": {
  "kernelspec": {
   "display_name": "Python 3",
   "language": "python",
   "name": "python3"
  },
  "language_info": {
   "codemirror_mode": {
    "name": "ipython",
    "version": 3
   },
   "file_extension": ".py",
   "mimetype": "text/x-python",
   "name": "python",
   "nbconvert_exporter": "python",
   "pygments_lexer": "ipython3",
   "version": "3.11.2"
  },
  "orig_nbformat": 4
 },
 "nbformat": 4,
 "nbformat_minor": 2
}
