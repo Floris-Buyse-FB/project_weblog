{
 "cells": [
  {
   "cell_type": "code",
   "execution_count": null,
   "metadata": {},
   "outputs": [],
   "source": [
    "import pandas as pd\n",
    "import numpy as np\n",
    "import matplotlib.pyplot as plt\n",
    "import seaborn as sns\n",
    "import os\n",
    "from sklearn.model_selection import train_test_split\n",
    "from sklearn.preprocessing import StandardScaler\n",
    "from sklearn.neighbors import KNeighborsClassifier\n",
    "from sklearn.model_selection import GridSearchCV\n",
    "\n",
    "df = pd.read_csv('../data/weblogs.csv')\n",
    "df.head()\n",
    "\n",
    "df = df.drop(['NIGHT', 'ID'], axis=1)\n",
    "df = df.drop('OTHER_METHOD', axis=1)\n",
    "\n",
    "X = df.loc[:, df.columns != 'ROBOT']\n",
    "y = df['ROBOT']\n",
    "\n",
    "numeric_cols = X.select_dtypes(['int64', 'float64']).columns\n",
    "scaler = StandardScaler()\n",
    "X[numeric_cols] = scaler.fit_transform(X[numeric_cols])\n",
    "\n",
    "X_train, X_test, y_train, y_test = train_test_split(X, y, test_size=0.2, random_state=42)\n",
    "\n",
    "X_train = X_train.fillna(0)\n",
    "X_test = X_test.fillna(0)"
   ]
  },
  {
   "cell_type": "code",
   "execution_count": 6,
   "metadata": {},
   "outputs": [],
   "source": [
    "knn = KNeighborsClassifier()"
   ]
  },
  {
   "attachments": {},
   "cell_type": "markdown",
   "metadata": {},
   "source": [
    "### Eerste model trainen"
   ]
  },
  {
   "cell_type": "code",
   "execution_count": 2,
   "metadata": {},
   "outputs": [
    {
     "name": "stdout",
     "output_type": "stream",
     "text": [
      "Best params: {'algorithm': 'auto', 'metric': 'manhattan', 'n_neighbors': 20, 'weights': 'distance'}\n",
      "Best score: 0.9766522028993115\n"
     ]
    }
   ],
   "source": [
    "param_grid = {\n",
    "    'n_neighbors': [10, 20, 30, 40, 50], \n",
    "    'weights': ['uniform', 'distance'], \n",
    "    'metric': ['euclidean', 'manhattan'], \n",
    "    'algorithm': ['auto', 'ball_tree', 'kd_tree']\n",
    "}\n",
    "knn_gscv = GridSearchCV(knn, param_grid, cv=5)\n",
    "knn_gscv.fit(X_train, y_train)\n",
    "\n",
    "print(f\"Best params: {knn_gscv.best_params_}\\nBest score: {knn_gscv.best_score_}\")"
   ]
  },
  {
   "cell_type": "code",
   "execution_count": 3,
   "metadata": {},
   "outputs": [
    {
     "name": "stdout",
     "output_type": "stream",
     "text": [
      "              precision    recall  f1-score   support\n",
      "\n",
      "           0       0.99      0.99      0.99     10785\n",
      "           1       0.94      0.94      0.94      2686\n",
      "\n",
      "    accuracy                           0.98     13471\n",
      "   macro avg       0.97      0.96      0.96     13471\n",
      "weighted avg       0.98      0.98      0.98     13471\n",
      "\n",
      "[[10638   147]\n",
      " [  161  2525]]\n"
     ]
    }
   ],
   "source": [
    "final_knn = knn_gscv.best_estimator_\n",
    "final_knn.fit(X_train, y_train)\n",
    "final_knn.score(X_test, y_test)\n",
    "\n",
    "from sklearn.metrics import classification_report, confusion_matrix\n",
    "\n",
    "y_pred = final_knn.predict(X_test)\n",
    "print(classification_report(y_test, y_pred))\n",
    "print(confusion_matrix(y_test, y_pred))"
   ]
  },
  {
   "cell_type": "code",
   "execution_count": 5,
   "metadata": {},
   "outputs": [],
   "source": [
    "import pickle\n",
    "filename = '../modellen/knn_classifier_final_model_auto_manhattan_n-20_distance.sav'\n",
    "pickle.dump(final_knn, open(filename, 'wb'))"
   ]
  },
  {
   "attachments": {},
   "cell_type": "markdown",
   "metadata": {},
   "source": [
    "### Tweede model trainen"
   ]
  },
  {
   "cell_type": "code",
   "execution_count": 6,
   "metadata": {},
   "outputs": [
    {
     "name": "stdout",
     "output_type": "stream",
     "text": [
      "Best params: {'algorithm': 'auto', 'metric': 'manhattan', 'n_neighbors': 10, 'weights': 'distance'}\n",
      "Best score: 0.9765037334106517\n"
     ]
    }
   ],
   "source": [
    "param_grid2 = {\n",
    "    'n_neighbors': [2, 3, 4, 5, 6, 7, 8, 9, 10],\n",
    "    'weights': ['uniform', 'distance'],\n",
    "    'metric': ['euclidean', 'manhattan'],\n",
    "    'algorithm': ['auto']\n",
    "}\n",
    "\n",
    "test = GridSearchCV(knn, param_grid2, cv=5)\n",
    "test.fit(X_train, y_train)\n",
    "\n",
    "print(f\"Best params: {test.best_params_}\\nBest score: {test.best_score_}\")"
   ]
  },
  {
   "cell_type": "code",
   "execution_count": 7,
   "metadata": {},
   "outputs": [
    {
     "name": "stdout",
     "output_type": "stream",
     "text": [
      "              precision    recall  f1-score   support\n",
      "\n",
      "           0       0.98      0.99      0.99     10785\n",
      "           1       0.95      0.94      0.94      2686\n",
      "\n",
      "    accuracy                           0.98     13471\n",
      "   macro avg       0.97      0.96      0.96     13471\n",
      "weighted avg       0.98      0.98      0.98     13471\n",
      "\n",
      "[[10642   143]\n",
      " [  171  2515]]\n"
     ]
    }
   ],
   "source": [
    "final_knn2 = test.best_estimator_\n",
    "final_knn2.fit(X_train, y_train)\n",
    "final_knn2.score(X_test, y_test)\n",
    "\n",
    "from sklearn.metrics import classification_report, confusion_matrix\n",
    "\n",
    "y_pred = final_knn2.predict(X_test)\n",
    "print(classification_report(y_test, y_pred))\n",
    "print(confusion_matrix(y_test, y_pred))"
   ]
  },
  {
   "cell_type": "code",
   "execution_count": 8,
   "metadata": {},
   "outputs": [],
   "source": [
    "import pickle\n",
    "filename = '../modellen/knn_classifier_final_model_auto_manhattan_n-10_distance.sav'\n",
    "pickle.dump(final_knn2, open(filename, 'wb'))\n"
   ]
  },
  {
   "attachments": {},
   "cell_type": "markdown",
   "metadata": {},
   "source": [
    "### Derde model trainen"
   ]
  },
  {
   "cell_type": "code",
   "execution_count": 7,
   "metadata": {},
   "outputs": [
    {
     "name": "stdout",
     "output_type": "stream",
     "text": [
      "Best params: {'algorithm': 'kd_tree', 'metric': 'manhattan', 'n_neighbors': 20, 'weights': 'distance'}\n",
      "Best score: 0.9766336431368765\n"
     ]
    }
   ],
   "source": [
    "param_grid3 = {\n",
    "    'n_neighbors': [5, 10, 15, 20],\n",
    "    'weights': ['uniform', 'distance'],\n",
    "    'metric': ['euclidean', 'manhattan'],\n",
    "    'algorithm': ['ball_tree', 'kd_tree']\n",
    "}\n",
    "\n",
    "grid_search_3 = GridSearchCV(knn, param_grid3, cv=5)\n",
    "grid_search_3.fit(X_train, y_train)\n",
    "\n",
    "print(f\"Best params: {grid_search_3.best_params_}\\nBest score: {grid_search_3.best_score_}\")"
   ]
  },
  {
   "cell_type": "code",
   "execution_count": 8,
   "metadata": {},
   "outputs": [
    {
     "name": "stdout",
     "output_type": "stream",
     "text": [
      "              precision    recall  f1-score   support\n",
      "\n",
      "           0       0.99      0.99      0.99     10785\n",
      "           1       0.94      0.94      0.94      2686\n",
      "\n",
      "    accuracy                           0.98     13471\n",
      "   macro avg       0.97      0.96      0.96     13471\n",
      "weighted avg       0.98      0.98      0.98     13471\n",
      "\n",
      "[[10638   147]\n",
      " [  161  2525]]\n"
     ]
    }
   ],
   "source": [
    "final_knn3 = grid_search_3.best_estimator_\n",
    "final_knn3.fit(X_train, y_train)\n",
    "final_knn3.score(X_test, y_test)\n",
    "\n",
    "from sklearn.metrics import classification_report, confusion_matrix\n",
    "\n",
    "y_pred = final_knn3.predict(X_test)\n",
    "print(classification_report(y_test, y_pred))\n",
    "print(confusion_matrix(y_test, y_pred))"
   ]
  }
 ],
 "metadata": {
  "kernelspec": {
   "display_name": "Python 3",
   "language": "python",
   "name": "python3"
  },
  "language_info": {
   "codemirror_mode": {
    "name": "ipython",
    "version": 3
   },
   "file_extension": ".py",
   "mimetype": "text/x-python",
   "name": "python",
   "nbconvert_exporter": "python",
   "pygments_lexer": "ipython3",
   "version": "3.11.2"
  },
  "orig_nbformat": 4
 },
 "nbformat": 4,
 "nbformat_minor": 2
}
