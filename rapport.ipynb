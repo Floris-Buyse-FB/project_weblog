{
 "cells": [
  {
   "attachments": {},
   "cell_type": "markdown",
   "metadata": {},
   "source": [
    "# Rapport -- Weblogs opdracht -- Floris Buyse -- G2E2\n",
    "---"
   ]
  },
  {
   "attachments": {},
   "cell_type": "markdown",
   "metadata": {},
   "source": [
    "## Data begrijpen en cleanen\n",
    "---\n",
    "1. Data opsplitsen (95 / 5)\n",
    "2. ID droppen\n",
    "3. NaN-waarden zoeken in data\n",
    "4. NaN-waarden wegkrijgen / oplossen (4 verschillende manieren getest)\n",
    "5. Feature importance bekijken\n",
    "6. Conclusie\n",
    "7. Verdere stappen\n",
    "---"
   ]
  },
  {
   "attachments": {},
   "cell_type": "markdown",
   "metadata": {},
   "source": [
    "### 1. Data opsplitsen (95 / 5)\n",
    "- We gebruiken 95% voor het trainen en testen van verschillende machine learning models en de andere 5% voor het finaal model en voor hertraining van dit finaal model\n",
    "  \n",
    "  ```python\n",
    "  half = int(df.shape[0] * 0.95)\n",
    "  df1 = df.iloc[:half]\n",
    "  df2 = df.iloc[half:]\n",
    "\n",
    "  df1.to_csv('../data/weblogs1.csv', index=False)\n",
    "  df2.to_csv('../data/weblogs2.csv', index=False)\n",
    "  ```\n",
    "    deze code is ook terug te vinden in ``main_scripts/split_csv.ipynb``"
   ]
  },
  {
   "cell_type": "code",
   "execution_count": 2,
   "metadata": {},
   "outputs": [],
   "source": [
    "import pandas as pd\n",
    "import numpy as np\n",
    "import matplotlib.pyplot as plt"
   ]
  },
  {
   "cell_type": "code",
   "execution_count": 3,
   "metadata": {},
   "outputs": [],
   "source": [
    "df = pd.read_csv('./data/weblogs1.csv')"
   ]
  },
  {
   "attachments": {},
   "cell_type": "markdown",
   "metadata": {},
   "source": [
    "### 2. ID droppen\n",
    "\n",
    "- ``ID heeft geen toegevoegde waarde aan de data.``"
   ]
  },
  {
   "cell_type": "code",
   "execution_count": 4,
   "metadata": {},
   "outputs": [],
   "source": [
    "df = df.drop(['ID'], axis=1)"
   ]
  },
  {
   "attachments": {},
   "cell_type": "markdown",
   "metadata": {},
   "source": [
    "### 3. NaN-waaren zoeken in data\n",
    "\n",
    "- ``We zien dat \"STANDARD_DEVIATION\", \"SF_FILETYPE\" en \"SF_REFERRER\" NaN-waarden hebben``"
   ]
  },
  {
   "cell_type": "code",
   "execution_count": 5,
   "metadata": {},
   "outputs": [],
   "source": [
    "X = df.drop(['ROBOT'], axis=1)\n",
    "y = df['ROBOT']"
   ]
  },
  {
   "cell_type": "code",
   "execution_count": 6,
   "metadata": {},
   "outputs": [
    {
     "data": {
      "text/plain": [
       "STANDARD_DEVIATION    13520\n",
       "SF_REFERRER           13520\n",
       "SF_FILETYPE           13520\n",
       "dtype: int64"
      ]
     },
     "execution_count": 6,
     "metadata": {},
     "output_type": "execute_result"
    }
   ],
   "source": [
    "X.isna().sum()[X.isna().sum() > 0]"
   ]
  },
  {
   "attachments": {},
   "cell_type": "markdown",
   "metadata": {},
   "source": [
    "### 4. NaN-waarden wegkrijgen / oplossen"
   ]
  },
  {
   "attachments": {},
   "cell_type": "markdown",
   "metadata": {},
   "source": [
    "#### 4.1 De features opvullen met 0\n",
    "\n",
    "- We vullen de features op met nul en vergelijken de standaard deviatie (niet de feature) met die van de 'niet-opgevulde' X"
   ]
  },
  {
   "cell_type": "code",
   "execution_count": 7,
   "metadata": {},
   "outputs": [
    {
     "name": "stdout",
     "output_type": "stream",
     "text": [
      "X met 0 opgevuld:\n",
      "------------------\n",
      "STANDARD_DEVIATION    81.412416\n",
      "SF_REFERRER            0.241471\n",
      "SF_FILETYPE            0.270922\n",
      "dtype: float64\n",
      "\n",
      "X zonder 0 opgevuld:\n",
      "---------------------\n",
      "STANDARD_DEVIATION    89.781873\n",
      "SF_REFERRER            0.243797\n",
      "SF_FILETYPE            0.248241\n",
      "dtype: float64\n"
     ]
    }
   ],
   "source": [
    "X_zero = X.copy()\n",
    "X_zero = X.fillna(0)\n",
    "print(f\"X met 0 opgevuld:\\n------------------\\n{X_zero[['STANDARD_DEVIATION', 'SF_REFERRER', 'SF_FILETYPE']].std()}\\n\")\n",
    "print(f\"X zonder 0 opgevuld:\\n---------------------\\n{X[['STANDARD_DEVIATION', 'SF_REFERRER', 'SF_FILETYPE']].std()}\")"
   ]
  },
  {
   "attachments": {},
   "cell_type": "markdown",
   "metadata": {},
   "source": [
    "Bij STANDARD_DEVIATION zien we een redelijk groot verschil\n",
    "\n",
    "---"
   ]
  },
  {
   "attachments": {},
   "cell_type": "markdown",
   "metadata": {},
   "source": [
    "#### 4.2 De features opvullen met mean\n",
    "\n",
    "- We vullen de features op met mean() en vergelijken de standaard deviatie (niet de feature) met die van de 'niet-opgevulde' X"
   ]
  },
  {
   "cell_type": "code",
   "execution_count": 8,
   "metadata": {},
   "outputs": [
    {
     "name": "stdout",
     "output_type": "stream",
     "text": [
      "\n",
      "X met mean opgevuld:\n",
      "---------------------\n",
      "STANDARD_DEVIATION    79.733879\n",
      "SF_REFERRER            0.216512\n",
      "SF_FILETYPE            0.220459\n",
      "dtype: float64\n",
      "\n",
      "X zonder mean opgevuld:\n",
      "------------------------\n",
      "STANDARD_DEVIATION    89.781873\n",
      "SF_REFERRER            0.243797\n",
      "SF_FILETYPE            0.248241\n",
      "dtype: float64\n"
     ]
    }
   ],
   "source": [
    "X_mean = X.copy()\n",
    "X_mean = X.fillna(X.mean())\n",
    "print(f\"\\nX met mean opgevuld:\\n---------------------\\n{X_mean[['STANDARD_DEVIATION', 'SF_REFERRER', 'SF_FILETYPE']].std()}\")\n",
    "print(f\"\\nX zonder mean opgevuld:\\n------------------------\\n{X[['STANDARD_DEVIATION', 'SF_REFERRER', 'SF_FILETYPE']].std()}\")"
   ]
  },
  {
   "attachments": {},
   "cell_type": "markdown",
   "metadata": {},
   "source": [
    "Een nog groter verschil bij STANDARD_DEVIATION, maar deze keer ook een groter verschil bij de SF_FILETYPE EN SF_REFERRER\n",
    "\n",
    "---"
   ]
  },
  {
   "attachments": {},
   "cell_type": "markdown",
   "metadata": {},
   "source": [
    "#### 4.3 De features opvullen met SimpleImputer met strategy 'mean'\n",
    "\n",
    "- We vullen de features op met mean via de SimpleImputer en vergelijken de standaard deviatie (niet de feature) met die van de 'niet-opgevulde' X"
   ]
  },
  {
   "cell_type": "code",
   "execution_count": 9,
   "metadata": {},
   "outputs": [
    {
     "name": "stdout",
     "output_type": "stream",
     "text": [
      "\n",
      "X met imputer opgevuld:\n",
      "------------------------\n",
      "STANDARD_DEVIATION    79.733879\n",
      "SF_REFERRER            0.216512\n",
      "SF_FILETYPE            0.220459\n",
      "dtype: float64\n",
      "\n",
      "X zonder imputer opgevuld:\n",
      "---------------------------\n",
      "STANDARD_DEVIATION    89.781873\n",
      "SF_REFERRER            0.243797\n",
      "SF_FILETYPE            0.248241\n",
      "dtype: float64\n"
     ]
    }
   ],
   "source": [
    "from sklearn.impute import SimpleImputer\n",
    "\n",
    "X_imputed = X.copy()\n",
    "\n",
    "imputer = SimpleImputer(missing_values=np.nan, strategy='mean')\n",
    "imputer.fit(X_imputed)\n",
    "X_imputed = pd.DataFrame(imputer.transform(X_imputed), columns=X_imputed.columns)\n",
    "\n",
    "print(f\"\\nX met imputer opgevuld:\\n------------------------\\n{X_imputed[['STANDARD_DEVIATION', 'SF_REFERRER', 'SF_FILETYPE']].std()}\")\n",
    "print(f\"\\nX zonder imputer opgevuld:\\n---------------------------\\n{X[['STANDARD_DEVIATION', 'SF_REFERRER', 'SF_FILETYPE']].std()}\")"
   ]
  },
  {
   "attachments": {},
   "cell_type": "markdown",
   "metadata": {},
   "source": [
    "Er is geen verschil tussen het gebruik van \n",
    "```python \n",
    "X.fillna(X.mean())\n",
    "``` \n",
    "en het gebruik van een \n",
    "```python\n",
    "SimpleImputer(strategy=\"mean\")\n",
    "```\n",
    "\n",
    "---"
   ]
  },
  {
   "attachments": {},
   "cell_type": "markdown",
   "metadata": {},
   "source": [
    "#### 4.4 De features met NaN-waarden droppen\n",
    "\n",
    "- We droppen de features met NaN-waarden en testen ze uit op verschillende classificatiemodels"
   ]
  },
  {
   "cell_type": "code",
   "execution_count": 10,
   "metadata": {},
   "outputs": [],
   "source": [
    "X_drop = X.copy()\n",
    "X_drop = X.drop(['STANDARD_DEVIATION', 'SF_REFERRER', 'SF_FILETYPE'], axis=1)"
   ]
  },
  {
   "attachments": {},
   "cell_type": "markdown",
   "metadata": {},
   "source": [
    "---"
   ]
  },
  {
   "attachments": {},
   "cell_type": "markdown",
   "metadata": {},
   "source": [
    "### 5. Feature importance bekijken"
   ]
  },
  {
   "attachments": {},
   "cell_type": "markdown",
   "metadata": {},
   "source": [
    "#### 5.1 Opsplitsen in train en test data"
   ]
  },
  {
   "cell_type": "code",
   "execution_count": 11,
   "metadata": {},
   "outputs": [],
   "source": [
    "from sklearn.model_selection import train_test_split\n",
    "\n",
    "X_zero_train, X_zero_test, y_train, y_test = train_test_split(X_zero, y, test_size=0.2, random_state=42)\n",
    "X_mean_train, X_mean_test, y_train, y_test = train_test_split(X_mean, y, test_size=0.2, random_state=42)\n",
    "X_drop_train, X_drop_test, y_train, y_test = train_test_split(X_drop, y, test_size=0.2, random_state=42)"
   ]
  },
  {
   "attachments": {},
   "cell_type": "markdown",
   "metadata": {},
   "source": [
    "#### 5.2 DecisionTreeClassifier trainen op verschillende types data (X_zero, X_mean, X_drop)"
   ]
  },
  {
   "cell_type": "code",
   "execution_count": 12,
   "metadata": {},
   "outputs": [],
   "source": [
    "from sklearn.model_selection import GridSearchCV\n",
    "from sklearn.tree import DecisionTreeClassifier\n",
    "from sklearn.metrics import accuracy_score, classification_report, confusion_matrix\n",
    "\n",
    "def grid_test(type, X, y, cl_report):\n",
    "    grid_search = GridSearchCV(DecisionTreeClassifier(random_state=42), param_grid={'max_depth': np.arange(2, 31)}, cv=5, n_jobs=-1)\n",
    "    grid_search.fit(X, y)\n",
    "    \n",
    "    print(f\"Decision Tree Classifier met {type}:\\n------------------------------------\")  \n",
    "\n",
    "    print(grid_search.best_params_)\n",
    "\n",
    "    y_pred = grid_search.predict(X)\n",
    "\n",
    "    if cl_report:\n",
    "        print(classification_report(y, y_pred))\n",
    "\n",
    "    print(accuracy_score(y, y_pred))\n",
    "\n",
    "    cm_mean = np.round(confusion_matrix(y, y_pred, normalize='true'), 2)\n",
    "\n",
    "    print(cm_mean)\n",
    "    print(\"------------------------------------\")\n",
    "    return grid_search.best_estimator_"
   ]
  },
  {
   "attachments": {},
   "cell_type": "markdown",
   "metadata": {},
   "source": [
    "#### 5.3 Feature Importance bekijken"
   ]
  },
  {
   "cell_type": "code",
   "execution_count": 13,
   "metadata": {},
   "outputs": [
    {
     "name": "stdout",
     "output_type": "stream",
     "text": [
      "Decision Tree Classifier met X_zero:\n",
      "------------------------------------\n",
      "{'max_depth': 15}\n",
      "0.9864027975853245\n",
      "[[0.99 0.01]\n",
      " [0.04 0.96]]\n",
      "------------------------------------\n",
      "Decision Tree Classifier met X_mean:\n",
      "------------------------------------\n",
      "{'max_depth': 15}\n",
      "0.9862074354816652\n",
      "[[0.99 0.01]\n",
      " [0.04 0.96]]\n",
      "------------------------------------\n",
      "Decision Tree Classifier met X_drop:\n",
      "------------------------------------\n",
      "{'max_depth': 16}\n",
      "0.9873600718932541\n",
      "[[0.99 0.01]\n",
      " [0.03 0.97]]\n",
      "------------------------------------\n"
     ]
    },
    {
     "data": {
      "image/png": "[encoded data removed]",
      "text/plain": [
       "<Figure size 1500x500 with 3 Axes>"
      ]
     },
     "metadata": {},
     "output_type": "display_data"
    }
   ],
   "source": [
    "dt_clf_0 = grid_test(\"X_zero\", X_zero_train, y_train, False)\n",
    "dt_clf_0.fit(X_zero_train, y_train)\n",
    "\n",
    "dt_clf_mean = grid_test(\"X_mean\", X_mean_train, y_train, False)\n",
    "dt_clf_mean.fit(X_mean_train, y_train)\n",
    "\n",
    "dt_clf_drop = grid_test(\"X_drop\", X_drop_train, y_train, False)\n",
    "dt_clf_drop.fit(X_drop_train, y_train)\n",
    "\n",
    "def feature_imp(clf, X):\n",
    "    importances = clf.feature_importances_\n",
    "    features = X.columns\n",
    "\n",
    "    df_importances = pd.DataFrame({'feature': features, 'importance': importances})\n",
    "    df_importances = df_importances.sort_values(by='importance', ascending=False)\n",
    "    return df_importances\n",
    "\n",
    "zero_importances = feature_imp(dt_clf_0, X_zero_train)\n",
    "mean_importances = feature_imp(dt_clf_mean, X_mean_train)\n",
    "drop_importances = feature_imp(dt_clf_drop, X_drop_train)\n",
    "\n",
    "fig, ax = plt.subplots(1, 3, figsize=(15, 5))\n",
    "\n",
    "ax[0].barh(zero_importances['feature'], zero_importances['importance'])\n",
    "ax[0].set_title('Feature Importances for Zero Imputed Data')\n",
    "\n",
    "ax[1].barh(mean_importances['feature'], mean_importances['importance'])\n",
    "ax[1].set_title('Feature Importances for Mean Imputed Data')\n",
    "\n",
    "ax[2].barh(drop_importances['feature'], drop_importances['importance'])\n",
    "ax[2].set_title('Feature Importances for Dropped Data')\n",
    "\n",
    "plt.tight_layout()\n",
    "plt.show()"
   ]
  },
  {
   "attachments": {},
   "cell_type": "markdown",
   "metadata": {},
   "source": [
    "Hier kunnen we duidelijk zien dat OTHER_METHOD, POST_METHOD, HEAD_METHOD, HTTP_RESPONSE(3,4,5)XX en REPEATED_REQUESTS geen importance hebben"
   ]
  },
  {
   "attachments": {},
   "cell_type": "markdown",
   "metadata": {},
   "source": [
    "#### 5.4 Features met weinig of geen importance droppen"
   ]
  },
  {
   "cell_type": "code",
   "execution_count": 14,
   "metadata": {},
   "outputs": [],
   "source": [
    "X_zero = X.copy()\n",
    "X_zero = X_zero.fillna(0)\n",
    "X_zero = X_zero.drop(['OTHER_METHOD', 'POST_METHOD', 'HEAD_METHOD', 'HTTP_RESPONSE_3XX',  'HTTP_RESPONSE_4XX', 'HTTP_RESPONSE_5XX','REPEATED_REQUESTS'], axis=1)\n",
    "\n",
    "X_mean = X.copy()\n",
    "X_mean = X_mean.fillna(X.mean())\n",
    "X_mean = X_mean.drop(['OTHER_METHOD', 'POST_METHOD', 'HEAD_METHOD', 'HTTP_RESPONSE_3XX',  'HTTP_RESPONSE_4XX', 'HTTP_RESPONSE_5XX','REPEATED_REQUESTS'], axis=1)\n",
    "\n",
    "X_drop = X.copy()\n",
    "X_drop = X.drop(['STANDARD_DEVIATION', 'SF_REFERRER', 'SF_FILETYPE', 'OTHER_METHOD', 'POST_METHOD', 'HEAD_METHOD', 'HTTP_RESPONSE_3XX',  'HTTP_RESPONSE_4XX', 'HTTP_RESPONSE_5XX','REPEATED_REQUESTS'], axis=1)\n",
    "\n",
    "X_zero_train, X_zero_test, y_train, y_test = train_test_split(X_zero, y, test_size=0.2, random_state=42)\n",
    "X_mean_train, X_mean_test, y_train, y_test = train_test_split(X_mean, y, test_size=0.2, random_state=42)\n",
    "X_drop_train, X_drop_test, y_train, y_test = train_test_split(X_drop, y, test_size=0.2, random_state=42)"
   ]
  },
  {
   "attachments": {},
   "cell_type": "markdown",
   "metadata": {},
   "source": [
    "#### 5.5 Opnieuw DecisionTreeClassifiers trainen en vergelijken met vorige"
   ]
  },
  {
   "cell_type": "code",
   "execution_count": 15,
   "metadata": {},
   "outputs": [
    {
     "name": "stdout",
     "output_type": "stream",
     "text": [
      "Decision Tree Classifier met X_zero:\n",
      "------------------------------------\n",
      "{'max_depth': 15}\n",
      "              precision    recall  f1-score   support\n",
      "\n",
      "           0       0.99      0.99      0.99     40990\n",
      "           1       0.97      0.96      0.97     10197\n",
      "\n",
      "    accuracy                           0.99     51187\n",
      "   macro avg       0.98      0.98      0.98     51187\n",
      "weighted avg       0.99      0.99      0.99     51187\n",
      "\n",
      "0.9864027975853245\n",
      "[[0.99 0.01]\n",
      " [0.04 0.96]]\n",
      "------------------------------------\n",
      "Decision Tree Classifier met X_mean:\n",
      "------------------------------------\n",
      "{'max_depth': 15}\n",
      "              precision    recall  f1-score   support\n",
      "\n",
      "           0       0.99      0.99      0.99     40990\n",
      "           1       0.97      0.96      0.97     10197\n",
      "\n",
      "    accuracy                           0.99     51187\n",
      "   macro avg       0.98      0.98      0.98     51187\n",
      "weighted avg       0.99      0.99      0.99     51187\n",
      "\n",
      "0.9862074354816652\n",
      "[[0.99 0.01]\n",
      " [0.04 0.96]]\n",
      "------------------------------------\n",
      "Decision Tree Classifier met X_drop:\n",
      "------------------------------------\n",
      "{'max_depth': 15}\n",
      "              precision    recall  f1-score   support\n",
      "\n",
      "           0       0.99      0.99      0.99     40990\n",
      "           1       0.97      0.96      0.97     10197\n",
      "\n",
      "    accuracy                           0.99     51187\n",
      "   macro avg       0.98      0.98      0.98     51187\n",
      "weighted avg       0.99      0.99      0.99     51187\n",
      "\n",
      "0.986500478637154\n",
      "[[0.99 0.01]\n",
      " [0.04 0.96]]\n",
      "------------------------------------\n"
     ]
    },
    {
     "data": {
      "text/html": [
       "<style>#sk-container-id-1 {color: black;background-color: white;}#sk-container-id-1 pre{padding: 0;}#sk-container-id-1 div.sk-toggleable {background-color: white;}#sk-container-id-1 label.sk-toggleable__label {cursor: pointer;display: block;width: 100%;margin-bottom: 0;padding: 0.3em;box-sizing: border-box;text-align: center;}#sk-container-id-1 label.sk-toggleable__label-arrow:before {content: \"▸\";float: left;margin-right: 0.25em;color: #696969;}#sk-container-id-1 label.sk-toggleable__label-arrow:hover:before {color: black;}#sk-container-id-1 div.sk-estimator:hover label.sk-toggleable__label-arrow:before {color: black;}#sk-container-id-1 div.sk-toggleable__content {max-height: 0;max-width: 0;overflow: hidden;text-align: left;background-color: #f0f8ff;}#sk-container-id-1 div.sk-toggleable__content pre {margin: 0.2em;color: black;border-radius: 0.25em;background-color: #f0f8ff;}#sk-container-id-1 input.sk-toggleable__control:checked~div.sk-toggleable__content {max-height: 200px;max-width: 100%;overflow: auto;}#sk-container-id-1 input.sk-toggleable__control:checked~label.sk-toggleable__label-arrow:before {content: \"▾\";}#sk-container-id-1 div.sk-estimator input.sk-toggleable__control:checked~label.sk-toggleable__label {background-color: #d4ebff;}#sk-container-id-1 div.sk-label input.sk-toggleable__control:checked~label.sk-toggleable__label {background-color: #d4ebff;}#sk-container-id-1 input.sk-hidden--visually {border: 0;clip: rect(1px 1px 1px 1px);clip: rect(1px, 1px, 1px, 1px);height: 1px;margin: -1px;overflow: hidden;padding: 0;position: absolute;width: 1px;}#sk-container-id-1 div.sk-estimator {font-family: monospace;background-color: #f0f8ff;border: 1px dotted black;border-radius: 0.25em;box-sizing: border-box;margin-bottom: 0.5em;}#sk-container-id-1 div.sk-estimator:hover {background-color: #d4ebff;}#sk-container-id-1 div.sk-parallel-item::after {content: \"\";width: 100%;border-bottom: 1px solid gray;flex-grow: 1;}#sk-container-id-1 div.sk-label:hover label.sk-toggleable__label {background-color: #d4ebff;}#sk-container-id-1 div.sk-serial::before {content: \"\";position: absolute;border-left: 1px solid gray;box-sizing: border-box;top: 0;bottom: 0;left: 50%;z-index: 0;}#sk-container-id-1 div.sk-serial {display: flex;flex-direction: column;align-items: center;background-color: white;padding-right: 0.2em;padding-left: 0.2em;position: relative;}#sk-container-id-1 div.sk-item {position: relative;z-index: 1;}#sk-container-id-1 div.sk-parallel {display: flex;align-items: stretch;justify-content: center;background-color: white;position: relative;}#sk-container-id-1 div.sk-item::before, #sk-container-id-1 div.sk-parallel-item::before {content: \"\";position: absolute;border-left: 1px solid gray;box-sizing: border-box;top: 0;bottom: 0;left: 50%;z-index: -1;}#sk-container-id-1 div.sk-parallel-item {display: flex;flex-direction: column;z-index: 1;position: relative;background-color: white;}#sk-container-id-1 div.sk-parallel-item:first-child::after {align-self: flex-end;width: 50%;}#sk-container-id-1 div.sk-parallel-item:last-child::after {align-self: flex-start;width: 50%;}#sk-container-id-1 div.sk-parallel-item:only-child::after {width: 0;}#sk-container-id-1 div.sk-dashed-wrapped {border: 1px dashed gray;margin: 0 0.4em 0.5em 0.4em;box-sizing: border-box;padding-bottom: 0.4em;background-color: white;}#sk-container-id-1 div.sk-label label {font-family: monospace;font-weight: bold;display: inline-block;line-height: 1.2em;}#sk-container-id-1 div.sk-label-container {text-align: center;}#sk-container-id-1 div.sk-container {/* jupyter's `normalize.less` sets `[hidden] { display: none; }` but bootstrap.min.css set `[hidden] { display: none !important; }` so we also need the `!important` here to be able to override the default hidden behavior on the sphinx rendered scikit-learn.org. See: https://github.com/scikit-learn/scikit-learn/issues/21755 */display: inline-block !important;position: relative;}#sk-container-id-1 div.sk-text-repr-fallback {display: none;}</style><div id=\"sk-container-id-1\" class=\"sk-top-container\"><div class=\"sk-text-repr-fallback\"><pre>DecisionTreeClassifier(max_depth=15, random_state=42)</pre><b>In a Jupyter environment, please rerun this cell to show the HTML representation or trust the notebook. <br />On GitHub, the HTML representation is unable to render, please try loading this page with nbviewer.org.</b></div><div class=\"sk-container\" hidden><div class=\"sk-item\"><div class=\"sk-estimator sk-toggleable\"><input class=\"sk-toggleable__control sk-hidden--visually\" id=\"sk-estimator-id-1\" type=\"checkbox\" checked><label for=\"sk-estimator-id-1\" class=\"sk-toggleable__label sk-toggleable__label-arrow\">DecisionTreeClassifier</label><div class=\"sk-toggleable__content\"><pre>DecisionTreeClassifier(max_depth=15, random_state=42)</pre></div></div></div></div></div>"
      ],
      "text/plain": [
       "DecisionTreeClassifier(max_depth=15, random_state=42)"
      ]
     },
     "execution_count": 15,
     "metadata": {},
     "output_type": "execute_result"
    }
   ],
   "source": [
    "dt_clf_0 = grid_test(\"X_zero\", X_zero_train, y_train, True)\n",
    "dt_clf_0.fit(X_zero_train, y_train)\n",
    "\n",
    "dt_clf_mean = grid_test(\"X_mean\", X_mean_train, y_train, True)\n",
    "dt_clf_mean.fit(X_mean_train, y_train)\n",
    "\n",
    "dt_clf_drop = grid_test(\"X_drop\", X_drop_train, y_train, True)\n",
    "dt_clf_drop.fit(X_drop_train, y_train)"
   ]
  },
  {
   "attachments": {},
   "cell_type": "markdown",
   "metadata": {},
   "source": [
    "### 6. Conclusie"
   ]
  },
  {
   "attachments": {},
   "cell_type": "markdown",
   "metadata": {},
   "source": [
    "We zien geen grote verschillen tussen de verschillende DecisionTreeClassifiers. Het model getrained met de X_drop (waar de features met NaN-waarden gedropped zijn) heeft net iets betere resultaten dan de andere X'en (X_zero en X_mean). Na het droppen van de features met weinig importance was er een zeer lichte daling in recall en accuracy bij de DecisionTreeClassifier met X_drop."
   ]
  },
  {
   "attachments": {},
   "cell_type": "markdown",
   "metadata": {},
   "source": [
    "### 7. Verdere stappen"
   ]
  },
  {
   "attachments": {},
   "cell_type": "markdown",
   "metadata": {},
   "source": [
    "- Nu ga ik aan de slag met de data, ik zal modellen trainen per soort (DecisionTree models & Andere soorten).\n",
    "- Per onderdeel wordt er ook getest of scaling de resultaten verbeterd of niet\n",
    "- Daarna zal ik tonen hoe goed (of slecht) het model het deed op de 5% achtergehouden data\n",
    "- Deze scripts zijn te vinden in ``/main_scripts``"
   ]
  },
  {
   "attachments": {},
   "cell_type": "markdown",
   "metadata": {},
   "source": [
    "## DecisionTree Modellen\n",
    "---"
   ]
  },
  {
   "attachments": {},
   "cell_type": "markdown",
   "metadata": {},
   "source": [
    "Script te vinden in ``/main_scripts/dec_trees_drop.ipynb``\n",
    "\n",
    "1. DecisionTreeClassifier\n",
    "2. BaggingClassifier zonder OOB\n",
    "3. BaggingClassifier met OOB\n",
    "4. AdaBoostClassifier\n",
    "5. GradientBoostingClassifier\n",
    "6. RandomForestClassifier\n",
    "\n",
    "---"
   ]
  },
  {
   "attachments": {},
   "cell_type": "markdown",
   "metadata": {},
   "source": [
    "#### 1. DecisionTreeClassifier\n",
    "\n",
    "- max_depth: maximale diepte van de boom (te weinig --> Niet accuraat genoeg | te veel / oneindig --> overfitting)\n",
    "- min_samples_leaf: min. aantal samples nodig om een leaf node (= heeft geen children) te zijn\n",
    "- min_samples_split: min. aantal of samples nodig om een interne node te splitsen"
   ]
  },
  {
   "attachments": {},
   "cell_type": "markdown",
   "metadata": {},
   "source": [
    "##### 1.1 Zonder scaling\n",
    "---"
   ]
  },
  {
   "attachments": {},
   "cell_type": "markdown",
   "metadata": {},
   "source": [
    "**Best estimator (gridsearch)**: {'max_depth': 29, 'min_samples_leaf': 3, 'min_samples_split': 12}\n",
    "\n",
    "**Accuracy**: 0.9766351488630147\n",
    "\n",
    "**Classification Report**:\n",
    "```\n",
    "              precision    recall  f1-score   support\n",
    "\n",
    "           0       0.98      0.99      0.99     10337\n",
    "           1       0.95      0.93      0.94      2460\n",
    "```\n",
    "**Confusion Matrix**\n",
    "\n",
    "<img src=\"./images/dec_tree_drop_cm.png\" height=30% width=30%>"
   ]
  },
  {
   "attachments": {},
   "cell_type": "markdown",
   "metadata": {},
   "source": [
    "##### 1.2 Met scaling\n",
    "---"
   ]
  },
  {
   "attachments": {},
   "cell_type": "markdown",
   "metadata": {},
   "source": [
    "**Best estimator (gridsearch)**: {'max_depth': 16, 'min_samples_leaf': 3, 'min_samples_split': 16}\n",
    "\n",
    "**Accuracy**: 0.9750722825662265\n",
    "\n",
    "**Classification Report**:\n",
    "```\n",
    "              precision    recall  f1-score   support\n",
    "\n",
    "           0       0.99      0.98      0.98     10337\n",
    "           1       0.93      0.94      0.94      2460\n",
    "```\n",
    "\n",
    "**Confusion Matrix**:\n",
    "\n",
    "<img src=\"./images/dec_tree_scaled_drop_cm.png\" height=30% width=30%>"
   ]
  },
  {
   "attachments": {},
   "cell_type": "markdown",
   "metadata": {},
   "source": [
    "##### 1.3 Test op 5% achtergehouden data\n",
    "---"
   ]
  },
  {
   "attachments": {},
   "cell_type": "markdown",
   "metadata": {},
   "source": [
    "Aangezien de scaler de resultaten heeft verminderd zal ik alleen testen met de DecisionTreeClassifier zonder scaling\n",
    "\n",
    "**Accuracy**: 96.97%\n",
    "\n",
    "**Confusion matrix**:\n",
    "```\n",
    " [[0.98 0.02]\n",
    " [0.07 0.93]]\n",
    "```"
   ]
  },
  {
   "attachments": {},
   "cell_type": "markdown",
   "metadata": {},
   "source": [
    "#### 2. BaggingClassifier zonder OOB\n",
    "\n",
    "- n_estimators: Aantal base estimators in de ensemble\n",
    "- max_samples: aantal samples die van X worden gebruikt om elke base estimator te trainen\n",
    "- bootstrap: of samples met replacement worden gebruikt of niet\n",
    "- bootstrap_features: of features met replacement worden gebruikt of niet"
   ]
  },
  {
   "attachments": {},
   "cell_type": "markdown",
   "metadata": {},
   "source": [
    "##### 2.1 Zonder scaling\n",
    "---"
   ]
  },
  {
   "attachments": {},
   "cell_type": "markdown",
   "metadata": {},
   "source": [
    "**Best estimator (gridsearch)**: {'bootstrap': False, 'bootstrap_features': True, 'max_samples': 30000, 'n_estimators': 100}\n",
    "\n",
    "**Accuracy**: 0.9797608814565913\n",
    "\n",
    "**Classification Report**:\n",
    "```\n",
    "              precision    recall  f1-score   support\n",
    "\n",
    "           0       0.99      0.99      0.99     10337\n",
    "           1       0.95      0.94      0.95      2460\n",
    "```\n",
    "\n",
    "<img src=\"./images/bag_clf_no_oob_no_scale_cm.png\" height=30% width=30%>"
   ]
  },
  {
   "attachments": {},
   "cell_type": "markdown",
   "metadata": {},
   "source": [
    "##### 2.2 Met scaling\n",
    "---"
   ]
  },
  {
   "attachments": {},
   "cell_type": "markdown",
   "metadata": {},
   "source": [
    "**Best estimator (gridsearch)**: {'bootstrap': True, 'bootstrap_features': True, 'max_samples': 30000, 'n_estimators': 500}\n",
    "\n",
    "**Accuracy**: 0.9776510119559272\n",
    "\n",
    "**Classification Report**:\n",
    "```\n",
    "              precision    recall  f1-score   support\n",
    "\n",
    "           0       0.98      0.99      0.99     10337\n",
    "           1       0.95      0.93      0.94      2460\n",
    "```\n",
    "\n",
    "<img src=\"./images/bag_clf_no_oob_scale_cm.png\" height=30% width=30%>"
   ]
  },
  {
   "attachments": {},
   "cell_type": "markdown",
   "metadata": {},
   "source": [
    "##### 2.3 Test op 5% achtergehouden data"
   ]
  },
  {
   "attachments": {},
   "cell_type": "markdown",
   "metadata": {},
   "source": [
    "Aangezien de scaler de resultaten heeft verminderd zal ik alleen testen met de BaggingClassifier zonder scaling\n",
    "\n",
    "**Accuracy**: 97.09%\n",
    "\n",
    "**Confusion matrix**:\n",
    "```\n",
    " [[0.99 0.01]\n",
    " [0.07 0.93]]\n",
    "```"
   ]
  },
  {
   "attachments": {},
   "cell_type": "markdown",
   "metadata": {},
   "source": [
    "#### 3. BaggingClassifier met OOB\n",
    "\n",
    "- oob_score: of er out-of-bag samples worden gebruikt om de generalisatie error te bepalen (werkt alleen bij bootstrap=True)"
   ]
  },
  {
   "attachments": {},
   "cell_type": "markdown",
   "metadata": {},
   "source": [
    "##### 3.1 Zonder scaling\n",
    "---"
   ]
  },
  {
   "attachments": {},
   "cell_type": "markdown",
   "metadata": {},
   "source": [
    "**Best estimator (gridsearch)**: {'max_samples': 15000, 'n_estimators': 10}\n",
    "\n",
    "**OOB score**: 0.9761658233535859\n",
    "\n",
    "**Accuracy**: 0.9777291552707665\n",
    "\n",
    "**Classification Report**:\n",
    "```\n",
    "                precision    recall  f1-score   support\n",
    "\n",
    "            0       0.98      0.99      0.99     10337\n",
    "            1       0.95      0.94      0.94      2460\n",
    "```\n",
    "<img src=\"./images/bag_clf_oob_no_scale_cm.png\" height=30% width=30%>"
   ]
  },
  {
   "attachments": {},
   "cell_type": "markdown",
   "metadata": {},
   "source": [
    "##### 3.2 Met scaling\n",
    "---"
   ]
  },
  {
   "attachments": {},
   "cell_type": "markdown",
   "metadata": {},
   "source": [
    "**Best estimator (gridsearch)**: {'max_samples': 20000, 'n_estimators': 30}\n",
    "\n",
    "**Accuracy**: 0.9764788622333359\n",
    "\n",
    "**Classification Report**:\n",
    "```\n",
    "                precision    recall  f1-score   support\n",
    "\n",
    "            0       0.98      0.99      0.99     10337\n",
    "            1       0.95      0.93      0.94      2460\n",
    "```\n",
    "<img src=\"./images/bag_clf_oob_scale_cm.png\" height=30% width=30%>"
   ]
  },
  {
   "attachments": {},
   "cell_type": "markdown",
   "metadata": {},
   "source": [
    "##### 3.3 Test op 5% achtergehouden data\n",
    "---"
   ]
  },
  {
   "attachments": {},
   "cell_type": "markdown",
   "metadata": {},
   "source": [
    "Scaler heeft alweer slechtere resultaten opgeleverd\n",
    "\n",
    "**Accuracy**: 96.85%\n",
    "\n",
    "**Confusion matrix**:\n",
    "```\n",
    " [[0.99 0.01]\n",
    " [0.08 0.92]]\n",
    "```"
   ]
  },
  {
   "attachments": {},
   "cell_type": "markdown",
   "metadata": {},
   "source": [
    "#### 4. AdaBoostClassifier\n",
    "\n",
    "- SAMME.R: R = real --> gebruikt class probabilities i.p.v. predictions (gewoonlijks beter)\n",
    "- learning_rate: gewicht toegekend aan elke classifier bij elke boost iteration (hoe hoger de learning_rate, hoe meer contributie per classifier)\n",
    "- n_estimators: max. aantal estimators waarop boosting wordt gestopt"
   ]
  },
  {
   "attachments": {},
   "cell_type": "markdown",
   "metadata": {},
   "source": [
    "##### 4.1 Zonder scaling\n",
    "---"
   ]
  },
  {
   "attachments": {},
   "cell_type": "markdown",
   "metadata": {},
   "source": [
    "**Best estimator (gridsearch)**: {'algorithm': 'SAMME.R', 'learning_rate': 0.1, 'n_estimators': 10}\n",
    "\n",
    "**Accuracy**: 0.9774165820114089\n",
    "\n",
    "**Classification Report**:\n",
    "```\n",
    "              precision    recall  f1-score   support\n",
    "\n",
    "           0       0.98      0.99      0.99     10337\n",
    "           1       0.95      0.93      0.94      2460\n",
    "```\n",
    "**Confusion Matrix**:\n",
    "\n",
    "<img src=\"./images/ada_boost_no_scale_cm.png\" height=30% width=30%>"
   ]
  },
  {
   "attachments": {},
   "cell_type": "markdown",
   "metadata": {},
   "source": [
    "##### 4.2 Met scaling\n",
    "---"
   ]
  },
  {
   "attachments": {},
   "cell_type": "markdown",
   "metadata": {},
   "source": [
    "**Best estimator (gridsearch)**: {'algorithm': 'SAMME.R', 'learning_rate': 0.1, 'n_estimators': 10}\n",
    "\n",
    "**Accuracy**: 0.9745252793623506\n",
    "\n",
    "**Classification Report**:\n",
    "```\n",
    "              precision    recall  f1-score   support\n",
    "\n",
    "           0       0.98      0.99      0.98     10337\n",
    "           1       0.95      0.92      0.93      2460\n",
    "```\n",
    "**Confusion Matrix**:\n",
    "\n",
    "<img src=\"./images/ada_boost_scale_cm.png\" height=30% width=30%>"
   ]
  },
  {
   "attachments": {},
   "cell_type": "markdown",
   "metadata": {},
   "source": [
    "##### 4.3 Test op 5% achtergehouden data\n",
    "---"
   ]
  },
  {
   "attachments": {},
   "cell_type": "markdown",
   "metadata": {},
   "source": [
    "**Accuracy**: 97.12%\n",
    "\n",
    "**Confusion Matrix**:\n",
    "```\n",
    "[[0.99 0.01]\n",
    "[0.07 0.93]]\n",
    "```"
   ]
  },
  {
   "attachments": {},
   "cell_type": "markdown",
   "metadata": {},
   "source": [
    "#### 5. GradientBoostingClassifier\n",
    "\n",
    "- n_estimators: aantal boosting stages die uit te voeren zijn (Robust tegen over-fitting --> groot aantal = betere performance)\n",
    "- learning_rate: Shrinks contribution of each tree by learning_rate\n",
    "- max_depth: maximale diepte van nodes in de tree"
   ]
  },
  {
   "attachments": {},
   "cell_type": "markdown",
   "metadata": {},
   "source": [
    "##### 5.1 Zonder scaling\n",
    "---"
   ]
  },
  {
   "attachments": {},
   "cell_type": "markdown",
   "metadata": {},
   "source": [
    "**Best estimator (gridsearch)**: {'learning_rate': 0.1, 'max_depth': 3, 'n_estimators': 5}\n",
    "\n",
    "**Accuracy**: 0.8883332030944753\n",
    "\n",
    "**Classification Report**:\n",
    "```\n",
    "              precision    recall  f1-score   support\n",
    "\n",
    "           0       0.88      1      0.94     10337\n",
    "           1       0.98      0.43      0.60      2460\n",
    "```\n",
    "\n",
    "<img src=\"./images/gradient_boost_no_scale_drop_cm.png\" height=30% width=30%>"
   ]
  },
  {
   "attachments": {},
   "cell_type": "markdown",
   "metadata": {},
   "source": [
    "##### 5.2 Met scaling\n",
    "---"
   ]
  },
  {
   "attachments": {},
   "cell_type": "markdown",
   "metadata": {},
   "source": [
    "**Best estimator (gridsearch)**: {'learning_rate': 0.1, 'max_depth': 3, 'n_estimators': 5}\n",
    "\n",
    "**Accuracy**: 0.8085488786434321\n",
    "\n",
    "**Classification Report**:\n",
    "```\n",
    "              precision    recall  f1-score   support\n",
    "\n",
    "           0       0.81      1.00      0.89     10337\n",
    "           1       1.00      0.00      0.01      2460\n",
    "```\n",
    "\n",
    "<img src=\"./images/gradient_boost_scale_drop_cm.png\" height=30% width=30%>"
   ]
  },
  {
   "attachments": {},
   "cell_type": "markdown",
   "metadata": {},
   "source": [
    "##### 5.3 Test op 5% achtergehouden data\n",
    "---"
   ]
  },
  {
   "attachments": {},
   "cell_type": "markdown",
   "metadata": {},
   "source": [
    "**Accuracy**: 85.33%\n",
    "\n",
    "**Confusion matrix**:\n",
    "```\n",
    " [[1.   0.  ]\n",
    " [0.58 0.42]]\n",
    "```"
   ]
  },
  {
   "attachments": {},
   "cell_type": "markdown",
   "metadata": {},
   "source": [
    "#### 6. RandomForestClassifier"
   ]
  },
  {
   "attachments": {},
   "cell_type": "markdown",
   "metadata": {},
   "source": [
    "##### 6.1 Zonder scaling\n",
    "---"
   ]
  },
  {
   "attachments": {},
   "cell_type": "markdown",
   "metadata": {},
   "source": [
    "**Best estimator (gridsearch)**: {'bootstrap': False, 'max_depth': 25, 'min_samples_leaf': 2, 'min_samples_split': 2, 'n_estimators': 140}\n",
    "\n",
    "**Accuracy**: 0.9801515980307884\n",
    "\n",
    "**Classification Report**:\n",
    "```\n",
    "              precision    recall  f1-score   support\n",
    "\n",
    "           0       0.99      0.99      0.99     10337\n",
    "           1       0.95      0.95      0.95      2460\n",
    "```\n",
    "\n",
    "<img src=\"./images/rand_forest_clf_no_scale_drop_cm.png\" height=30% width=30%>"
   ]
  },
  {
   "attachments": {},
   "cell_type": "markdown",
   "metadata": {},
   "source": [
    "##### 6.2 Met scaling\n",
    "---"
   ]
  },
  {
   "attachments": {},
   "cell_type": "markdown",
   "metadata": {},
   "source": [
    "**Best estimator (gridsearch)**: {'bootstrap': False, 'max_depth': 25, 'min_samples_leaf': 2, 'min_samples_split': 2, 'n_estimators': 140}\n",
    "\n",
    "**Accuracy**: 0.9739782761584747\n",
    "\n",
    "**Classification Report**:\n",
    "```\n",
    "              precision    recall  f1-score   support\n",
    "\n",
    "           0       0.99      0.98      0.98     10337\n",
    "           1       0.92      0.95      0.93      2460\n",
    "```\n",
    "\n",
    "<img src=\"./images/rand_forest_clf_scale_drop_cm.png\" height=30% width=30%>"
   ]
  },
  {
   "attachments": {},
   "cell_type": "markdown",
   "metadata": {},
   "source": [
    "##### 6.3 Test op 5% achtergehouden data\n",
    "---"
   ]
  },
  {
   "attachments": {},
   "cell_type": "markdown",
   "metadata": {},
   "source": [
    "**Accuracy**: 97.21%\n",
    "\n",
    "**Confusion matrix**:\n",
    "```\n",
    " [[0.98 0.02]\n",
    " [0.06 0.94]]\n",
    "``` "
   ]
  }
 ],
 "metadata": {
  "kernelspec": {
   "display_name": "Python 3",
   "language": "python",
   "name": "python3"
  },
  "language_info": {
   "codemirror_mode": {
    "name": "ipython",
    "version": 3
   },
   "file_extension": ".py",
   "mimetype": "text/x-python",
   "name": "python",
   "nbconvert_exporter": "python",
   "pygments_lexer": "ipython3",
   "version": "3.11.3"
  },
  "orig_nbformat": 4
 },
 "nbformat": 4,
 "nbformat_minor": 2
}
