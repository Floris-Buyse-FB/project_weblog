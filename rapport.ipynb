{
 "cells": [
  {
   "attachments": {},
   "cell_type": "markdown",
   "metadata": {},
   "source": [
    "# Rapport -- Weblogs opdracht -- Floris Buyse -- G2E2\n",
    "---"
   ]
  },
  {
   "attachments": {},
   "cell_type": "markdown",
   "metadata": {},
   "source": [
    "#### !! Alle code gebruikt om de machine learningn modellen te trainen en te testen is te vinden onderaan deze file !!"
   ]
  },
  {
   "attachments": {},
   "cell_type": "markdown",
   "metadata": {},
   "source": [
    "## Data begrijpen en cleanen\n",
    "---\n",
    "1. Data opsplitsen (95 / 5)\n",
    "2. ID droppen\n",
    "3. NaN-waarden zoeken in data\n",
    "4. NaN-waarden wegkrijgen / oplossen (4 verschillende manieren getest)\n",
    "5. Feature importance bekijken\n",
    "6. Conclusie\n",
    "7. Verdere stappen\n",
    "---"
   ]
  },
  {
   "attachments": {},
   "cell_type": "markdown",
   "metadata": {},
   "source": [
    "### 1. Data opsplitsen (95 / 5)\n",
    "- We gebruiken 95% voor het trainen en testen van verschillende machine learning models en de andere 5% voor het finaal model en voor hertraining van dit finaal model\n",
    "  \n",
    "  ```python\n",
    "  half = int(df.shape[0] * 0.95)\n",
    "  df1 = df.iloc[:half]\n",
    "  df2 = df.iloc[half:]\n",
    "\n",
    "  df1.to_csv('../data/weblogs1.csv', index=False)\n",
    "  df2.to_csv('../data/weblogs2.csv', index=False)\n",
    "  ```\n",
    "    deze code is ook terug te vinden in ``main_scripts/split_csv.ipynb``"
   ]
  },
  {
   "cell_type": "code",
   "execution_count": 2,
   "metadata": {},
   "outputs": [],
   "source": [
    "import pandas as pd\n",
    "import numpy as np\n",
    "import matplotlib.pyplot as plt"
   ]
  },
  {
   "cell_type": "code",
   "execution_count": 3,
   "metadata": {},
   "outputs": [],
   "source": [
    "df = pd.read_csv('./data/weblogs1.csv')"
   ]
  },
  {
   "attachments": {},
   "cell_type": "markdown",
   "metadata": {},
   "source": [
    "### 2. ID droppen\n",
    "\n",
    "- ``ID heeft geen toegevoegde waarde aan de data.``"
   ]
  },
  {
   "cell_type": "code",
   "execution_count": 4,
   "metadata": {},
   "outputs": [],
   "source": [
    "df = df.drop(['ID'], axis=1)"
   ]
  },
  {
   "attachments": {},
   "cell_type": "markdown",
   "metadata": {},
   "source": [
    "### 3. NaN-waaren zoeken in data\n",
    "\n",
    "- ``We zien dat \"STANDARD_DEVIATION\", \"SF_FILETYPE\" en \"SF_REFERRER\" NaN-waarden hebben``"
   ]
  },
  {
   "cell_type": "code",
   "execution_count": 5,
   "metadata": {},
   "outputs": [],
   "source": [
    "X = df.drop(['ROBOT'], axis=1)\n",
    "y = df['ROBOT']"
   ]
  },
  {
   "cell_type": "code",
   "execution_count": 6,
   "metadata": {},
   "outputs": [
    {
     "data": {
      "text/plain": [
       "STANDARD_DEVIATION    13520\n",
       "SF_REFERRER           13520\n",
       "SF_FILETYPE           13520\n",
       "dtype: int64"
      ]
     },
     "execution_count": 6,
     "metadata": {},
     "output_type": "execute_result"
    }
   ],
   "source": [
    "X.isna().sum()[X.isna().sum() > 0]"
   ]
  },
  {
   "attachments": {},
   "cell_type": "markdown",
   "metadata": {},
   "source": [
    "### 4. NaN-waarden wegkrijgen / oplossen"
   ]
  },
  {
   "attachments": {},
   "cell_type": "markdown",
   "metadata": {},
   "source": [
    "#### 4.1 De features opvullen met 0\n",
    "\n",
    "- We vullen de features op met nul en vergelijken de standaard deviatie (niet de feature) met die van de 'niet-opgevulde' X"
   ]
  },
  {
   "cell_type": "code",
   "execution_count": 7,
   "metadata": {},
   "outputs": [
    {
     "name": "stdout",
     "output_type": "stream",
     "text": [
      "X met 0 opgevuld:\n",
      "------------------\n",
      "STANDARD_DEVIATION    81.412416\n",
      "SF_REFERRER            0.241471\n",
      "SF_FILETYPE            0.270922\n",
      "dtype: float64\n",
      "\n",
      "X zonder 0 opgevuld:\n",
      "---------------------\n",
      "STANDARD_DEVIATION    89.781873\n",
      "SF_REFERRER            0.243797\n",
      "SF_FILETYPE            0.248241\n",
      "dtype: float64\n"
     ]
    }
   ],
   "source": [
    "X_zero = X.copy()\n",
    "X_zero = X.fillna(0)\n",
    "print(f\"X met 0 opgevuld:\\n------------------\\n{X_zero[['STANDARD_DEVIATION', 'SF_REFERRER', 'SF_FILETYPE']].std()}\\n\")\n",
    "print(f\"X zonder 0 opgevuld:\\n---------------------\\n{X[['STANDARD_DEVIATION', 'SF_REFERRER', 'SF_FILETYPE']].std()}\")"
   ]
  },
  {
   "attachments": {},
   "cell_type": "markdown",
   "metadata": {},
   "source": [
    "Bij STANDARD_DEVIATION zien we een redelijk groot verschil\n",
    "\n",
    "---"
   ]
  },
  {
   "attachments": {},
   "cell_type": "markdown",
   "metadata": {},
   "source": [
    "#### 4.2 De features opvullen met mean\n",
    "\n",
    "- We vullen de features op met mean() en vergelijken de standaard deviatie (niet de feature) met die van de 'niet-opgevulde' X"
   ]
  },
  {
   "cell_type": "code",
   "execution_count": 8,
   "metadata": {},
   "outputs": [
    {
     "name": "stdout",
     "output_type": "stream",
     "text": [
      "\n",
      "X met mean opgevuld:\n",
      "---------------------\n",
      "STANDARD_DEVIATION    79.733879\n",
      "SF_REFERRER            0.216512\n",
      "SF_FILETYPE            0.220459\n",
      "dtype: float64\n",
      "\n",
      "X zonder mean opgevuld:\n",
      "------------------------\n",
      "STANDARD_DEVIATION    89.781873\n",
      "SF_REFERRER            0.243797\n",
      "SF_FILETYPE            0.248241\n",
      "dtype: float64\n"
     ]
    }
   ],
   "source": [
    "X_mean = X.copy()\n",
    "X_mean = X.fillna(X.mean())\n",
    "print(f\"\\nX met mean opgevuld:\\n---------------------\\n{X_mean[['STANDARD_DEVIATION', 'SF_REFERRER', 'SF_FILETYPE']].std()}\")\n",
    "print(f\"\\nX zonder mean opgevuld:\\n------------------------\\n{X[['STANDARD_DEVIATION', 'SF_REFERRER', 'SF_FILETYPE']].std()}\")"
   ]
  },
  {
   "attachments": {},
   "cell_type": "markdown",
   "metadata": {},
   "source": [
    "Een nog groter verschil bij STANDARD_DEVIATION, maar deze keer ook een groter verschil bij de SF_FILETYPE EN SF_REFERRER\n",
    "\n",
    "---"
   ]
  },
  {
   "attachments": {},
   "cell_type": "markdown",
   "metadata": {},
   "source": [
    "#### 4.3 De features opvullen met SimpleImputer met strategy 'mean'\n",
    "\n",
    "- We vullen de features op met mean via de SimpleImputer en vergelijken de standaard deviatie (niet de feature) met die van de 'niet-opgevulde' X"
   ]
  },
  {
   "cell_type": "code",
   "execution_count": 9,
   "metadata": {},
   "outputs": [
    {
     "name": "stdout",
     "output_type": "stream",
     "text": [
      "\n",
      "X met imputer opgevuld:\n",
      "------------------------\n",
      "STANDARD_DEVIATION    79.733879\n",
      "SF_REFERRER            0.216512\n",
      "SF_FILETYPE            0.220459\n",
      "dtype: float64\n",
      "\n",
      "X zonder imputer opgevuld:\n",
      "---------------------------\n",
      "STANDARD_DEVIATION    89.781873\n",
      "SF_REFERRER            0.243797\n",
      "SF_FILETYPE            0.248241\n",
      "dtype: float64\n"
     ]
    }
   ],
   "source": [
    "from sklearn.impute import SimpleImputer\n",
    "\n",
    "X_imputed = X.copy()\n",
    "\n",
    "imputer = SimpleImputer(missing_values=np.nan, strategy='mean')\n",
    "imputer.fit(X_imputed)\n",
    "X_imputed = pd.DataFrame(imputer.transform(X_imputed), columns=X_imputed.columns)\n",
    "\n",
    "print(f\"\\nX met imputer opgevuld:\\n------------------------\\n{X_imputed[['STANDARD_DEVIATION', 'SF_REFERRER', 'SF_FILETYPE']].std()}\")\n",
    "print(f\"\\nX zonder imputer opgevuld:\\n---------------------------\\n{X[['STANDARD_DEVIATION', 'SF_REFERRER', 'SF_FILETYPE']].std()}\")"
   ]
  },
  {
   "attachments": {},
   "cell_type": "markdown",
   "metadata": {},
   "source": [
    "Er is geen verschil tussen het gebruik van \n",
    "```python \n",
    "X.fillna(X.mean())\n",
    "``` \n",
    "en het gebruik van een \n",
    "```python\n",
    "SimpleImputer(strategy=\"mean\")\n",
    "```\n",
    "\n",
    "---"
   ]
  },
  {
   "attachments": {},
   "cell_type": "markdown",
   "metadata": {},
   "source": [
    "#### 4.4 De features met NaN-waarden droppen\n",
    "\n",
    "- We droppen de features met NaN-waarden en testen ze uit op verschillende classificatiemodels"
   ]
  },
  {
   "cell_type": "code",
   "execution_count": 10,
   "metadata": {},
   "outputs": [],
   "source": [
    "X_drop = X.copy()\n",
    "X_drop = X.drop(['STANDARD_DEVIATION', 'SF_REFERRER', 'SF_FILETYPE'], axis=1)"
   ]
  },
  {
   "attachments": {},
   "cell_type": "markdown",
   "metadata": {},
   "source": [
    "---"
   ]
  },
  {
   "attachments": {},
   "cell_type": "markdown",
   "metadata": {},
   "source": [
    "### 5. Feature importance bekijken"
   ]
  },
  {
   "attachments": {},
   "cell_type": "markdown",
   "metadata": {},
   "source": [
    "#### 5.1 Opsplitsen in train en test data"
   ]
  },
  {
   "cell_type": "code",
   "execution_count": 11,
   "metadata": {},
   "outputs": [],
   "source": [
    "from sklearn.model_selection import train_test_split\n",
    "\n",
    "X_zero_train, X_zero_test, y_train, y_test = train_test_split(X_zero, y, test_size=0.2, random_state=42)\n",
    "X_mean_train, X_mean_test, y_train, y_test = train_test_split(X_mean, y, test_size=0.2, random_state=42)\n",
    "X_drop_train, X_drop_test, y_train, y_test = train_test_split(X_drop, y, test_size=0.2, random_state=42)"
   ]
  },
  {
   "attachments": {},
   "cell_type": "markdown",
   "metadata": {},
   "source": [
    "#### 5.2 DecisionTreeClassifier trainen op verschillende types data (X_zero, X_mean, X_drop)"
   ]
  },
  {
   "cell_type": "code",
   "execution_count": 12,
   "metadata": {},
   "outputs": [],
   "source": [
    "from sklearn.model_selection import GridSearchCV\n",
    "from sklearn.tree import DecisionTreeClassifier\n",
    "from sklearn.metrics import accuracy_score, classification_report, confusion_matrix\n",
    "\n",
    "def grid_test(type, X, y, cl_report):\n",
    "    grid_search = GridSearchCV(DecisionTreeClassifier(random_state=42), param_grid={'max_depth': np.arange(2, 31)}, cv=5, n_jobs=-1)\n",
    "    grid_search.fit(X, y)\n",
    "    \n",
    "    print(f\"Decision Tree Classifier met {type}:\\n------------------------------------\")  \n",
    "\n",
    "    print(grid_search.best_params_)\n",
    "\n",
    "    y_pred = grid_search.predict(X)\n",
    "\n",
    "    if cl_report:\n",
    "        print(classification_report(y, y_pred))\n",
    "\n",
    "    print(accuracy_score(y, y_pred))\n",
    "\n",
    "    cm_mean = np.round(confusion_matrix(y, y_pred, normalize='true'), 2)\n",
    "\n",
    "    print(cm_mean)\n",
    "    print(\"------------------------------------\")\n",
    "    return grid_search.best_estimator_"
   ]
  },
  {
   "attachments": {},
   "cell_type": "markdown",
   "metadata": {},
   "source": [
    "#### 5.3 Feature Importance bekijken"
   ]
  },
  {
   "cell_type": "code",
   "execution_count": 13,
   "metadata": {},
   "outputs": [
    {
     "name": "stdout",
     "output_type": "stream",
     "text": [
      "Decision Tree Classifier met X_zero:\n",
      "------------------------------------\n",
      "{'max_depth': 15}\n",
      "0.9864027975853245\n",
      "[[0.99 0.01]\n",
      " [0.04 0.96]]\n",
      "------------------------------------\n",
      "Decision Tree Classifier met X_mean:\n",
      "------------------------------------\n",
      "{'max_depth': 15}\n",
      "0.9862074354816652\n",
      "[[0.99 0.01]\n",
      " [0.04 0.96]]\n",
      "------------------------------------\n",
      "Decision Tree Classifier met X_drop:\n",
      "------------------------------------\n",
      "{'max_depth': 16}\n",
      "0.9873600718932541\n",
      "[[0.99 0.01]\n",
      " [0.03 0.97]]\n",
      "------------------------------------\n"
     ]
    },
    {
     "data": {
      "image/png": "[encoded data removed]",
      "text/plain": [
       "<Figure size 1500x500 with 3 Axes>"
      ]
     },
     "metadata": {},
     "output_type": "display_data"
    }
   ],
   "source": [
    "dt_clf_0 = grid_test(\"X_zero\", X_zero_train, y_train, False)\n",
    "dt_clf_0.fit(X_zero_train, y_train)\n",
    "\n",
    "dt_clf_mean = grid_test(\"X_mean\", X_mean_train, y_train, False)\n",
    "dt_clf_mean.fit(X_mean_train, y_train)\n",
    "\n",
    "dt_clf_drop = grid_test(\"X_drop\", X_drop_train, y_train, False)\n",
    "dt_clf_drop.fit(X_drop_train, y_train)\n",
    "\n",
    "def feature_imp(clf, X):\n",
    "    importances = clf.feature_importances_\n",
    "    features = X.columns\n",
    "\n",
    "    df_importances = pd.DataFrame({'feature': features, 'importance': importances})\n",
    "    df_importances = df_importances.sort_values(by='importance', ascending=False)\n",
    "    return df_importances\n",
    "\n",
    "zero_importances = feature_imp(dt_clf_0, X_zero_train)\n",
    "mean_importances = feature_imp(dt_clf_mean, X_mean_train)\n",
    "drop_importances = feature_imp(dt_clf_drop, X_drop_train)\n",
    "\n",
    "fig, ax = plt.subplots(1, 3, figsize=(15, 5))\n",
    "\n",
    "ax[0].barh(zero_importances['feature'], zero_importances['importance'])\n",
    "ax[0].set_title('Feature Importances for Zero Imputed Data')\n",
    "\n",
    "ax[1].barh(mean_importances['feature'], mean_importances['importance'])\n",
    "ax[1].set_title('Feature Importances for Mean Imputed Data')\n",
    "\n",
    "ax[2].barh(drop_importances['feature'], drop_importances['importance'])\n",
    "ax[2].set_title('Feature Importances for Dropped Data')\n",
    "\n",
    "plt.tight_layout()\n",
    "plt.show()"
   ]
  },
  {
   "attachments": {},
   "cell_type": "markdown",
   "metadata": {},
   "source": [
    "Hier kunnen we duidelijk zien dat OTHER_METHOD, POST_METHOD, HEAD_METHOD, HTTP_RESPONSE(3,4,5)XX en REPEATED_REQUESTS geen importance hebben"
   ]
  },
  {
   "attachments": {},
   "cell_type": "markdown",
   "metadata": {},
   "source": [
    "#### 5.4 Features met weinig of geen importance droppen"
   ]
  },
  {
   "cell_type": "code",
   "execution_count": 14,
   "metadata": {},
   "outputs": [],
   "source": [
    "X_zero = X.copy()\n",
    "X_zero = X_zero.fillna(0)\n",
    "X_zero = X_zero.drop(['OTHER_METHOD', 'POST_METHOD', 'HEAD_METHOD', 'HTTP_RESPONSE_3XX',  'HTTP_RESPONSE_4XX', 'HTTP_RESPONSE_5XX','REPEATED_REQUESTS'], axis=1)\n",
    "\n",
    "X_mean = X.copy()\n",
    "X_mean = X_mean.fillna(X.mean())\n",
    "X_mean = X_mean.drop(['OTHER_METHOD', 'POST_METHOD', 'HEAD_METHOD', 'HTTP_RESPONSE_3XX',  'HTTP_RESPONSE_4XX', 'HTTP_RESPONSE_5XX','REPEATED_REQUESTS'], axis=1)\n",
    "\n",
    "X_drop = X.copy()\n",
    "X_drop = X.drop(['STANDARD_DEVIATION', 'SF_REFERRER', 'SF_FILETYPE', 'OTHER_METHOD', 'POST_METHOD', 'HEAD_METHOD', 'HTTP_RESPONSE_3XX',  'HTTP_RESPONSE_4XX', 'HTTP_RESPONSE_5XX','REPEATED_REQUESTS'], axis=1)\n",
    "\n",
    "X_zero_train, X_zero_test, y_train, y_test = train_test_split(X_zero, y, test_size=0.2, random_state=42)\n",
    "X_mean_train, X_mean_test, y_train, y_test = train_test_split(X_mean, y, test_size=0.2, random_state=42)\n",
    "X_drop_train, X_drop_test, y_train, y_test = train_test_split(X_drop, y, test_size=0.2, random_state=42)"
   ]
  },
  {
   "attachments": {},
   "cell_type": "markdown",
   "metadata": {},
   "source": [
    "#### 5.5 Opnieuw DecisionTreeClassifiers trainen en vergelijken met vorige"
   ]
  },
  {
   "cell_type": "code",
   "execution_count": 15,
   "metadata": {},
   "outputs": [
    {
     "name": "stdout",
     "output_type": "stream",
     "text": [
      "Decision Tree Classifier met X_zero:\n",
      "------------------------------------\n",
      "{'max_depth': 15}\n",
      "              precision    recall  f1-score   support\n",
      "\n",
      "           0       0.99      0.99      0.99     40990\n",
      "           1       0.97      0.96      0.97     10197\n",
      "\n",
      "    accuracy                           0.99     51187\n",
      "   macro avg       0.98      0.98      0.98     51187\n",
      "weighted avg       0.99      0.99      0.99     51187\n",
      "\n",
      "0.9864027975853245\n",
      "[[0.99 0.01]\n",
      " [0.04 0.96]]\n",
      "------------------------------------\n",
      "Decision Tree Classifier met X_mean:\n",
      "------------------------------------\n",
      "{'max_depth': 15}\n",
      "              precision    recall  f1-score   support\n",
      "\n",
      "           0       0.99      0.99      0.99     40990\n",
      "           1       0.97      0.96      0.97     10197\n",
      "\n",
      "    accuracy                           0.99     51187\n",
      "   macro avg       0.98      0.98      0.98     51187\n",
      "weighted avg       0.99      0.99      0.99     51187\n",
      "\n",
      "0.9862074354816652\n",
      "[[0.99 0.01]\n",
      " [0.04 0.96]]\n",
      "------------------------------------\n",
      "Decision Tree Classifier met X_drop:\n",
      "------------------------------------\n",
      "{'max_depth': 15}\n",
      "              precision    recall  f1-score   support\n",
      "\n",
      "           0       0.99      0.99      0.99     40990\n",
      "           1       0.97      0.96      0.97     10197\n",
      "\n",
      "    accuracy                           0.99     51187\n",
      "   macro avg       0.98      0.98      0.98     51187\n",
      "weighted avg       0.99      0.99      0.99     51187\n",
      "\n",
      "0.986500478637154\n",
      "[[0.99 0.01]\n",
      " [0.04 0.96]]\n",
      "------------------------------------\n"
     ]
    },
    {
     "data": {
      "text/html": [
       "<style>#sk-container-id-1 {color: black;background-color: white;}#sk-container-id-1 pre{padding: 0;}#sk-container-id-1 div.sk-toggleable {background-color: white;}#sk-container-id-1 label.sk-toggleable__label {cursor: pointer;display: block;width: 100%;margin-bottom: 0;padding: 0.3em;box-sizing: border-box;text-align: center;}#sk-container-id-1 label.sk-toggleable__label-arrow:before {content: \"▸\";float: left;margin-right: 0.25em;color: #696969;}#sk-container-id-1 label.sk-toggleable__label-arrow:hover:before {color: black;}#sk-container-id-1 div.sk-estimator:hover label.sk-toggleable__label-arrow:before {color: black;}#sk-container-id-1 div.sk-toggleable__content {max-height: 0;max-width: 0;overflow: hidden;text-align: left;background-color: #f0f8ff;}#sk-container-id-1 div.sk-toggleable__content pre {margin: 0.2em;color: black;border-radius: 0.25em;background-color: #f0f8ff;}#sk-container-id-1 input.sk-toggleable__control:checked~div.sk-toggleable__content {max-height: 200px;max-width: 100%;overflow: auto;}#sk-container-id-1 input.sk-toggleable__control:checked~label.sk-toggleable__label-arrow:before {content: \"▾\";}#sk-container-id-1 div.sk-estimator input.sk-toggleable__control:checked~label.sk-toggleable__label {background-color: #d4ebff;}#sk-container-id-1 div.sk-label input.sk-toggleable__control:checked~label.sk-toggleable__label {background-color: #d4ebff;}#sk-container-id-1 input.sk-hidden--visually {border: 0;clip: rect(1px 1px 1px 1px);clip: rect(1px, 1px, 1px, 1px);height: 1px;margin: -1px;overflow: hidden;padding: 0;position: absolute;width: 1px;}#sk-container-id-1 div.sk-estimator {font-family: monospace;background-color: #f0f8ff;border: 1px dotted black;border-radius: 0.25em;box-sizing: border-box;margin-bottom: 0.5em;}#sk-container-id-1 div.sk-estimator:hover {background-color: #d4ebff;}#sk-container-id-1 div.sk-parallel-item::after {content: \"\";width: 100%;border-bottom: 1px solid gray;flex-grow: 1;}#sk-container-id-1 div.sk-label:hover label.sk-toggleable__label {background-color: #d4ebff;}#sk-container-id-1 div.sk-serial::before {content: \"\";position: absolute;border-left: 1px solid gray;box-sizing: border-box;top: 0;bottom: 0;left: 50%;z-index: 0;}#sk-container-id-1 div.sk-serial {display: flex;flex-direction: column;align-items: center;background-color: white;padding-right: 0.2em;padding-left: 0.2em;position: relative;}#sk-container-id-1 div.sk-item {position: relative;z-index: 1;}#sk-container-id-1 div.sk-parallel {display: flex;align-items: stretch;justify-content: center;background-color: white;position: relative;}#sk-container-id-1 div.sk-item::before, #sk-container-id-1 div.sk-parallel-item::before {content: \"\";position: absolute;border-left: 1px solid gray;box-sizing: border-box;top: 0;bottom: 0;left: 50%;z-index: -1;}#sk-container-id-1 div.sk-parallel-item {display: flex;flex-direction: column;z-index: 1;position: relative;background-color: white;}#sk-container-id-1 div.sk-parallel-item:first-child::after {align-self: flex-end;width: 50%;}#sk-container-id-1 div.sk-parallel-item:last-child::after {align-self: flex-start;width: 50%;}#sk-container-id-1 div.sk-parallel-item:only-child::after {width: 0;}#sk-container-id-1 div.sk-dashed-wrapped {border: 1px dashed gray;margin: 0 0.4em 0.5em 0.4em;box-sizing: border-box;padding-bottom: 0.4em;background-color: white;}#sk-container-id-1 div.sk-label label {font-family: monospace;font-weight: bold;display: inline-block;line-height: 1.2em;}#sk-container-id-1 div.sk-label-container {text-align: center;}#sk-container-id-1 div.sk-container {/* jupyter's `normalize.less` sets `[hidden] { display: none; }` but bootstrap.min.css set `[hidden] { display: none !important; }` so we also need the `!important` here to be able to override the default hidden behavior on the sphinx rendered scikit-learn.org. See: https://github.com/scikit-learn/scikit-learn/issues/21755 */display: inline-block !important;position: relative;}#sk-container-id-1 div.sk-text-repr-fallback {display: none;}</style><div id=\"sk-container-id-1\" class=\"sk-top-container\"><div class=\"sk-text-repr-fallback\"><pre>DecisionTreeClassifier(max_depth=15, random_state=42)</pre><b>In a Jupyter environment, please rerun this cell to show the HTML representation or trust the notebook. <br />On GitHub, the HTML representation is unable to render, please try loading this page with nbviewer.org.</b></div><div class=\"sk-container\" hidden><div class=\"sk-item\"><div class=\"sk-estimator sk-toggleable\"><input class=\"sk-toggleable__control sk-hidden--visually\" id=\"sk-estimator-id-1\" type=\"checkbox\" checked><label for=\"sk-estimator-id-1\" class=\"sk-toggleable__label sk-toggleable__label-arrow\">DecisionTreeClassifier</label><div class=\"sk-toggleable__content\"><pre>DecisionTreeClassifier(max_depth=15, random_state=42)</pre></div></div></div></div></div>"
      ],
      "text/plain": [
       "DecisionTreeClassifier(max_depth=15, random_state=42)"
      ]
     },
     "execution_count": 15,
     "metadata": {},
     "output_type": "execute_result"
    }
   ],
   "source": [
    "dt_clf_0 = grid_test(\"X_zero\", X_zero_train, y_train, True)\n",
    "dt_clf_0.fit(X_zero_train, y_train)\n",
    "\n",
    "dt_clf_mean = grid_test(\"X_mean\", X_mean_train, y_train, True)\n",
    "dt_clf_mean.fit(X_mean_train, y_train)\n",
    "\n",
    "dt_clf_drop = grid_test(\"X_drop\", X_drop_train, y_train, True)\n",
    "dt_clf_drop.fit(X_drop_train, y_train)"
   ]
  },
  {
   "attachments": {},
   "cell_type": "markdown",
   "metadata": {},
   "source": [
    "### 6. Conclusie"
   ]
  },
  {
   "attachments": {},
   "cell_type": "markdown",
   "metadata": {},
   "source": [
    "We zien geen grote verschillen tussen de verschillende DecisionTreeClassifiers. Het model getrained met de X_drop (waar de features met NaN-waarden gedropped zijn) heeft net iets betere resultaten dan de andere X'en (X_zero en X_mean). Na het droppen van de features met weinig importance was er een zeer lichte daling in recall en accuracy bij de DecisionTreeClassifier met X_drop."
   ]
  },
  {
   "attachments": {},
   "cell_type": "markdown",
   "metadata": {},
   "source": [
    "### 7. Verdere stappen"
   ]
  },
  {
   "attachments": {},
   "cell_type": "markdown",
   "metadata": {},
   "source": [
    "- Nu ga ik aan de slag met de data, ik zal modellen trainen per soort (DecisionTree models & Andere soorten).\n",
    "- Per onderdeel wordt er ook getest of scaling de resultaten verbeterd of niet\n",
    "- Daarna zal ik tonen hoe goed (of slecht) het model het deed op de 5% achtergehouden data"
   ]
  },
  {
   "attachments": {},
   "cell_type": "markdown",
   "metadata": {},
   "source": [
    "## Imports, data inladen en opsplitsen\n",
    "\n",
    "---"
   ]
  },
  {
   "cell_type": "code",
   "execution_count": 2,
   "metadata": {},
   "outputs": [],
   "source": [
    "import pandas as pd\n",
    "import numpy as np\n",
    "import matplotlib.pyplot as plt\n",
    "import sklearn\n",
    "import pickle\n",
    "from sklearn.model_selection import train_test_split, GridSearchCV, cross_val_predict, cross_val_score\n",
    "from sklearn.preprocessing import StandardScaler\n",
    "from sklearn.tree import DecisionTreeClassifier\n",
    "from sklearn.pipeline import Pipeline\n",
    "from sklearn.ensemble import BaggingClassifier, RandomForestClassifier, GradientBoostingClassifier, AdaBoostClassifier, VotingClassifier, StackingClassifier\n",
    "from sklearn.metrics import accuracy_score, confusion_matrix, precision_score, recall_score, f1_score, classification_report, mean_squared_error, ConfusionMatrixDisplay\n",
    "from sklearn.linear_model import LogisticRegression\n",
    "from sklearn.svm import LinearSVC\n",
    "from sklearn.neighbors import KNeighborsClassifier\n",
    "import warnings\n",
    "warnings.filterwarnings('ignore')"
   ]
  },
  {
   "cell_type": "code",
   "execution_count": 3,
   "metadata": {},
   "outputs": [
    {
     "name": "stdout",
     "output_type": "stream",
     "text": [
      "(51187, 20) (12797, 20) (51187,) (12797,)\n"
     ]
    }
   ],
   "source": [
    "df = pd.read_csv('./data/weblogs1.csv')\n",
    "\n",
    "df = df.drop(['ID', 'STANDARD_DEVIATION', 'SF_REFERRER', 'SF_FILETYPE', 'OTHER_METHOD', 'POST_METHOD', 'HEAD_METHOD', 'HTTP_RESPONSE_3XX',  'HTTP_RESPONSE_4XX', 'HTTP_RESPONSE_5XX','REPEATED_REQUESTS'], axis=1)\n",
    "X = df.drop(['ROBOT'], axis=1)\n",
    "y = df['ROBOT']\n",
    "\n",
    "X_train, X_test, y_train, y_test = train_test_split(X, y, test_size=0.2, random_state=42)\n",
    "\n",
    "print(X_train.shape, X_test.shape, y_train.shape, y_test.shape)\n",
    "\n",
    "scaler = StandardScaler()"
   ]
  },
  {
   "attachments": {},
   "cell_type": "markdown",
   "metadata": {},
   "source": [
    "## DecisionTree Modellen\n",
    "---\n",
    "\n",
    "Alleen Scaling getest op DecisionTreeClassifier en heb het niet getest op de andere modellen omdat de resultaten verminderden.\n",
    "\n",
    "1. DecisionTreeClassifier\n",
    "2. BaggingClassifier zonder OOB\n",
    "3. BaggingClassifier met OOB\n",
    "4. AdaBoostClassifier\n",
    "5. GradientBoostingClassifier\n",
    "6. RandomForestClassifier\n",
    "7. VotingClassifier\n",
    "8. StackingClassifier\n",
    "\n",
    "---"
   ]
  },
  {
   "attachments": {},
   "cell_type": "markdown",
   "metadata": {},
   "source": [
    "### 1. DecisionTreeClassifier"
   ]
  },
  {
   "attachments": {},
   "cell_type": "markdown",
   "metadata": {},
   "source": [
    "##### 1.0 Parameters"
   ]
  },
  {
   "attachments": {},
   "cell_type": "markdown",
   "metadata": {},
   "source": [
    "max_depth:\n",
    "\n",
    "- Voordelen: voorkomen van overfitting en het bevorderen van generalisatie.\n",
    "- Nadelen: Een te hoge waarde kan leiden tot overcomplicatie van het model, terwijl een te lage waarde kan resulteren in een te eenvoudige boom die mogelijk niet goed generaliseert.\n",
    "\n",
    "min_samples_leaf:\n",
    "\n",
    "- Voordelen: minimum aantal samples dat vereist is om een leafnode (heeft geen kinderen) te vormen. Het helpt overfitting te verminderen door ervoor te zorgen dat er genoeg samples in elk leafnode zijn om betrouwbare voorspellingen te doen.\n",
    "- Nadelen: Een te hoge waarde kan leiden tot onderfitting, waarbij de boom te eenvoudig wordt en niet in staat is om complexe patronen in de gegevens vast te leggen.\n",
    "\n",
    "min_samples_split:\n",
    "\n",
    "- Voordelen: Bepaalt het minimum aantal samples dat vereist is om een interne node te splitsen tijdens het bouwen van de boom. Het helpt overfitting te voorkomen door te voorkomen dat nodes worden gesplitst als er te weinig monsters zijn.\n",
    "- Nadelen: Een te hoge waarde kan leiden tot onderfitting, waarbij de boom te weinig splitsingen maakt en mogelijk niet goed genoeg leert van de gegevens."
   ]
  },
  {
   "attachments": {},
   "cell_type": "markdown",
   "metadata": {},
   "source": [
    "##### 1.1 Zonder scaling\n",
    "---"
   ]
  },
  {
   "cell_type": "code",
   "execution_count": 4,
   "metadata": {},
   "outputs": [
    {
     "name": "stdout",
     "output_type": "stream",
     "text": [
      "{'max_depth': 27, 'min_samples_leaf': 2, 'min_samples_split': 2}\n",
      "\n",
      "\n",
      "0.9748378526217082\n",
      "\n",
      "\n",
      "              precision    recall  f1-score   support\n",
      "\n",
      "           0       0.98      0.99      0.98     10337\n",
      "           1       0.95      0.92      0.93      2460\n",
      "\n",
      "    accuracy                           0.97     12797\n",
      "   macro avg       0.97      0.95      0.96     12797\n",
      "weighted avg       0.97      0.97      0.97     12797\n",
      "\n",
      "\n",
      "\n"
     ]
    },
    {
     "data": {
      "text/plain": [
       "<sklearn.metrics._plot.confusion_matrix.ConfusionMatrixDisplay at 0x21bb90c4f10>"
      ]
     },
     "execution_count": 4,
     "metadata": {},
     "output_type": "execute_result"
    },
    {
     "data": {
      "image/png": "[encoded data removed]",
      "text/plain": [
       "<Figure size 640x480 with 2 Axes>"
      ]
     },
     "metadata": {},
     "output_type": "display_data"
    }
   ],
   "source": [
    "# duurt 5 minuten 16 seconden om te runnen (10 CPU-cores)\n",
    "\n",
    "param_grid_dtc = {'max_depth': np.arange(15, 35), 'min_samples_split': np.arange(2, 20, 2), 'min_samples_leaf': np.arange(1, 10)}\n",
    "\n",
    "grid_search_dtc = GridSearchCV(DecisionTreeClassifier(random_state=42), param_grid=param_grid_dtc, cv=5, scoring='precision', return_train_score=True, n_jobs=-1)\n",
    "\n",
    "grid_search_dtc.fit(X_train, y_train)\n",
    "\n",
    "print(grid_search_dtc.best_params_)\n",
    "print(\"\\n\")\n",
    "\n",
    "dt_clf = grid_search_dtc.best_estimator_\n",
    "\n",
    "dt_clf.fit(X_train, y_train)\n",
    "\n",
    "y_pred_dtc = dt_clf.predict(X_test)\n",
    "\n",
    "print(accuracy_score(y_test, y_pred_dtc))\n",
    "print(\"\\n\")\n",
    "print(classification_report(y_test, y_pred_dtc))\n",
    "print(\"\\n\")\n",
    "\n",
    "cm = np.round(confusion_matrix(y_test, y_pred_dtc, normalize='true'), 2)\n",
    "disp = ConfusionMatrixDisplay(confusion_matrix=cm, display_labels=['Human', 'Robot'])\n",
    "disp.plot()"
   ]
  },
  {
   "cell_type": "code",
   "execution_count": 8,
   "metadata": {},
   "outputs": [],
   "source": [
    "filename = './main_models2/dt_clf.sav'\n",
    "pickle.dump(dt_clf, open(filename, 'wb'))"
   ]
  },
  {
   "attachments": {},
   "cell_type": "markdown",
   "metadata": {},
   "source": [
    "##### 1.2 Met scaling\n",
    "---"
   ]
  },
  {
   "cell_type": "code",
   "execution_count": 7,
   "metadata": {},
   "outputs": [
    {
     "name": "stdout",
     "output_type": "stream",
     "text": [
      "{'max_depth': 16, 'min_samples_leaf': 3, 'min_samples_split': 16}\n",
      "0.9771040087520513\n",
      "\n",
      "              precision    recall  f1-score   support\n",
      "\n",
      "           0       0.99      0.99      0.99     10337\n",
      "           1       0.94      0.94      0.94      2460\n",
      "\n",
      "    accuracy                           0.98     12797\n",
      "   macro avg       0.96      0.96      0.96     12797\n",
      "weighted avg       0.98      0.98      0.98     12797\n",
      "\n"
     ]
    },
    {
     "data": {
      "text/plain": [
       "<sklearn.metrics._plot.confusion_matrix.ConfusionMatrixDisplay at 0x21bb8d98390>"
      ]
     },
     "execution_count": 7,
     "metadata": {},
     "output_type": "execute_result"
    },
    {
     "data": {
      "image/png": "[encoded data removed]",
      "text/plain": [
       "<Figure size 640x480 with 2 Axes>"
      ]
     },
     "metadata": {},
     "output_type": "display_data"
    }
   ],
   "source": [
    "# duurt 5 minuten 9 seconden om te runnen (10 CPU-cores)\n",
    "\n",
    "dt_clf_scaled = DecisionTreeClassifier(random_state=42)\n",
    "\n",
    "pipeline = Pipeline([\n",
    "    ('scaler', scaler),\n",
    "    ('gs_dt_clf_scaled', GridSearchCV(dt_clf_scaled, param_grid=param_grid_dtc, cv=5, n_jobs=-1, scoring='precision', return_train_score=True)),\n",
    "])\n",
    "\n",
    "pipeline.fit(X_train, y_train)\n",
    "\n",
    "print(pipeline['gs_dt_clf_scaled'].best_params_)\n",
    "\n",
    "dt_clf_scaled = pipeline['gs_dt_clf_scaled'].best_estimator_\n",
    "\n",
    "dt_clf_scaled.fit(X_train, y_train)\n",
    "\n",
    "y_pred_dtc_scaled = dt_clf_scaled.predict(X_test)\n",
    "\n",
    "print(f\"{accuracy_score(y_test, y_pred_dtc_scaled)}\\n\")\n",
    "\n",
    "print(classification_report(y_test, y_pred_dtc_scaled))\n",
    "\n",
    "cm = np.round(confusion_matrix(y_test, y_pred_dtc_scaled, normalize='true'), 2)\n",
    "disp = ConfusionMatrixDisplay(confusion_matrix=cm, display_labels=['Human', 'Robot'])\n",
    "disp.plot()"
   ]
  },
  {
   "cell_type": "code",
   "execution_count": 9,
   "metadata": {},
   "outputs": [],
   "source": [
    "filename = './main_models2/dt_clf_scaled.sav'\n",
    "pickle.dump(dt_clf_scaled, open(filename, 'wb'))"
   ]
  },
  {
   "attachments": {},
   "cell_type": "markdown",
   "metadata": {},
   "source": [
    "##### 1.3 Test op 5% achtergehouden data\n",
    "---"
   ]
  },
  {
   "attachments": {},
   "cell_type": "markdown",
   "metadata": {},
   "source": [
    "**Niet gescaled**\n",
    "\n",
    "---\n",
    "\n",
    "76.28% Human | 23.72% Robot\n",
    "\n",
    "Accuracy: 96.85%\n",
    "\n",
    "Classification report:\n",
    "```\n",
    "               precision    recall  f1-score   support\n",
    "\n",
    "           0       0.97      0.99      0.98      2531\n",
    "           1       0.96      0.91      0.94       837\n",
    "```\n",
    "\n",
    "Confusion matrix:\n",
    "```\n",
    "[[0.99 0.01]\n",
    " [0.09 0.91]]\n",
    "```\n",
    "\n",
    "**Gescaled**\n",
    "\n",
    "---\n",
    "\n",
    "64.10% Human | 35.90% Robot\n",
    "\n",
    "Accuracy: 86.76%\n",
    "\n",
    "Classification report:\n",
    "```\n",
    "               precision    recall  f1-score   support\n",
    "\n",
    "           0       0.98      0.84      0.90      2531\n",
    "           1       0.66      0.96      0.78       837\n",
    "```\n",
    "\n",
    "Confusion matrix:\n",
    "```\n",
    "[[0.84 0.16]\n",
    " [0.04 0.96]]\n",
    "```"
   ]
  },
  {
   "attachments": {},
   "cell_type": "markdown",
   "metadata": {},
   "source": [
    "##### 1.4 Conclusie\n",
    "\n",
    "---"
   ]
  },
  {
   "attachments": {},
   "cell_type": "markdown",
   "metadata": {},
   "source": [
    "Scaling gaf betere test results, maar op de 5% achtergehouden data was het model zonder scaling beter."
   ]
  },
  {
   "attachments": {},
   "cell_type": "markdown",
   "metadata": {},
   "source": [
    "### 2. BaggingClassifier zonder OOB"
   ]
  },
  {
   "attachments": {},
   "cell_type": "markdown",
   "metadata": {},
   "source": [
    "##### 2.0 Parameters"
   ]
  },
  {
   "attachments": {},
   "cell_type": "markdown",
   "metadata": {},
   "source": [
    "**n_estimators:**\n",
    "\n",
    "- Voordelen: Verhoogt de diversiteit en robuustheid van de ensemble door meer base estimators toe te voegen.\n",
    "- Nadelen: Kan leiden tot een langere trainingsduur en hoger geheugengebruik naarmate het aantal estimators toeneemt.\n",
    "\n",
    "**max_samples:**\n",
    "\n",
    "- Voordelen: Controleert het aantal samples dat wordt gebruikt om elke base estimator te trainen, waardoor de variabiliteit van de ensemble wordt vergroot.\n",
    "- Nadelen: Een te laag aantal kan resulteren in een gebrek aan representativiteit van de gegevens, terwijl een te hoog aantal kan leiden tot redundantie en geen extra diversiteit biedt.\n",
    "\n",
    "**bootstrap:**\n",
    "\n",
    "- Voordelen: Stelt toe dat samples met vervanging worden gebruikt bij het trainen van elke base estimator, waardoor variabiliteit in de dataset wordt geïntroduceerd.\n",
    "- Nadelen: Zonder vervanging (bootstrap=False) kunnen sommige samples worden gemist, wat de diversiteit van de ensemble kan verminderen.\n",
    "\n",
    "**bootstrap_features:**\n",
    "\n",
    "- Voordelen: Hiermee kunnen features met vervanging worden gebruikt bij het trainen van elke base estimator, wat kan helpen bij het introduceren van variabiliteit in de featureselectie.\n",
    "- Nadelen: Zonder vervanging (bootstrap_features=False) kan het model beperkt zijn tot een specifieke subset van features, wat de diversiteit van de ensemble kan verminderen."
   ]
  },
  {
   "attachments": {},
   "cell_type": "markdown",
   "metadata": {},
   "source": [
    "##### 2.1 Zonder scaling\n",
    "---"
   ]
  },
  {
   "cell_type": "code",
   "execution_count": 10,
   "metadata": {},
   "outputs": [
    {
     "name": "stdout",
     "output_type": "stream",
     "text": [
      "{'bootstrap': True, 'bootstrap_features': True, 'max_samples': 32000, 'n_estimators': 50}\n",
      "\n",
      "\n",
      "0.9798390247714308\n",
      "\n",
      "\n",
      "              precision    recall  f1-score   support\n",
      "\n",
      "           0       0.99      0.99      0.99     10337\n",
      "           1       0.96      0.94      0.95      2460\n",
      "\n",
      "    accuracy                           0.98     12797\n",
      "   macro avg       0.97      0.96      0.97     12797\n",
      "weighted avg       0.98      0.98      0.98     12797\n",
      "\n"
     ]
    },
    {
     "data": {
      "text/plain": [
       "<sklearn.metrics._plot.confusion_matrix.ConfusionMatrixDisplay at 0x21bb8917ad0>"
      ]
     },
     "execution_count": 10,
     "metadata": {},
     "output_type": "execute_result"
    },
    {
     "data": {
      "image/png": "[encoded data removed]",
      "text/plain": [
       "<Figure size 640x480 with 2 Axes>"
      ]
     },
     "metadata": {},
     "output_type": "display_data"
    }
   ],
   "source": [
    "param_grid_bag = {'n_estimators': [30, 40, 50, 60], 'max_samples': [30000, 31000, 32000, 33000, 34000, 35000], 'bootstrap': [True, False], 'bootstrap_features': [True, False]}\n",
    "\n",
    "grid_search_bag = GridSearchCV(BaggingClassifier(DecisionTreeClassifier(random_state=42), random_state=42), param_grid=param_grid_bag, cv=5, scoring='precision', return_train_score=True, n_jobs=-1)\n",
    "\n",
    "grid_search_bag.fit(X_train, y_train)\n",
    "\n",
    "print(grid_search_bag.best_params_)\n",
    "print(\"\\n\")\n",
    "\n",
    "bag_clf = grid_search_bag.best_estimator_\n",
    "\n",
    "bag_clf.fit(X_train, y_train)\n",
    "\n",
    "y_pred_bc = bag_clf.predict(X_test)\n",
    "\n",
    "print(accuracy_score(y_test, y_pred_bc))\n",
    "print(\"\\n\")\n",
    "print(classification_report(y_test, y_pred_bc))\n",
    "\n",
    "cm = np.round(confusion_matrix(y_test, y_pred_bc, normalize='true'), 2)\n",
    "disp = ConfusionMatrixDisplay(confusion_matrix=cm, display_labels=['Human', 'Robot'])\n",
    "disp.plot()"
   ]
  },
  {
   "attachments": {},
   "cell_type": "markdown",
   "metadata": {},
   "source": [
    "##### 2.2 Test op 5% achtergehouden data"
   ]
  },
  {
   "attachments": {},
   "cell_type": "markdown",
   "metadata": {},
   "source": [
    "75.98% Human | 24.02% Robot\n",
    "\n",
    "Accuracy: 97.15%\n",
    "\n",
    "Classification report:\n",
    "```\n",
    "               precision    recall  f1-score   support\n",
    "\n",
    "           0       0.98      0.99      0.98      2531\n",
    "           1       0.96      0.93      0.94       837\n",
    "```\n",
    "\n",
    "Confusion matrix:\n",
    "```\n",
    "[[0.99 0.01]\n",
    " [0.07 0.93]]\n",
    "```"
   ]
  },
  {
   "cell_type": "code",
   "execution_count": 12,
   "metadata": {},
   "outputs": [],
   "source": [
    "filename = './main_models2/bag_clf.sav'\n",
    "pickle.dump(bag_clf, open(filename, 'wb'))"
   ]
  },
  {
   "attachments": {},
   "cell_type": "markdown",
   "metadata": {},
   "source": [
    "### 3. BaggingClassifier met OOB"
   ]
  },
  {
   "attachments": {},
   "cell_type": "markdown",
   "metadata": {},
   "source": [
    "##### 3.0 Parameters"
   ]
  },
  {
   "attachments": {},
   "cell_type": "markdown",
   "metadata": {},
   "source": [
    "**OOB_score:**\n",
    "\n",
    "- Voordelen: OOB-score biedt een schatting van de prestaties van het ensemble op ongeziene gegevens zonder dat er een aparte validatieset nodig is.\n",
    "- Nadelen: OOB-score is een schatting en kan minder betrouwbaar zijn dan een aparte validatieset."
   ]
  },
  {
   "attachments": {},
   "cell_type": "markdown",
   "metadata": {},
   "source": [
    "##### 3.1 Zonder scaling\n",
    "---"
   ]
  },
  {
   "cell_type": "code",
   "execution_count": 11,
   "metadata": {},
   "outputs": [
    {
     "name": "stdout",
     "output_type": "stream",
     "text": [
      "{'max_samples': 17000, 'n_estimators': 36}\n",
      "\n",
      "\n",
      "0.9783343427042023\n",
      "\n",
      "\n",
      "0.9799953114011096\n",
      "\n",
      "\n",
      "              precision    recall  f1-score   support\n",
      "\n",
      "           0       0.99      0.99      0.99     10337\n",
      "           1       0.95      0.95      0.95      2460\n",
      "\n",
      "    accuracy                           0.98     12797\n",
      "   macro avg       0.97      0.97      0.97     12797\n",
      "weighted avg       0.98      0.98      0.98     12797\n",
      "\n"
     ]
    },
    {
     "data": {
      "text/plain": [
       "<sklearn.metrics._plot.confusion_matrix.ConfusionMatrixDisplay at 0x21bb95f2f10>"
      ]
     },
     "execution_count": 11,
     "metadata": {},
     "output_type": "execute_result"
    },
    {
     "data": {
      "image/png": "[encoded data removed]",
      "text/plain": [
       "<Figure size 640x480 with 2 Axes>"
      ]
     },
     "metadata": {},
     "output_type": "display_data"
    }
   ],
   "source": [
    "# 2 minuten om te runnen (10 CPU-cores)\n",
    "\n",
    "param_grid_bag_oob = {'n_estimators': np.arange(30, 46, 2), 'max_samples': [13000, 14000, 15000, 16000, 17000, 18000]}\n",
    "\n",
    "grid_search_bag_oob = GridSearchCV(BaggingClassifier(DecisionTreeClassifier(random_state=42), random_state=42, oob_score=True), param_grid=param_grid_bag_oob, cv=5, scoring='precision', return_train_score=True, n_jobs=-1)\n",
    "\n",
    "grid_search_bag_oob.fit(X_train, y_train)\n",
    "\n",
    "print(grid_search_bag_oob.best_params_)\n",
    "print(\"\\n\")\n",
    "\n",
    "bag_clf_oob = grid_search_bag_oob.best_estimator_\n",
    "\n",
    "bag_clf_oob.fit(X_train, y_train)\n",
    "\n",
    "print(bag_clf_oob.oob_score_)\n",
    "\n",
    "y_pred_oob = bag_clf_oob.predict(X_test)\n",
    "\n",
    "print('\\n')\n",
    "print(accuracy_score(y_test, y_pred_oob))\n",
    "print(\"\\n\")\n",
    "print(classification_report(y_test, y_pred_oob))\n",
    "\n",
    "cm = np.round(confusion_matrix(y_test, y_pred_oob, normalize='true'), 2)\n",
    "disp = ConfusionMatrixDisplay(confusion_matrix=cm, display_labels=['Human', 'Robot'])\n",
    "disp.plot()"
   ]
  },
  {
   "cell_type": "code",
   "execution_count": 13,
   "metadata": {},
   "outputs": [],
   "source": [
    "filename = './main_models2/bag_clf_oob.sav'\n",
    "pickle.dump(bag_clf_oob, open(filename, 'wb'))"
   ]
  },
  {
   "attachments": {},
   "cell_type": "markdown",
   "metadata": {},
   "source": [
    "##### 3.3 Test op 5% achtergehouden data\n",
    "---"
   ]
  },
  {
   "attachments": {},
   "cell_type": "markdown",
   "metadata": {},
   "source": [
    "75.65% Human | 24.35% Robot\n",
    "\n",
    "Accuracy: 97.00%\n",
    "\n",
    "Classification report:\n",
    "```\n",
    "               precision    recall  f1-score   support\n",
    "\n",
    "           0       0.98      0.98      0.98      2531\n",
    "           1       0.95      0.93      0.94       837\n",
    "```\n",
    "\n",
    "Confusion matrix:\n",
    "\n",
    "```\n",
    "[[0.98 0.02]\n",
    " [0.07 0.93]]\n",
    "```"
   ]
  },
  {
   "attachments": {},
   "cell_type": "markdown",
   "metadata": {},
   "source": [
    "### 4. AdaBoostClassifier"
   ]
  },
  {
   "attachments": {},
   "cell_type": "markdown",
   "metadata": {},
   "source": [
    "##### 4.0 Parameters"
   ]
  },
  {
   "attachments": {},
   "cell_type": "markdown",
   "metadata": {},
   "source": [
    "**algorithm:**\n",
    "\n",
    "- SAMME:\n",
    "    - Voordelen: Werkt goed voor klassen met een discreet en eindig aantal uitkomsten.\n",
    "    - Nadelen: Kan slecht presteren als er een groot aantal klassen zijn of als de classificatieproblemen complex zijn.\n",
    "- SAMME.R:\n",
    "    - Voordelen: Gebruikt class probabilities in plaats van binaire voorspellingen, wat kan leiden tot betere prestaties.\n",
    "    - Nadelen: Kan meer rekenkracht en geheugen vereisen in vergelijking met SAMME.\n",
    "\n",
    "**learning_rate:**\n",
    "\n",
    "- Voordelen: Het biedt controle over de bijdrage van elke classifier, waardoor fijnafstemming van de ensemble-output mogelijk is.\n",
    "- Nadelen: Een te hoge learning_rate kan overfitting veroorzaken als het niet goed wordt afgestemd.\n",
    "\n",
    "**n_estimators:**\n",
    "\n",
    "- Voordelen: Een hoger aantal estimators kan de flexibiliteit en prestaties van het ensemble verbeteren.\n",
    "- Nadelen: Een te hoog aantal estimators kan de trainingsduur verlengen en overfitting veroorzaken als het niet nodig is."
   ]
  },
  {
   "attachments": {},
   "cell_type": "markdown",
   "metadata": {},
   "source": [
    "##### 4.1 Zonder scaling\n",
    "---"
   ]
  },
  {
   "cell_type": "code",
   "execution_count": 4,
   "metadata": {},
   "outputs": [
    {
     "name": "stdout",
     "output_type": "stream",
     "text": [
      "{'algorithm': 'SAMME.R', 'learning_rate': 0.5, 'n_estimators': 2}\n",
      "\n",
      "\n",
      "0.9756192857701024\n",
      "\n",
      "              precision    recall  f1-score   support\n",
      "\n",
      "           0       0.98      0.99      0.98     10337\n",
      "           1       0.96      0.91      0.94      2460\n",
      "\n",
      "    accuracy                           0.98     12797\n",
      "   macro avg       0.97      0.95      0.96     12797\n",
      "weighted avg       0.98      0.98      0.98     12797\n",
      "\n"
     ]
    },
    {
     "data": {
      "text/plain": [
       "<sklearn.metrics._plot.confusion_matrix.ConfusionMatrixDisplay at 0x2acd01b3610>"
      ]
     },
     "execution_count": 4,
     "metadata": {},
     "output_type": "execute_result"
    },
    {
     "data": {
      "image/png": "[encoded data removed]",
      "text/plain": [
       "<Figure size 640x480 with 2 Axes>"
      ]
     },
     "metadata": {},
     "output_type": "display_data"
    }
   ],
   "source": [
    "# 7 minuten en 9 seconden om te runnen (10 CPU-cores)\n",
    "\n",
    "grid_search_ada = GridSearchCV(AdaBoostClassifier(DecisionTreeClassifier(random_state=42), random_state=42), param_grid={'n_estimators': np.arange(1, 30), 'learning_rate': [0.1, 0.5, 1, 2], 'algorithm': ['SAMME.R']}, cv=5, scoring='precision', return_train_score=True, n_jobs=-1)\n",
    "\n",
    "grid_search_ada.fit(X_train, y_train)\n",
    "\n",
    "print(grid_search_ada.best_params_)\n",
    "print(\"\\n\")\n",
    "\n",
    "ada_clf = grid_search_ada.best_estimator_\n",
    "ada_clf.fit(X_train, y_train)\n",
    "\n",
    "y_pred_ada = ada_clf.predict(X_test)\n",
    "print(f\"{accuracy_score(y_test, y_pred_ada)}\\n\")\n",
    "\n",
    "print(classification_report(y_test, y_pred_ada))\n",
    "\n",
    "cm = np.round(confusion_matrix(y_test, y_pred_ada, normalize='true'), 2)\n",
    "\n",
    "disp = ConfusionMatrixDisplay(confusion_matrix=cm, display_labels=['Human', 'Robot'])\n",
    "disp.plot()"
   ]
  },
  {
   "cell_type": "code",
   "execution_count": 8,
   "metadata": {},
   "outputs": [],
   "source": [
    "filename = './main_models2/ada_clf.sav'\n",
    "pickle.dump(ada_clf, open(filename, 'wb'))"
   ]
  },
  {
   "attachments": {},
   "cell_type": "markdown",
   "metadata": {},
   "source": [
    "##### 4.2 Test op 5% achtergehouden data\n",
    "---"
   ]
  },
  {
   "attachments": {},
   "cell_type": "markdown",
   "metadata": {},
   "source": [
    "76.78% Human | 23.22% Robot\n",
    "\n",
    "Accuracy: 96.47%\n",
    "\n",
    "Classification report:\n",
    "```\n",
    "               precision    recall  f1-score   support\n",
    "\n",
    "           0       0.97      0.99      0.98      2531\n",
    "           1       0.96      0.90      0.93       837\n",
    "```\n",
    "\n",
    "Confusion matrix:\n",
    "```\n",
    "[[0.99 0.01]\n",
    " [0.1  0.9 ]]\n",
    "```"
   ]
  },
  {
   "attachments": {},
   "cell_type": "markdown",
   "metadata": {},
   "source": [
    "### 5. GradientBoostingClassifier"
   ]
  },
  {
   "attachments": {},
   "cell_type": "markdown",
   "metadata": {},
   "source": [
    "##### 5.0 Parameters"
   ]
  },
  {
   "attachments": {},
   "cell_type": "markdown",
   "metadata": {},
   "source": [
    "**n_estimators:**\n",
    "\n",
    "- Voordelen: Een groter aantal boosting stages kan leiden tot betere prestaties en een hogere nauwkeurigheid van het model. Het kan ook robuust zijn tegen overfitting.\n",
    "- Nadelen: Een te groot aantal boosting stages kan de trainingsduur verlengen.\n",
    "\n",
    "**learning_rate:**\n",
    "\n",
    "- Voordelen: Door de bijdrage van elke boom te verkleinen met de learning_rate, kan het model meer geleidelijk leren en de impact van individuele bomen verminderen. Dit kan helpen bij het reguleren van het leerproces en overfitting voorkomen.\n",
    "- Nadelen: Een te kleine learning_rate kan leiden tot langzamer leren en mogelijk vereisen dat er meer boosting stages nodig zijn om de gewenste prestaties te bereiken.\n",
    "\n",
    "**max_depth:**\n",
    "\n",
    "- Voordelen: Het beperken van de maximale diepte van de knopen in de boom kan helpen bij het voorkomen van overfitting en het reguleren van de complexiteit van het model.\n",
    "- Nadelen: Een te beperkte max_depth kan resulteren in onderfitting, waarbij het model niet voldoende complexiteit heeft om de gegevens goed te modelleren."
   ]
  },
  {
   "attachments": {},
   "cell_type": "markdown",
   "metadata": {},
   "source": [
    "##### 5.1 Zonder scaling\n",
    "---"
   ]
  },
  {
   "cell_type": "code",
   "execution_count": 5,
   "metadata": {},
   "outputs": [
    {
     "name": "stdout",
     "output_type": "stream",
     "text": [
      "{'learning_rate': 1, 'max_depth': 17, 'n_estimators': 220}\n",
      "\n",
      "\n",
      "Best n_esimators: 146\n",
      "\n",
      "0.9803078846604673\n",
      "\n",
      "              precision    recall  f1-score   support\n",
      "\n",
      "           0       0.99      0.99      0.99     10337\n",
      "           1       0.96      0.94      0.95      2460\n",
      "\n",
      "    accuracy                           0.98     12797\n",
      "   macro avg       0.97      0.97      0.97     12797\n",
      "weighted avg       0.98      0.98      0.98     12797\n",
      "\n"
     ]
    },
    {
     "data": {
      "text/plain": [
       "<sklearn.metrics._plot.confusion_matrix.ConfusionMatrixDisplay at 0x2acd1f5bad0>"
      ]
     },
     "execution_count": 5,
     "metadata": {},
     "output_type": "execute_result"
    },
    {
     "data": {
      "image/png": "[encoded data removed]",
      "text/plain": [
       "<Figure size 640x480 with 2 Axes>"
      ]
     },
     "metadata": {},
     "output_type": "display_data"
    }
   ],
   "source": [
    "# 156 minuten en 37 seconden om te runnen (10 CPU-cores)\n",
    "\n",
    "param_grid_gradient = {'n_estimators': [190, 200, 210, 220], 'learning_rate': [0.1, 0.5, 1, 2], 'max_depth': np.arange(1, 20) }\n",
    "\n",
    "grid_search_gradient = GridSearchCV(GradientBoostingClassifier(random_state=42), param_grid=param_grid_gradient, cv=5, scoring='precision', return_train_score=True, n_jobs=-1)\n",
    "\n",
    "grid_search_gradient.fit(X_train, y_train)\n",
    "\n",
    "print(grid_search_gradient.best_params_)\n",
    "print(\"\\n\")\n",
    "\n",
    "gbrt = grid_search_gradient.best_estimator_\n",
    "gbrt.fit(X_train, y_train)\n",
    "\n",
    "errors_gbrt = [mean_squared_error(y_test, y_pred) for y_pred in gbrt.staged_predict(X_test)]\n",
    "\n",
    "best_n_estimators = np.argmin(errors_gbrt) + 1\n",
    "print(f\"Best n_esimators: {best_n_estimators}\\n\")\n",
    "\n",
    "gbrt_best = GradientBoostingClassifier(random_state=42, n_estimators=best_n_estimators, learning_rate=grid_search_gradient.best_params_['learning_rate'], max_depth=grid_search_gradient.best_params_['max_depth'])\n",
    "gbrt_best.fit(X_train, y_train)\n",
    "\n",
    "y_pred_gbrt = gbrt_best.predict(X_test)\n",
    "\n",
    "print(f\"{accuracy_score(y_test, y_pred_gbrt)}\\n\")\n",
    "\n",
    "print(classification_report(y_test, y_pred_gbrt))\n",
    "\n",
    "cm = np.round(confusion_matrix(y_test, y_pred_gbrt, normalize='true'), 2)\n",
    "disp = ConfusionMatrixDisplay(confusion_matrix=cm, display_labels=['Human', 'Robot'])\n",
    "disp.plot()"
   ]
  },
  {
   "cell_type": "code",
   "execution_count": 9,
   "metadata": {},
   "outputs": [],
   "source": [
    "filename2 = './main_models2/gbrt_best.sav'\n",
    "pickle.dump(gbrt_best, open(filename2, 'wb'))"
   ]
  },
  {
   "attachments": {},
   "cell_type": "markdown",
   "metadata": {},
   "source": [
    "##### 5.2 Test op 5% achtergehouden data\n",
    "---"
   ]
  },
  {
   "attachments": {},
   "cell_type": "markdown",
   "metadata": {},
   "source": [
    "76.07% Human | 23.93% Robot\n",
    "\n",
    "Accuracy: 97.36%\n",
    "\n",
    "Classification report:\n",
    "```\n",
    "               precision    recall  f1-score   support\n",
    "\n",
    "           0       0.98      0.99      0.98      2531\n",
    "           1       0.96      0.93      0.95       837\n",
    "```\n",
    "\n",
    "\n",
    "Confusion matrix:\n",
    "```\n",
    "[[0.99 0.01]\n",
    " [0.07 0.93]]\n",
    "```"
   ]
  },
  {
   "attachments": {},
   "cell_type": "markdown",
   "metadata": {},
   "source": [
    "### 6. RandomForestClassifier"
   ]
  },
  {
   "attachments": {},
   "cell_type": "markdown",
   "metadata": {},
   "source": [
    "##### 6.0 Parameters"
   ]
  },
  {
   "attachments": {},
   "cell_type": "markdown",
   "metadata": {},
   "source": [
    "**n_estimators:**\n",
    "\n",
    "- Voordelen: Een groter aantal estimators kan resulteren in een betere stabiliteit en robuustheid van het model, omdat het de variabiliteit in de ensemble verhoogt. Het kan ook de nauwkeurigheid van het model verbeteren.\n",
    "- Nadelen: Een te groot aantal estimators kan de trainings- en inferentietijd verlengen.\n",
    "\n",
    "**max_depth:**\n",
    "\n",
    "- Voordelen: Het beperken van de maximale diepte van de bomen kan overfitting helpen voorkomen en de complexiteit van het model reguleren. Het kan ook zorgen voor een betere generalisatie van het model.\n",
    "- Nadelen: Een te beperkte max_depth kan resulteren in onderfitting, waarbij het model niet voldoende complexiteit heeft om de gegevens goed te modelleren.\n",
    "\n",
    "**min_samples_leaf:**\n",
    "\n",
    "- Voordelen: Het instellen van een minimum aantal samples vereist in een blad van de boom kan helpen bij het reguleren van de groei van de bomen en overfitting voorkomen. Het kan ook de interpretatie van het model vergemakkelijken door de resulterende bomen eenvoudiger te maken.\n",
    "- Nadelen: Een te groot minimum aantal samples vereist in een blad kan leiden tot onderfitting, waarbij het model niet genoeg gedetailleerde beslissingsgrenzen kan leren.\n",
    "\n",
    "**min_samples_split:**\n",
    "\n",
    "- Voordelen: Het instellen van een minimum aantal samples vereist om een knoop te splitsen kan helpen bij het reguleren van de groei van de bomen en overfitting voorkomen. Het kan ook de interpretatie van het model vergemakkelijken door de resulterende bomen eenvoudiger te maken.\n",
    "- Nadelen: Een te groot minimum aantal samples vereist om een knoop te splitsen kan leiden tot onderfitting, waarbij het model niet genoeg gedetailleerde beslissingsgrenzen kan leren.\n",
    "\n",
    "**bootstrap [True, False]:**\n",
    "\n",
    "- bootstrap=True:\n",
    "    - Voordelen: Het gebruik van bootstrap-samples (met vervanging) kan de variabiliteit in de dataset verhogen, wat resulteert in diverse bomen in het ensemble. Dit kan de prestaties van het model verbeteren en het robuuster maken voor variaties in de gegevens.\n",
    "    - Nadelen: Het kan de trainings- en inferentietijd verlengen, omdat elke boom wordt getraind op een subset van de gegevens.\n",
    "\n",
    "\n",
    "- bootstrap=False:\n",
    "  - Voordelen: Het niet gebruiken van bootstrap-samples betekent dat elke boom wordt getraind op de volledige trainingsset zonder vervanging. Hierdoor kunnen de resulterende bomen lager gecorreleerd zijn en minder overfitting vertonen.\n",
    "  - Nadelen: Het kan de variabiliteit in de dataset verminderen, wat kan resulteren in minder diverse bomen en mogelijk een verminderde robuustheid van het model. Het kan ook de gevoeligheid voor ruis in de gegevens vergroten."
   ]
  },
  {
   "attachments": {},
   "cell_type": "markdown",
   "metadata": {},
   "source": [
    "##### 6.1 Zonder scaling\n",
    "---"
   ]
  },
  {
   "cell_type": "code",
   "execution_count": 7,
   "metadata": {},
   "outputs": [
    {
     "name": "stdout",
     "output_type": "stream",
     "text": [
      "{'bootstrap': False, 'max_depth': 25, 'min_samples_leaf': 2, 'min_samples_split': 2, 'n_estimators': 140}\n",
      "0.9801515980307884\n",
      "\n",
      "              precision    recall  f1-score   support\n",
      "\n",
      "           0       0.99      0.99      0.99     10337\n",
      "           1       0.95      0.95      0.95      2460\n",
      "\n",
      "    accuracy                           0.98     12797\n",
      "   macro avg       0.97      0.97      0.97     12797\n",
      "weighted avg       0.98      0.98      0.98     12797\n",
      "\n"
     ]
    },
    {
     "data": {
      "text/plain": [
       "<sklearn.metrics._plot.confusion_matrix.ConfusionMatrixDisplay at 0x2acd2146850>"
      ]
     },
     "execution_count": 7,
     "metadata": {},
     "output_type": "execute_result"
    },
    {
     "data": {
      "image/png": "[encoded data removed]",
      "text/plain": [
       "<Figure size 640x480 with 2 Axes>"
      ]
     },
     "metadata": {},
     "output_type": "display_data"
    }
   ],
   "source": [
    "# 37 minuten en 3 seconden om te runnen (10 CPU-cores)\n",
    "\n",
    "param_grid_rfc = {\n",
    "    'n_estimators': np.arange(100, 160, 10),\n",
    "    'max_depth': [15, 20, 25, 30, 35],\n",
    "    'min_samples_leaf' : [1, 2, 4],\n",
    "    'min_samples_split' : [2, 5, 10],\n",
    "    'bootstrap' : [True, False],\n",
    "}\n",
    "\n",
    "grid_search_rfc = GridSearchCV(RandomForestClassifier(random_state=42), param_grid=param_grid_rfc, cv=5, n_jobs=-1)\n",
    "\n",
    "grid_search_rfc.fit(X_train, y_train)\n",
    "\n",
    "print(grid_search_rfc.best_params_)\n",
    "\n",
    "rf_clf = grid_search_rfc.best_estimator_\n",
    "rf_clf.fit(X_train, y_train)\n",
    "\n",
    "y_pred_rfc = rf_clf.predict(X_test)\n",
    "print(f\"{accuracy_score(y_test, y_pred_rfc)}\\n\")\n",
    "\n",
    "print(classification_report(y_test, y_pred_rfc))\n",
    "\n",
    "cm = np.round(confusion_matrix(y_test, y_pred_rfc, normalize='true'), 2)\n",
    "\n",
    "disp = ConfusionMatrixDisplay(confusion_matrix=cm, display_labels=['Human', 'Robot'])\n",
    "disp.plot()"
   ]
  },
  {
   "cell_type": "code",
   "execution_count": 10,
   "metadata": {},
   "outputs": [],
   "source": [
    "filename3 = './main_models2/rf_clf.sav'\n",
    "pickle.dump(rf_clf, open(filename3, 'wb'))"
   ]
  },
  {
   "attachments": {},
   "cell_type": "markdown",
   "metadata": {},
   "source": [
    "##### 6.2 Test op 5% achtergehouden data\n",
    "---"
   ]
  },
  {
   "attachments": {},
   "cell_type": "markdown",
   "metadata": {},
   "source": [
    "75.21% Human | 24.79% Robot\n",
    "\n",
    "Accuracy: 97.21%\n",
    "\n",
    "Classification report:\n",
    "```\n",
    "               precision    recall  f1-score   support\n",
    "\n",
    "           0       0.98      0.98      0.98      2531\n",
    "           1       0.94      0.94      0.94       837\n",
    "```\n",
    "\n",
    "Confusion matrix:\n",
    "```\n",
    " [[0.98 0.02]\n",
    " [0.06 0.94]]\n",
    "``` "
   ]
  },
  {
   "attachments": {},
   "cell_type": "markdown",
   "metadata": {},
   "source": [
    "### 7. VotingClassifier"
   ]
  },
  {
   "attachments": {},
   "cell_type": "markdown",
   "metadata": {},
   "source": [
    "##### 7.0 Parameters\n",
    "\n",
    "---"
   ]
  },
  {
   "attachments": {},
   "cell_type": "markdown",
   "metadata": {},
   "source": [
    "**weights:**\n",
    "gewichten toe kennen aan individuele modellen in het ensemble. Hierdoor kun je de invloed van elk model op de uiteindelijke voorspellingen reguleren.\n",
    "\n",
    "- Voordelen: Het instellen van gewichten voor de individuele modellen kan de invloed van elk model op de voorspellingen van het ensemble reguleren. Dit kan de prestaties van het ensemble verbeteren.\n",
    "- Nadelen: Het instellen van gewichten voor de individuele modellen kan de interpretatie van het ensemble moeilijker maken."
   ]
  },
  {
   "attachments": {},
   "cell_type": "markdown",
   "metadata": {},
   "source": [
    "##### 7.1 Zonder scaling (Soft voting)\n",
    "\n",
    "---"
   ]
  },
  {
   "cell_type": "code",
   "execution_count": 11,
   "metadata": {},
   "outputs": [
    {
     "name": "stdout",
     "output_type": "stream",
     "text": [
      "{'weights': [1, 1, 1, 2, 2]}\n",
      "\n",
      "\n",
      "0.9803078846604673\n",
      "\n",
      "              precision    recall  f1-score   support\n",
      "\n",
      "           0       0.99      0.99      0.99     10337\n",
      "           1       0.95      0.94      0.95      2460\n",
      "\n",
      "    accuracy                           0.98     12797\n",
      "   macro avg       0.97      0.97      0.97     12797\n",
      "weighted avg       0.98      0.98      0.98     12797\n",
      "\n"
     ]
    },
    {
     "data": {
      "text/plain": [
       "<sklearn.metrics._plot.confusion_matrix.ConfusionMatrixDisplay at 0x2acd7bf4a10>"
      ]
     },
     "execution_count": 11,
     "metadata": {},
     "output_type": "execute_result"
    },
    {
     "data": {
      "image/png": "[encoded data removed]",
      "text/plain": [
       "<Figure size 640x480 with 2 Axes>"
      ]
     },
     "metadata": {},
     "output_type": "display_data"
    }
   ],
   "source": [
    "# 7 minuten 7 seconden om te runnen (10 CPU-cores)\n",
    "\n",
    "bag_clf_oob = BaggingClassifier(DecisionTreeClassifier(random_state=42), max_samples=17000, n_estimators=36, bootstrap=True, oob_score=True, random_state=42)\n",
    "bag_clf_oob.fit(X_train, y_train)\n",
    "\n",
    "bag_clf = BaggingClassifier(DecisionTreeClassifier(random_state=42), max_samples=32000, n_estimators=50, bootstrap=True, random_state=42)\n",
    "\n",
    "param_grid_voting = {\n",
    "    'weights': [[1, 1, 1, 1, 1], [1, 1, 1, 1, 2], [1, 1, 1, 2, 2], [1, 1, 2, 2, 2], [1, 2, 2, 2, 2], [2, 2, 2, 2, 2]],\n",
    "}\n",
    "\n",
    "grid_search_voting = GridSearchCV(VotingClassifier(\n",
    "    estimators=[('rf', rf_clf), ('gbrt', gbrt_best), ('ada', ada_clf), ('bag_oob', bag_clf_oob), ('bag', bag_clf)], \n",
    "    voting='soft'), \n",
    "    param_grid=param_grid_voting, cv=5, scoring='precision', return_train_score=True, n_jobs=-1)\n",
    "\n",
    "grid_search_voting.fit(X_train, y_train)\n",
    "\n",
    "print(grid_search_voting.best_params_)\n",
    "print(\"\\n\")\n",
    "\n",
    "voting_clf = grid_search_voting.best_estimator_\n",
    "\n",
    "voting_clf.fit(X_train, y_train)\n",
    "\n",
    "y_pred_voting = voting_clf.predict(X_test)\n",
    "\n",
    "print(f\"{accuracy_score(y_test, y_pred_voting)}\\n\")\n",
    "\n",
    "print(classification_report(y_test, y_pred_voting))\n",
    "\n",
    "cm = np.round(confusion_matrix(y_test, y_pred_voting, normalize='true'), 2)\n",
    "\n",
    "disp = ConfusionMatrixDisplay(confusion_matrix=cm, display_labels=['Human', 'Robot'])\n",
    "disp.plot()"
   ]
  },
  {
   "cell_type": "code",
   "execution_count": 14,
   "metadata": {},
   "outputs": [],
   "source": [
    "filename5 = './main_models2/voting_clf.sav'\n",
    "pickle.dump(voting_clf, open(filename5, 'wb'))"
   ]
  },
  {
   "attachments": {},
   "cell_type": "markdown",
   "metadata": {},
   "source": [
    "##### 7.2 Zonder scaling (Hard voting)\n",
    "\n",
    "---"
   ]
  },
  {
   "cell_type": "code",
   "execution_count": 12,
   "metadata": {},
   "outputs": [
    {
     "name": "stdout",
     "output_type": "stream",
     "text": [
      "{'weights': [1, 1, 2, 2, 2]}\n",
      "\n",
      "\n",
      "0.9802297413456279\n",
      "\n",
      "              precision    recall  f1-score   support\n",
      "\n",
      "           0       0.99      0.99      0.99     10337\n",
      "           1       0.95      0.94      0.95      2460\n",
      "\n",
      "    accuracy                           0.98     12797\n",
      "   macro avg       0.97      0.97      0.97     12797\n",
      "weighted avg       0.98      0.98      0.98     12797\n",
      "\n"
     ]
    },
    {
     "data": {
      "text/plain": [
       "<sklearn.metrics._plot.confusion_matrix.ConfusionMatrixDisplay at 0x2acd1e11e90>"
      ]
     },
     "execution_count": 12,
     "metadata": {},
     "output_type": "execute_result"
    },
    {
     "data": {
      "image/png": "[encoded data removed]",
      "text/plain": [
       "<Figure size 640x480 with 2 Axes>"
      ]
     },
     "metadata": {},
     "output_type": "display_data"
    }
   ],
   "source": [
    "# 6 minuten 55 seconden om te runnen (10 CPU-cores)\n",
    "\n",
    "bag_clf_oob = BaggingClassifier(DecisionTreeClassifier(random_state=42), max_samples=17000, n_estimators=36, bootstrap=True, oob_score=True, random_state=42)\n",
    "bag_clf_oob.fit(X_train, y_train)\n",
    "\n",
    "bag_clf = BaggingClassifier(DecisionTreeClassifier(random_state=42), max_samples=32000, n_estimators=50, bootstrap=True, random_state=42)\n",
    "\n",
    "param_grid_voting = {\n",
    "    'weights': [[1, 1, 1, 1, 1], [1, 1, 1, 1, 2], [1, 1, 1, 2, 2], [1, 1, 2, 2, 2], [1, 2, 2, 2, 2], [2, 2, 2, 2, 2]],\n",
    "}\n",
    "\n",
    "grid_search_voting_hard = GridSearchCV(VotingClassifier(\n",
    "    estimators=[('rf', rf_clf), ('gbrt', gbrt_best), ('ada', ada_clf), ('bag_oob', bag_clf_oob), ('bag', bag_clf)], \n",
    "    voting='hard'), \n",
    "    param_grid=param_grid_voting, cv=5, scoring='precision', return_train_score=True, n_jobs=-1)\n",
    "\n",
    "grid_search_voting_hard.fit(X_train, y_train)\n",
    "\n",
    "print(grid_search_voting_hard.best_params_)\n",
    "print(\"\\n\")\n",
    "\n",
    "voting_clf_hard = grid_search_voting_hard.best_estimator_\n",
    "\n",
    "voting_clf_hard.fit(X_train, y_train)\n",
    "\n",
    "y_pred_voting_hard = voting_clf_hard.predict(X_test)\n",
    "\n",
    "print(f\"{accuracy_score(y_test, y_pred_voting_hard)}\\n\")\n",
    "\n",
    "print(classification_report(y_test, y_pred_voting_hard))\n",
    "\n",
    "cm = np.round(confusion_matrix(y_test, y_pred_voting_hard, normalize='true'), 2)\n",
    "\n",
    "disp = ConfusionMatrixDisplay(confusion_matrix=cm, display_labels=['Human', 'Robot'])\n",
    "disp.plot()"
   ]
  },
  {
   "cell_type": "code",
   "execution_count": 13,
   "metadata": {},
   "outputs": [],
   "source": [
    "filename4 = './main_models2/voting_clf_hard.sav'\n",
    "pickle.dump(voting_clf_hard, open(filename4, 'wb'))"
   ]
  },
  {
   "attachments": {},
   "cell_type": "markdown",
   "metadata": {},
   "source": [
    "##### 7.3 Test op 5% achtergehouden data\n",
    "\n",
    "---"
   ]
  },
  {
   "attachments": {},
   "cell_type": "markdown",
   "metadata": {},
   "source": [
    "**Soft voting**\n",
    "\n",
    "75.80% Human | 24.20% Robot\n",
    "\n",
    "Accuracy: 97.27%\n",
    "\n",
    "Classification report:\n",
    "```\n",
    "               precision    recall  f1-score   support\n",
    "\n",
    "           0       0.98      0.99      0.98      2531\n",
    "           1       0.96      0.93      0.94       837\n",
    "```\n",
    "\n",
    "Confusion matrix:\n",
    "```\n",
    "[[0.99 0.01]\n",
    " [0.07 0.93]]\n",
    "```\n",
    "\n",
    "**Hard voting**\n",
    "\n",
    "75.92% Human | 24.08% Robot\n",
    "\n",
    "Accuracy: 97.27%\n",
    "\n",
    "Classification report:\n",
    "```\n",
    "               precision    recall  f1-score   support\n",
    "\n",
    "           0       0.98      0.99      0.98      2531\n",
    "           1       0.96      0.93      0.94       837\n",
    "```\n",
    "\n",
    "Confusion matrix:\n",
    "```\n",
    "[[0.99 0.01]\n",
    " [0.07 0.93]]\n",
    "```"
   ]
  },
  {
   "attachments": {},
   "cell_type": "markdown",
   "metadata": {},
   "source": [
    "### 8.0 StackingClassifier"
   ]
  },
  {
   "attachments": {},
   "cell_type": "markdown",
   "metadata": {},
   "source": [
    "##### 8.1 Zonder scaling (RandomForest als final estimator)\n",
    "\n",
    "---"
   ]
  },
  {
   "cell_type": "code",
   "execution_count": 8,
   "metadata": {},
   "outputs": [
    {
     "name": "stdout",
     "output_type": "stream",
     "text": [
      "0.976869578807533\n",
      "\n",
      "              precision    recall  f1-score   support\n",
      "\n",
      "           0       0.98      0.99      0.99     10337\n",
      "           1       0.95      0.93      0.94      2460\n",
      "\n",
      "    accuracy                           0.98     12797\n",
      "   macro avg       0.97      0.96      0.96     12797\n",
      "weighted avg       0.98      0.98      0.98     12797\n",
      "\n"
     ]
    },
    {
     "data": {
      "text/plain": [
       "<sklearn.metrics._plot.confusion_matrix.ConfusionMatrixDisplay at 0x21fa7230750>"
      ]
     },
     "execution_count": 8,
     "metadata": {},
     "output_type": "execute_result"
    },
    {
     "data": {
      "image/png": "[encoded data removed]",
      "text/plain": [
       "<Figure size 640x480 with 2 Axes>"
      ]
     },
     "metadata": {},
     "output_type": "display_data"
    }
   ],
   "source": [
    "# duur 2 minuten en 58 seconden om te runnen (10 CPU-cores)\n",
    "\n",
    "rf_clf = RandomForestClassifier(bootstrap=False, max_depth=25, min_samples_leaf=2, min_samples_split=2, n_estimators=140, random_state=42)\n",
    "rf_clf.fit(X_train, y_train)\n",
    "\n",
    "gbrt_best = GradientBoostingClassifier(max_depth=17, n_estimators=146, learning_rate=1, random_state=42)\n",
    "gbrt_best.fit(X_train, y_train)\n",
    "\n",
    "ada_clf = AdaBoostClassifier(DecisionTreeClassifier(random_state=42), n_estimators=2, algorithm=\"SAMME.R\", learning_rate=0.5, random_state=42)\n",
    "ada_clf.fit(X_train, y_train)\n",
    "\n",
    "bag_clf_oob = BaggingClassifier(DecisionTreeClassifier(random_state=42), max_samples=17000, n_estimators=36, bootstrap=True, oob_score=True, random_state=42)\n",
    "bag_clf_oob.fit(X_train, y_train)\n",
    "\n",
    "estimators = [('rf', rf_clf), ('gbrt', gbrt_best), ('ada', ada_clf), ('bag_oob', bag_clf_oob)]\n",
    "\n",
    "stacking_clf_1 = StackingClassifier(estimators=estimators, final_estimator=RandomForestClassifier(random_state=42), cv=5, n_jobs=-1)\n",
    "stacking_clf_1.fit(X_train, y_train)\n",
    "\n",
    "y_pred_stacking = stacking_clf_1.predict(X_test)\n",
    "\n",
    "print(f\"{accuracy_score(y_test, y_pred_stacking)}\\n\")\n",
    "\n",
    "print(classification_report(y_test, y_pred_stacking))\n",
    "\n",
    "cm = np.round(confusion_matrix(y_test, y_pred_stacking, normalize='true'), 2)\n",
    "\n",
    "disp = ConfusionMatrixDisplay(confusion_matrix=cm, display_labels=['Human', 'Robot'])\n",
    "disp.plot()"
   ]
  },
  {
   "cell_type": "code",
   "execution_count": 9,
   "metadata": {},
   "outputs": [],
   "source": [
    "filename = './main_models/stacking_clf_rfc_final.sav'\n",
    "pickle.dump(stacking_clf_1, open(filename, 'wb'))"
   ]
  },
  {
   "attachments": {},
   "cell_type": "markdown",
   "metadata": {},
   "source": [
    "##### 8.2 Zonder scaling (GradientBoostingClassifier als final estimator)\n",
    "\n",
    "---"
   ]
  },
  {
   "cell_type": "code",
   "execution_count": 5,
   "metadata": {},
   "outputs": [
    {
     "name": "stdout",
     "output_type": "stream",
     "text": [
      "0.9802297413456279\n",
      "\n",
      "              precision    recall  f1-score   support\n",
      "\n",
      "           0       0.99      0.99      0.99     10337\n",
      "           1       0.95      0.94      0.95      2460\n",
      "\n",
      "    accuracy                           0.98     12797\n",
      "   macro avg       0.97      0.97      0.97     12797\n",
      "weighted avg       0.98      0.98      0.98     12797\n",
      "\n"
     ]
    },
    {
     "data": {
      "text/plain": [
       "<sklearn.metrics._plot.confusion_matrix.ConfusionMatrixDisplay at 0x21fa3066b50>"
      ]
     },
     "execution_count": 5,
     "metadata": {},
     "output_type": "execute_result"
    },
    {
     "data": {
      "image/png": "[encoded data removed]",
      "text/plain": [
       "<Figure size 640x480 with 2 Axes>"
      ]
     },
     "metadata": {},
     "output_type": "display_data"
    }
   ],
   "source": [
    "# 3 minuten en 3 seconden om te runnen (10 CPU-cores)\n",
    "\n",
    "rf_clf = RandomForestClassifier(bootstrap=False, max_depth=25, min_samples_leaf=2, min_samples_split=2, n_estimators=140, random_state=42)\n",
    "rf_clf.fit(X_train, y_train)\n",
    "\n",
    "gbrt_best = GradientBoostingClassifier(max_depth=17, n_estimators=146, learning_rate=1, random_state=42)\n",
    "gbrt_best.fit(X_train, y_train)\n",
    "\n",
    "ada_clf = AdaBoostClassifier(DecisionTreeClassifier(random_state=42), n_estimators=2, algorithm=\"SAMME.R\", learning_rate=0.5, random_state=42)\n",
    "ada_clf.fit(X_train, y_train)\n",
    "\n",
    "bag_clf_oob = BaggingClassifier(DecisionTreeClassifier(random_state=42), max_samples=17000, n_estimators=36, bootstrap=True, oob_score=True, random_state=42)\n",
    "bag_clf_oob.fit(X_train, y_train)\n",
    "\n",
    "estimators = [('rf', rf_clf), ('gbrt', gbrt_best), ('ada', ada_clf), ('bag_oob', bag_clf_oob)]\n",
    "\n",
    "stacking_clf = StackingClassifier(estimators=estimators, final_estimator=GradientBoostingClassifier(random_state=42), cv=5, n_jobs=-1)\n",
    "stacking_clf.fit(X_train, y_train)\n",
    "\n",
    "y_pred_stacking = stacking_clf.predict(X_test)\n",
    "\n",
    "print(f\"{accuracy_score(y_test, y_pred_stacking)}\\n\")\n",
    "\n",
    "print(classification_report(y_test, y_pred_stacking))\n",
    "\n",
    "cm = np.round(confusion_matrix(y_test, y_pred_stacking, normalize='true'), 2)\n",
    "\n",
    "disp = ConfusionMatrixDisplay(confusion_matrix=cm, display_labels=['Human', 'Robot'])\n",
    "disp.plot()"
   ]
  },
  {
   "cell_type": "code",
   "execution_count": 7,
   "metadata": {},
   "outputs": [],
   "source": [
    "filename = './main_models/stacking_clf_grad_boost_final.sav'\n",
    "pickle.dump(stacking_clf, open(filename, 'wb'))"
   ]
  },
  {
   "attachments": {},
   "cell_type": "markdown",
   "metadata": {},
   "source": [
    "##### 8.3 Test op 5% achtergehouden data\n",
    "\n",
    "---"
   ]
  },
  {
   "attachments": {},
   "cell_type": "markdown",
   "metadata": {},
   "source": [
    "**RandomForest als final estimator**\n",
    "\n",
    "75.45% Human | 24.55% Robot\n",
    "\n",
    "Accuracy: 96.79%\n",
    "\n",
    "Classification report:\n",
    "```\n",
    "               precision    recall  f1-score   support\n",
    "\n",
    "           0       0.98      0.98      0.98      2531\n",
    "           1       0.94      0.93      0.94       837\n",
    "\n",
    "    accuracy                           0.97      3368\n",
    "   macro avg       0.96      0.96      0.96      3368\n",
    "weighted avg       0.97      0.97      0.97      3368\n",
    "```\n",
    "\n",
    "Confusion matrix:\n",
    "```\n",
    "[[0.98 0.02]\n",
    " [0.07 0.93]]\n",
    "```\n",
    "\n",
    "**GradientBoostingClassifier als final estimator**\n",
    "\n",
    "75.50% Human | 24.50% Robot\n",
    "\n",
    "Accuracy: 97.21%\n",
    "\n",
    "Classification report:\n",
    "```\n",
    "               precision    recall  f1-score   support\n",
    "\n",
    "           0       0.98      0.98      0.98      2531\n",
    "           1       0.95      0.94      0.94       837\n",
    "\n",
    "    accuracy                           0.97      3368\n",
    "   macro avg       0.96      0.96      0.96      3368\n",
    "weighted avg       0.97      0.97      0.97      3368\n",
    "```\n",
    "\n",
    "Confusion matrix:\n",
    "```\n",
    "[[0.98 0.02]\n",
    " [0.06 0.94]]\n",
    "```"
   ]
  },
  {
   "attachments": {},
   "cell_type": "markdown",
   "metadata": {},
   "source": [
    "## Andere models\n",
    "\n",
    "---\n",
    "\n",
    "1. KNeighbourClassifier\n",
    "2. LogisticRegression\n",
    "3. LinearSVC\n",
    "\n",
    "---"
   ]
  },
  {
   "attachments": {},
   "cell_type": "markdown",
   "metadata": {},
   "source": [
    "### 1. KNeighbourClassifier"
   ]
  },
  {
   "attachments": {},
   "cell_type": "markdown",
   "metadata": {},
   "source": [
    "##### 1.1 Parameters\n",
    "\n",
    "---"
   ]
  },
  {
   "attachments": {},
   "cell_type": "markdown",
   "metadata": {},
   "source": [
    "**n_neighbors: (Grootte van de lokale 'buurt')**\n",
    "\n",
    "- Voordelen: Vastleggen van complexe patronen, verbetering van nauwkeurigheid.\n",
    "- Nadelen: Toegenomen berekeningscomplexiteit, mogelijk oversmoothing (minder gedetailleerde resultaten).\n",
    "\n",
    "**weights: ['uniform', 'distance']: (Bijdrage van elke buur)**\n",
    "\n",
    "- uniform:\n",
    "    - Voordelen: Gelijke bijdrage van alle buren.\n",
    "    - Nadelen: Geen rekening houden met relevantie van buren, suboptimale prestaties wanneer sommige buren meer relevant zijn dan andere.\n",
    "\n",
    "- distance:\n",
    "  - Voordelen: Hogere belangrijkheid voor nabije buren, effectief bij het vastleggen van lokale patronen.\n",
    "  - Nadelen: Verhoogde berekeningskosten en complexiteit.\n",
    "\n",
    "**metric: ['euclidean', 'manhattan']: (Afstandsmaat om de afstand tussen gegevenspunten te berekenen)**\n",
    "\n",
    "- euclidean:\n",
    "    - Voordelen: Geschikt voor datasets met lage dimensionaliteit en gelijkmatig geschaalde kenmerken.\n",
    "    - Nadelen: Niet optimaal voor datasets met gemengde datatypes of afwijkende schalen.\n",
    "- manhattan:\n",
    "    - Voordelen: Geschikt voor datasets met hoge dimensionaliteit of kenmerken met verschillende schalen.\n",
    "    - Nadelen: Kan minder geschikt zijn voor andere datatypes of wanneer de schaalvariatie groot is.\n",
    "\n",
    "**algorithm: ['auto', 'ball_tree', 'kd_tree']: (Algoritme om de dichtstbijzijnde buren te vinden)**\n",
    "\n",
    "- auto:\n",
    "    - Voordelen: Automatische selectie van het meest geschikte algoritme op basis van de gegevens.\n",
    "    - Nadelen: Kan in sommige gevallen niet de meest efficiënte keuze zijn.\n",
    "- ball_tree:\n",
    "    - Voordelen: Efficiënt bij lage dimensionaliteit van de gegevens.\n",
    "    - Nadelen: Hogere kosten bij grote datasets.\n",
    "- kd_tree:\n",
    "    - Voordelen: Efficiënt bij hoge dimensionaliteit van de gegevens.\n",
    "    - Nadelen: Hogere kosten bij grote datasets."
   ]
  },
  {
   "attachments": {},
   "cell_type": "markdown",
   "metadata": {},
   "source": [
    "##### 1.2 Met scaling\n",
    "\n",
    "---"
   ]
  },
  {
   "cell_type": "code",
   "execution_count": 19,
   "metadata": {},
   "outputs": [
    {
     "name": "stdout",
     "output_type": "stream",
     "text": [
      "{'algorithm': 'kd_tree', 'metric': 'manhattan', 'n_neighbors': 2, 'weights': 'uniform'}\n",
      "\n",
      "Accuracy: 92.33%\n",
      "\n",
      "\n",
      "              precision    recall  f1-score   support\n",
      "\n",
      "           0       0.93      0.98      0.95     10337\n",
      "           1       0.89      0.68      0.77      2460\n",
      "\n",
      "    accuracy                           0.92     12797\n",
      "   macro avg       0.91      0.83      0.86     12797\n",
      "weighted avg       0.92      0.92      0.92     12797\n",
      "\n"
     ]
    },
    {
     "data": {
      "text/plain": [
       "<sklearn.metrics._plot.confusion_matrix.ConfusionMatrixDisplay at 0x2accf927e50>"
      ]
     },
     "execution_count": 19,
     "metadata": {},
     "output_type": "execute_result"
    },
    {
     "data": {
      "image/png": "[encoded data removed]",
      "text/plain": [
       "<Figure size 640x480 with 2 Axes>"
      ]
     },
     "metadata": {},
     "output_type": "display_data"
    }
   ],
   "source": [
    "# duurt 10 minuten en 51 seconden om te runnen (10 CPU-cores)\n",
    "\n",
    "param_grid_knn_scaled = {\n",
    "    'n_neighbors': np.arange(1, 10),\n",
    "    'weights': ['uniform', 'distance'], \n",
    "    'metric': ['euclidean', 'manhattan'], \n",
    "    'algorithm': ['auto', 'ball_tree', 'kd_tree']\n",
    "}\n",
    "\n",
    "pipeline = Pipeline([\n",
    "    ('scaler', StandardScaler()),\n",
    "    ('grid_search', GridSearchCV(param_grid=param_grid_knn_scaled, estimator=KNeighborsClassifier(), cv=5, n_jobs=-1, scoring='precision'))\n",
    "])\n",
    "\n",
    "pipeline.fit(X_train, y_train)\n",
    "\n",
    "print(pipeline['grid_search'].best_params_)\n",
    "\n",
    "knn_clf_scaled = pipeline['grid_search'].best_estimator_\n",
    "\n",
    "knn_clf_scaled.fit(X_train, y_train)\n",
    "\n",
    "y_pred_knn_scaled = knn_clf_scaled.predict(X_test)\n",
    "\n",
    "print(\"\\nAccuracy: {:.2f}\".format(((accuracy_score(y_test, y_pred_knn_scaled)) * 100)) + \"%\")\n",
    "print(\"\\n\")\n",
    "print(classification_report(y_test, y_pred_knn_scaled))\n",
    "\n",
    "cmDiplay = ConfusionMatrixDisplay(np.round(confusion_matrix(y_test, y_pred_knn_scaled, normalize='true'), 2), display_labels=['Human', 'Robot'])\n",
    "cmDiplay.plot()"
   ]
  },
  {
   "cell_type": "code",
   "execution_count": 24,
   "metadata": {},
   "outputs": [],
   "source": [
    "filename6 = './main_models2/knn_clf_scaled.sav'\n",
    "pickle.dump(knn_clf_scaled, open(filename6, 'wb'))"
   ]
  },
  {
   "attachments": {},
   "cell_type": "markdown",
   "metadata": {},
   "source": [
    "##### 1.3 Zonder scaling\n",
    "\n",
    "---"
   ]
  },
  {
   "cell_type": "code",
   "execution_count": 20,
   "metadata": {},
   "outputs": [
    {
     "name": "stdout",
     "output_type": "stream",
     "text": [
      "Fitting 5 folds for each of 108 candidates, totalling 540 fits\n",
      "{'algorithm': 'ball_tree', 'metric': 'manhattan', 'n_neighbors': 2, 'weights': 'uniform'}\n",
      "\n",
      "\n",
      "\n",
      "Accuracy: 92.26%\n",
      "\n",
      "\n",
      "              precision    recall  f1-score   support\n",
      "\n",
      "           0       0.93      0.98      0.95     10337\n",
      "           1       0.89      0.68      0.77      2460\n",
      "\n",
      "    accuracy                           0.92     12797\n",
      "   macro avg       0.91      0.83      0.86     12797\n",
      "weighted avg       0.92      0.92      0.92     12797\n",
      "\n"
     ]
    },
    {
     "data": {
      "text/plain": [
       "<sklearn.metrics._plot.confusion_matrix.ConfusionMatrixDisplay at 0x2acd7a1d350>"
      ]
     },
     "execution_count": 20,
     "metadata": {},
     "output_type": "execute_result"
    },
    {
     "data": {
      "image/png": "[encoded data removed]",
      "text/plain": [
       "<Figure size 640x480 with 2 Axes>"
      ]
     },
     "metadata": {},
     "output_type": "display_data"
    }
   ],
   "source": [
    "# duurt 2 minuten om te runnen (10 CPU-cores)\n",
    "\n",
    "grid_search_knn_no_scale = GridSearchCV(param_grid=param_grid_knn_scaled, estimator=KNeighborsClassifier(), cv=5, n_jobs=-1, verbose=2, scoring='precision')\n",
    "\n",
    "grid_search_knn_no_scale.fit(X_train, y_train)\n",
    "\n",
    "print(grid_search_knn_no_scale.best_params_)\n",
    "print(\"\\n\")\n",
    "\n",
    "knn_clf_no_scale = grid_search_knn_no_scale.best_estimator_\n",
    "\n",
    "knn_clf_no_scale.fit(X_train, y_train)\n",
    "\n",
    "y_pred_knn_no_scale = knn_clf_no_scale.predict(X_test)\n",
    "\n",
    "print(\"\\nAccuracy: {:.2f}\".format(((accuracy_score(y_test, y_pred_knn_no_scale)) * 100)) + \"%\")\n",
    "print(\"\\n\")\n",
    "print(classification_report(y_test, y_pred_knn_no_scale))\n",
    "\n",
    "cmDiplay = ConfusionMatrixDisplay(np.round(confusion_matrix(y_test, y_pred_knn_no_scale, normalize='true'), 2), display_labels=['Human', 'Robot'])\n",
    "cmDiplay.plot()"
   ]
  },
  {
   "cell_type": "code",
   "execution_count": 23,
   "metadata": {},
   "outputs": [],
   "source": [
    "filename7 = './main_models2/knn_clf_no_scale.sav'\n",
    "pickle.dump(knn_clf_no_scale, open(filename7, 'wb'))"
   ]
  },
  {
   "attachments": {},
   "cell_type": "markdown",
   "metadata": {},
   "source": [
    "##### 1.4 Test op 5% achtergehouden data"
   ]
  },
  {
   "attachments": {},
   "cell_type": "markdown",
   "metadata": {},
   "source": [
    "**Niet gescaled**\n",
    "\n",
    "80.46% Human | 19.54% Robot\n",
    "\n",
    "Accuracy: 88.45%\n",
    "\n",
    "Classification report:\n",
    "```\n",
    "               precision    recall  f1-score   support\n",
    "\n",
    "           0       0.90      0.96      0.93      2531\n",
    "           1       0.84      0.66      0.74       837\n",
    "```\n",
    "\n",
    "Confusion matrix:\n",
    "```\n",
    "[[0.96 0.04]\n",
    " [0.34 0.66]]\n",
    "```\n",
    "\n",
    "**Gescaled**\n",
    "\n",
    "100.00% Human | 0.00% Robot\n",
    "\n",
    "Accuracy: 75.15%\n",
    "\n",
    "Classification report:\n",
    "```\n",
    "               precision    recall  f1-score   support\n",
    "\n",
    "           0       0.75      1.00      0.86      2531\n",
    "           1       0.00      0.00      0.00       837\n",
    "```\n",
    "\n",
    "Confusion matrix:\n",
    "```\n",
    "[[1. 0.]\n",
    " [1. 0.]]\n",
    "```"
   ]
  },
  {
   "attachments": {},
   "cell_type": "markdown",
   "metadata": {},
   "source": [
    "### 2. LogisticRegression"
   ]
  },
  {
   "attachments": {},
   "cell_type": "markdown",
   "metadata": {},
   "source": [
    "##### 2.1 Parameters\n",
    "\n",
    "---"
   ]
  },
  {
   "attachments": {},
   "cell_type": "markdown",
   "metadata": {},
   "source": [
    "**C:**\n",
    "\n",
    "- Voordelen: Regelt mate van regulatie in model. Hogere waarden van \"C\" leiden tot minder regulatie en stellen het model in staat om meer complexe beslissingsgrenzen te leren. Lagere waarden van \"C\" bevorderen meer regulatie en kunnen helpen overfitting te verminderen.\n",
    "\n",
    "- Nadelen: Het kiezen van een verkeerde waarde voor \"C\" kan leiden tot suboptimale prestaties. Een te hoge waarde kan overfitting veroorzaken, terwijl een te lage waarde kan leiden tot underfitting.\n",
    "\n",
    "**solver:**\n",
    "\n",
    "- 'newton-cg':\n",
    "    - Voordelen: Efficiënt bij datasets met zowel kleine als grote aantallen datapunten. Werkt goed voor multiklasse-classificatieproblemen.\n",
    "    - Nadelen: Vereist dat de gegevens matrixvormig zijn en kan minder effectief zijn bij grote datasets met veel functies.\n",
    "\n",
    "- 'lbfgs':\n",
    "    - Voordelen: Werkt goed voor kleine tot middelgrote datasets en is relatief robuust tegen overfitting.\n",
    "    - Nadelen: Kan trager zijn dan andere solvers bij grote datasets.\n",
    "\n",
    "- 'liblinear':\n",
    "    - Voordelen: Efficiënt bij datasets met veel functies en biedt ondersteuning voor zowel reguliere als ongereguleerde modellen.\n",
    "    - Nadelen: Kan minder geschikt zijn voor multiklasse-classificatieproblemen.\n",
    "\n",
    "- 'sag':\n",
    "    - Voordelen: Efficiënt bij grote datasets en kan sneller convergeren dan andere solvers.\n",
    "    - Nadelen: Vereist dat de verliesfunctie differentieerbaar is en kan minder stabiel zijn bij problemen met sterke regularisatie.\n",
    "\n",
    "- 'saga':\n",
    "  - Voordelen: Geschikt voor grote datasets en biedt ondersteuning voor zowel reguliere als ongereguleerde modellen. Kan goed presteren bij problemen met sterke regularisatie.\n",
    "  - Nadelen: Kan trager zijn dan andere solvers bij grote datasets en vereist dat de verliesfunctie differentieerbaar is.\n",
    "\n",
    "**penalty:**\n",
    "\n",
    "- 'l1':\n",
    "    - Voordelen: Geschikt voor schattingen met veel nulwaarden en helpt bij het selecteren van relevante functies.\n",
    "    - Nadelen: Kan minder stabiel zijn bij datasets met hoge dimensionaliteit.\n",
    "\n",
    "- 'l2':\n",
    "    - Voordelen: Werkt goed voor reguliere modellen en biedt stabiliteit bij het trainen van het model.\n",
    "    - Nadelen: Minder geschikt voor schattingen met veel nulwaarden.\n",
    "\n",
    "- 'elasticnet':\n",
    "    - Voordelen: Biedt een combinatie van 'l1' en 'l2' penalty's, waardoor zowel schattingen met veel nulwaarden als reguliere modellen kunnen worden behandeld.\n",
    "    - Nadelen: Kan complexer zijn om te optimaliseren en vereist afstemming van de elasticiteitsparameter.\n",
    "\n",
    "- 'none':\n",
    "    - Voordelen: Geen penalty toegepast, wat nuttig kan zijn bij het omgaan met al geregulariseerde gegevens.\n",
    "    - Nadelen: Kan leiden tot overfitting bij modellen met hoge dimensionaliteit of weinig gegevens.\n",
    "\n",
    "**max_iter:**\n",
    "\n",
    "- Voordelen: Bepaalt het maximum aantal iteraties voor het convergeren van het model, wat kan helpen bij het regelen van de looptijd.\n",
    "- Nadelen: Een te lage waarde kan leiden tot een onvolledige optimalisatie en een te hoge waarde kan leiden tot langere trainingsduur."
   ]
  },
  {
   "attachments": {},
   "cell_type": "markdown",
   "metadata": {},
   "source": [
    "##### 2.2 Met scaling\n",
    "\n",
    "---"
   ]
  },
  {
   "cell_type": "code",
   "execution_count": 32,
   "metadata": {},
   "outputs": [
    {
     "name": "stdout",
     "output_type": "stream",
     "text": [
      "{'C': 20, 'max_iter': 100, 'penalty': 'l2', 'solver': 'newton-cg'}\n",
      "\n",
      "\n",
      "\n",
      "Accuracy: 84.55%\n",
      "              precision    recall  f1-score   support\n",
      "\n",
      "           0       0.85      0.99      0.91     10337\n",
      "           1       0.81      0.26      0.39      2460\n",
      "\n",
      "    accuracy                           0.85     12797\n",
      "   macro avg       0.83      0.62      0.65     12797\n",
      "weighted avg       0.84      0.85      0.81     12797\n",
      "\n",
      "\n",
      "\n"
     ]
    },
    {
     "data": {
      "text/plain": [
       "<sklearn.metrics._plot.confusion_matrix.ConfusionMatrixDisplay at 0x2acd3167f50>"
      ]
     },
     "execution_count": 32,
     "metadata": {},
     "output_type": "execute_result"
    },
    {
     "data": {
      "image/png": "[encoded data removed]",
      "text/plain": [
       "<Figure size 640x480 with 2 Axes>"
      ]
     },
     "metadata": {},
     "output_type": "display_data"
    }
   ],
   "source": [
    "param_grid_lr_scale = {\n",
    "    'C': [0.1, 1, 10, 20, 30],\n",
    "    'solver': ['newton-cg', 'lbfgs', 'liblinear', 'sag', 'saga'],\n",
    "    'penalty': ['l1', 'l2', 'elasticnet', 'none'],\n",
    "    'max_iter': [100, 200, 300, 400]\n",
    "}\n",
    "\n",
    "pipeline = Pipeline([\n",
    "    ('scaler', StandardScaler()),\n",
    "    ('grid_search', GridSearchCV(LogisticRegression(random_state=42), param_grid_lr_scale, cv=5, n_jobs=-1))\n",
    "])\n",
    "\n",
    "pipeline.fit(X_train, y_train)\n",
    "\n",
    "print(pipeline['grid_search'].best_params_)\n",
    "print(\"\\n\")\n",
    "\n",
    "lgr_clf_scale = pipeline['grid_search'].best_estimator_\n",
    "\n",
    "lgr_clf_scale.fit(X_train, y_train)\n",
    "\n",
    "y_pred_lgr_scale = lgr_clf_scale.predict(X_test)\n",
    "\n",
    "print(\"\\nAccuracy: {:.2f}\".format(((accuracy_score(y_test, y_pred_lgr_scale)) * 100)) + \"%\")\n",
    "print(classification_report(y_test, y_pred_lgr_scale))\n",
    "print(\"\\n\")\n",
    "\n",
    "cm = np.round(confusion_matrix(y_test, y_pred_lgr_scale, normalize='true'), 2)\n",
    "\n",
    "disp = ConfusionMatrixDisplay(confusion_matrix=cm, display_labels=['Human', 'Robot'])\n",
    "disp.plot()"
   ]
  },
  {
   "cell_type": "code",
   "execution_count": 33,
   "metadata": {},
   "outputs": [],
   "source": [
    "filename8 = './main_models2/lgr_clf_scale.sav'\n",
    "pickle.dump(lgr_clf_scale, open(filename8, 'wb'))"
   ]
  },
  {
   "attachments": {},
   "cell_type": "markdown",
   "metadata": {},
   "source": [
    "##### 2.3 Zonder scaling\n",
    "\n",
    "---\n"
   ]
  },
  {
   "cell_type": "code",
   "execution_count": 34,
   "metadata": {},
   "outputs": [
    {
     "name": "stdout",
     "output_type": "stream",
     "text": [
      "{'C': 0.1, 'max_iter': 300, 'penalty': 'l2', 'solver': 'newton-cg'}\n",
      "\n",
      "\n",
      "\n",
      "Accuracy: 94.75%\n",
      "\n",
      "\n",
      "              precision    recall  f1-score   support\n",
      "\n",
      "           0       0.99      0.95      0.97     10337\n",
      "           1       0.81      0.95      0.87      2460\n",
      "\n",
      "    accuracy                           0.95     12797\n",
      "   macro avg       0.90      0.95      0.92     12797\n",
      "weighted avg       0.95      0.95      0.95     12797\n",
      "\n"
     ]
    },
    {
     "data": {
      "text/plain": [
       "<sklearn.metrics._plot.confusion_matrix.ConfusionMatrixDisplay at 0x2acd33c3cd0>"
      ]
     },
     "execution_count": 34,
     "metadata": {},
     "output_type": "execute_result"
    },
    {
     "data": {
      "image/png": "[encoded data removed]",
      "text/plain": [
       "<Figure size 640x480 with 2 Axes>"
      ]
     },
     "metadata": {},
     "output_type": "display_data"
    }
   ],
   "source": [
    "gs_no_scale = GridSearchCV(LogisticRegression(random_state=42), param_grid_lr_scale, cv=5, n_jobs=-1)\n",
    "\n",
    "gs_no_scale.fit(X_train, y_train)\n",
    "\n",
    "print(gs_no_scale.best_params_)\n",
    "print(\"\\n\")\n",
    "\n",
    "lgr_clf_no_scale = gs_no_scale.best_estimator_\n",
    "\n",
    "lgr_clf_no_scale.fit(X_train, y_train)\n",
    "\n",
    "y_pred_lgr_no_scale = lgr_clf_no_scale.predict(X_test)\n",
    "\n",
    "\n",
    "print(\"\\nAccuracy: {:.2f}\".format(((accuracy_score(y_test, y_pred_lgr_no_scale)) * 100)) + \"%\")\n",
    "print(\"\\n\")\n",
    "print(classification_report(y_test, y_pred_lgr_no_scale))\n",
    "\n",
    "cm = np.round(confusion_matrix(y_test, y_pred_lgr_no_scale, normalize='true'), 2)\n",
    "\n",
    "disp = ConfusionMatrixDisplay(confusion_matrix=cm, display_labels=['Human', 'Robot'])\n",
    "disp.plot()"
   ]
  },
  {
   "cell_type": "code",
   "execution_count": 35,
   "metadata": {},
   "outputs": [],
   "source": [
    "filename9 = './main_models2/lgr_clf_no_scale.sav'\n",
    "pickle.dump(lgr_clf_no_scale, open(filename9, 'wb'))"
   ]
  },
  {
   "attachments": {},
   "cell_type": "markdown",
   "metadata": {},
   "source": [
    "##### 2.4 Test op 5% achtergehouden data"
   ]
  },
  {
   "attachments": {},
   "cell_type": "markdown",
   "metadata": {},
   "source": [
    "**Scale**\n",
    "\n",
    "45.58% Human | 54.42% Robot\n",
    "\n",
    "Accuracy: 69.18%\n",
    "\n",
    "Classification report:\n",
    "```\n",
    "               precision    recall  f1-score   support\n",
    "\n",
    "           0       0.99      0.60      0.74      2531\n",
    "           1       0.45      0.97      0.61       837\n",
    "\n",
    "    accuracy                           0.69      3368\n",
    "   macro avg       0.72      0.79      0.68      3368\n",
    "weighted avg       0.85      0.69      0.71      3368\n",
    "```\n",
    "\n",
    "Confusion matrix:\n",
    "```\n",
    "[[0.6  0.4 ]\n",
    " [0.03 0.97]]\n",
    "```\n",
    "\n",
    "**No scale**\n",
    "\n",
    "70.96% Human | 29.04% Robot\n",
    "\n",
    "Accuracy: 93.20%\n",
    "\n",
    "Classification report:\n",
    "```\n",
    "               precision    recall  f1-score   support\n",
    "\n",
    "           0       0.98      0.93      0.95      2531\n",
    "           1       0.81      0.95      0.87       837\n",
    "\n",
    "    accuracy                           0.93      3368\n",
    "   macro avg       0.90      0.94      0.91      3368\n",
    "weighted avg       0.94      0.93      0.93      3368\n",
    "```\n",
    "\n",
    "Confusion matrix:\n",
    "```\n",
    "[[0.93 0.07]\n",
    " [0.05 0.95]]\n",
    "```"
   ]
  },
  {
   "attachments": {},
   "cell_type": "markdown",
   "metadata": {},
   "source": [
    "### 3. LinearSVC"
   ]
  },
  {
   "attachments": {},
   "cell_type": "markdown",
   "metadata": {},
   "source": [
    "##### 3.1 Parameters\n",
    "\n",
    "---"
   ]
  },
  {
   "attachments": {},
   "cell_type": "markdown",
   "metadata": {},
   "source": [
    "C:\n",
    "\n",
    "- Voordelen: regelt de mate van reguliere term in het model. Een hogere waarde geeft minder regulatie, waardoor het model meer nadruk legt op het correct classificeren van elk trainingsvoorbeeld. Dit kan nuttig zijn wanneer er minder ruis aanwezig is in de gegevens en het doel is om de trainingsvoorbeelden nauwkeurig te classificeren.\n",
    "- Nadelen: te hoog wordt ingesteld, kan het model gevoeliger worden voor ruis in de gegevens en kan overfitting optreden. C waarde kiezen --> goed evenwicht te bereiken tussen het minimaliseren van de fout op trainingsgegevens en het generaliseren naar nieuwe, ongeziene gegevens.\n",
    "\n",
    "max_iter:\n",
    "\n",
    "- Voordelen: bepaalt het maximale aantal iteraties dat het model zal doorlopen bij het optimaliseren van de gewichten. Het beïnvloedt de trainingstijd en de nauwkeurigheid van het model.\n",
    "- Nadelen: Een te laag aantal 'max_iter'-waarden kan ertoe leiden dat het model niet convergent is en geen optimaal resultaat behaalt. Aan de andere kant kan een te hoog aantal iteraties de trainingsduur verlengen zonder significant betere resultaten te behalen"
   ]
  },
  {
   "attachments": {},
   "cell_type": "markdown",
   "metadata": {},
   "source": [
    "##### 3.2 Met scaling\n",
    "\n",
    "---"
   ]
  },
  {
   "cell_type": "code",
   "execution_count": 36,
   "metadata": {},
   "outputs": [
    {
     "name": "stdout",
     "output_type": "stream",
     "text": [
      "{'C': 30, 'max_iter': 3000}\n",
      "\n",
      "\n",
      "\n",
      "Accuracy: 85.90%\n",
      "\n",
      "\n",
      "              precision    recall  f1-score   support\n",
      "\n",
      "           0       0.97      0.85      0.91     10337\n",
      "           1       0.59      0.90      0.71      2460\n",
      "\n",
      "    accuracy                           0.86     12797\n",
      "   macro avg       0.78      0.87      0.81     12797\n",
      "weighted avg       0.90      0.86      0.87     12797\n",
      "\n"
     ]
    },
    {
     "data": {
      "text/plain": [
       "<sklearn.metrics._plot.confusion_matrix.ConfusionMatrixDisplay at 0x2acd90ec9d0>"
      ]
     },
     "execution_count": 36,
     "metadata": {},
     "output_type": "execute_result"
    },
    {
     "data": {
      "image/png": "[encoded data removed]",
      "text/plain": [
       "<Figure size 640x480 with 2 Axes>"
      ]
     },
     "metadata": {},
     "output_type": "display_data"
    }
   ],
   "source": [
    "param_grid_lsvc = {\n",
    "    'C': [0.1, 1, 20, 25, 30, 35],\n",
    "    'max_iter': [1000, 2000, 3000, 3500]\n",
    "}\n",
    "\n",
    "pipeline = Pipeline([\n",
    "    ('scaler', StandardScaler()),\n",
    "    ('grid_search', GridSearchCV(LinearSVC(random_state=42), param_grid_lsvc, n_jobs=-1, cv=5))\n",
    "])\n",
    "\n",
    "pipeline.fit(X_train, y_train)\n",
    "\n",
    "print(pipeline['grid_search'].best_params_)\n",
    "print(\"\\n\")\n",
    "\n",
    "lsvc_clf_scale = pipeline['grid_search'].best_estimator_\n",
    "\n",
    "lsvc_clf_scale.fit(X_train, y_train)\n",
    "\n",
    "y_pred_lsvc_scale = lsvc_clf_scale.predict(X_test)\n",
    "\n",
    "print(\"\\nAccuracy: {:.2f}\".format(((accuracy_score(y_test, y_pred_lsvc_scale)) * 100)) + \"%\")\n",
    "print(\"\\n\")\n",
    "print(classification_report(y_test, y_pred_lsvc_scale))\n",
    "\n",
    "cm = np.round(confusion_matrix(y_test, y_pred_lsvc_scale, normalize='true'), 2)\n",
    "\n",
    "disp = ConfusionMatrixDisplay(confusion_matrix=cm, display_labels=['Human', 'Robot'])\n",
    "disp.plot()"
   ]
  },
  {
   "cell_type": "code",
   "execution_count": 37,
   "metadata": {},
   "outputs": [],
   "source": [
    "filename10 = './main_models2/lsvc_clf_scale.sav'\n",
    "pickle.dump(lsvc_clf_scale, open(filename10, 'wb'))"
   ]
  },
  {
   "attachments": {},
   "cell_type": "markdown",
   "metadata": {},
   "source": [
    "##### 3.3 Zonder scaling\n",
    "\n",
    "---"
   ]
  },
  {
   "cell_type": "code",
   "execution_count": 38,
   "metadata": {},
   "outputs": [
    {
     "name": "stdout",
     "output_type": "stream",
     "text": [
      "{'C': 0.1, 'max_iter': 3000}\n",
      "\n",
      "\n",
      "\n",
      "Accuracy: 89.18%\n",
      "\n",
      "\n",
      "              precision    recall  f1-score   support\n",
      "\n",
      "           0       0.92      0.95      0.93     10337\n",
      "           1       0.76      0.64      0.69      2460\n",
      "\n",
      "    accuracy                           0.89     12797\n",
      "   macro avg       0.84      0.79      0.81     12797\n",
      "weighted avg       0.89      0.89      0.89     12797\n",
      "\n"
     ]
    },
    {
     "data": {
      "text/plain": [
       "<sklearn.metrics._plot.confusion_matrix.ConfusionMatrixDisplay at 0x2acd32700d0>"
      ]
     },
     "execution_count": 38,
     "metadata": {},
     "output_type": "execute_result"
    },
    {
     "data": {
      "image/png": "[encoded data removed]",
      "text/plain": [
       "<Figure size 640x480 with 2 Axes>"
      ]
     },
     "metadata": {},
     "output_type": "display_data"
    }
   ],
   "source": [
    "lsvc_gs_no_scale = GridSearchCV(LinearSVC(random_state=42), param_grid_lsvc, n_jobs=-1, cv=5)\n",
    "\n",
    "lsvc_gs_no_scale.fit(X_train, y_train)\n",
    "\n",
    "print(lsvc_gs_no_scale.best_params_)\n",
    "print(\"\\n\")\n",
    "\n",
    "lsvc_no_scale = lsvc_gs_no_scale.best_estimator_\n",
    "\n",
    "lsvc_no_scale.fit(X_train, y_train)\n",
    "\n",
    "lsvc_y_pred_no_scale = lsvc_no_scale.predict(X_test)\n",
    "\n",
    "print(\"\\nAccuracy: {:.2f}\".format(((accuracy_score(y_test, lsvc_y_pred_no_scale)) * 100)) + \"%\")\n",
    "print(\"\\n\")\n",
    "print(classification_report(y_test, lsvc_y_pred_no_scale))\n",
    "\n",
    "cm = np.round(confusion_matrix(y_test, lsvc_y_pred_no_scale, normalize='true'), 2)\n",
    "\n",
    "disp = ConfusionMatrixDisplay(confusion_matrix=cm, display_labels=['Human', 'Robot'])\n",
    "disp.plot()"
   ]
  },
  {
   "cell_type": "code",
   "execution_count": 39,
   "metadata": {},
   "outputs": [],
   "source": [
    "filename11 = './main_models2/lsvc_clf_no_scale.sav'\n",
    "pickle.dump(lsvc_no_scale, open(filename11, 'wb'))"
   ]
  },
  {
   "attachments": {},
   "cell_type": "markdown",
   "metadata": {},
   "source": [
    "##### 3.4 Test op 5% achtergehouden data"
   ]
  },
  {
   "attachments": {},
   "cell_type": "markdown",
   "metadata": {},
   "source": [
    "**Scale**\n",
    "\n",
    "63.36% Human | 36.64% Robot\n",
    "\n",
    "Accuracy: 68.26%\n",
    "\n",
    "Classification report:\n",
    "```\n",
    "               precision    recall  f1-score   support\n",
    "\n",
    "           0       0.84      0.71      0.77      2531\n",
    "           1       0.41      0.60      0.48       837\n",
    "\n",
    "    accuracy                           0.68      3368\n",
    "   macro avg       0.62      0.65      0.63      3368\n",
    "weighted avg       0.73      0.68      0.70      3368\n",
    "```\n",
    "\n",
    "Confusion matrix:\n",
    "```\n",
    "[[0.71 0.29]\n",
    " [0.4  0.6 ]]\n",
    "```\n",
    "\n",
    "**No scale**\n",
    "\n",
    "75.53% Human | 24.47% Robot\n",
    "\n",
    "Accuracy: 83.22%\n",
    "\n",
    "Classification report:\n",
    "```\n",
    "               precision    recall  f1-score   support\n",
    "\n",
    "           0       0.89      0.89      0.89      2531\n",
    "           1       0.67      0.65      0.66       837\n",
    "\n",
    "    accuracy                           0.83      3368\n",
    "   macro avg       0.78      0.77      0.77      3368\n",
    "weighted avg       0.83      0.83      0.83      3368\n",
    "```\n",
    "\n",
    "Confusion matrix:\n",
    "```\n",
    "[[0.89 0.11]\n",
    " [0.35 0.65]]\n",
    "```"
   ]
  }
 ],
 "metadata": {
  "kernelspec": {
   "display_name": "Python 3",
   "language": "python",
   "name": "python3"
  },
  "language_info": {
   "codemirror_mode": {
    "name": "ipython",
    "version": 3
   },
   "file_extension": ".py",
   "mimetype": "text/x-python",
   "name": "python",
   "nbconvert_exporter": "python",
   "pygments_lexer": "ipython3",
   "version": "3.11.3"
  },
  "orig_nbformat": 4
 },
 "nbformat": 4,
 "nbformat_minor": 2
}
