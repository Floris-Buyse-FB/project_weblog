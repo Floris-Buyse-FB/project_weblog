{
 "cells": [
  {
   "cell_type": "code",
   "execution_count": 39,
   "metadata": {},
   "outputs": [],
   "source": [
    "import pandas as pd\n",
    "import numpy as np\n",
    "import matplotlib.pyplot as plt\n",
    "import sklearn\n",
    "import pickle\n",
    "from sklearn.model_selection import train_test_split, GridSearchCV, cross_val_predict, cross_val_score\n",
    "from sklearn.preprocessing import StandardScaler\n",
    "from sklearn.tree import DecisionTreeClassifier\n",
    "from sklearn.ensemble import BaggingClassifier, RandomForestClassifier\n",
    "from sklearn.metrics import accuracy_score, confusion_matrix, precision_score, recall_score, f1_score, classification_report\n",
    "from sklearn.ensemble import AdaBoostClassifier\n",
    "from sklearn.ensemble import GradientBoostingClassifier\n",
    "from sklearn.metrics import mean_squared_error\n",
    "from sklearn.metrics import ConfusionMatrixDisplay"
   ]
  },
  {
   "cell_type": "code",
   "execution_count": 40,
   "metadata": {},
   "outputs": [
    {
     "data": {
      "text/html": [
       "<div>\n",
       "<style scoped>\n",
       "    .dataframe tbody tr th:only-of-type {\n",
       "        vertical-align: middle;\n",
       "    }\n",
       "\n",
       "    .dataframe tbody tr th {\n",
       "        vertical-align: top;\n",
       "    }\n",
       "\n",
       "    .dataframe thead th {\n",
       "        text-align: right;\n",
       "    }\n",
       "</style>\n",
       "<table border=\"1\" class=\"dataframe\">\n",
       "  <thead>\n",
       "    <tr style=\"text-align: right;\">\n",
       "      <th></th>\n",
       "      <th>ID</th>\n",
       "      <th>NUMBER_OF_REQUESTS</th>\n",
       "      <th>TOTAL_DURATION</th>\n",
       "      <th>AVERAGE_TIME</th>\n",
       "      <th>STANDARD_DEVIATION</th>\n",
       "      <th>REPEATED_REQUESTS</th>\n",
       "      <th>HTTP_RESPONSE_2XX</th>\n",
       "      <th>HTTP_RESPONSE_3XX</th>\n",
       "      <th>HTTP_RESPONSE_4XX</th>\n",
       "      <th>HTTP_RESPONSE_5XX</th>\n",
       "      <th>...</th>\n",
       "      <th>DEPTH</th>\n",
       "      <th>STD_DEPTH</th>\n",
       "      <th>CONSECUTIVE</th>\n",
       "      <th>DATA</th>\n",
       "      <th>PPI</th>\n",
       "      <th>SF_REFERRER</th>\n",
       "      <th>SF_FILETYPE</th>\n",
       "      <th>MAX_BARRAGE</th>\n",
       "      <th>PENALTY</th>\n",
       "      <th>ROBOT</th>\n",
       "    </tr>\n",
       "  </thead>\n",
       "  <tbody>\n",
       "    <tr>\n",
       "      <th>0</th>\n",
       "      <td>obSnwGoBCue8G08E_WCX</td>\n",
       "      <td>79</td>\n",
       "      <td>592</td>\n",
       "      <td>7.589744</td>\n",
       "      <td>1.800540</td>\n",
       "      <td>0.000000</td>\n",
       "      <td>0.873418</td>\n",
       "      <td>0.126582</td>\n",
       "      <td>0.000000</td>\n",
       "      <td>0.000000</td>\n",
       "      <td>...</td>\n",
       "      <td>4.0</td>\n",
       "      <td>0.494041</td>\n",
       "      <td>0.101266</td>\n",
       "      <td>1555089.0</td>\n",
       "      <td>2.718334e+07</td>\n",
       "      <td>0.000000</td>\n",
       "      <td>0.205128</td>\n",
       "      <td>1</td>\n",
       "      <td>0</td>\n",
       "      <td>1</td>\n",
       "    </tr>\n",
       "    <tr>\n",
       "      <th>1</th>\n",
       "      <td>nLSnwGoBCue8G08E_WCX</td>\n",
       "      <td>350</td>\n",
       "      <td>103621</td>\n",
       "      <td>296.908300</td>\n",
       "      <td>260.332670</td>\n",
       "      <td>0.000000</td>\n",
       "      <td>0.997143</td>\n",
       "      <td>0.000000</td>\n",
       "      <td>0.002857</td>\n",
       "      <td>0.000000</td>\n",
       "      <td>...</td>\n",
       "      <td>6.0</td>\n",
       "      <td>0.341303</td>\n",
       "      <td>0.425714</td>\n",
       "      <td>2071344.0</td>\n",
       "      <td>1.427714e+01</td>\n",
       "      <td>0.547278</td>\n",
       "      <td>0.461318</td>\n",
       "      <td>4</td>\n",
       "      <td>0</td>\n",
       "      <td>1</td>\n",
       "    </tr>\n",
       "    <tr>\n",
       "      <th>2</th>\n",
       "      <td>ErSowGoBCue8G08ECmHa</td>\n",
       "      <td>15</td>\n",
       "      <td>368</td>\n",
       "      <td>26.285715</td>\n",
       "      <td>87.329780</td>\n",
       "      <td>0.000000</td>\n",
       "      <td>1.000000</td>\n",
       "      <td>0.000000</td>\n",
       "      <td>0.000000</td>\n",
       "      <td>0.000000</td>\n",
       "      <td>...</td>\n",
       "      <td>3.0</td>\n",
       "      <td>0.000000</td>\n",
       "      <td>0.000000</td>\n",
       "      <td>49505.0</td>\n",
       "      <td>1.413333e+01</td>\n",
       "      <td>0.642857</td>\n",
       "      <td>1.000000</td>\n",
       "      <td>2</td>\n",
       "      <td>0</td>\n",
       "      <td>0</td>\n",
       "    </tr>\n",
       "    <tr>\n",
       "      <th>3</th>\n",
       "      <td>E7SowGoBCue8G08ECmHa</td>\n",
       "      <td>28</td>\n",
       "      <td>11</td>\n",
       "      <td>0.407407</td>\n",
       "      <td>1.097447</td>\n",
       "      <td>0.000000</td>\n",
       "      <td>1.000000</td>\n",
       "      <td>0.000000</td>\n",
       "      <td>0.000000</td>\n",
       "      <td>0.000000</td>\n",
       "      <td>...</td>\n",
       "      <td>3.0</td>\n",
       "      <td>0.000000</td>\n",
       "      <td>0.821429</td>\n",
       "      <td>45984.0</td>\n",
       "      <td>1.332143e+01</td>\n",
       "      <td>0.037037</td>\n",
       "      <td>0.148148</td>\n",
       "      <td>5</td>\n",
       "      <td>0</td>\n",
       "      <td>0</td>\n",
       "    </tr>\n",
       "    <tr>\n",
       "      <th>4</th>\n",
       "      <td>FbSowGoBCue8G08ECmHa</td>\n",
       "      <td>9342</td>\n",
       "      <td>80946</td>\n",
       "      <td>8.665668</td>\n",
       "      <td>17.566462</td>\n",
       "      <td>0.000107</td>\n",
       "      <td>0.996896</td>\n",
       "      <td>0.002569</td>\n",
       "      <td>0.000214</td>\n",
       "      <td>0.000321</td>\n",
       "      <td>...</td>\n",
       "      <td>4.0</td>\n",
       "      <td>0.152943</td>\n",
       "      <td>0.953757</td>\n",
       "      <td>83171793.0</td>\n",
       "      <td>1.307407e+01</td>\n",
       "      <td>0.000000</td>\n",
       "      <td>0.023552</td>\n",
       "      <td>1</td>\n",
       "      <td>0</td>\n",
       "      <td>1</td>\n",
       "    </tr>\n",
       "  </tbody>\n",
       "</table>\n",
       "<p>5 rows × 32 columns</p>\n",
       "</div>"
      ],
      "text/plain": [
       "                     ID  NUMBER_OF_REQUESTS  TOTAL_DURATION  AVERAGE_TIME   \n",
       "0  obSnwGoBCue8G08E_WCX                  79             592      7.589744  \\\n",
       "1  nLSnwGoBCue8G08E_WCX                 350          103621    296.908300   \n",
       "2  ErSowGoBCue8G08ECmHa                  15             368     26.285715   \n",
       "3  E7SowGoBCue8G08ECmHa                  28              11      0.407407   \n",
       "4  FbSowGoBCue8G08ECmHa                9342           80946      8.665668   \n",
       "\n",
       "   STANDARD_DEVIATION  REPEATED_REQUESTS  HTTP_RESPONSE_2XX   \n",
       "0            1.800540           0.000000           0.873418  \\\n",
       "1          260.332670           0.000000           0.997143   \n",
       "2           87.329780           0.000000           1.000000   \n",
       "3            1.097447           0.000000           1.000000   \n",
       "4           17.566462           0.000107           0.996896   \n",
       "\n",
       "   HTTP_RESPONSE_3XX  HTTP_RESPONSE_4XX  HTTP_RESPONSE_5XX  ...  DEPTH   \n",
       "0           0.126582           0.000000           0.000000  ...    4.0  \\\n",
       "1           0.000000           0.002857           0.000000  ...    6.0   \n",
       "2           0.000000           0.000000           0.000000  ...    3.0   \n",
       "3           0.000000           0.000000           0.000000  ...    3.0   \n",
       "4           0.002569           0.000214           0.000321  ...    4.0   \n",
       "\n",
       "   STD_DEPTH  CONSECUTIVE        DATA           PPI  SF_REFERRER  SF_FILETYPE   \n",
       "0   0.494041     0.101266   1555089.0  2.718334e+07     0.000000     0.205128  \\\n",
       "1   0.341303     0.425714   2071344.0  1.427714e+01     0.547278     0.461318   \n",
       "2   0.000000     0.000000     49505.0  1.413333e+01     0.642857     1.000000   \n",
       "3   0.000000     0.821429     45984.0  1.332143e+01     0.037037     0.148148   \n",
       "4   0.152943     0.953757  83171793.0  1.307407e+01     0.000000     0.023552   \n",
       "\n",
       "   MAX_BARRAGE  PENALTY  ROBOT  \n",
       "0            1        0      1  \n",
       "1            4        0      1  \n",
       "2            2        0      0  \n",
       "3            5        0      0  \n",
       "4            1        0      1  \n",
       "\n",
       "[5 rows x 32 columns]"
      ]
     },
     "execution_count": 40,
     "metadata": {},
     "output_type": "execute_result"
    }
   ],
   "source": [
    "df = pd.read_csv('../data/weblogs1.csv')\n",
    "df.head()"
   ]
  },
  {
   "attachments": {},
   "cell_type": "markdown",
   "metadata": {},
   "source": [
    "# Data begrijpen en cleanen"
   ]
  },
  {
   "attachments": {},
   "cell_type": "markdown",
   "metadata": {},
   "source": [
    "ID droppen"
   ]
  },
  {
   "cell_type": "code",
   "execution_count": 41,
   "metadata": {},
   "outputs": [],
   "source": [
    "df = df.drop(['ID'], axis=1)"
   ]
  },
  {
   "attachments": {},
   "cell_type": "markdown",
   "metadata": {},
   "source": [
    "Opsplitsen in X en y"
   ]
  },
  {
   "cell_type": "code",
   "execution_count": 42,
   "metadata": {},
   "outputs": [],
   "source": [
    "X = df.drop(['ROBOT'], axis=1)\n",
    "y = df['ROBOT']"
   ]
  },
  {
   "cell_type": "code",
   "execution_count": 43,
   "metadata": {},
   "outputs": [
    {
     "name": "stdout",
     "output_type": "stream",
     "text": [
      "<class 'pandas.core.frame.DataFrame'>\n",
      "RangeIndex: 63984 entries, 0 to 63983\n",
      "Data columns (total 30 columns):\n",
      " #   Column              Non-Null Count  Dtype  \n",
      "---  ------              --------------  -----  \n",
      " 0   NUMBER_OF_REQUESTS  63984 non-null  int64  \n",
      " 1   TOTAL_DURATION      63984 non-null  int64  \n",
      " 2   AVERAGE_TIME        63984 non-null  float64\n",
      " 3   STANDARD_DEVIATION  50464 non-null  float64\n",
      " 4   REPEATED_REQUESTS   63984 non-null  float64\n",
      " 5   HTTP_RESPONSE_2XX   63984 non-null  float64\n",
      " 6   HTTP_RESPONSE_3XX   63984 non-null  float64\n",
      " 7   HTTP_RESPONSE_4XX   63984 non-null  float64\n",
      " 8   HTTP_RESPONSE_5XX   63984 non-null  float64\n",
      " 9   GET_METHOD          63984 non-null  float64\n",
      " 10  POST_METHOD         63984 non-null  float64\n",
      " 11  HEAD_METHOD         63984 non-null  float64\n",
      " 12  OTHER_METHOD        63984 non-null  float64\n",
      " 13  NIGHT               63984 non-null  float64\n",
      " 14  UNASSIGNED          63984 non-null  float64\n",
      " 15  IMAGES              63984 non-null  float64\n",
      " 16  TOTAL_HTML          63984 non-null  float64\n",
      " 17  HTML_TO_IMAGE       63984 non-null  float64\n",
      " 18  HTML_TO_CSS         63984 non-null  float64\n",
      " 19  HTML_TO_JS          63984 non-null  float64\n",
      " 20  WIDTH               63984 non-null  float64\n",
      " 21  DEPTH               63984 non-null  float64\n",
      " 22  STD_DEPTH           63984 non-null  float64\n",
      " 23  CONSECUTIVE         63984 non-null  float64\n",
      " 24  DATA                63984 non-null  float64\n",
      " 25  PPI                 63984 non-null  float64\n",
      " 26  SF_REFERRER         50464 non-null  float64\n",
      " 27  SF_FILETYPE         50464 non-null  float64\n",
      " 28  MAX_BARRAGE         63984 non-null  int64  \n",
      " 29  PENALTY             63984 non-null  int64  \n",
      "dtypes: float64(26), int64(4)\n",
      "memory usage: 14.6 MB\n"
     ]
    }
   ],
   "source": [
    "X.info()"
   ]
  },
  {
   "attachments": {},
   "cell_type": "markdown",
   "metadata": {},
   "source": [
    "##### STANDARD_DEVIATION,  SF_FILETYPE en SF_REFERRER --> hebben NaN waarden\n",
    "\n",
    "Ik probeer 3 verschillende manieren om deze NaN waarden weg te halen --> Opvullen met 0, opvullen met mean() of weglaten"
   ]
  },
  {
   "attachments": {},
   "cell_type": "markdown",
   "metadata": {},
   "source": [
    "Standaard Deviatie van X zonder iets met de NaN waarden te doen"
   ]
  },
  {
   "cell_type": "code",
   "execution_count": 44,
   "metadata": {},
   "outputs": [
    {
     "data": {
      "text/plain": [
       "NUMBER_OF_REQUESTS    1.722727e+02\n",
       "TOTAL_DURATION        8.157862e+03\n",
       "AVERAGE_TIME          1.490608e+02\n",
       "STANDARD_DEVIATION    8.978187e+01\n",
       "REPEATED_REQUESTS     7.914311e-02\n",
       "HTTP_RESPONSE_2XX     1.119087e-01\n",
       "HTTP_RESPONSE_3XX     5.808109e-02\n",
       "HTTP_RESPONSE_4XX     9.242231e-02\n",
       "HTTP_RESPONSE_5XX     2.682978e-02\n",
       "GET_METHOD            5.350689e-02\n",
       "POST_METHOD           3.069653e-02\n",
       "HEAD_METHOD           4.334045e-02\n",
       "OTHER_METHOD          7.923595e-03\n",
       "NIGHT                 2.535975e-01\n",
       "UNASSIGNED            4.220529e-01\n",
       "IMAGES                3.043695e-01\n",
       "TOTAL_HTML            3.502534e-01\n",
       "HTML_TO_IMAGE         5.076280e+00\n",
       "HTML_TO_CSS           1.682400e+00\n",
       "HTML_TO_JS            2.691020e+00\n",
       "WIDTH                 1.505691e+02\n",
       "DEPTH                 1.489222e+00\n",
       "STD_DEPTH             5.980652e-01\n",
       "CONSECUTIVE           2.797053e-01\n",
       "DATA                  1.964707e+06\n",
       "PPI                   3.932926e+07\n",
       "SF_REFERRER           2.437967e-01\n",
       "SF_FILETYPE           2.482409e-01\n",
       "MAX_BARRAGE           1.960247e+01\n",
       "PENALTY               5.836344e+00\n",
       "dtype: float64"
      ]
     },
     "execution_count": 44,
     "metadata": {},
     "output_type": "execute_result"
    }
   ],
   "source": [
    "X.std()"
   ]
  },
  {
   "attachments": {},
   "cell_type": "markdown",
   "metadata": {},
   "source": [
    "### X opvullen met nullen"
   ]
  },
  {
   "cell_type": "code",
   "execution_count": 45,
   "metadata": {},
   "outputs": [
    {
     "data": {
      "text/plain": [
       "NUMBER_OF_REQUESTS    1.722727e+02\n",
       "TOTAL_DURATION        8.157862e+03\n",
       "AVERAGE_TIME          1.490608e+02\n",
       "STANDARD_DEVIATION    8.141242e+01\n",
       "REPEATED_REQUESTS     7.914311e-02\n",
       "HTTP_RESPONSE_2XX     1.119087e-01\n",
       "HTTP_RESPONSE_3XX     5.808109e-02\n",
       "HTTP_RESPONSE_4XX     9.242231e-02\n",
       "HTTP_RESPONSE_5XX     2.682978e-02\n",
       "GET_METHOD            5.350689e-02\n",
       "POST_METHOD           3.069653e-02\n",
       "HEAD_METHOD           4.334045e-02\n",
       "OTHER_METHOD          7.923595e-03\n",
       "NIGHT                 2.535975e-01\n",
       "UNASSIGNED            4.220529e-01\n",
       "IMAGES                3.043695e-01\n",
       "TOTAL_HTML            3.502534e-01\n",
       "HTML_TO_IMAGE         5.076280e+00\n",
       "HTML_TO_CSS           1.682400e+00\n",
       "HTML_TO_JS            2.691020e+00\n",
       "WIDTH                 1.505691e+02\n",
       "DEPTH                 1.489222e+00\n",
       "STD_DEPTH             5.980652e-01\n",
       "CONSECUTIVE           2.797053e-01\n",
       "DATA                  1.964707e+06\n",
       "PPI                   3.932926e+07\n",
       "SF_REFERRER           2.414714e-01\n",
       "SF_FILETYPE           2.709217e-01\n",
       "MAX_BARRAGE           1.960247e+01\n",
       "PENALTY               5.836344e+00\n",
       "dtype: float64"
      ]
     },
     "execution_count": 45,
     "metadata": {},
     "output_type": "execute_result"
    }
   ],
   "source": [
    "X_zero = X.copy()\n",
    "X_zero = X.fillna(0)\n",
    "X_zero.std()"
   ]
  },
  {
   "attachments": {},
   "cell_type": "markdown",
   "metadata": {},
   "source": [
    "Bij STANDARD_DEVIATION is er bijna een verschil van 1.0 bij de std()\n",
    "\n",
    "Bij SF_REFERRER is er maar een verschil van ongv. 0.025\n",
    "\n",
    "Bij SF_FILETYPE zien we een verschil van ongv. 0.225"
   ]
  },
  {
   "attachments": {},
   "cell_type": "markdown",
   "metadata": {},
   "source": [
    "Dit lijkt mij een te grote afwijking --> fillna(X.mean()) testen"
   ]
  },
  {
   "attachments": {},
   "cell_type": "markdown",
   "metadata": {},
   "source": [
    "### Opvullen met mean()"
   ]
  },
  {
   "cell_type": "code",
   "execution_count": 46,
   "metadata": {},
   "outputs": [
    {
     "data": {
      "text/plain": [
       "NUMBER_OF_REQUESTS    1.722727e+02\n",
       "TOTAL_DURATION        8.157862e+03\n",
       "AVERAGE_TIME          1.490608e+02\n",
       "STANDARD_DEVIATION    8.978187e+01\n",
       "REPEATED_REQUESTS     7.914311e-02\n",
       "HTTP_RESPONSE_2XX     1.119087e-01\n",
       "HTTP_RESPONSE_3XX     5.808109e-02\n",
       "HTTP_RESPONSE_4XX     9.242231e-02\n",
       "HTTP_RESPONSE_5XX     2.682978e-02\n",
       "GET_METHOD            5.350689e-02\n",
       "POST_METHOD           3.069653e-02\n",
       "HEAD_METHOD           4.334045e-02\n",
       "OTHER_METHOD          7.923595e-03\n",
       "NIGHT                 2.535975e-01\n",
       "UNASSIGNED            4.220529e-01\n",
       "IMAGES                3.043695e-01\n",
       "TOTAL_HTML            3.502534e-01\n",
       "HTML_TO_IMAGE         5.076280e+00\n",
       "HTML_TO_CSS           1.682400e+00\n",
       "HTML_TO_JS            2.691020e+00\n",
       "WIDTH                 1.505691e+02\n",
       "DEPTH                 1.489222e+00\n",
       "STD_DEPTH             5.980652e-01\n",
       "CONSECUTIVE           2.797053e-01\n",
       "DATA                  1.964707e+06\n",
       "PPI                   3.932926e+07\n",
       "SF_REFERRER           2.437967e-01\n",
       "SF_FILETYPE           2.482409e-01\n",
       "MAX_BARRAGE           1.960247e+01\n",
       "PENALTY               5.836344e+00\n",
       "dtype: float64"
      ]
     },
     "execution_count": 46,
     "metadata": {},
     "output_type": "execute_result"
    }
   ],
   "source": [
    "X_mean = X.copy()\n",
    "X_mean = X.fillna(X.mean())\n",
    "X.std()"
   ]
  },
  {
   "attachments": {},
   "cell_type": "markdown",
   "metadata": {},
   "source": [
    "Hier zien we nog een grotere afwijking --> Features met Nan-Values droppen"
   ]
  },
  {
   "attachments": {},
   "cell_type": "markdown",
   "metadata": {},
   "source": [
    "### Features met Nan-values droppen"
   ]
  },
  {
   "cell_type": "code",
   "execution_count": 47,
   "metadata": {},
   "outputs": [],
   "source": [
    "X_drop = X.copy()\n",
    "X_drop = X.drop(['STANDARD_DEVIATION', 'SF_REFERRER', 'SF_FILETYPE'], axis=1)"
   ]
  },
  {
   "attachments": {},
   "cell_type": "markdown",
   "metadata": {},
   "source": [
    "### Train en test opsplitsen voor alle soorten X (zero, mean, drop)"
   ]
  },
  {
   "cell_type": "code",
   "execution_count": 48,
   "metadata": {},
   "outputs": [
    {
     "name": "stdout",
     "output_type": "stream",
     "text": [
      "(51187, 30) (12797, 30) (51187,) (12797,)\n"
     ]
    }
   ],
   "source": [
    "X_zero_train, X_zero_test, y_train, y_test = train_test_split(X_zero, y, test_size=0.2, random_state=42)\n",
    "\n",
    "print(X_zero_train.shape, X_zero_test.shape, y_train.shape, y_test.shape)"
   ]
  },
  {
   "cell_type": "code",
   "execution_count": 49,
   "metadata": {},
   "outputs": [
    {
     "name": "stdout",
     "output_type": "stream",
     "text": [
      "(51187, 30) (12797, 30) (51187,) (12797,)\n"
     ]
    }
   ],
   "source": [
    "X_mean_train, X_mean_test, y_train, y_test = train_test_split(X_mean, y, test_size=0.2, random_state=42)\n",
    "\n",
    "print(X_mean_train.shape, X_mean_test.shape, y_train.shape, y_test.shape)"
   ]
  },
  {
   "cell_type": "code",
   "execution_count": 50,
   "metadata": {},
   "outputs": [
    {
     "name": "stdout",
     "output_type": "stream",
     "text": [
      "(51187, 27) (12797, 27) (51187,) (12797,)\n"
     ]
    }
   ],
   "source": [
    "X_drop_train, X_drop_test, y_train, y_test = train_test_split(X_drop, y, test_size=0.2, random_state=42)\n",
    "\n",
    "print(X_drop_train.shape, X_drop_test.shape, y_train.shape, y_test.shape)"
   ]
  },
  {
   "attachments": {},
   "cell_type": "markdown",
   "metadata": {},
   "source": [
    "# DecisionTreeClassifier trainen en testen\n",
    "\n",
    "Nu ga ik de verschillende manieren om NaN waarden op te vullen / weg te laten testen op een decision tree classifier en de resultaten vergelijken"
   ]
  },
  {
   "attachments": {},
   "cell_type": "markdown",
   "metadata": {},
   "source": [
    "#### DecisionTreeClassifier best estimator zoeken met grid search cv"
   ]
  },
  {
   "attachments": {},
   "cell_type": "markdown",
   "metadata": {},
   "source": [
    "##### X_zero"
   ]
  },
  {
   "cell_type": "code",
   "execution_count": 51,
   "metadata": {},
   "outputs": [
    {
     "name": "stdout",
     "output_type": "stream",
     "text": [
      "{'max_depth': 15}\n",
      "\n",
      "\n",
      "0.97593185902946\n",
      "\n",
      "\n",
      "              precision    recall  f1-score   support\n",
      "\n",
      "           0       0.99      0.98      0.99     10337\n",
      "           1       0.94      0.94      0.94      2460\n",
      "\n",
      "    accuracy                           0.98     12797\n",
      "   macro avg       0.96      0.96      0.96     12797\n",
      "weighted avg       0.98      0.98      0.98     12797\n",
      "\n",
      "\n",
      "\n",
      "[[0.98 0.02]\n",
      " [0.06 0.94]]\n",
      "\n",
      "\n"
     ]
    }
   ],
   "source": [
    "grid_search_zero = GridSearchCV(DecisionTreeClassifier(random_state=42), param_grid={'max_depth': np.arange(2, 31)}, cv=5, scoring='accuracy', return_train_score=True, n_jobs=-1)\n",
    "\n",
    "grid_search_zero.fit(X_zero_train, y_train)\n",
    "\n",
    "print(grid_search_zero.best_params_)\n",
    "print(\"\\n\")\n",
    "\n",
    "y_pred_0 = grid_search_zero.predict(X_zero_test)\n",
    "\n",
    "print(accuracy_score(y_test, y_pred_0))\n",
    "print(\"\\n\")\n",
    "\n",
    "print(classification_report(y_test, y_pred_0))\n",
    "print(\"\\n\")\n",
    "\n",
    "cm_0 = np.round(confusion_matrix(y_test, y_pred_0, normalize='true'), 2)\n",
    "\n",
    "print(cm_0)\n",
    "print(\"\\n\")"
   ]
  },
  {
   "attachments": {},
   "cell_type": "markdown",
   "metadata": {},
   "source": [
    "##### X_mean"
   ]
  },
  {
   "cell_type": "code",
   "execution_count": 52,
   "metadata": {},
   "outputs": [
    {
     "name": "stdout",
     "output_type": "stream",
     "text": [
      "{'max_depth': 15}\n",
      "\n",
      "\n",
      "0.9754629991404236\n",
      "\n",
      "\n",
      "              precision    recall  f1-score   support\n",
      "\n",
      "           0       0.99      0.98      0.98     10337\n",
      "           1       0.94      0.94      0.94      2460\n",
      "\n",
      "    accuracy                           0.98     12797\n",
      "   macro avg       0.96      0.96      0.96     12797\n",
      "weighted avg       0.98      0.98      0.98     12797\n",
      "\n",
      "\n",
      "\n",
      "[[0.98 0.02]\n",
      " [0.06 0.94]]\n",
      "\n",
      "\n"
     ]
    }
   ],
   "source": [
    "grid_search_mean = GridSearchCV(DecisionTreeClassifier(random_state=42), param_grid={'max_depth': np.arange(2, 31)}, cv=5, scoring='accuracy', return_train_score=True, n_jobs=-1)\n",
    "\n",
    "grid_search_mean.fit(X_mean_train, y_train)\n",
    "\n",
    "print(grid_search_mean.best_params_)\n",
    "print(\"\\n\")\n",
    "\n",
    "y_pred_mean = grid_search_mean.predict(X_mean_test)\n",
    "\n",
    "print(accuracy_score(y_test, y_pred_mean))\n",
    "print(\"\\n\")\n",
    "\n",
    "print(classification_report(y_test, y_pred_mean))\n",
    "print(\"\\n\")\n",
    "\n",
    "cm_mean = np.round(confusion_matrix(y_test, y_pred_mean, normalize='true'), 2)\n",
    "\n",
    "print(cm_mean)\n",
    "print(\"\\n\")"
   ]
  },
  {
   "attachments": {},
   "cell_type": "markdown",
   "metadata": {},
   "source": [
    "##### X_drop"
   ]
  },
  {
   "cell_type": "code",
   "execution_count": 53,
   "metadata": {},
   "outputs": [
    {
     "name": "stdout",
     "output_type": "stream",
     "text": [
      "{'max_depth': 16}\n",
      "\n",
      "\n",
      "0.97593185902946\n",
      "\n",
      "\n",
      "              precision    recall  f1-score   support\n",
      "\n",
      "           0       0.99      0.98      0.99     10337\n",
      "           1       0.93      0.94      0.94      2460\n",
      "\n",
      "    accuracy                           0.98     12797\n",
      "   macro avg       0.96      0.96      0.96     12797\n",
      "weighted avg       0.98      0.98      0.98     12797\n",
      "\n",
      "\n",
      "\n",
      "[[0.98 0.02]\n",
      " [0.06 0.94]]\n",
      "\n",
      "\n"
     ]
    }
   ],
   "source": [
    "grid_search_drop = GridSearchCV(DecisionTreeClassifier(random_state=42), param_grid={'max_depth': np.arange(2, 31)}, cv=5, scoring='accuracy', return_train_score=True, n_jobs=-1)\n",
    "\n",
    "grid_search_drop.fit(X_drop_train, y_train)\n",
    "\n",
    "print(grid_search_drop.best_params_)\n",
    "print(\"\\n\")\n",
    "\n",
    "y_pred_drop = grid_search_drop.predict(X_drop_test)\n",
    "\n",
    "print(accuracy_score(y_test, y_pred_drop))\n",
    "print(\"\\n\")\n",
    "\n",
    "print(classification_report(y_test, y_pred_drop))\n",
    "print(\"\\n\")\n",
    "\n",
    "cm_drop = np.round(confusion_matrix(y_test, y_pred_drop, normalize='true'), 2)\n",
    "\n",
    "print(cm_drop)\n",
    "print(\"\\n\")"
   ]
  },
  {
   "attachments": {},
   "cell_type": "markdown",
   "metadata": {},
   "source": [
    "#### Geen groot verschil tussen de 3 verschillende X'en"
   ]
  },
  {
   "attachments": {},
   "cell_type": "markdown",
   "metadata": {},
   "source": [
    "### Feature Importance bekijken"
   ]
  },
  {
   "attachments": {},
   "cell_type": "markdown",
   "metadata": {},
   "source": [
    "##### X met nullen opgevuld"
   ]
  },
  {
   "cell_type": "code",
   "execution_count": 54,
   "metadata": {},
   "outputs": [
    {
     "data": {
      "text/html": [
       "<div>\n",
       "<style scoped>\n",
       "    .dataframe tbody tr th:only-of-type {\n",
       "        vertical-align: middle;\n",
       "    }\n",
       "\n",
       "    .dataframe tbody tr th {\n",
       "        vertical-align: top;\n",
       "    }\n",
       "\n",
       "    .dataframe thead th {\n",
       "        text-align: right;\n",
       "    }\n",
       "</style>\n",
       "<table border=\"1\" class=\"dataframe\">\n",
       "  <thead>\n",
       "    <tr style=\"text-align: right;\">\n",
       "      <th></th>\n",
       "      <th>feature</th>\n",
       "      <th>importance</th>\n",
       "    </tr>\n",
       "  </thead>\n",
       "  <tbody>\n",
       "    <tr>\n",
       "      <th>14</th>\n",
       "      <td>UNASSIGNED</td>\n",
       "      <td>0.708215</td>\n",
       "    </tr>\n",
       "    <tr>\n",
       "      <th>24</th>\n",
       "      <td>DATA</td>\n",
       "      <td>0.076482</td>\n",
       "    </tr>\n",
       "    <tr>\n",
       "      <th>29</th>\n",
       "      <td>PENALTY</td>\n",
       "      <td>0.036966</td>\n",
       "    </tr>\n",
       "    <tr>\n",
       "      <th>25</th>\n",
       "      <td>PPI</td>\n",
       "      <td>0.036920</td>\n",
       "    </tr>\n",
       "    <tr>\n",
       "      <th>19</th>\n",
       "      <td>HTML_TO_JS</td>\n",
       "      <td>0.026028</td>\n",
       "    </tr>\n",
       "    <tr>\n",
       "      <th>5</th>\n",
       "      <td>HTTP_RESPONSE_2XX</td>\n",
       "      <td>0.023320</td>\n",
       "    </tr>\n",
       "    <tr>\n",
       "      <th>16</th>\n",
       "      <td>TOTAL_HTML</td>\n",
       "      <td>0.015436</td>\n",
       "    </tr>\n",
       "    <tr>\n",
       "      <th>2</th>\n",
       "      <td>AVERAGE_TIME</td>\n",
       "      <td>0.015053</td>\n",
       "    </tr>\n",
       "    <tr>\n",
       "      <th>1</th>\n",
       "      <td>TOTAL_DURATION</td>\n",
       "      <td>0.009435</td>\n",
       "    </tr>\n",
       "    <tr>\n",
       "      <th>22</th>\n",
       "      <td>STD_DEPTH</td>\n",
       "      <td>0.006527</td>\n",
       "    </tr>\n",
       "    <tr>\n",
       "      <th>27</th>\n",
       "      <td>SF_FILETYPE</td>\n",
       "      <td>0.005862</td>\n",
       "    </tr>\n",
       "    <tr>\n",
       "      <th>23</th>\n",
       "      <td>CONSECUTIVE</td>\n",
       "      <td>0.005622</td>\n",
       "    </tr>\n",
       "    <tr>\n",
       "      <th>21</th>\n",
       "      <td>DEPTH</td>\n",
       "      <td>0.005602</td>\n",
       "    </tr>\n",
       "    <tr>\n",
       "      <th>28</th>\n",
       "      <td>MAX_BARRAGE</td>\n",
       "      <td>0.005112</td>\n",
       "    </tr>\n",
       "    <tr>\n",
       "      <th>15</th>\n",
       "      <td>IMAGES</td>\n",
       "      <td>0.004760</td>\n",
       "    </tr>\n",
       "    <tr>\n",
       "      <th>13</th>\n",
       "      <td>NIGHT</td>\n",
       "      <td>0.003333</td>\n",
       "    </tr>\n",
       "    <tr>\n",
       "      <th>0</th>\n",
       "      <td>NUMBER_OF_REQUESTS</td>\n",
       "      <td>0.003281</td>\n",
       "    </tr>\n",
       "    <tr>\n",
       "      <th>3</th>\n",
       "      <td>STANDARD_DEVIATION</td>\n",
       "      <td>0.002630</td>\n",
       "    </tr>\n",
       "    <tr>\n",
       "      <th>9</th>\n",
       "      <td>GET_METHOD</td>\n",
       "      <td>0.002102</td>\n",
       "    </tr>\n",
       "    <tr>\n",
       "      <th>17</th>\n",
       "      <td>HTML_TO_IMAGE</td>\n",
       "      <td>0.001670</td>\n",
       "    </tr>\n",
       "    <tr>\n",
       "      <th>18</th>\n",
       "      <td>HTML_TO_CSS</td>\n",
       "      <td>0.001499</td>\n",
       "    </tr>\n",
       "    <tr>\n",
       "      <th>20</th>\n",
       "      <td>WIDTH</td>\n",
       "      <td>0.000983</td>\n",
       "    </tr>\n",
       "    <tr>\n",
       "      <th>4</th>\n",
       "      <td>REPEATED_REQUESTS</td>\n",
       "      <td>0.000870</td>\n",
       "    </tr>\n",
       "    <tr>\n",
       "      <th>11</th>\n",
       "      <td>HEAD_METHOD</td>\n",
       "      <td>0.000861</td>\n",
       "    </tr>\n",
       "    <tr>\n",
       "      <th>8</th>\n",
       "      <td>HTTP_RESPONSE_5XX</td>\n",
       "      <td>0.000735</td>\n",
       "    </tr>\n",
       "    <tr>\n",
       "      <th>26</th>\n",
       "      <td>SF_REFERRER</td>\n",
       "      <td>0.000305</td>\n",
       "    </tr>\n",
       "    <tr>\n",
       "      <th>7</th>\n",
       "      <td>HTTP_RESPONSE_4XX</td>\n",
       "      <td>0.000239</td>\n",
       "    </tr>\n",
       "    <tr>\n",
       "      <th>6</th>\n",
       "      <td>HTTP_RESPONSE_3XX</td>\n",
       "      <td>0.000149</td>\n",
       "    </tr>\n",
       "    <tr>\n",
       "      <th>12</th>\n",
       "      <td>OTHER_METHOD</td>\n",
       "      <td>0.000000</td>\n",
       "    </tr>\n",
       "    <tr>\n",
       "      <th>10</th>\n",
       "      <td>POST_METHOD</td>\n",
       "      <td>0.000000</td>\n",
       "    </tr>\n",
       "  </tbody>\n",
       "</table>\n",
       "</div>"
      ],
      "text/plain": [
       "               feature  importance\n",
       "14          UNASSIGNED    0.708215\n",
       "24                DATA    0.076482\n",
       "29             PENALTY    0.036966\n",
       "25                 PPI    0.036920\n",
       "19          HTML_TO_JS    0.026028\n",
       "5    HTTP_RESPONSE_2XX    0.023320\n",
       "16          TOTAL_HTML    0.015436\n",
       "2         AVERAGE_TIME    0.015053\n",
       "1       TOTAL_DURATION    0.009435\n",
       "22           STD_DEPTH    0.006527\n",
       "27         SF_FILETYPE    0.005862\n",
       "23         CONSECUTIVE    0.005622\n",
       "21               DEPTH    0.005602\n",
       "28         MAX_BARRAGE    0.005112\n",
       "15              IMAGES    0.004760\n",
       "13               NIGHT    0.003333\n",
       "0   NUMBER_OF_REQUESTS    0.003281\n",
       "3   STANDARD_DEVIATION    0.002630\n",
       "9           GET_METHOD    0.002102\n",
       "17       HTML_TO_IMAGE    0.001670\n",
       "18         HTML_TO_CSS    0.001499\n",
       "20               WIDTH    0.000983\n",
       "4    REPEATED_REQUESTS    0.000870\n",
       "11         HEAD_METHOD    0.000861\n",
       "8    HTTP_RESPONSE_5XX    0.000735\n",
       "26         SF_REFERRER    0.000305\n",
       "7    HTTP_RESPONSE_4XX    0.000239\n",
       "6    HTTP_RESPONSE_3XX    0.000149\n",
       "12        OTHER_METHOD    0.000000\n",
       "10         POST_METHOD    0.000000"
      ]
     },
     "execution_count": 54,
     "metadata": {},
     "output_type": "execute_result"
    }
   ],
   "source": [
    "features_0 = X_zero.columns\n",
    "\n",
    "dt_clf_0 = DecisionTreeClassifier(random_state=42, max_depth=17)\n",
    "dt_clf_0.fit(X_zero_train, y_train)\n",
    "\n",
    "importances_0 = dt_clf_0.feature_importances_\n",
    "\n",
    "df_importances_0 = pd.DataFrame({'feature': features_0, 'importance': importances_0})\n",
    "df_importances_0 = df_importances_0.sort_values(by='importance', ascending=False)\n",
    "df_importances_0"
   ]
  },
  {
   "attachments": {},
   "cell_type": "markdown",
   "metadata": {},
   "source": [
    "#### X met mean opgevuld"
   ]
  },
  {
   "cell_type": "code",
   "execution_count": 55,
   "metadata": {},
   "outputs": [
    {
     "data": {
      "text/html": [
       "<div>\n",
       "<style scoped>\n",
       "    .dataframe tbody tr th:only-of-type {\n",
       "        vertical-align: middle;\n",
       "    }\n",
       "\n",
       "    .dataframe tbody tr th {\n",
       "        vertical-align: top;\n",
       "    }\n",
       "\n",
       "    .dataframe thead th {\n",
       "        text-align: right;\n",
       "    }\n",
       "</style>\n",
       "<table border=\"1\" class=\"dataframe\">\n",
       "  <thead>\n",
       "    <tr style=\"text-align: right;\">\n",
       "      <th></th>\n",
       "      <th>feature</th>\n",
       "      <th>importance</th>\n",
       "    </tr>\n",
       "  </thead>\n",
       "  <tbody>\n",
       "    <tr>\n",
       "      <th>14</th>\n",
       "      <td>UNASSIGNED</td>\n",
       "      <td>0.687250</td>\n",
       "    </tr>\n",
       "    <tr>\n",
       "      <th>24</th>\n",
       "      <td>DATA</td>\n",
       "      <td>0.100883</td>\n",
       "    </tr>\n",
       "    <tr>\n",
       "      <th>29</th>\n",
       "      <td>PENALTY</td>\n",
       "      <td>0.036160</td>\n",
       "    </tr>\n",
       "    <tr>\n",
       "      <th>25</th>\n",
       "      <td>PPI</td>\n",
       "      <td>0.035441</td>\n",
       "    </tr>\n",
       "    <tr>\n",
       "      <th>19</th>\n",
       "      <td>HTML_TO_JS</td>\n",
       "      <td>0.025325</td>\n",
       "    </tr>\n",
       "    <tr>\n",
       "      <th>5</th>\n",
       "      <td>HTTP_RESPONSE_2XX</td>\n",
       "      <td>0.022764</td>\n",
       "    </tr>\n",
       "    <tr>\n",
       "      <th>2</th>\n",
       "      <td>AVERAGE_TIME</td>\n",
       "      <td>0.015172</td>\n",
       "    </tr>\n",
       "    <tr>\n",
       "      <th>16</th>\n",
       "      <td>TOTAL_HTML</td>\n",
       "      <td>0.014963</td>\n",
       "    </tr>\n",
       "    <tr>\n",
       "      <th>1</th>\n",
       "      <td>TOTAL_DURATION</td>\n",
       "      <td>0.008794</td>\n",
       "    </tr>\n",
       "    <tr>\n",
       "      <th>22</th>\n",
       "      <td>STD_DEPTH</td>\n",
       "      <td>0.006435</td>\n",
       "    </tr>\n",
       "    <tr>\n",
       "      <th>23</th>\n",
       "      <td>CONSECUTIVE</td>\n",
       "      <td>0.005220</td>\n",
       "    </tr>\n",
       "    <tr>\n",
       "      <th>27</th>\n",
       "      <td>SF_FILETYPE</td>\n",
       "      <td>0.005204</td>\n",
       "    </tr>\n",
       "    <tr>\n",
       "      <th>28</th>\n",
       "      <td>MAX_BARRAGE</td>\n",
       "      <td>0.005110</td>\n",
       "    </tr>\n",
       "    <tr>\n",
       "      <th>15</th>\n",
       "      <td>IMAGES</td>\n",
       "      <td>0.004927</td>\n",
       "    </tr>\n",
       "    <tr>\n",
       "      <th>26</th>\n",
       "      <td>SF_REFERRER</td>\n",
       "      <td>0.004133</td>\n",
       "    </tr>\n",
       "    <tr>\n",
       "      <th>21</th>\n",
       "      <td>DEPTH</td>\n",
       "      <td>0.003882</td>\n",
       "    </tr>\n",
       "    <tr>\n",
       "      <th>13</th>\n",
       "      <td>NIGHT</td>\n",
       "      <td>0.003808</td>\n",
       "    </tr>\n",
       "    <tr>\n",
       "      <th>3</th>\n",
       "      <td>STANDARD_DEVIATION</td>\n",
       "      <td>0.003352</td>\n",
       "    </tr>\n",
       "    <tr>\n",
       "      <th>9</th>\n",
       "      <td>GET_METHOD</td>\n",
       "      <td>0.002514</td>\n",
       "    </tr>\n",
       "    <tr>\n",
       "      <th>17</th>\n",
       "      <td>HTML_TO_IMAGE</td>\n",
       "      <td>0.002374</td>\n",
       "    </tr>\n",
       "    <tr>\n",
       "      <th>18</th>\n",
       "      <td>HTML_TO_CSS</td>\n",
       "      <td>0.002031</td>\n",
       "    </tr>\n",
       "    <tr>\n",
       "      <th>0</th>\n",
       "      <td>NUMBER_OF_REQUESTS</td>\n",
       "      <td>0.001181</td>\n",
       "    </tr>\n",
       "    <tr>\n",
       "      <th>20</th>\n",
       "      <td>WIDTH</td>\n",
       "      <td>0.000932</td>\n",
       "    </tr>\n",
       "    <tr>\n",
       "      <th>4</th>\n",
       "      <td>REPEATED_REQUESTS</td>\n",
       "      <td>0.000747</td>\n",
       "    </tr>\n",
       "    <tr>\n",
       "      <th>8</th>\n",
       "      <td>HTTP_RESPONSE_5XX</td>\n",
       "      <td>0.000714</td>\n",
       "    </tr>\n",
       "    <tr>\n",
       "      <th>6</th>\n",
       "      <td>HTTP_RESPONSE_3XX</td>\n",
       "      <td>0.000427</td>\n",
       "    </tr>\n",
       "    <tr>\n",
       "      <th>7</th>\n",
       "      <td>HTTP_RESPONSE_4XX</td>\n",
       "      <td>0.000134</td>\n",
       "    </tr>\n",
       "    <tr>\n",
       "      <th>11</th>\n",
       "      <td>HEAD_METHOD</td>\n",
       "      <td>0.000125</td>\n",
       "    </tr>\n",
       "    <tr>\n",
       "      <th>12</th>\n",
       "      <td>OTHER_METHOD</td>\n",
       "      <td>0.000000</td>\n",
       "    </tr>\n",
       "    <tr>\n",
       "      <th>10</th>\n",
       "      <td>POST_METHOD</td>\n",
       "      <td>0.000000</td>\n",
       "    </tr>\n",
       "  </tbody>\n",
       "</table>\n",
       "</div>"
      ],
      "text/plain": [
       "               feature  importance\n",
       "14          UNASSIGNED    0.687250\n",
       "24                DATA    0.100883\n",
       "29             PENALTY    0.036160\n",
       "25                 PPI    0.035441\n",
       "19          HTML_TO_JS    0.025325\n",
       "5    HTTP_RESPONSE_2XX    0.022764\n",
       "2         AVERAGE_TIME    0.015172\n",
       "16          TOTAL_HTML    0.014963\n",
       "1       TOTAL_DURATION    0.008794\n",
       "22           STD_DEPTH    0.006435\n",
       "23         CONSECUTIVE    0.005220\n",
       "27         SF_FILETYPE    0.005204\n",
       "28         MAX_BARRAGE    0.005110\n",
       "15              IMAGES    0.004927\n",
       "26         SF_REFERRER    0.004133\n",
       "21               DEPTH    0.003882\n",
       "13               NIGHT    0.003808\n",
       "3   STANDARD_DEVIATION    0.003352\n",
       "9           GET_METHOD    0.002514\n",
       "17       HTML_TO_IMAGE    0.002374\n",
       "18         HTML_TO_CSS    0.002031\n",
       "0   NUMBER_OF_REQUESTS    0.001181\n",
       "20               WIDTH    0.000932\n",
       "4    REPEATED_REQUESTS    0.000747\n",
       "8    HTTP_RESPONSE_5XX    0.000714\n",
       "6    HTTP_RESPONSE_3XX    0.000427\n",
       "7    HTTP_RESPONSE_4XX    0.000134\n",
       "11         HEAD_METHOD    0.000125\n",
       "12        OTHER_METHOD    0.000000\n",
       "10         POST_METHOD    0.000000"
      ]
     },
     "execution_count": 55,
     "metadata": {},
     "output_type": "execute_result"
    }
   ],
   "source": [
    "features_m = X_mean.columns\n",
    "\n",
    "dt_clf_m = DecisionTreeClassifier(random_state=42)\n",
    "dt_clf_m.fit(X_mean_train, y_train)\n",
    "\n",
    "importances_m = dt_clf_m.feature_importances_\n",
    "\n",
    "df_importances_m = pd.DataFrame({'feature': features_m, 'importance': importances_m})\n",
    "df_importances_m = df_importances_m.sort_values(by='importance', ascending=False)\n",
    "df_importances_m"
   ]
  },
  {
   "attachments": {},
   "cell_type": "markdown",
   "metadata": {},
   "source": [
    "#### X waarbij de features met NaN waarden gedropped zijn"
   ]
  },
  {
   "cell_type": "code",
   "execution_count": 56,
   "metadata": {},
   "outputs": [
    {
     "data": {
      "text/html": [
       "<div>\n",
       "<style scoped>\n",
       "    .dataframe tbody tr th:only-of-type {\n",
       "        vertical-align: middle;\n",
       "    }\n",
       "\n",
       "    .dataframe tbody tr th {\n",
       "        vertical-align: top;\n",
       "    }\n",
       "\n",
       "    .dataframe thead th {\n",
       "        text-align: right;\n",
       "    }\n",
       "</style>\n",
       "<table border=\"1\" class=\"dataframe\">\n",
       "  <thead>\n",
       "    <tr style=\"text-align: right;\">\n",
       "      <th></th>\n",
       "      <th>feature</th>\n",
       "      <th>importance</th>\n",
       "    </tr>\n",
       "  </thead>\n",
       "  <tbody>\n",
       "    <tr>\n",
       "      <th>13</th>\n",
       "      <td>UNASSIGNED</td>\n",
       "      <td>0.687686</td>\n",
       "    </tr>\n",
       "    <tr>\n",
       "      <th>23</th>\n",
       "      <td>DATA</td>\n",
       "      <td>0.100152</td>\n",
       "    </tr>\n",
       "    <tr>\n",
       "      <th>24</th>\n",
       "      <td>PPI</td>\n",
       "      <td>0.037627</td>\n",
       "    </tr>\n",
       "    <tr>\n",
       "      <th>26</th>\n",
       "      <td>PENALTY</td>\n",
       "      <td>0.035841</td>\n",
       "    </tr>\n",
       "    <tr>\n",
       "      <th>18</th>\n",
       "      <td>HTML_TO_JS</td>\n",
       "      <td>0.025333</td>\n",
       "    </tr>\n",
       "    <tr>\n",
       "      <th>4</th>\n",
       "      <td>HTTP_RESPONSE_2XX</td>\n",
       "      <td>0.023198</td>\n",
       "    </tr>\n",
       "    <tr>\n",
       "      <th>15</th>\n",
       "      <td>TOTAL_HTML</td>\n",
       "      <td>0.015288</td>\n",
       "    </tr>\n",
       "    <tr>\n",
       "      <th>2</th>\n",
       "      <td>AVERAGE_TIME</td>\n",
       "      <td>0.012383</td>\n",
       "    </tr>\n",
       "    <tr>\n",
       "      <th>20</th>\n",
       "      <td>DEPTH</td>\n",
       "      <td>0.011990</td>\n",
       "    </tr>\n",
       "    <tr>\n",
       "      <th>1</th>\n",
       "      <td>TOTAL_DURATION</td>\n",
       "      <td>0.010266</td>\n",
       "    </tr>\n",
       "    <tr>\n",
       "      <th>21</th>\n",
       "      <td>STD_DEPTH</td>\n",
       "      <td>0.008306</td>\n",
       "    </tr>\n",
       "    <tr>\n",
       "      <th>22</th>\n",
       "      <td>CONSECUTIVE</td>\n",
       "      <td>0.006848</td>\n",
       "    </tr>\n",
       "    <tr>\n",
       "      <th>25</th>\n",
       "      <td>MAX_BARRAGE</td>\n",
       "      <td>0.005223</td>\n",
       "    </tr>\n",
       "    <tr>\n",
       "      <th>14</th>\n",
       "      <td>IMAGES</td>\n",
       "      <td>0.003619</td>\n",
       "    </tr>\n",
       "    <tr>\n",
       "      <th>12</th>\n",
       "      <td>NIGHT</td>\n",
       "      <td>0.003486</td>\n",
       "    </tr>\n",
       "    <tr>\n",
       "      <th>16</th>\n",
       "      <td>HTML_TO_IMAGE</td>\n",
       "      <td>0.003395</td>\n",
       "    </tr>\n",
       "    <tr>\n",
       "      <th>8</th>\n",
       "      <td>GET_METHOD</td>\n",
       "      <td>0.002723</td>\n",
       "    </tr>\n",
       "    <tr>\n",
       "      <th>0</th>\n",
       "      <td>NUMBER_OF_REQUESTS</td>\n",
       "      <td>0.002166</td>\n",
       "    </tr>\n",
       "    <tr>\n",
       "      <th>17</th>\n",
       "      <td>HTML_TO_CSS</td>\n",
       "      <td>0.001954</td>\n",
       "    </tr>\n",
       "    <tr>\n",
       "      <th>19</th>\n",
       "      <td>WIDTH</td>\n",
       "      <td>0.000845</td>\n",
       "    </tr>\n",
       "    <tr>\n",
       "      <th>3</th>\n",
       "      <td>REPEATED_REQUESTS</td>\n",
       "      <td>0.000800</td>\n",
       "    </tr>\n",
       "    <tr>\n",
       "      <th>7</th>\n",
       "      <td>HTTP_RESPONSE_5XX</td>\n",
       "      <td>0.000501</td>\n",
       "    </tr>\n",
       "    <tr>\n",
       "      <th>5</th>\n",
       "      <td>HTTP_RESPONSE_3XX</td>\n",
       "      <td>0.000200</td>\n",
       "    </tr>\n",
       "    <tr>\n",
       "      <th>10</th>\n",
       "      <td>HEAD_METHOD</td>\n",
       "      <td>0.000154</td>\n",
       "    </tr>\n",
       "    <tr>\n",
       "      <th>6</th>\n",
       "      <td>HTTP_RESPONSE_4XX</td>\n",
       "      <td>0.000015</td>\n",
       "    </tr>\n",
       "    <tr>\n",
       "      <th>11</th>\n",
       "      <td>OTHER_METHOD</td>\n",
       "      <td>0.000000</td>\n",
       "    </tr>\n",
       "    <tr>\n",
       "      <th>9</th>\n",
       "      <td>POST_METHOD</td>\n",
       "      <td>0.000000</td>\n",
       "    </tr>\n",
       "  </tbody>\n",
       "</table>\n",
       "</div>"
      ],
      "text/plain": [
       "               feature  importance\n",
       "13          UNASSIGNED    0.687686\n",
       "23                DATA    0.100152\n",
       "24                 PPI    0.037627\n",
       "26             PENALTY    0.035841\n",
       "18          HTML_TO_JS    0.025333\n",
       "4    HTTP_RESPONSE_2XX    0.023198\n",
       "15          TOTAL_HTML    0.015288\n",
       "2         AVERAGE_TIME    0.012383\n",
       "20               DEPTH    0.011990\n",
       "1       TOTAL_DURATION    0.010266\n",
       "21           STD_DEPTH    0.008306\n",
       "22         CONSECUTIVE    0.006848\n",
       "25         MAX_BARRAGE    0.005223\n",
       "14              IMAGES    0.003619\n",
       "12               NIGHT    0.003486\n",
       "16       HTML_TO_IMAGE    0.003395\n",
       "8           GET_METHOD    0.002723\n",
       "0   NUMBER_OF_REQUESTS    0.002166\n",
       "17         HTML_TO_CSS    0.001954\n",
       "19               WIDTH    0.000845\n",
       "3    REPEATED_REQUESTS    0.000800\n",
       "7    HTTP_RESPONSE_5XX    0.000501\n",
       "5    HTTP_RESPONSE_3XX    0.000200\n",
       "10         HEAD_METHOD    0.000154\n",
       "6    HTTP_RESPONSE_4XX    0.000015\n",
       "11        OTHER_METHOD    0.000000\n",
       "9          POST_METHOD    0.000000"
      ]
     },
     "execution_count": 56,
     "metadata": {},
     "output_type": "execute_result"
    }
   ],
   "source": [
    "features_d = X_drop.columns\n",
    "\n",
    "dt_clf_d = DecisionTreeClassifier(random_state=42)\n",
    "dt_clf_d.fit(X_drop_train, y_train)\n",
    "\n",
    "importances_d = dt_clf_d.feature_importances_\n",
    "\n",
    "df_importances_d = pd.DataFrame({'feature': features_d, 'importance': importances_d})\n",
    "df_importances_d = df_importances_d.sort_values(by='importance', ascending=False)\n",
    "df_importances_d"
   ]
  },
  {
   "cell_type": "code",
   "execution_count": 57,
   "metadata": {},
   "outputs": [
    {
     "data": {
      "image/png": "[encoded data removed]",
      "text/plain": [
       "<Figure size 1500x500 with 3 Axes>"
      ]
     },
     "metadata": {},
     "output_type": "display_data"
    }
   ],
   "source": [
    "fig, ax = plt.subplots(1, 3, figsize=(15, 5))\n",
    "\n",
    "ax[0].barh(df_importances_0['feature'], df_importances_0['importance'])\n",
    "ax[0].set_title('Feature Importances for Zero Imputed Data')\n",
    "\n",
    "ax[1].barh(df_importances_m['feature'], df_importances_m['importance'])\n",
    "ax[1].set_title('Feature Importances for Mean Imputed Data')\n",
    "\n",
    "ax[2].barh(df_importances_d['feature'], df_importances_d['importance'])\n",
    "ax[2].set_title('Feature Importances for Dropped Data')\n",
    "\n",
    "plt.tight_layout()\n",
    "plt.show()"
   ]
  },
  {
   "attachments": {},
   "cell_type": "markdown",
   "metadata": {},
   "source": [
    "#### Duidelijk dat OTHER_METHOD, POST_METHOD, HEAD_METHOD, HTTP_RESPONSE(3,4,5)XX en REPEATED_REQUESTS geen importance hebben --> droppen"
   ]
  },
  {
   "cell_type": "code",
   "execution_count": 59,
   "metadata": {},
   "outputs": [],
   "source": [
    "X_zero = X.copy()\n",
    "X_zero = X_zero.fillna(0)\n",
    "X_zero = X_zero.drop(['OTHER_METHOD', 'POST_METHOD', 'HEAD_METHOD', 'HTTP_RESPONSE_3XX',  'HTTP_RESPONSE_4XX', 'HTTP_RESPONSE_5XX','REPEATED_REQUESTS'], axis=1)\n",
    "\n",
    "X_mean = X.copy()\n",
    "X_mean = X_mean.fillna(0)\n",
    "X_mean = X_mean.drop(['OTHER_METHOD', 'POST_METHOD', 'HEAD_METHOD', 'HTTP_RESPONSE_3XX',  'HTTP_RESPONSE_4XX', 'HTTP_RESPONSE_5XX','REPEATED_REQUESTS'], axis=1)\n",
    "\n",
    "X_drop = X.copy()\n",
    "X_drop = X.drop(['STANDARD_DEVIATION', 'SF_REFERRER', 'SF_FILETYPE', 'OTHER_METHOD', 'POST_METHOD', 'HEAD_METHOD', 'HTTP_RESPONSE_3XX',  'HTTP_RESPONSE_4XX', 'HTTP_RESPONSE_5XX','REPEATED_REQUESTS'], axis=1)"
   ]
  },
  {
   "attachments": {},
   "cell_type": "markdown",
   "metadata": {},
   "source": [
    "### Accuracy, confusion matrix en classification report vergelijken na het droppen"
   ]
  },
  {
   "cell_type": "code",
   "execution_count": 60,
   "metadata": {},
   "outputs": [
    {
     "name": "stdout",
     "output_type": "stream",
     "text": [
      "(51187, 23) (12797, 23) (51187,) (12797,)\n"
     ]
    }
   ],
   "source": [
    "X_zero_train, X_zero_test, y_train, y_test = train_test_split(X_zero, y, test_size=0.2, random_state=42)\n",
    "\n",
    "print(X_zero_train.shape, X_zero_test.shape, y_train.shape, y_test.shape)"
   ]
  },
  {
   "cell_type": "code",
   "execution_count": 61,
   "metadata": {},
   "outputs": [
    {
     "name": "stdout",
     "output_type": "stream",
     "text": [
      "(51187, 23) (12797, 23) (51187,) (12797,)\n"
     ]
    }
   ],
   "source": [
    "X_mean_train, X_mean_test, y_train, y_test = train_test_split(X_mean, y, test_size=0.2, random_state=42)\n",
    "\n",
    "print(X_mean_train.shape, X_mean_test.shape, y_train.shape, y_test.shape)"
   ]
  },
  {
   "cell_type": "code",
   "execution_count": 62,
   "metadata": {},
   "outputs": [
    {
     "name": "stdout",
     "output_type": "stream",
     "text": [
      "(51187, 20) (12797, 20) (51187,) (12797,)\n"
     ]
    }
   ],
   "source": [
    "X_drop_train, X_drop_test, y_train, y_test = train_test_split(X_drop, y, test_size=0.2, random_state=42)\n",
    "\n",
    "print(X_drop_train.shape, X_drop_test.shape, y_train.shape, y_test.shape)"
   ]
  },
  {
   "attachments": {},
   "cell_type": "markdown",
   "metadata": {},
   "source": [
    "### X zero"
   ]
  },
  {
   "cell_type": "code",
   "execution_count": 63,
   "metadata": {},
   "outputs": [
    {
     "name": "stdout",
     "output_type": "stream",
     "text": [
      "{'max_depth': 15}\n",
      "\n",
      "\n",
      "0.9755411424552629\n",
      "\n",
      "\n",
      "              precision    recall  f1-score   support\n",
      "\n",
      "           0       0.99      0.98      0.98     10337\n",
      "           1       0.93      0.94      0.94      2460\n",
      "\n",
      "    accuracy                           0.98     12797\n",
      "   macro avg       0.96      0.96      0.96     12797\n",
      "weighted avg       0.98      0.98      0.98     12797\n",
      "\n",
      "\n",
      "\n"
     ]
    },
    {
     "data": {
      "text/plain": [
       "<sklearn.metrics._plot.confusion_matrix.ConfusionMatrixDisplay at 0x1e9d21ea390>"
      ]
     },
     "execution_count": 63,
     "metadata": {},
     "output_type": "execute_result"
    },
    {
     "data": {
      "image/png": "[encoded data removed]",
      "text/plain": [
       "<Figure size 640x480 with 2 Axes>"
      ]
     },
     "metadata": {},
     "output_type": "display_data"
    }
   ],
   "source": [
    "grid_search_zero = GridSearchCV(DecisionTreeClassifier(random_state=42), param_grid={'max_depth': np.arange(2, 31)}, cv=5, scoring='accuracy', return_train_score=True, n_jobs=-1)\n",
    "\n",
    "grid_search_zero.fit(X_zero_train, y_train)\n",
    "\n",
    "print(grid_search_zero.best_params_)\n",
    "print(\"\\n\")\n",
    "\n",
    "y_pred_0 = grid_search_zero.predict(X_zero_test)\n",
    "\n",
    "print(accuracy_score(y_test, y_pred_0))\n",
    "print(\"\\n\")\n",
    "\n",
    "print(classification_report(y_test, y_pred_0))\n",
    "print(\"\\n\")\n",
    "\n",
    "cm_0 = np.round(confusion_matrix(y_test, y_pred_0, normalize='true'), 2)\n",
    "\n",
    "disp = ConfusionMatrixDisplay(confusion_matrix=cm_0, display_labels=['Human', 'Robot'])\n",
    "disp.plot()"
   ]
  },
  {
   "attachments": {},
   "cell_type": "markdown",
   "metadata": {},
   "source": [
    "### X mean"
   ]
  },
  {
   "cell_type": "code",
   "execution_count": 64,
   "metadata": {},
   "outputs": [
    {
     "name": "stdout",
     "output_type": "stream",
     "text": [
      "{'max_depth': 15}\n",
      "\n",
      "\n",
      "0.9755411424552629\n",
      "\n",
      "\n",
      "              precision    recall  f1-score   support\n",
      "\n",
      "           0       0.99      0.98      0.98     10337\n",
      "           1       0.93      0.94      0.94      2460\n",
      "\n",
      "    accuracy                           0.98     12797\n",
      "   macro avg       0.96      0.96      0.96     12797\n",
      "weighted avg       0.98      0.98      0.98     12797\n",
      "\n",
      "\n",
      "\n"
     ]
    },
    {
     "data": {
      "text/plain": [
       "<sklearn.metrics._plot.confusion_matrix.ConfusionMatrixDisplay at 0x1e9cfc04390>"
      ]
     },
     "execution_count": 64,
     "metadata": {},
     "output_type": "execute_result"
    },
    {
     "data": {
      "image/png": "[encoded data removed]",
      "text/plain": [
       "<Figure size 640x480 with 2 Axes>"
      ]
     },
     "metadata": {},
     "output_type": "display_data"
    }
   ],
   "source": [
    "grid_search_mean = GridSearchCV(DecisionTreeClassifier(random_state=42), param_grid={'max_depth': np.arange(2, 31)}, cv=5, scoring='accuracy', return_train_score=True, n_jobs=-1)\n",
    "\n",
    "grid_search_mean.fit(X_mean_train, y_train)\n",
    "\n",
    "print(grid_search_mean.best_params_)\n",
    "print(\"\\n\")\n",
    "\n",
    "y_pred_mean = grid_search_mean.predict(X_mean_test)\n",
    "\n",
    "print(accuracy_score(y_test, y_pred_mean))\n",
    "print(\"\\n\")\n",
    "\n",
    "print(classification_report(y_test, y_pred_mean))\n",
    "print(\"\\n\")\n",
    "\n",
    "cm_mean = np.round(confusion_matrix(y_test, y_pred_mean, normalize='true'), 2)\n",
    "\n",
    "disp = ConfusionMatrixDisplay(confusion_matrix=cm_mean, display_labels=['Human', 'Robot'])\n",
    "disp.plot()"
   ]
  },
  {
   "attachments": {},
   "cell_type": "markdown",
   "metadata": {},
   "source": [
    "### X drop"
   ]
  },
  {
   "cell_type": "code",
   "execution_count": 65,
   "metadata": {},
   "outputs": [
    {
     "name": "stdout",
     "output_type": "stream",
     "text": [
      "{'max_depth': 15}\n",
      "\n",
      "\n",
      "0.9760881456591388\n",
      "\n",
      "\n",
      "              precision    recall  f1-score   support\n",
      "\n",
      "           0       0.98      0.99      0.99     10337\n",
      "           1       0.94      0.94      0.94      2460\n",
      "\n",
      "    accuracy                           0.98     12797\n",
      "   macro avg       0.96      0.96      0.96     12797\n",
      "weighted avg       0.98      0.98      0.98     12797\n",
      "\n",
      "\n",
      "\n"
     ]
    },
    {
     "data": {
      "text/plain": [
       "<sklearn.metrics._plot.confusion_matrix.ConfusionMatrixDisplay at 0x1e9cfc27bd0>"
      ]
     },
     "execution_count": 65,
     "metadata": {},
     "output_type": "execute_result"
    },
    {
     "data": {
      "image/png": "[encoded data removed]",
      "text/plain": [
       "<Figure size 640x480 with 2 Axes>"
      ]
     },
     "metadata": {},
     "output_type": "display_data"
    }
   ],
   "source": [
    "grid_search_drop = GridSearchCV(DecisionTreeClassifier(random_state=42), param_grid={'max_depth': np.arange(2, 31)}, cv=5, scoring='accuracy', return_train_score=True, n_jobs=-1)\n",
    "\n",
    "grid_search_drop.fit(X_drop_train, y_train)\n",
    "\n",
    "print(grid_search_drop.best_params_)\n",
    "print(\"\\n\")\n",
    "\n",
    "y_pred_drop = grid_search_drop.predict(X_drop_test)\n",
    "\n",
    "print(accuracy_score(y_test, y_pred_drop))\n",
    "print(\"\\n\")\n",
    "\n",
    "print(classification_report(y_test, y_pred_drop))\n",
    "print(\"\\n\")\n",
    "\n",
    "cm_drop = np.round(confusion_matrix(y_test, y_pred_drop, normalize='true'), 2)\n",
    "\n",
    "disp = ConfusionMatrixDisplay(confusion_matrix=cm_drop, display_labels=['Human', 'Robot'])\n",
    "disp.plot()"
   ]
  },
  {
   "attachments": {},
   "cell_type": "markdown",
   "metadata": {},
   "source": [
    "# Conclusie\n",
    "Aangezien de verschillen zeer minimaal zijn tussen de X_zero, X_mean en X_drop resultaten en de STD() te veel afwijkten bij de X_zero en X_mean ga ik de X_drop gebruiken. Ook bij de Feature importance kan er gezien worden dat STANDARD_DEVIATION, SF_REFERRER EN SF_FILETYPE nauwelijks impact (importance) hebben en dat bij de X_drop, na het droppen van de features zonder importance, de precision nog verbeterd"
   ]
  },
  {
   "attachments": {},
   "cell_type": "markdown",
   "metadata": {},
   "source": [
    "## DecisionTreeClassifier resultaten vergelijken met BaggingClassifier (Met en zonder OOB), met AdaBoostClassifier, GradientBoostClassifier en RandomForestClassifier"
   ]
  },
  {
   "attachments": {},
   "cell_type": "markdown",
   "metadata": {},
   "source": [
    "### Alle models trainen met en zonder scaling en resultaten vergelijken"
   ]
  },
  {
   "attachments": {},
   "cell_type": "markdown",
   "metadata": {},
   "source": [
    "De ranges van de waarden bij de features verschillen soms erg veel (De number of request bvb kan oplopen tot een nummer groter dan 9000 terwijl er bij de HTTP_REQUEST soms getallen van 0.3 zijn) --> testen of de models betere resultaten geven wanneer features gescaled zijn"
   ]
  },
  {
   "cell_type": "code",
   "execution_count": 35,
   "metadata": {},
   "outputs": [],
   "source": [
    "df = pd.read_csv('../data/weblogs1.csv')\n",
    "\n",
    "df = df.drop(['ID', 'STANDARD_DEVIATION', 'SF_REFERRER', 'SF_FILETYPE', 'OTHER_METHOD', 'POST_METHOD', 'HEAD_METHOD', 'HTTP_RESPONSE_3XX',  'HTTP_RESPONSE_4XX', 'HTTP_RESPONSE_5XX','REPEATED_REQUESTS'], axis=1)\n",
    "X = df.drop(['ROBOT'], axis=1)\n",
    "y = df['ROBOT']"
   ]
  },
  {
   "cell_type": "code",
   "execution_count": 36,
   "metadata": {},
   "outputs": [
    {
     "name": "stdout",
     "output_type": "stream",
     "text": [
      "(51187, 20) (12797, 20) (51187,) (12797,)\n"
     ]
    }
   ],
   "source": [
    "X_train, X_test, y_train, y_test = train_test_split(X, y, test_size=0.2, random_state=42)\n",
    "\n",
    "print(X_train.shape, X_test.shape, y_train.shape, y_test.shape)"
   ]
  },
  {
   "attachments": {},
   "cell_type": "markdown",
   "metadata": {},
   "source": [
    "### Zonder scaling"
   ]
  },
  {
   "attachments": {},
   "cell_type": "markdown",
   "metadata": {},
   "source": [
    "##### DecisionTreeClassifier"
   ]
  },
  {
   "cell_type": "code",
   "execution_count": 38,
   "metadata": {},
   "outputs": [
    {
     "name": "stdout",
     "output_type": "stream",
     "text": [
      "{'max_depth': 29, 'min_samples_leaf': 3, 'min_samples_split': 12}\n",
      "\n",
      "\n",
      "0.9766351488630147\n",
      "\n",
      "\n",
      "              precision    recall  f1-score   support\n",
      "\n",
      "           0       0.98      0.99      0.99     10337\n",
      "           1       0.95      0.93      0.94      2460\n",
      "\n",
      "    accuracy                           0.98     12797\n",
      "   macro avg       0.97      0.96      0.96     12797\n",
      "weighted avg       0.98      0.98      0.98     12797\n",
      "\n"
     ]
    },
    {
     "data": {
      "text/plain": [
       "<sklearn.metrics._plot.confusion_matrix.ConfusionMatrixDisplay at 0x1f684b87cd0>"
      ]
     },
     "execution_count": 38,
     "metadata": {},
     "output_type": "execute_result"
    },
    {
     "data": {
      "image/png": "[encoded data removed]",
      "text/plain": [
       "<Figure size 640x480 with 2 Axes>"
      ]
     },
     "metadata": {},
     "output_type": "display_data"
    }
   ],
   "source": [
    "param_grid_dtc = {'max_depth': np.arange(2, 40), 'min_samples_split': np.arange(2, 20, 2), 'min_samples_leaf': np.arange(1, 12, 2)}\n",
    "\n",
    "grid_search_dtc = GridSearchCV(DecisionTreeClassifier(random_state=42), param_grid=param_grid_dtc, cv=5, scoring='precision', return_train_score=True, n_jobs=-1)\n",
    "\n",
    "grid_search_dtc.fit(X_train, y_train)\n",
    "\n",
    "print(grid_search_dtc.best_params_)\n",
    "print(\"\\n\")\n",
    "\n",
    "dt_clf = grid_search_dtc.best_estimator_\n",
    "\n",
    "dt_clf.fit(X_train, y_train)\n",
    "\n",
    "y_pred_dtc = dt_clf.predict(X_test)\n",
    "\n",
    "print(accuracy_score(y_test, y_pred_dtc))\n",
    "print(\"\\n\")\n",
    "print(classification_report(y_test, y_pred_dtc))\n",
    "\n",
    "cm = np.round(confusion_matrix(y_test, y_pred_dtc, normalize='true'), 2)\n",
    "disp = ConfusionMatrixDisplay(confusion_matrix=cm, display_labels=['Human', 'Robot'])\n",
    "disp.plot()"
   ]
  },
  {
   "attachments": {},
   "cell_type": "markdown",
   "metadata": {},
   "source": [
    "##### BaggingClassifier zonder OOB\n",
    "\n",
    "- n_estimators = 500 --> 500 decision trees getrained op subset vd data\n",
    "- max_samples = 100 --> elke tree zal op 100 samples v/e random subset worden getrained\n",
    "- bootstrap = True --> training data samples zullen replaced worden"
   ]
  },
  {
   "cell_type": "code",
   "execution_count": 69,
   "metadata": {},
   "outputs": [
    {
     "name": "stdout",
     "output_type": "stream",
     "text": [
      "0.9530358677815113\n",
      "\n",
      "\n",
      "              precision    recall  f1-score   support\n",
      "\n",
      "           0       0.98      0.96      0.97     10337\n",
      "           1       0.84      0.93      0.88      2460\n",
      "\n",
      "    accuracy                           0.95     12797\n",
      "   macro avg       0.91      0.94      0.93     12797\n",
      "weighted avg       0.96      0.95      0.95     12797\n",
      "\n"
     ]
    },
    {
     "data": {
      "text/plain": [
       "<sklearn.metrics._plot.confusion_matrix.ConfusionMatrixDisplay at 0x1e9d023b690>"
      ]
     },
     "execution_count": 69,
     "metadata": {},
     "output_type": "execute_result"
    },
    {
     "data": {
      "image/png": "[encoded data removed]",
      "text/plain": [
       "<Figure size 640x480 with 2 Axes>"
      ]
     },
     "metadata": {},
     "output_type": "display_data"
    }
   ],
   "source": [
    "bag_clf = BaggingClassifier(DecisionTreeClassifier(), n_estimators=500, max_samples=100, bootstrap=True, n_jobs=-1, random_state=42)\n",
    "\n",
    "bag_clf.fit(X_train, y_train)\n",
    "\n",
    "y_pred_bc = bag_clf.predict(X_test)\n",
    "\n",
    "print(accuracy_score(y_test, y_pred_bc))\n",
    "print(\"\\n\")\n",
    "print(classification_report(y_test, y_pred_bc))\n",
    "\n",
    "cm = np.round(confusion_matrix(y_test, y_pred_bc, normalize='true'), 2)\n",
    "disp = ConfusionMatrixDisplay(confusion_matrix=cm, display_labels=['Human', 'Robot'])\n",
    "disp.plot()"
   ]
  },
  {
   "attachments": {},
   "cell_type": "markdown",
   "metadata": {},
   "source": [
    "##### BaggingClassifier met OOB\n",
    "\n",
    "- oob_score = True --> niet gebruikte data samples voor evaluatie BaggingClassifier"
   ]
  },
  {
   "cell_type": "code",
   "execution_count": 70,
   "metadata": {},
   "outputs": [
    {
     "data": {
      "text/plain": [
       "0.9522144294449763"
      ]
     },
     "execution_count": 70,
     "metadata": {},
     "output_type": "execute_result"
    }
   ],
   "source": [
    "bag_clf = BaggingClassifier(DecisionTreeClassifier(), n_estimators=500, max_samples=100, bootstrap=True, oob_score=True, n_jobs=-1, random_state=42)\n",
    "\n",
    "bag_clf.fit(X_train, y_train)\n",
    "\n",
    "bag_clf.oob_score_"
   ]
  },
  {
   "cell_type": "code",
   "execution_count": 71,
   "metadata": {},
   "outputs": [
    {
     "data": {
      "text/plain": [
       "0.9530358677815113"
      ]
     },
     "execution_count": 71,
     "metadata": {},
     "output_type": "execute_result"
    }
   ],
   "source": [
    "y_pred_oob = bag_clf.predict(X_test)\n",
    "accuracy_score(y_test, y_pred_oob)"
   ]
  },
  {
   "attachments": {},
   "cell_type": "markdown",
   "metadata": {},
   "source": [
    "Is zeer dicht bij de OOB score"
   ]
  },
  {
   "cell_type": "code",
   "execution_count": 72,
   "metadata": {},
   "outputs": [
    {
     "name": "stdout",
     "output_type": "stream",
     "text": [
      "              precision    recall  f1-score   support\n",
      "\n",
      "           0       0.98      0.96      0.97     10337\n",
      "           1       0.84      0.93      0.88      2460\n",
      "\n",
      "    accuracy                           0.95     12797\n",
      "   macro avg       0.91      0.94      0.93     12797\n",
      "weighted avg       0.96      0.95      0.95     12797\n",
      "\n"
     ]
    }
   ],
   "source": [
    "print(classification_report(y_test, y_pred_oob))"
   ]
  },
  {
   "attachments": {},
   "cell_type": "markdown",
   "metadata": {},
   "source": [
    "##### AdaBoostClassifier"
   ]
  },
  {
   "cell_type": "code",
   "execution_count": 75,
   "metadata": {},
   "outputs": [
    {
     "name": "stdout",
     "output_type": "stream",
     "text": [
      "0.9764007189184966\n",
      "\n",
      "              precision    recall  f1-score   support\n",
      "\n",
      "           0       0.98      0.99      0.99     10337\n",
      "           1       0.94      0.93      0.94      2460\n",
      "\n",
      "    accuracy                           0.98     12797\n",
      "   macro avg       0.96      0.96      0.96     12797\n",
      "weighted avg       0.98      0.98      0.98     12797\n",
      "\n"
     ]
    },
    {
     "data": {
      "text/plain": [
       "<sklearn.metrics._plot.confusion_matrix.ConfusionMatrixDisplay at 0x1e9d015b310>"
      ]
     },
     "execution_count": 75,
     "metadata": {},
     "output_type": "execute_result"
    },
    {
     "data": {
      "image/png": "[encoded data removed]",
      "text/plain": [
       "<Figure size 640x480 with 2 Axes>"
      ]
     },
     "metadata": {},
     "output_type": "display_data"
    }
   ],
   "source": [
    "ada_clf = AdaBoostClassifier(\n",
    "    DecisionTreeClassifier(), n_estimators=200,\n",
    "    algorithm=\"SAMME.R\", learning_rate=0.5, random_state=42)\n",
    "ada_clf.fit(X_train, y_train)\n",
    "\n",
    "y_pred_ada = ada_clf.predict(X_test)\n",
    "print(f\"{accuracy_score(y_test, y_pred_ada)}\\n\")\n",
    "\n",
    "print(classification_report(y_test, y_pred_ada))\n",
    "\n",
    "cm = np.round(confusion_matrix(y_test, y_pred_ada, normalize='true'), 2)\n",
    "\n",
    "disp = ConfusionMatrixDisplay(confusion_matrix=cm, display_labels=['Human', 'Robot'])\n",
    "disp.plot()"
   ]
  },
  {
   "attachments": {},
   "cell_type": "markdown",
   "metadata": {},
   "source": [
    "##### GradientBoostClassifier"
   ]
  },
  {
   "attachments": {},
   "cell_type": "markdown",
   "metadata": {},
   "source": [
    "best_n_estimators --> list van MSE's --> kiezen index met laagste (minimum) MSE en + 1 omdat index op 0 start"
   ]
  },
  {
   "cell_type": "code",
   "execution_count": 39,
   "metadata": {},
   "outputs": [
    {
     "name": "stdout",
     "output_type": "stream",
     "text": [
      "0.9767132921778542\n",
      "\n",
      "              precision    recall  f1-score   support\n",
      "\n",
      "           0       0.98      0.99      0.99     10337\n",
      "           1       0.94      0.93      0.94      2460\n",
      "\n",
      "    accuracy                           0.98     12797\n",
      "   macro avg       0.96      0.96      0.96     12797\n",
      "weighted avg       0.98      0.98      0.98     12797\n",
      "\n"
     ]
    },
    {
     "data": {
      "text/plain": [
       "<sklearn.metrics._plot.confusion_matrix.ConfusionMatrixDisplay at 0x1f68eb6b290>"
      ]
     },
     "execution_count": 39,
     "metadata": {},
     "output_type": "execute_result"
    },
    {
     "data": {
      "image/png": "[encoded data removed]",
      "text/plain": [
       "<Figure size 640x480 with 2 Axes>"
      ]
     },
     "metadata": {},
     "output_type": "display_data"
    }
   ],
   "source": [
    "gbrt = GradientBoostingClassifier(max_depth=29, n_estimators=120, learning_rate=0.1, random_state=42)\n",
    "gbrt.fit(X_train, y_train)\n",
    "\n",
    "errors_gbrt = [mean_squared_error(y_test, y_pred) for y_pred in gbrt.staged_predict(X_test)]\n",
    "\n",
    "best_n_estimators = np.argmin(errors_gbrt) + 1\n",
    "\n",
    "gbrt_best = GradientBoostingClassifier(max_depth=29, n_estimators=best_n_estimators, learning_rate=0.1, random_state=42)\n",
    "gbrt_best.fit(X_train, y_train)\n",
    "\n",
    "y_pred_gbrt = gbrt_best.predict(X_test)\n",
    "\n",
    "print(f\"{accuracy_score(y_test, y_pred_gbrt)}\\n\")\n",
    "\n",
    "print(classification_report(y_test, y_pred_gbrt))\n",
    "\n",
    "cm = np.round(confusion_matrix(y_test, y_pred_gbrt, normalize='true'), 2)\n",
    "disp = ConfusionMatrixDisplay(confusion_matrix=cm, display_labels=['Human', 'Robot'])\n",
    "disp.plot()"
   ]
  },
  {
   "attachments": {},
   "cell_type": "markdown",
   "metadata": {},
   "source": [
    "##### RandomForestClassifier"
   ]
  },
  {
   "attachments": {},
   "cell_type": "markdown",
   "metadata": {},
   "source": [
    "207 minuten om te trainen"
   ]
  },
  {
   "cell_type": "code",
   "execution_count": 79,
   "metadata": {},
   "outputs": [
    {
     "name": "stdout",
     "output_type": "stream",
     "text": [
      "{'bootstrap': False, 'max_depth': 25, 'min_samples_leaf': 2, 'min_samples_split': 2, 'n_estimators': 140}\n",
      "0.9801515980307884\n",
      "\n",
      "              precision    recall  f1-score   support\n",
      "\n",
      "           0       0.99      0.99      0.99     10337\n",
      "           1       0.95      0.95      0.95      2460\n",
      "\n",
      "    accuracy                           0.98     12797\n",
      "   macro avg       0.97      0.97      0.97     12797\n",
      "weighted avg       0.98      0.98      0.98     12797\n",
      "\n"
     ]
    },
    {
     "data": {
      "text/plain": [
       "<sklearn.metrics._plot.confusion_matrix.ConfusionMatrixDisplay at 0x1e9d20d25d0>"
      ]
     },
     "execution_count": 79,
     "metadata": {},
     "output_type": "execute_result"
    },
    {
     "data": {
      "image/png": "[encoded data removed]",
      "text/plain": [
       "<Figure size 640x480 with 2 Axes>"
      ]
     },
     "metadata": {},
     "output_type": "display_data"
    }
   ],
   "source": [
    "param_grid = {\n",
    "    'n_estimators': np.arange(10, 200, 10),\n",
    "    'max_depth': [1, 2, 5, 10, 15, 20, 25, 30, 35, 40, 45, 50],\n",
    "    'min_samples_leaf' : [1, 2, 4],\n",
    "    'min_samples_split' : [2, 5, 10],\n",
    "    'bootstrap' : [True, False],\n",
    "}\n",
    "\n",
    "grid_search_rfc = GridSearchCV(RandomForestClassifier(random_state=42), param_grid=param_grid, cv=5, n_jobs=-1)\n",
    "\n",
    "grid_search_rfc.fit(X_train, y_train)\n",
    "\n",
    "print(grid_search_rfc.best_params_)\n",
    "\n",
    "rf_clf = grid_search_rfc.best_estimator_\n",
    "rf_clf.fit(X_train, y_train)\n",
    "\n",
    "y_pred_rfc = rf_clf.predict(X_test)\n",
    "print(f\"{accuracy_score(y_test, y_pred_rfc)}\\n\")\n",
    "\n",
    "print(classification_report(y_test, y_pred_rfc))\n",
    "\n",
    "cm = confusion_matrix(y_test, y_pred_rfc, normalize='true')\n",
    "\n",
    "disp = ConfusionMatrixDisplay(confusion_matrix=cm, display_labels=['Human', 'Robot'])\n",
    "disp.plot()"
   ]
  },
  {
   "cell_type": "code",
   "execution_count": 82,
   "metadata": {},
   "outputs": [
    {
     "data": {
      "text/plain": [
       "array([[0.99, 0.01],\n",
       "       [0.05, 0.95]])"
      ]
     },
     "execution_count": 82,
     "metadata": {},
     "output_type": "execute_result"
    }
   ],
   "source": [
    "np.round(confusion_matrix(y_test, y_pred_rfc, normalize='true'), 2)"
   ]
  },
  {
   "attachments": {},
   "cell_type": "markdown",
   "metadata": {},
   "source": [
    "### Met Scaling"
   ]
  },
  {
   "cell_type": "code",
   "execution_count": 80,
   "metadata": {},
   "outputs": [],
   "source": [
    "df = pd.read_csv('../data/weblogs1.csv')\n",
    "\n",
    "X = df.drop(['ROBOT', 'ID', 'STANDARD_DEVIATION', 'SF_REFERRER', 'SF_FILETYPE', 'OTHER_METHOD', 'POST_METHOD', 'HEAD_METHOD', 'HTTP_RESPONSE_3XX',  'HTTP_RESPONSE_4XX', 'HTTP_RESPONSE_5XX','REPEATED_REQUESTS'], axis=1)\n",
    "y = df['ROBOT']\n",
    "\n",
    "X_train, X_test, y_train, y_test = train_test_split(X, y, test_size=0.2, random_state=42)"
   ]
  },
  {
   "cell_type": "code",
   "execution_count": 81,
   "metadata": {},
   "outputs": [
    {
     "name": "stdout",
     "output_type": "stream",
     "text": [
      "0.9739782761584747\n",
      "\n",
      "              precision    recall  f1-score   support\n",
      "\n",
      "           0       0.99      0.98      0.98     10337\n",
      "           1       0.93      0.94      0.93      2460\n",
      "\n",
      "    accuracy                           0.97     12797\n",
      "   macro avg       0.96      0.96      0.96     12797\n",
      "weighted avg       0.97      0.97      0.97     12797\n",
      "\n"
     ]
    },
    {
     "data": {
      "text/plain": [
       "<sklearn.metrics._plot.confusion_matrix.ConfusionMatrixDisplay at 0x1e9cfb09fd0>"
      ]
     },
     "execution_count": 81,
     "metadata": {},
     "output_type": "execute_result"
    },
    {
     "data": {
      "image/png": "[encoded data removed]",
      "text/plain": [
       "<Figure size 640x480 with 2 Axes>"
      ]
     },
     "metadata": {},
     "output_type": "display_data"
    }
   ],
   "source": [
    "from sklearn.pipeline import Pipeline\n",
    "\n",
    "scaler = StandardScaler()\n",
    "\n",
    "dt_clf_scaled = DecisionTreeClassifier(random_state=42)\n",
    "\n",
    "pipeline = Pipeline([\n",
    "    ('scaler', scaler),\n",
    "    ('gs_dt_clf_scaled', GridSearchCV(dt_clf_scaled, param_grid=param_grid_dtc, cv=5, n_jobs=-1)),\n",
    "])\n",
    "\n",
    "pipeline.fit(X_train, y_train)\n",
    "\n",
    "y_pred_pipeline = pipeline.predict(X_test)\n",
    "\n",
    "print(f\"{accuracy_score(y_test, y_pred_pipeline)}\\n\")\n",
    "\n",
    "print(classification_report(y_test, y_pred_pipeline))\n",
    "\n",
    "cm = np.round(confusion_matrix(y_test, y_pred_pipeline, normalize='true'), 2)\n",
    "disp = ConfusionMatrixDisplay(confusion_matrix=cm, display_labels=['Human', 'Robot'])\n",
    "disp.plot()"
   ]
  },
  {
   "cell_type": "code",
   "execution_count": 83,
   "metadata": {},
   "outputs": [
    {
     "name": "stdout",
     "output_type": "stream",
     "text": [
      "0.9520200046885989\n",
      "\n",
      "              precision    recall  f1-score   support\n",
      "\n",
      "           0       0.99      0.95      0.97     10337\n",
      "           1       0.83      0.94      0.88      2460\n",
      "\n",
      "    accuracy                           0.95     12797\n",
      "   macro avg       0.91      0.95      0.93     12797\n",
      "weighted avg       0.96      0.95      0.95     12797\n",
      "\n"
     ]
    },
    {
     "data": {
      "text/plain": [
       "<sklearn.metrics._plot.confusion_matrix.ConfusionMatrixDisplay at 0x1e9d0212590>"
      ]
     },
     "execution_count": 83,
     "metadata": {},
     "output_type": "execute_result"
    },
    {
     "data": {
      "image/png": "[encoded data removed]",
      "text/plain": [
       "<Figure size 640x480 with 2 Axes>"
      ]
     },
     "metadata": {},
     "output_type": "display_data"
    }
   ],
   "source": [
    "bag_clf_scaled = BaggingClassifier(DecisionTreeClassifier(), n_estimators=500, max_samples=100, bootstrap=True, n_jobs=-1, random_state=42)\n",
    "\n",
    "pipeline = Pipeline([\n",
    "    ('scaler', scaler),\n",
    "    ('bag_clf_scaled', bag_clf_scaled),\n",
    "])\n",
    "\n",
    "pipeline.fit(X_train, y_train)\n",
    "\n",
    "y_pred_pipeline = pipeline.predict(X_test)\n",
    "\n",
    "print(f\"{accuracy_score(y_test, y_pred_pipeline)}\\n\")\n",
    "\n",
    "print(classification_report(y_test, y_pred_pipeline))\n",
    "\n",
    "cm = np.round(confusion_matrix(y_test, y_pred_pipeline, normalize='true'), 2)\n",
    "disp = ConfusionMatrixDisplay(confusion_matrix=cm, display_labels=['Human', 'Robot'])\n",
    "disp.plot()"
   ]
  },
  {
   "cell_type": "code",
   "execution_count": 84,
   "metadata": {},
   "outputs": [
    {
     "name": "stdout",
     "output_type": "stream",
     "text": [
      "0.9520200046885989\n",
      "\n",
      "              precision    recall  f1-score   support\n",
      "\n",
      "           0       0.99      0.95      0.97     10337\n",
      "           1       0.83      0.94      0.88      2460\n",
      "\n",
      "    accuracy                           0.95     12797\n",
      "   macro avg       0.91      0.95      0.93     12797\n",
      "weighted avg       0.96      0.95      0.95     12797\n",
      "\n"
     ]
    },
    {
     "data": {
      "text/plain": [
       "<sklearn.metrics._plot.confusion_matrix.ConfusionMatrixDisplay at 0x1e9de227290>"
      ]
     },
     "execution_count": 84,
     "metadata": {},
     "output_type": "execute_result"
    },
    {
     "data": {
      "image/png": "[encoded data removed]",
      "text/plain": [
       "<Figure size 640x480 with 2 Axes>"
      ]
     },
     "metadata": {},
     "output_type": "display_data"
    }
   ],
   "source": [
    "bag_clf_oob_scaled = BaggingClassifier(DecisionTreeClassifier(), n_estimators=500, max_samples=100, bootstrap=True, oob_score=True, n_jobs=-1, random_state=42)\n",
    "\n",
    "pipeline = Pipeline([\n",
    "    ('scaler', scaler),\n",
    "    ('bag_clf_oob_scaled', bag_clf_oob_scaled),\n",
    "])\n",
    "\n",
    "pipeline.fit(X_train, y_train)\n",
    "\n",
    "y_pred_pipeline = pipeline.predict(X_test)\n",
    "\n",
    "print(f\"{accuracy_score(y_test, y_pred_pipeline)}\\n\")\n",
    "\n",
    "print(classification_report(y_test, y_pred_pipeline))\n",
    "\n",
    "cm = np.round(confusion_matrix(y_test, y_pred_pipeline, normalize='true'), 2)\n",
    "disp = ConfusionMatrixDisplay(confusion_matrix=cm, display_labels=['Human', 'Robot'])\n",
    "disp.plot()"
   ]
  },
  {
   "cell_type": "code",
   "execution_count": 86,
   "metadata": {},
   "outputs": [
    {
     "name": "stdout",
     "output_type": "stream",
     "text": [
      "0.9730405563804017\n",
      "\n",
      "              precision    recall  f1-score   support\n",
      "\n",
      "           0       0.98      0.98      0.98     10337\n",
      "           1       0.93      0.93      0.93      2460\n",
      "\n",
      "    accuracy                           0.97     12797\n",
      "   macro avg       0.96      0.95      0.96     12797\n",
      "weighted avg       0.97      0.97      0.97     12797\n",
      "\n"
     ]
    },
    {
     "data": {
      "text/plain": [
       "<sklearn.metrics._plot.confusion_matrix.ConfusionMatrixDisplay at 0x1e9de1ae8d0>"
      ]
     },
     "execution_count": 86,
     "metadata": {},
     "output_type": "execute_result"
    },
    {
     "data": {
      "image/png": "[encoded data removed]",
      "text/plain": [
       "<Figure size 640x480 with 2 Axes>"
      ]
     },
     "metadata": {},
     "output_type": "display_data"
    }
   ],
   "source": [
    "ada_clf_scaled = AdaBoostClassifier(\n",
    "    DecisionTreeClassifier(), n_estimators=200,\n",
    "    algorithm=\"SAMME.R\", learning_rate=0.5, random_state=42)\n",
    "\n",
    "pipeline = Pipeline([\n",
    "    ('scaler', scaler),\n",
    "    ('ada_clf_scaled', ada_clf_scaled),\n",
    "])\n",
    "\n",
    "pipeline.fit(X_train, y_train)\n",
    "\n",
    "y_pred_pipeline = pipeline.predict(X_test)\n",
    "\n",
    "print(f\"{accuracy_score(y_test, y_pred_pipeline)}\\n\")\n",
    "\n",
    "print(classification_report(y_test, y_pred_pipeline))\n",
    "\n",
    "cm = np.round(confusion_matrix(y_test, y_pred_pipeline, normalize='true'), 2)\n",
    "disp = ConfusionMatrixDisplay(confusion_matrix=cm, display_labels=['Human', 'Robot'])\n",
    "disp.plot()"
   ]
  },
  {
   "cell_type": "code",
   "execution_count": 87,
   "metadata": {},
   "outputs": [
    {
     "name": "stdout",
     "output_type": "stream",
     "text": [
      "0.9744471360475111\n",
      "\n",
      "              precision    recall  f1-score   support\n",
      "\n",
      "           0       0.98      0.99      0.98     10337\n",
      "           1       0.94      0.93      0.93      2460\n",
      "\n",
      "    accuracy                           0.97     12797\n",
      "   macro avg       0.96      0.96      0.96     12797\n",
      "weighted avg       0.97      0.97      0.97     12797\n",
      "\n"
     ]
    },
    {
     "data": {
      "text/plain": [
       "<sklearn.metrics._plot.confusion_matrix.ConfusionMatrixDisplay at 0x1e9dba9b450>"
      ]
     },
     "execution_count": 87,
     "metadata": {},
     "output_type": "execute_result"
    },
    {
     "data": {
      "image/png": "[encoded data removed]",
      "text/plain": [
       "<Figure size 640x480 with 2 Axes>"
      ]
     },
     "metadata": {},
     "output_type": "display_data"
    }
   ],
   "source": [
    "gbrt_best_scaled = GradientBoostingClassifier(max_depth=18, n_estimators=best_n_estimators, learning_rate=0.1, random_state=42)\n",
    "\n",
    "pipeline = Pipeline([\n",
    "    ('scaler', scaler),\n",
    "    ('gbrt_best_scaled', gbrt_best_scaled),\n",
    "])\n",
    "\n",
    "pipeline.fit(X_train, y_train)\n",
    "\n",
    "y_pred_pipeline = pipeline.predict(X_test)\n",
    "\n",
    "print(f\"{accuracy_score(y_test, y_pred_pipeline)}\\n\")\n",
    "\n",
    "print(classification_report(y_test, y_pred_pipeline))\n",
    "\n",
    "cm = np.round(confusion_matrix(y_test, y_pred_pipeline, normalize='true'), 2)\n",
    "disp = ConfusionMatrixDisplay(confusion_matrix=cm, display_labels=['Human', 'Robot'])\n",
    "disp.plot()"
   ]
  },
  {
   "cell_type": "code",
   "execution_count": 89,
   "metadata": {},
   "outputs": [
    {
     "name": "stdout",
     "output_type": "stream",
     "text": [
      "0.9739782761584747\n",
      "\n",
      "              precision    recall  f1-score   support\n",
      "\n",
      "           0       0.99      0.98      0.98     10337\n",
      "           1       0.92      0.95      0.93      2460\n",
      "\n",
      "    accuracy                           0.97     12797\n",
      "   macro avg       0.95      0.96      0.96     12797\n",
      "weighted avg       0.97      0.97      0.97     12797\n",
      "\n"
     ]
    },
    {
     "data": {
      "text/plain": [
       "<sklearn.metrics._plot.confusion_matrix.ConfusionMatrixDisplay at 0x1e9ce2275d0>"
      ]
     },
     "execution_count": 89,
     "metadata": {},
     "output_type": "execute_result"
    },
    {
     "data": {
      "image/png": "[encoded data removed]",
      "text/plain": [
       "<Figure size 640x480 with 2 Axes>"
      ]
     },
     "metadata": {},
     "output_type": "display_data"
    }
   ],
   "source": [
    "rf_clf_scaled = RandomForestClassifier(random_state=42, n_jobs=-1, n_estimators=140, max_depth=25, bootstrap=False, min_samples_leaf=2, min_samples_split=2)\n",
    "\n",
    "pipeline = Pipeline([\n",
    "    ('scaler', scaler),\n",
    "    ('rf_clf_scaled', rf_clf_scaled),\n",
    "])\n",
    "\n",
    "pipeline.fit(X_train, y_train)\n",
    "\n",
    "y_pred_pipeline = pipeline.predict(X_test)\n",
    "\n",
    "print(f\"{accuracy_score(y_test, y_pred_pipeline)}\\n\")\n",
    "\n",
    "print(classification_report(y_test, y_pred_pipeline))\n",
    "\n",
    "cm = np.round(confusion_matrix(y_test, y_pred_pipeline, normalize='true'), 2)\n",
    "disp = ConfusionMatrixDisplay(confusion_matrix=cm, display_labels=['Human', 'Robot'])\n",
    "disp.plot()"
   ]
  },
  {
   "attachments": {},
   "cell_type": "markdown",
   "metadata": {},
   "source": [
    "Conclusie --> scaling heeft de resultaten slechter gemaakt"
   ]
  },
  {
   "attachments": {},
   "cell_type": "markdown",
   "metadata": {},
   "source": [
    "### Models opslaan"
   ]
  },
  {
   "cell_type": "code",
   "execution_count": null,
   "metadata": {},
   "outputs": [],
   "source": [
    "filename = '../main_models/decision_tree_classifier2.sav'\n",
    "pickle.dump(dt_clf, open(filename, 'wb'))\n",
    "\n",
    "filename2 = '../main_models/bagging_classifier_oob2.sav'\n",
    "pickle.dump(bag_clf, open(filename2, 'wb'))\n",
    "\n",
    "filename3 = '../main_models/adaboost_classifier2.sav'\n",
    "pickle.dump(ada_clf, open(filename3, 'wb'))\n",
    "\n",
    "filename4 = '../main_models/gradient_boosting_classifier2.sav'\n",
    "pickle.dump(gbrt_best, open(filename4, 'wb'))\n",
    "\n",
    "filename5 = '../main_models/random_forest_classifier2.sav'\n",
    "pickle.dump(rf_clf, open(filename5, 'wb'))"
   ]
  }
 ],
 "metadata": {
  "kernelspec": {
   "display_name": "Python 3",
   "language": "python",
   "name": "python3"
  },
  "language_info": {
   "codemirror_mode": {
    "name": "ipython",
    "version": 3
   },
   "file_extension": ".py",
   "mimetype": "text/x-python",
   "name": "python",
   "nbconvert_exporter": "python",
   "pygments_lexer": "ipython3",
   "version": "3.11.3"
  },
  "orig_nbformat": 4
 },
 "nbformat": 4,
 "nbformat_minor": 2
}
