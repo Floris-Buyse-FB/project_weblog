{
 "cells": [
  {
   "cell_type": "code",
   "execution_count": 7,
   "metadata": {},
   "outputs": [],
   "source": [
    "import pandas as pd\n",
    "import numpy as np\n",
    "import matplotlib.pyplot as plt\n",
    "import sklearn\n",
    "import pickle\n",
    "from sklearn.model_selection import train_test_split, GridSearchCV, cross_val_predict, cross_val_score\n",
    "from sklearn.preprocessing import StandardScaler\n",
    "from sklearn.tree import DecisionTreeClassifier\n",
    "from sklearn.ensemble import BaggingClassifier, RandomForestClassifier\n",
    "from sklearn.metrics import accuracy_score, confusion_matrix, precision_score, recall_score, f1_score, classification_report\n",
    "from sklearn.ensemble import AdaBoostClassifier\n",
    "from sklearn.ensemble import GradientBoostingClassifier\n",
    "from sklearn.metrics import mean_squared_error\n",
    "from sklearn.metrics import ConfusionMatrixDisplay"
   ]
  },
  {
   "cell_type": "code",
   "execution_count": 8,
   "metadata": {},
   "outputs": [
    {
     "data": {
      "text/html": [
       "<div>\n",
       "<style scoped>\n",
       "    .dataframe tbody tr th:only-of-type {\n",
       "        vertical-align: middle;\n",
       "    }\n",
       "\n",
       "    .dataframe tbody tr th {\n",
       "        vertical-align: top;\n",
       "    }\n",
       "\n",
       "    .dataframe thead th {\n",
       "        text-align: right;\n",
       "    }\n",
       "</style>\n",
       "<table border=\"1\" class=\"dataframe\">\n",
       "  <thead>\n",
       "    <tr style=\"text-align: right;\">\n",
       "      <th></th>\n",
       "      <th>ID</th>\n",
       "      <th>NUMBER_OF_REQUESTS</th>\n",
       "      <th>TOTAL_DURATION</th>\n",
       "      <th>AVERAGE_TIME</th>\n",
       "      <th>STANDARD_DEVIATION</th>\n",
       "      <th>REPEATED_REQUESTS</th>\n",
       "      <th>HTTP_RESPONSE_2XX</th>\n",
       "      <th>HTTP_RESPONSE_3XX</th>\n",
       "      <th>HTTP_RESPONSE_4XX</th>\n",
       "      <th>HTTP_RESPONSE_5XX</th>\n",
       "      <th>...</th>\n",
       "      <th>DEPTH</th>\n",
       "      <th>STD_DEPTH</th>\n",
       "      <th>CONSECUTIVE</th>\n",
       "      <th>DATA</th>\n",
       "      <th>PPI</th>\n",
       "      <th>SF_REFERRER</th>\n",
       "      <th>SF_FILETYPE</th>\n",
       "      <th>MAX_BARRAGE</th>\n",
       "      <th>PENALTY</th>\n",
       "      <th>ROBOT</th>\n",
       "    </tr>\n",
       "  </thead>\n",
       "  <tbody>\n",
       "    <tr>\n",
       "      <th>0</th>\n",
       "      <td>obSnwGoBCue8G08E_WCX</td>\n",
       "      <td>79</td>\n",
       "      <td>592</td>\n",
       "      <td>7.589744</td>\n",
       "      <td>1.800540</td>\n",
       "      <td>0.000000</td>\n",
       "      <td>0.873418</td>\n",
       "      <td>0.126582</td>\n",
       "      <td>0.000000</td>\n",
       "      <td>0.000000</td>\n",
       "      <td>...</td>\n",
       "      <td>4.0</td>\n",
       "      <td>0.494041</td>\n",
       "      <td>0.101266</td>\n",
       "      <td>1555089.0</td>\n",
       "      <td>2.718334e+07</td>\n",
       "      <td>0.000000</td>\n",
       "      <td>0.205128</td>\n",
       "      <td>1</td>\n",
       "      <td>0</td>\n",
       "      <td>1</td>\n",
       "    </tr>\n",
       "    <tr>\n",
       "      <th>1</th>\n",
       "      <td>nLSnwGoBCue8G08E_WCX</td>\n",
       "      <td>350</td>\n",
       "      <td>103621</td>\n",
       "      <td>296.908300</td>\n",
       "      <td>260.332670</td>\n",
       "      <td>0.000000</td>\n",
       "      <td>0.997143</td>\n",
       "      <td>0.000000</td>\n",
       "      <td>0.002857</td>\n",
       "      <td>0.000000</td>\n",
       "      <td>...</td>\n",
       "      <td>6.0</td>\n",
       "      <td>0.341303</td>\n",
       "      <td>0.425714</td>\n",
       "      <td>2071344.0</td>\n",
       "      <td>1.427714e+01</td>\n",
       "      <td>0.547278</td>\n",
       "      <td>0.461318</td>\n",
       "      <td>4</td>\n",
       "      <td>0</td>\n",
       "      <td>1</td>\n",
       "    </tr>\n",
       "    <tr>\n",
       "      <th>2</th>\n",
       "      <td>ErSowGoBCue8G08ECmHa</td>\n",
       "      <td>15</td>\n",
       "      <td>368</td>\n",
       "      <td>26.285715</td>\n",
       "      <td>87.329780</td>\n",
       "      <td>0.000000</td>\n",
       "      <td>1.000000</td>\n",
       "      <td>0.000000</td>\n",
       "      <td>0.000000</td>\n",
       "      <td>0.000000</td>\n",
       "      <td>...</td>\n",
       "      <td>3.0</td>\n",
       "      <td>0.000000</td>\n",
       "      <td>0.000000</td>\n",
       "      <td>49505.0</td>\n",
       "      <td>1.413333e+01</td>\n",
       "      <td>0.642857</td>\n",
       "      <td>1.000000</td>\n",
       "      <td>2</td>\n",
       "      <td>0</td>\n",
       "      <td>0</td>\n",
       "    </tr>\n",
       "    <tr>\n",
       "      <th>3</th>\n",
       "      <td>E7SowGoBCue8G08ECmHa</td>\n",
       "      <td>28</td>\n",
       "      <td>11</td>\n",
       "      <td>0.407407</td>\n",
       "      <td>1.097447</td>\n",
       "      <td>0.000000</td>\n",
       "      <td>1.000000</td>\n",
       "      <td>0.000000</td>\n",
       "      <td>0.000000</td>\n",
       "      <td>0.000000</td>\n",
       "      <td>...</td>\n",
       "      <td>3.0</td>\n",
       "      <td>0.000000</td>\n",
       "      <td>0.821429</td>\n",
       "      <td>45984.0</td>\n",
       "      <td>1.332143e+01</td>\n",
       "      <td>0.037037</td>\n",
       "      <td>0.148148</td>\n",
       "      <td>5</td>\n",
       "      <td>0</td>\n",
       "      <td>0</td>\n",
       "    </tr>\n",
       "    <tr>\n",
       "      <th>4</th>\n",
       "      <td>FbSowGoBCue8G08ECmHa</td>\n",
       "      <td>9342</td>\n",
       "      <td>80946</td>\n",
       "      <td>8.665668</td>\n",
       "      <td>17.566462</td>\n",
       "      <td>0.000107</td>\n",
       "      <td>0.996896</td>\n",
       "      <td>0.002569</td>\n",
       "      <td>0.000214</td>\n",
       "      <td>0.000321</td>\n",
       "      <td>...</td>\n",
       "      <td>4.0</td>\n",
       "      <td>0.152943</td>\n",
       "      <td>0.953757</td>\n",
       "      <td>83171793.0</td>\n",
       "      <td>1.307407e+01</td>\n",
       "      <td>0.000000</td>\n",
       "      <td>0.023552</td>\n",
       "      <td>1</td>\n",
       "      <td>0</td>\n",
       "      <td>1</td>\n",
       "    </tr>\n",
       "  </tbody>\n",
       "</table>\n",
       "<p>5 rows × 32 columns</p>\n",
       "</div>"
      ],
      "text/plain": [
       "                     ID  NUMBER_OF_REQUESTS  TOTAL_DURATION  AVERAGE_TIME   \n",
       "0  obSnwGoBCue8G08E_WCX                  79             592      7.589744  \\\n",
       "1  nLSnwGoBCue8G08E_WCX                 350          103621    296.908300   \n",
       "2  ErSowGoBCue8G08ECmHa                  15             368     26.285715   \n",
       "3  E7SowGoBCue8G08ECmHa                  28              11      0.407407   \n",
       "4  FbSowGoBCue8G08ECmHa                9342           80946      8.665668   \n",
       "\n",
       "   STANDARD_DEVIATION  REPEATED_REQUESTS  HTTP_RESPONSE_2XX   \n",
       "0            1.800540           0.000000           0.873418  \\\n",
       "1          260.332670           0.000000           0.997143   \n",
       "2           87.329780           0.000000           1.000000   \n",
       "3            1.097447           0.000000           1.000000   \n",
       "4           17.566462           0.000107           0.996896   \n",
       "\n",
       "   HTTP_RESPONSE_3XX  HTTP_RESPONSE_4XX  HTTP_RESPONSE_5XX  ...  DEPTH   \n",
       "0           0.126582           0.000000           0.000000  ...    4.0  \\\n",
       "1           0.000000           0.002857           0.000000  ...    6.0   \n",
       "2           0.000000           0.000000           0.000000  ...    3.0   \n",
       "3           0.000000           0.000000           0.000000  ...    3.0   \n",
       "4           0.002569           0.000214           0.000321  ...    4.0   \n",
       "\n",
       "   STD_DEPTH  CONSECUTIVE        DATA           PPI  SF_REFERRER  SF_FILETYPE   \n",
       "0   0.494041     0.101266   1555089.0  2.718334e+07     0.000000     0.205128  \\\n",
       "1   0.341303     0.425714   2071344.0  1.427714e+01     0.547278     0.461318   \n",
       "2   0.000000     0.000000     49505.0  1.413333e+01     0.642857     1.000000   \n",
       "3   0.000000     0.821429     45984.0  1.332143e+01     0.037037     0.148148   \n",
       "4   0.152943     0.953757  83171793.0  1.307407e+01     0.000000     0.023552   \n",
       "\n",
       "   MAX_BARRAGE  PENALTY  ROBOT  \n",
       "0            1        0      1  \n",
       "1            4        0      1  \n",
       "2            2        0      0  \n",
       "3            5        0      0  \n",
       "4            1        0      1  \n",
       "\n",
       "[5 rows x 32 columns]"
      ]
     },
     "execution_count": 8,
     "metadata": {},
     "output_type": "execute_result"
    }
   ],
   "source": [
    "df = pd.read_csv('../data/weblogs1.csv')\n",
    "df.head()"
   ]
  },
  {
   "attachments": {},
   "cell_type": "markdown",
   "metadata": {},
   "source": [
    "ID droppen"
   ]
  },
  {
   "cell_type": "code",
   "execution_count": 9,
   "metadata": {},
   "outputs": [],
   "source": [
    "df = df.drop(['ID'], axis=1)"
   ]
  },
  {
   "attachments": {},
   "cell_type": "markdown",
   "metadata": {},
   "source": [
    "Opsplitsen in X en y"
   ]
  },
  {
   "cell_type": "code",
   "execution_count": 10,
   "metadata": {},
   "outputs": [],
   "source": [
    "X = df.drop(['ROBOT'], axis=1)\n",
    "y = df['ROBOT']"
   ]
  },
  {
   "cell_type": "code",
   "execution_count": 11,
   "metadata": {},
   "outputs": [
    {
     "name": "stdout",
     "output_type": "stream",
     "text": [
      "<class 'pandas.core.frame.DataFrame'>\n",
      "RangeIndex: 33676 entries, 0 to 33675\n",
      "Data columns (total 30 columns):\n",
      " #   Column              Non-Null Count  Dtype  \n",
      "---  ------              --------------  -----  \n",
      " 0   NUMBER_OF_REQUESTS  33676 non-null  int64  \n",
      " 1   TOTAL_DURATION      33676 non-null  int64  \n",
      " 2   AVERAGE_TIME        33676 non-null  float64\n",
      " 3   STANDARD_DEVIATION  26846 non-null  float64\n",
      " 4   REPEATED_REQUESTS   33676 non-null  float64\n",
      " 5   HTTP_RESPONSE_2XX   33676 non-null  float64\n",
      " 6   HTTP_RESPONSE_3XX   33676 non-null  float64\n",
      " 7   HTTP_RESPONSE_4XX   33676 non-null  float64\n",
      " 8   HTTP_RESPONSE_5XX   33676 non-null  float64\n",
      " 9   GET_METHOD          33676 non-null  float64\n",
      " 10  POST_METHOD         33676 non-null  float64\n",
      " 11  HEAD_METHOD         33676 non-null  float64\n",
      " 12  OTHER_METHOD        33676 non-null  float64\n",
      " 13  NIGHT               33676 non-null  float64\n",
      " 14  UNASSIGNED          33676 non-null  float64\n",
      " 15  IMAGES              33676 non-null  float64\n",
      " 16  TOTAL_HTML          33676 non-null  float64\n",
      " 17  HTML_TO_IMAGE       33676 non-null  float64\n",
      " 18  HTML_TO_CSS         33676 non-null  float64\n",
      " 19  HTML_TO_JS          33676 non-null  float64\n",
      " 20  WIDTH               33676 non-null  float64\n",
      " 21  DEPTH               33676 non-null  float64\n",
      " 22  STD_DEPTH           33676 non-null  float64\n",
      " 23  CONSECUTIVE         33676 non-null  float64\n",
      " 24  DATA                33676 non-null  float64\n",
      " 25  PPI                 33676 non-null  float64\n",
      " 26  SF_REFERRER         26846 non-null  float64\n",
      " 27  SF_FILETYPE         26846 non-null  float64\n",
      " 28  MAX_BARRAGE         33676 non-null  int64  \n",
      " 29  PENALTY             33676 non-null  int64  \n",
      "dtypes: float64(26), int64(4)\n",
      "memory usage: 7.7 MB\n"
     ]
    }
   ],
   "source": [
    "X.info()"
   ]
  },
  {
   "attachments": {},
   "cell_type": "markdown",
   "metadata": {},
   "source": [
    "STANDARD_DEVIATION,  SF_FILETYPE en SF_REFERRER --> hebben NaN waarden\n",
    "\n",
    "Opvullen met 0, opvullen met mean() of weglaten"
   ]
  },
  {
   "attachments": {},
   "cell_type": "markdown",
   "metadata": {},
   "source": [
    "### Opvullen met 0\n",
    "en vergelijken met std()"
   ]
  },
  {
   "cell_type": "code",
   "execution_count": 12,
   "metadata": {},
   "outputs": [
    {
     "data": {
      "text/plain": [
       "NUMBER_OF_REQUESTS    2.019290e+02\n",
       "TOTAL_DURATION        8.362284e+03\n",
       "AVERAGE_TIME          1.464994e+02\n",
       "STANDARD_DEVIATION    8.796564e+01\n",
       "REPEATED_REQUESTS     7.946920e-02\n",
       "HTTP_RESPONSE_2XX     1.162992e-01\n",
       "HTTP_RESPONSE_3XX     6.388766e-02\n",
       "HTTP_RESPONSE_4XX     9.273549e-02\n",
       "HTTP_RESPONSE_5XX     3.127461e-02\n",
       "GET_METHOD            5.476387e-02\n",
       "POST_METHOD           2.869352e-02\n",
       "HEAD_METHOD           4.623714e-02\n",
       "OTHER_METHOD          7.730190e-03\n",
       "NIGHT                 2.566460e-01\n",
       "UNASSIGNED            4.206386e-01\n",
       "IMAGES                3.029098e-01\n",
       "TOTAL_HTML            3.501775e-01\n",
       "HTML_TO_IMAGE         5.105739e+00\n",
       "HTML_TO_CSS           1.379890e+00\n",
       "HTML_TO_JS            2.722013e+00\n",
       "WIDTH                 1.809591e+02\n",
       "DEPTH                 1.509038e+00\n",
       "STD_DEPTH             5.983012e-01\n",
       "CONSECUTIVE           2.788597e-01\n",
       "DATA                  2.330374e+06\n",
       "PPI                   3.734383e+07\n",
       "SF_REFERRER           2.428942e-01\n",
       "SF_FILETYPE           2.453545e-01\n",
       "MAX_BARRAGE           1.970441e+01\n",
       "PENALTY               4.832965e+00\n",
       "dtype: float64"
      ]
     },
     "execution_count": 12,
     "metadata": {},
     "output_type": "execute_result"
    }
   ],
   "source": [
    "X.std()"
   ]
  },
  {
   "cell_type": "code",
   "execution_count": 13,
   "metadata": {},
   "outputs": [
    {
     "data": {
      "text/plain": [
       "NUMBER_OF_REQUESTS    2.019290e+02\n",
       "TOTAL_DURATION        8.362284e+03\n",
       "AVERAGE_TIME          1.464994e+02\n",
       "STANDARD_DEVIATION    8.014122e+01\n",
       "REPEATED_REQUESTS     7.946920e-02\n",
       "HTTP_RESPONSE_2XX     1.162992e-01\n",
       "HTTP_RESPONSE_3XX     6.388766e-02\n",
       "HTTP_RESPONSE_4XX     9.273549e-02\n",
       "HTTP_RESPONSE_5XX     3.127461e-02\n",
       "GET_METHOD            5.476387e-02\n",
       "POST_METHOD           2.869352e-02\n",
       "HEAD_METHOD           4.623714e-02\n",
       "OTHER_METHOD          7.730190e-03\n",
       "NIGHT                 2.566460e-01\n",
       "UNASSIGNED            4.206386e-01\n",
       "IMAGES                3.029098e-01\n",
       "TOTAL_HTML            3.501775e-01\n",
       "HTML_TO_IMAGE         5.105739e+00\n",
       "HTML_TO_CSS           1.379890e+00\n",
       "HTML_TO_JS            2.722013e+00\n",
       "WIDTH                 1.809591e+02\n",
       "DEPTH                 1.509038e+00\n",
       "STD_DEPTH             5.983012e-01\n",
       "CONSECUTIVE           2.788597e-01\n",
       "DATA                  2.330374e+06\n",
       "PPI                   3.734383e+07\n",
       "SF_REFERRER           2.413764e-01\n",
       "SF_FILETYPE           2.683445e-01\n",
       "MAX_BARRAGE           1.970441e+01\n",
       "PENALTY               4.832965e+00\n",
       "dtype: float64"
      ]
     },
     "execution_count": 13,
     "metadata": {},
     "output_type": "execute_result"
    }
   ],
   "source": [
    "X_zero = X.copy()\n",
    "X_zero = X.fillna(0)\n",
    "X_zero.std()"
   ]
  },
  {
   "attachments": {},
   "cell_type": "markdown",
   "metadata": {},
   "source": [
    "Bij STANDARD_DEVIATION is er bijna een verschil van 1.0 bij de std()\n",
    "\n",
    "Bij SF_REFERRER is er maar een verschil van ongv. 0.025\n",
    "\n",
    "Bij SF_FILETYPE zien we een verschil van ongv. 0.225"
   ]
  },
  {
   "attachments": {},
   "cell_type": "markdown",
   "metadata": {},
   "source": [
    "Dit lijkt mij een te grote afwijking --> fillna(X.mean()) testen"
   ]
  },
  {
   "attachments": {},
   "cell_type": "markdown",
   "metadata": {},
   "source": [
    "### Opvullen met mean()"
   ]
  },
  {
   "cell_type": "code",
   "execution_count": 14,
   "metadata": {},
   "outputs": [
    {
     "data": {
      "text/plain": [
       "NUMBER_OF_REQUESTS    2.019290e+02\n",
       "TOTAL_DURATION        8.362284e+03\n",
       "AVERAGE_TIME          1.464994e+02\n",
       "STANDARD_DEVIATION    8.796564e+01\n",
       "REPEATED_REQUESTS     7.946920e-02\n",
       "HTTP_RESPONSE_2XX     1.162992e-01\n",
       "HTTP_RESPONSE_3XX     6.388766e-02\n",
       "HTTP_RESPONSE_4XX     9.273549e-02\n",
       "HTTP_RESPONSE_5XX     3.127461e-02\n",
       "GET_METHOD            5.476387e-02\n",
       "POST_METHOD           2.869352e-02\n",
       "HEAD_METHOD           4.623714e-02\n",
       "OTHER_METHOD          7.730190e-03\n",
       "NIGHT                 2.566460e-01\n",
       "UNASSIGNED            4.206386e-01\n",
       "IMAGES                3.029098e-01\n",
       "TOTAL_HTML            3.501775e-01\n",
       "HTML_TO_IMAGE         5.105739e+00\n",
       "HTML_TO_CSS           1.379890e+00\n",
       "HTML_TO_JS            2.722013e+00\n",
       "WIDTH                 1.809591e+02\n",
       "DEPTH                 1.509038e+00\n",
       "STD_DEPTH             5.983012e-01\n",
       "CONSECUTIVE           2.788597e-01\n",
       "DATA                  2.330374e+06\n",
       "PPI                   3.734383e+07\n",
       "SF_REFERRER           2.428942e-01\n",
       "SF_FILETYPE           2.453545e-01\n",
       "MAX_BARRAGE           1.970441e+01\n",
       "PENALTY               4.832965e+00\n",
       "dtype: float64"
      ]
     },
     "execution_count": 14,
     "metadata": {},
     "output_type": "execute_result"
    }
   ],
   "source": [
    "X_mean = X.copy()\n",
    "X_mean = X.fillna(X.mean())\n",
    "X.std()"
   ]
  },
  {
   "attachments": {},
   "cell_type": "markdown",
   "metadata": {},
   "source": [
    "Hier zien we nog een grotere afwijking --> Features met Nan-Values droppen"
   ]
  },
  {
   "attachments": {},
   "cell_type": "markdown",
   "metadata": {},
   "source": [
    "### Features met Nan-values droppen"
   ]
  },
  {
   "cell_type": "code",
   "execution_count": 15,
   "metadata": {},
   "outputs": [],
   "source": [
    "X_drop = X.copy()\n",
    "X_drop = X.drop(['STANDARD_DEVIATION', 'SF_REFERRER', 'SF_FILETYPE'], axis=1)"
   ]
  },
  {
   "attachments": {},
   "cell_type": "markdown",
   "metadata": {},
   "source": [
    "### Train en test opsplitsen voor alle soorten X (zero, mean, drop)"
   ]
  },
  {
   "cell_type": "code",
   "execution_count": 16,
   "metadata": {},
   "outputs": [
    {
     "name": "stdout",
     "output_type": "stream",
     "text": [
      "(26940, 30) (6736, 30) (26940,) (6736,)\n"
     ]
    }
   ],
   "source": [
    "X_zero_train, X_zero_test, y_train, y_test = train_test_split(X_zero, y, test_size=0.2, random_state=42)\n",
    "\n",
    "print(X_zero_train.shape, X_zero_test.shape, y_train.shape, y_test.shape)"
   ]
  },
  {
   "cell_type": "code",
   "execution_count": 17,
   "metadata": {},
   "outputs": [
    {
     "name": "stdout",
     "output_type": "stream",
     "text": [
      "(26940, 30) (6736, 30) (26940,) (6736,)\n"
     ]
    }
   ],
   "source": [
    "X_mean_train, X_mean_test, y_train, y_test = train_test_split(X_mean, y, test_size=0.2, random_state=42)\n",
    "\n",
    "print(X_mean_train.shape, X_mean_test.shape, y_train.shape, y_test.shape)"
   ]
  },
  {
   "cell_type": "code",
   "execution_count": 18,
   "metadata": {},
   "outputs": [
    {
     "name": "stdout",
     "output_type": "stream",
     "text": [
      "(26940, 27) (6736, 27) (26940,) (6736,)\n"
     ]
    }
   ],
   "source": [
    "X_drop_train, X_drop_test, y_train, y_test = train_test_split(X_drop, y, test_size=0.2, random_state=42)\n",
    "\n",
    "print(X_drop_train.shape, X_drop_test.shape, y_train.shape, y_test.shape)"
   ]
  },
  {
   "attachments": {},
   "cell_type": "markdown",
   "metadata": {},
   "source": [
    "# DecisionTreeClassifier trainen en testen"
   ]
  },
  {
   "attachments": {},
   "cell_type": "markdown",
   "metadata": {},
   "source": [
    "#### DecisionTreeClassifier best estimator zoeken met grid search cv"
   ]
  },
  {
   "attachments": {},
   "cell_type": "markdown",
   "metadata": {},
   "source": [
    "##### X_zero"
   ]
  },
  {
   "cell_type": "code",
   "execution_count": 19,
   "metadata": {},
   "outputs": [
    {
     "name": "stdout",
     "output_type": "stream",
     "text": [
      "{'max_depth': 13}\n",
      "\n",
      "\n",
      "0.9766923990498813\n",
      "\n",
      "\n",
      "              precision    recall  f1-score   support\n",
      "\n",
      "           0       0.99      0.99      0.99      5393\n",
      "           1       0.94      0.94      0.94      1343\n",
      "\n",
      "    accuracy                           0.98      6736\n",
      "   macro avg       0.96      0.96      0.96      6736\n",
      "weighted avg       0.98      0.98      0.98      6736\n",
      "\n",
      "\n",
      "\n",
      "[[5316   77]\n",
      " [  80 1263]]\n",
      "\n",
      "\n"
     ]
    }
   ],
   "source": [
    "grid_search_zero = GridSearchCV(DecisionTreeClassifier(random_state=42), param_grid={'max_depth': np.arange(2, 31)}, cv=5, scoring='accuracy', return_train_score=True)\n",
    "\n",
    "grid_search_zero.fit(X_zero_train, y_train)\n",
    "\n",
    "print(grid_search_zero.best_params_)\n",
    "print(\"\\n\")\n",
    "\n",
    "y_pred_0 = grid_search_zero.predict(X_zero_test)\n",
    "\n",
    "print(accuracy_score(y_test, y_pred_0))\n",
    "print(\"\\n\")\n",
    "\n",
    "print(classification_report(y_test, y_pred_0))\n",
    "print(\"\\n\")\n",
    "\n",
    "cm_0 = confusion_matrix(y_test, y_pred_0)\n",
    "\n",
    "print(cm_0)\n",
    "print(\"\\n\")"
   ]
  },
  {
   "attachments": {},
   "cell_type": "markdown",
   "metadata": {},
   "source": [
    "##### X_mean"
   ]
  },
  {
   "cell_type": "code",
   "execution_count": 20,
   "metadata": {},
   "outputs": [
    {
     "name": "stdout",
     "output_type": "stream",
     "text": [
      "{'max_depth': 12}\n",
      "\n",
      "\n",
      "0.9756532066508313\n",
      "\n",
      "\n",
      "              precision    recall  f1-score   support\n",
      "\n",
      "           0       0.98      0.99      0.98      5393\n",
      "           1       0.94      0.93      0.94      1343\n",
      "\n",
      "    accuracy                           0.98      6736\n",
      "   macro avg       0.96      0.96      0.96      6736\n",
      "weighted avg       0.98      0.98      0.98      6736\n",
      "\n",
      "\n",
      "\n",
      "[[5317   76]\n",
      " [  88 1255]]\n",
      "\n",
      "\n"
     ]
    }
   ],
   "source": [
    "grid_search_mean = GridSearchCV(DecisionTreeClassifier(random_state=42), param_grid={'max_depth': np.arange(2, 31)}, cv=5, scoring='accuracy', return_train_score=True)\n",
    "\n",
    "grid_search_mean.fit(X_mean_train, y_train)\n",
    "\n",
    "print(grid_search_mean.best_params_)\n",
    "print(\"\\n\")\n",
    "\n",
    "y_pred_mean = grid_search_mean.predict(X_mean_test)\n",
    "\n",
    "print(accuracy_score(y_test, y_pred_mean))\n",
    "print(\"\\n\")\n",
    "\n",
    "print(classification_report(y_test, y_pred_mean))\n",
    "print(\"\\n\")\n",
    "\n",
    "cm_mean = confusion_matrix(y_test, y_pred_mean)\n",
    "\n",
    "print(cm_mean)\n",
    "print(\"\\n\")"
   ]
  },
  {
   "attachments": {},
   "cell_type": "markdown",
   "metadata": {},
   "source": [
    "##### X_drop"
   ]
  },
  {
   "cell_type": "code",
   "execution_count": 21,
   "metadata": {},
   "outputs": [
    {
     "name": "stdout",
     "output_type": "stream",
     "text": [
      "{'max_depth': 13}\n",
      "\n",
      "\n",
      "0.9759501187648456\n",
      "\n",
      "\n",
      "              precision    recall  f1-score   support\n",
      "\n",
      "           0       0.98      0.98      0.98      5393\n",
      "           1       0.94      0.94      0.94      1343\n",
      "\n",
      "    accuracy                           0.98      6736\n",
      "   macro avg       0.96      0.96      0.96      6736\n",
      "weighted avg       0.98      0.98      0.98      6736\n",
      "\n",
      "\n",
      "\n",
      "[[5312   81]\n",
      " [  81 1262]]\n",
      "\n",
      "\n"
     ]
    }
   ],
   "source": [
    "grid_search_drop = GridSearchCV(DecisionTreeClassifier(random_state=42), param_grid={'max_depth': np.arange(2, 31)}, cv=5, scoring='accuracy', return_train_score=True)\n",
    "\n",
    "grid_search_drop.fit(X_drop_train, y_train)\n",
    "\n",
    "print(grid_search_drop.best_params_)\n",
    "print(\"\\n\")\n",
    "\n",
    "y_pred_drop = grid_search_drop.predict(X_drop_test)\n",
    "\n",
    "print(accuracy_score(y_test, y_pred_drop))\n",
    "print(\"\\n\")\n",
    "\n",
    "print(classification_report(y_test, y_pred_drop))\n",
    "print(\"\\n\")\n",
    "\n",
    "cm_drop = confusion_matrix(y_test, y_pred_drop)\n",
    "\n",
    "print(cm_drop)\n",
    "print(\"\\n\")"
   ]
  },
  {
   "attachments": {},
   "cell_type": "markdown",
   "metadata": {},
   "source": [
    "Geen groot verschil tussen de 3 verschillende X'en"
   ]
  },
  {
   "attachments": {},
   "cell_type": "markdown",
   "metadata": {},
   "source": [
    "### Feature Importance bekijken"
   ]
  },
  {
   "cell_type": "code",
   "execution_count": 22,
   "metadata": {},
   "outputs": [
    {
     "data": {
      "text/html": [
       "<div>\n",
       "<style scoped>\n",
       "    .dataframe tbody tr th:only-of-type {\n",
       "        vertical-align: middle;\n",
       "    }\n",
       "\n",
       "    .dataframe tbody tr th {\n",
       "        vertical-align: top;\n",
       "    }\n",
       "\n",
       "    .dataframe thead th {\n",
       "        text-align: right;\n",
       "    }\n",
       "</style>\n",
       "<table border=\"1\" class=\"dataframe\">\n",
       "  <thead>\n",
       "    <tr style=\"text-align: right;\">\n",
       "      <th></th>\n",
       "      <th>feature</th>\n",
       "      <th>importance</th>\n",
       "    </tr>\n",
       "  </thead>\n",
       "  <tbody>\n",
       "    <tr>\n",
       "      <th>14</th>\n",
       "      <td>UNASSIGNED</td>\n",
       "      <td>0.697900</td>\n",
       "    </tr>\n",
       "    <tr>\n",
       "      <th>24</th>\n",
       "      <td>DATA</td>\n",
       "      <td>0.077182</td>\n",
       "    </tr>\n",
       "    <tr>\n",
       "      <th>29</th>\n",
       "      <td>PENALTY</td>\n",
       "      <td>0.036227</td>\n",
       "    </tr>\n",
       "    <tr>\n",
       "      <th>15</th>\n",
       "      <td>IMAGES</td>\n",
       "      <td>0.033336</td>\n",
       "    </tr>\n",
       "    <tr>\n",
       "      <th>21</th>\n",
       "      <td>DEPTH</td>\n",
       "      <td>0.024546</td>\n",
       "    </tr>\n",
       "    <tr>\n",
       "      <th>7</th>\n",
       "      <td>HTTP_RESPONSE_4XX</td>\n",
       "      <td>0.024233</td>\n",
       "    </tr>\n",
       "    <tr>\n",
       "      <th>25</th>\n",
       "      <td>PPI</td>\n",
       "      <td>0.020710</td>\n",
       "    </tr>\n",
       "    <tr>\n",
       "      <th>16</th>\n",
       "      <td>TOTAL_HTML</td>\n",
       "      <td>0.020474</td>\n",
       "    </tr>\n",
       "    <tr>\n",
       "      <th>2</th>\n",
       "      <td>AVERAGE_TIME</td>\n",
       "      <td>0.012643</td>\n",
       "    </tr>\n",
       "    <tr>\n",
       "      <th>1</th>\n",
       "      <td>TOTAL_DURATION</td>\n",
       "      <td>0.011410</td>\n",
       "    </tr>\n",
       "    <tr>\n",
       "      <th>28</th>\n",
       "      <td>MAX_BARRAGE</td>\n",
       "      <td>0.007728</td>\n",
       "    </tr>\n",
       "    <tr>\n",
       "      <th>13</th>\n",
       "      <td>NIGHT</td>\n",
       "      <td>0.006161</td>\n",
       "    </tr>\n",
       "    <tr>\n",
       "      <th>23</th>\n",
       "      <td>CONSECUTIVE</td>\n",
       "      <td>0.005106</td>\n",
       "    </tr>\n",
       "    <tr>\n",
       "      <th>18</th>\n",
       "      <td>HTML_TO_CSS</td>\n",
       "      <td>0.004933</td>\n",
       "    </tr>\n",
       "    <tr>\n",
       "      <th>20</th>\n",
       "      <td>WIDTH</td>\n",
       "      <td>0.003249</td>\n",
       "    </tr>\n",
       "    <tr>\n",
       "      <th>3</th>\n",
       "      <td>STANDARD_DEVIATION</td>\n",
       "      <td>0.002773</td>\n",
       "    </tr>\n",
       "    <tr>\n",
       "      <th>0</th>\n",
       "      <td>NUMBER_OF_REQUESTS</td>\n",
       "      <td>0.002263</td>\n",
       "    </tr>\n",
       "    <tr>\n",
       "      <th>17</th>\n",
       "      <td>HTML_TO_IMAGE</td>\n",
       "      <td>0.002190</td>\n",
       "    </tr>\n",
       "    <tr>\n",
       "      <th>22</th>\n",
       "      <td>STD_DEPTH</td>\n",
       "      <td>0.001773</td>\n",
       "    </tr>\n",
       "    <tr>\n",
       "      <th>19</th>\n",
       "      <td>HTML_TO_JS</td>\n",
       "      <td>0.001595</td>\n",
       "    </tr>\n",
       "    <tr>\n",
       "      <th>27</th>\n",
       "      <td>SF_FILETYPE</td>\n",
       "      <td>0.001492</td>\n",
       "    </tr>\n",
       "    <tr>\n",
       "      <th>26</th>\n",
       "      <td>SF_REFERRER</td>\n",
       "      <td>0.000893</td>\n",
       "    </tr>\n",
       "    <tr>\n",
       "      <th>4</th>\n",
       "      <td>REPEATED_REQUESTS</td>\n",
       "      <td>0.000389</td>\n",
       "    </tr>\n",
       "    <tr>\n",
       "      <th>11</th>\n",
       "      <td>HEAD_METHOD</td>\n",
       "      <td>0.000362</td>\n",
       "    </tr>\n",
       "    <tr>\n",
       "      <th>6</th>\n",
       "      <td>HTTP_RESPONSE_3XX</td>\n",
       "      <td>0.000330</td>\n",
       "    </tr>\n",
       "    <tr>\n",
       "      <th>5</th>\n",
       "      <td>HTTP_RESPONSE_2XX</td>\n",
       "      <td>0.000082</td>\n",
       "    </tr>\n",
       "    <tr>\n",
       "      <th>9</th>\n",
       "      <td>GET_METHOD</td>\n",
       "      <td>0.000021</td>\n",
       "    </tr>\n",
       "    <tr>\n",
       "      <th>12</th>\n",
       "      <td>OTHER_METHOD</td>\n",
       "      <td>0.000000</td>\n",
       "    </tr>\n",
       "    <tr>\n",
       "      <th>10</th>\n",
       "      <td>POST_METHOD</td>\n",
       "      <td>0.000000</td>\n",
       "    </tr>\n",
       "    <tr>\n",
       "      <th>8</th>\n",
       "      <td>HTTP_RESPONSE_5XX</td>\n",
       "      <td>0.000000</td>\n",
       "    </tr>\n",
       "  </tbody>\n",
       "</table>\n",
       "</div>"
      ],
      "text/plain": [
       "               feature  importance\n",
       "14          UNASSIGNED    0.697900\n",
       "24                DATA    0.077182\n",
       "29             PENALTY    0.036227\n",
       "15              IMAGES    0.033336\n",
       "21               DEPTH    0.024546\n",
       "7    HTTP_RESPONSE_4XX    0.024233\n",
       "25                 PPI    0.020710\n",
       "16          TOTAL_HTML    0.020474\n",
       "2         AVERAGE_TIME    0.012643\n",
       "1       TOTAL_DURATION    0.011410\n",
       "28         MAX_BARRAGE    0.007728\n",
       "13               NIGHT    0.006161\n",
       "23         CONSECUTIVE    0.005106\n",
       "18         HTML_TO_CSS    0.004933\n",
       "20               WIDTH    0.003249\n",
       "3   STANDARD_DEVIATION    0.002773\n",
       "0   NUMBER_OF_REQUESTS    0.002263\n",
       "17       HTML_TO_IMAGE    0.002190\n",
       "22           STD_DEPTH    0.001773\n",
       "19          HTML_TO_JS    0.001595\n",
       "27         SF_FILETYPE    0.001492\n",
       "26         SF_REFERRER    0.000893\n",
       "4    REPEATED_REQUESTS    0.000389\n",
       "11         HEAD_METHOD    0.000362\n",
       "6    HTTP_RESPONSE_3XX    0.000330\n",
       "5    HTTP_RESPONSE_2XX    0.000082\n",
       "9           GET_METHOD    0.000021\n",
       "12        OTHER_METHOD    0.000000\n",
       "10         POST_METHOD    0.000000\n",
       "8    HTTP_RESPONSE_5XX    0.000000"
      ]
     },
     "execution_count": 22,
     "metadata": {},
     "output_type": "execute_result"
    }
   ],
   "source": [
    "features_0 = X_zero.columns\n",
    "\n",
    "dt_clf_0 = DecisionTreeClassifier(random_state=42, max_depth=17)\n",
    "dt_clf_0.fit(X_zero_train, y_train)\n",
    "\n",
    "importances_0 = dt_clf_0.feature_importances_\n",
    "\n",
    "df_importances_0 = pd.DataFrame({'feature': features_0, 'importance': importances_0})\n",
    "df_importances_0 = df_importances_0.sort_values(by='importance', ascending=False)\n",
    "df_importances_0"
   ]
  },
  {
   "cell_type": "code",
   "execution_count": 23,
   "metadata": {},
   "outputs": [
    {
     "data": {
      "text/html": [
       "<div>\n",
       "<style scoped>\n",
       "    .dataframe tbody tr th:only-of-type {\n",
       "        vertical-align: middle;\n",
       "    }\n",
       "\n",
       "    .dataframe tbody tr th {\n",
       "        vertical-align: top;\n",
       "    }\n",
       "\n",
       "    .dataframe thead th {\n",
       "        text-align: right;\n",
       "    }\n",
       "</style>\n",
       "<table border=\"1\" class=\"dataframe\">\n",
       "  <thead>\n",
       "    <tr style=\"text-align: right;\">\n",
       "      <th></th>\n",
       "      <th>feature</th>\n",
       "      <th>importance</th>\n",
       "    </tr>\n",
       "  </thead>\n",
       "  <tbody>\n",
       "    <tr>\n",
       "      <th>14</th>\n",
       "      <td>UNASSIGNED</td>\n",
       "      <td>0.679694</td>\n",
       "    </tr>\n",
       "    <tr>\n",
       "      <th>24</th>\n",
       "      <td>DATA</td>\n",
       "      <td>0.095055</td>\n",
       "    </tr>\n",
       "    <tr>\n",
       "      <th>29</th>\n",
       "      <td>PENALTY</td>\n",
       "      <td>0.035292</td>\n",
       "    </tr>\n",
       "    <tr>\n",
       "      <th>15</th>\n",
       "      <td>IMAGES</td>\n",
       "      <td>0.032351</td>\n",
       "    </tr>\n",
       "    <tr>\n",
       "      <th>21</th>\n",
       "      <td>DEPTH</td>\n",
       "      <td>0.024613</td>\n",
       "    </tr>\n",
       "    <tr>\n",
       "      <th>7</th>\n",
       "      <td>HTTP_RESPONSE_4XX</td>\n",
       "      <td>0.023607</td>\n",
       "    </tr>\n",
       "    <tr>\n",
       "      <th>25</th>\n",
       "      <td>PPI</td>\n",
       "      <td>0.022286</td>\n",
       "    </tr>\n",
       "    <tr>\n",
       "      <th>16</th>\n",
       "      <td>TOTAL_HTML</td>\n",
       "      <td>0.020031</td>\n",
       "    </tr>\n",
       "    <tr>\n",
       "      <th>2</th>\n",
       "      <td>AVERAGE_TIME</td>\n",
       "      <td>0.014894</td>\n",
       "    </tr>\n",
       "    <tr>\n",
       "      <th>1</th>\n",
       "      <td>TOTAL_DURATION</td>\n",
       "      <td>0.008743</td>\n",
       "    </tr>\n",
       "    <tr>\n",
       "      <th>28</th>\n",
       "      <td>MAX_BARRAGE</td>\n",
       "      <td>0.007528</td>\n",
       "    </tr>\n",
       "    <tr>\n",
       "      <th>3</th>\n",
       "      <td>STANDARD_DEVIATION</td>\n",
       "      <td>0.006772</td>\n",
       "    </tr>\n",
       "    <tr>\n",
       "      <th>13</th>\n",
       "      <td>NIGHT</td>\n",
       "      <td>0.006691</td>\n",
       "    </tr>\n",
       "    <tr>\n",
       "      <th>23</th>\n",
       "      <td>CONSECUTIVE</td>\n",
       "      <td>0.004935</td>\n",
       "    </tr>\n",
       "    <tr>\n",
       "      <th>18</th>\n",
       "      <td>HTML_TO_CSS</td>\n",
       "      <td>0.004511</td>\n",
       "    </tr>\n",
       "    <tr>\n",
       "      <th>22</th>\n",
       "      <td>STD_DEPTH</td>\n",
       "      <td>0.003075</td>\n",
       "    </tr>\n",
       "    <tr>\n",
       "      <th>27</th>\n",
       "      <td>SF_FILETYPE</td>\n",
       "      <td>0.001905</td>\n",
       "    </tr>\n",
       "    <tr>\n",
       "      <th>0</th>\n",
       "      <td>NUMBER_OF_REQUESTS</td>\n",
       "      <td>0.001709</td>\n",
       "    </tr>\n",
       "    <tr>\n",
       "      <th>17</th>\n",
       "      <td>HTML_TO_IMAGE</td>\n",
       "      <td>0.001582</td>\n",
       "    </tr>\n",
       "    <tr>\n",
       "      <th>19</th>\n",
       "      <td>HTML_TO_JS</td>\n",
       "      <td>0.001454</td>\n",
       "    </tr>\n",
       "    <tr>\n",
       "      <th>26</th>\n",
       "      <td>SF_REFERRER</td>\n",
       "      <td>0.001143</td>\n",
       "    </tr>\n",
       "    <tr>\n",
       "      <th>9</th>\n",
       "      <td>GET_METHOD</td>\n",
       "      <td>0.000474</td>\n",
       "    </tr>\n",
       "    <tr>\n",
       "      <th>11</th>\n",
       "      <td>HEAD_METHOD</td>\n",
       "      <td>0.000472</td>\n",
       "    </tr>\n",
       "    <tr>\n",
       "      <th>6</th>\n",
       "      <td>HTTP_RESPONSE_3XX</td>\n",
       "      <td>0.000430</td>\n",
       "    </tr>\n",
       "    <tr>\n",
       "      <th>4</th>\n",
       "      <td>REPEATED_REQUESTS</td>\n",
       "      <td>0.000330</td>\n",
       "    </tr>\n",
       "    <tr>\n",
       "      <th>20</th>\n",
       "      <td>WIDTH</td>\n",
       "      <td>0.000328</td>\n",
       "    </tr>\n",
       "    <tr>\n",
       "      <th>5</th>\n",
       "      <td>HTTP_RESPONSE_2XX</td>\n",
       "      <td>0.000080</td>\n",
       "    </tr>\n",
       "    <tr>\n",
       "      <th>12</th>\n",
       "      <td>OTHER_METHOD</td>\n",
       "      <td>0.000011</td>\n",
       "    </tr>\n",
       "    <tr>\n",
       "      <th>10</th>\n",
       "      <td>POST_METHOD</td>\n",
       "      <td>0.000000</td>\n",
       "    </tr>\n",
       "    <tr>\n",
       "      <th>8</th>\n",
       "      <td>HTTP_RESPONSE_5XX</td>\n",
       "      <td>0.000000</td>\n",
       "    </tr>\n",
       "  </tbody>\n",
       "</table>\n",
       "</div>"
      ],
      "text/plain": [
       "               feature  importance\n",
       "14          UNASSIGNED    0.679694\n",
       "24                DATA    0.095055\n",
       "29             PENALTY    0.035292\n",
       "15              IMAGES    0.032351\n",
       "21               DEPTH    0.024613\n",
       "7    HTTP_RESPONSE_4XX    0.023607\n",
       "25                 PPI    0.022286\n",
       "16          TOTAL_HTML    0.020031\n",
       "2         AVERAGE_TIME    0.014894\n",
       "1       TOTAL_DURATION    0.008743\n",
       "28         MAX_BARRAGE    0.007528\n",
       "3   STANDARD_DEVIATION    0.006772\n",
       "13               NIGHT    0.006691\n",
       "23         CONSECUTIVE    0.004935\n",
       "18         HTML_TO_CSS    0.004511\n",
       "22           STD_DEPTH    0.003075\n",
       "27         SF_FILETYPE    0.001905\n",
       "0   NUMBER_OF_REQUESTS    0.001709\n",
       "17       HTML_TO_IMAGE    0.001582\n",
       "19          HTML_TO_JS    0.001454\n",
       "26         SF_REFERRER    0.001143\n",
       "9           GET_METHOD    0.000474\n",
       "11         HEAD_METHOD    0.000472\n",
       "6    HTTP_RESPONSE_3XX    0.000430\n",
       "4    REPEATED_REQUESTS    0.000330\n",
       "20               WIDTH    0.000328\n",
       "5    HTTP_RESPONSE_2XX    0.000080\n",
       "12        OTHER_METHOD    0.000011\n",
       "10         POST_METHOD    0.000000\n",
       "8    HTTP_RESPONSE_5XX    0.000000"
      ]
     },
     "execution_count": 23,
     "metadata": {},
     "output_type": "execute_result"
    }
   ],
   "source": [
    "features_m = X_mean.columns\n",
    "\n",
    "dt_clf_m = DecisionTreeClassifier(random_state=42)\n",
    "dt_clf_m.fit(X_mean_train, y_train)\n",
    "\n",
    "importances_m = dt_clf_m.feature_importances_\n",
    "\n",
    "df_importances_m = pd.DataFrame({'feature': features_m, 'importance': importances_m})\n",
    "df_importances_m = df_importances_m.sort_values(by='importance', ascending=False)\n",
    "df_importances_m"
   ]
  },
  {
   "cell_type": "code",
   "execution_count": 24,
   "metadata": {},
   "outputs": [
    {
     "data": {
      "text/html": [
       "<div>\n",
       "<style scoped>\n",
       "    .dataframe tbody tr th:only-of-type {\n",
       "        vertical-align: middle;\n",
       "    }\n",
       "\n",
       "    .dataframe tbody tr th {\n",
       "        vertical-align: top;\n",
       "    }\n",
       "\n",
       "    .dataframe thead th {\n",
       "        text-align: right;\n",
       "    }\n",
       "</style>\n",
       "<table border=\"1\" class=\"dataframe\">\n",
       "  <thead>\n",
       "    <tr style=\"text-align: right;\">\n",
       "      <th></th>\n",
       "      <th>feature</th>\n",
       "      <th>importance</th>\n",
       "    </tr>\n",
       "  </thead>\n",
       "  <tbody>\n",
       "    <tr>\n",
       "      <th>13</th>\n",
       "      <td>UNASSIGNED</td>\n",
       "      <td>0.679694</td>\n",
       "    </tr>\n",
       "    <tr>\n",
       "      <th>23</th>\n",
       "      <td>DATA</td>\n",
       "      <td>0.097977</td>\n",
       "    </tr>\n",
       "    <tr>\n",
       "      <th>26</th>\n",
       "      <td>PENALTY</td>\n",
       "      <td>0.035292</td>\n",
       "    </tr>\n",
       "    <tr>\n",
       "      <th>14</th>\n",
       "      <td>IMAGES</td>\n",
       "      <td>0.032604</td>\n",
       "    </tr>\n",
       "    <tr>\n",
       "      <th>20</th>\n",
       "      <td>DEPTH</td>\n",
       "      <td>0.023943</td>\n",
       "    </tr>\n",
       "    <tr>\n",
       "      <th>6</th>\n",
       "      <td>HTTP_RESPONSE_4XX</td>\n",
       "      <td>0.023607</td>\n",
       "    </tr>\n",
       "    <tr>\n",
       "      <th>24</th>\n",
       "      <td>PPI</td>\n",
       "      <td>0.021882</td>\n",
       "    </tr>\n",
       "    <tr>\n",
       "      <th>15</th>\n",
       "      <td>TOTAL_HTML</td>\n",
       "      <td>0.021127</td>\n",
       "    </tr>\n",
       "    <tr>\n",
       "      <th>2</th>\n",
       "      <td>AVERAGE_TIME</td>\n",
       "      <td>0.014896</td>\n",
       "    </tr>\n",
       "    <tr>\n",
       "      <th>1</th>\n",
       "      <td>TOTAL_DURATION</td>\n",
       "      <td>0.011335</td>\n",
       "    </tr>\n",
       "    <tr>\n",
       "      <th>12</th>\n",
       "      <td>NIGHT</td>\n",
       "      <td>0.006997</td>\n",
       "    </tr>\n",
       "    <tr>\n",
       "      <th>25</th>\n",
       "      <td>MAX_BARRAGE</td>\n",
       "      <td>0.006799</td>\n",
       "    </tr>\n",
       "    <tr>\n",
       "      <th>22</th>\n",
       "      <td>CONSECUTIVE</td>\n",
       "      <td>0.004573</td>\n",
       "    </tr>\n",
       "    <tr>\n",
       "      <th>17</th>\n",
       "      <td>HTML_TO_CSS</td>\n",
       "      <td>0.004342</td>\n",
       "    </tr>\n",
       "    <tr>\n",
       "      <th>21</th>\n",
       "      <td>STD_DEPTH</td>\n",
       "      <td>0.004110</td>\n",
       "    </tr>\n",
       "    <tr>\n",
       "      <th>16</th>\n",
       "      <td>HTML_TO_IMAGE</td>\n",
       "      <td>0.003765</td>\n",
       "    </tr>\n",
       "    <tr>\n",
       "      <th>19</th>\n",
       "      <td>WIDTH</td>\n",
       "      <td>0.002638</td>\n",
       "    </tr>\n",
       "    <tr>\n",
       "      <th>18</th>\n",
       "      <td>HTML_TO_JS</td>\n",
       "      <td>0.001389</td>\n",
       "    </tr>\n",
       "    <tr>\n",
       "      <th>0</th>\n",
       "      <td>NUMBER_OF_REQUESTS</td>\n",
       "      <td>0.001287</td>\n",
       "    </tr>\n",
       "    <tr>\n",
       "      <th>8</th>\n",
       "      <td>GET_METHOD</td>\n",
       "      <td>0.000522</td>\n",
       "    </tr>\n",
       "    <tr>\n",
       "      <th>10</th>\n",
       "      <td>HEAD_METHOD</td>\n",
       "      <td>0.000472</td>\n",
       "    </tr>\n",
       "    <tr>\n",
       "      <th>3</th>\n",
       "      <td>REPEATED_REQUESTS</td>\n",
       "      <td>0.000452</td>\n",
       "    </tr>\n",
       "    <tr>\n",
       "      <th>5</th>\n",
       "      <td>HTTP_RESPONSE_3XX</td>\n",
       "      <td>0.000215</td>\n",
       "    </tr>\n",
       "    <tr>\n",
       "      <th>4</th>\n",
       "      <td>HTTP_RESPONSE_2XX</td>\n",
       "      <td>0.000080</td>\n",
       "    </tr>\n",
       "    <tr>\n",
       "      <th>11</th>\n",
       "      <td>OTHER_METHOD</td>\n",
       "      <td>0.000000</td>\n",
       "    </tr>\n",
       "    <tr>\n",
       "      <th>9</th>\n",
       "      <td>POST_METHOD</td>\n",
       "      <td>0.000000</td>\n",
       "    </tr>\n",
       "    <tr>\n",
       "      <th>7</th>\n",
       "      <td>HTTP_RESPONSE_5XX</td>\n",
       "      <td>0.000000</td>\n",
       "    </tr>\n",
       "  </tbody>\n",
       "</table>\n",
       "</div>"
      ],
      "text/plain": [
       "               feature  importance\n",
       "13          UNASSIGNED    0.679694\n",
       "23                DATA    0.097977\n",
       "26             PENALTY    0.035292\n",
       "14              IMAGES    0.032604\n",
       "20               DEPTH    0.023943\n",
       "6    HTTP_RESPONSE_4XX    0.023607\n",
       "24                 PPI    0.021882\n",
       "15          TOTAL_HTML    0.021127\n",
       "2         AVERAGE_TIME    0.014896\n",
       "1       TOTAL_DURATION    0.011335\n",
       "12               NIGHT    0.006997\n",
       "25         MAX_BARRAGE    0.006799\n",
       "22         CONSECUTIVE    0.004573\n",
       "17         HTML_TO_CSS    0.004342\n",
       "21           STD_DEPTH    0.004110\n",
       "16       HTML_TO_IMAGE    0.003765\n",
       "19               WIDTH    0.002638\n",
       "18          HTML_TO_JS    0.001389\n",
       "0   NUMBER_OF_REQUESTS    0.001287\n",
       "8           GET_METHOD    0.000522\n",
       "10         HEAD_METHOD    0.000472\n",
       "3    REPEATED_REQUESTS    0.000452\n",
       "5    HTTP_RESPONSE_3XX    0.000215\n",
       "4    HTTP_RESPONSE_2XX    0.000080\n",
       "11        OTHER_METHOD    0.000000\n",
       "9          POST_METHOD    0.000000\n",
       "7    HTTP_RESPONSE_5XX    0.000000"
      ]
     },
     "execution_count": 24,
     "metadata": {},
     "output_type": "execute_result"
    }
   ],
   "source": [
    "features_d = X_drop.columns\n",
    "\n",
    "dt_clf_d = DecisionTreeClassifier(random_state=42)\n",
    "dt_clf_d.fit(X_drop_train, y_train)\n",
    "\n",
    "importances_d = dt_clf_d.feature_importances_\n",
    "\n",
    "df_importances_d = pd.DataFrame({'feature': features_d, 'importance': importances_d})\n",
    "df_importances_d = df_importances_d.sort_values(by='importance', ascending=False)\n",
    "df_importances_d"
   ]
  },
  {
   "cell_type": "code",
   "execution_count": 25,
   "metadata": {},
   "outputs": [
    {
     "data": {
      "image/png": "[encoded data removed]",
      "text/plain": [
       "<Figure size 1500x500 with 3 Axes>"
      ]
     },
     "metadata": {},
     "output_type": "display_data"
    }
   ],
   "source": [
    "fig, ax = plt.subplots(1, 3, figsize=(15, 5))\n",
    "\n",
    "ax[0].barh(df_importances_0['feature'], df_importances_0['importance'])\n",
    "ax[0].set_title('Feature Importances for Zero Imputed Data')\n",
    "\n",
    "ax[1].barh(df_importances_m['feature'], df_importances_m['importance'])\n",
    "ax[1].set_title('Feature Importances for Mean Imputed Data')\n",
    "\n",
    "ax[2].barh(df_importances_d['feature'], df_importances_d['importance'])\n",
    "ax[2].set_title('Feature Importances for Dropped Data')\n",
    "\n",
    "plt.tight_layout()\n",
    "plt.show()"
   ]
  },
  {
   "attachments": {},
   "cell_type": "markdown",
   "metadata": {},
   "source": [
    "Duidelijk dat OTHER_METHOD, POST_METHOD, HEAD_METHOD, HTTP_RESPONSE(3,4,5)XX en REPEATED_REQUESTS geen importance hebben --> droppen"
   ]
  },
  {
   "cell_type": "code",
   "execution_count": 26,
   "metadata": {},
   "outputs": [],
   "source": [
    "X_zero = X.copy()\n",
    "X_zero = X_zero.fillna(0)\n",
    "X_zero = X_zero.drop(['OTHER_METHOD', 'POST_METHOD', 'HEAD_METHOD', 'HTTP_RESPONSE_3XX',  'HTTP_RESPONSE_4XX', 'HTTP_RESPONSE_5XX','REPEATED_REQUESTS'], axis=1)\n",
    "\n",
    "X_mean = X.copy()\n",
    "X_mean = X_mean.fillna(0)\n",
    "X_mean = X_mean.drop(['OTHER_METHOD', 'POST_METHOD', 'HEAD_METHOD', 'HTTP_RESPONSE_3XX',  'HTTP_RESPONSE_4XX', 'HTTP_RESPONSE_5XX','REPEATED_REQUESTS'], axis=1)\n",
    "\n",
    "X_drop = X.copy()\n",
    "X_drop = X.drop(['STANDARD_DEVIATION', 'SF_REFERRER', 'SF_FILETYPE', 'OTHER_METHOD', 'POST_METHOD', 'HEAD_METHOD', 'HTTP_RESPONSE_3XX',  'HTTP_RESPONSE_4XX', 'HTTP_RESPONSE_5XX','REPEATED_REQUESTS'], axis=1)"
   ]
  },
  {
   "attachments": {},
   "cell_type": "markdown",
   "metadata": {},
   "source": [
    "### Accuracy, confusion matrix en classification report vergelijken na het droppen"
   ]
  },
  {
   "cell_type": "code",
   "execution_count": 27,
   "metadata": {},
   "outputs": [
    {
     "name": "stdout",
     "output_type": "stream",
     "text": [
      "(26940, 23) (6736, 23) (26940,) (6736,)\n"
     ]
    }
   ],
   "source": [
    "X_zero_train, X_zero_test, y_train, y_test = train_test_split(X_zero, y, test_size=0.2, random_state=42)\n",
    "\n",
    "print(X_zero_train.shape, X_zero_test.shape, y_train.shape, y_test.shape)"
   ]
  },
  {
   "cell_type": "code",
   "execution_count": 28,
   "metadata": {},
   "outputs": [
    {
     "name": "stdout",
     "output_type": "stream",
     "text": [
      "(26940, 23) (6736, 23) (26940,) (6736,)\n"
     ]
    }
   ],
   "source": [
    "X_mean_train, X_mean_test, y_train, y_test = train_test_split(X_mean, y, test_size=0.2, random_state=42)\n",
    "\n",
    "print(X_mean_train.shape, X_mean_test.shape, y_train.shape, y_test.shape)"
   ]
  },
  {
   "cell_type": "code",
   "execution_count": 29,
   "metadata": {},
   "outputs": [
    {
     "name": "stdout",
     "output_type": "stream",
     "text": [
      "(26940, 20) (6736, 20) (26940,) (6736,)\n"
     ]
    }
   ],
   "source": [
    "X_drop_train, X_drop_test, y_train, y_test = train_test_split(X_drop, y, test_size=0.2, random_state=42)\n",
    "\n",
    "print(X_drop_train.shape, X_drop_test.shape, y_train.shape, y_test.shape)"
   ]
  },
  {
   "attachments": {},
   "cell_type": "markdown",
   "metadata": {},
   "source": [
    "### X zero"
   ]
  },
  {
   "cell_type": "code",
   "execution_count": 30,
   "metadata": {},
   "outputs": [
    {
     "name": "stdout",
     "output_type": "stream",
     "text": [
      "{'max_depth': 12}\n",
      "\n",
      "\n",
      "0.9755047505938242\n",
      "\n",
      "\n",
      "              precision    recall  f1-score   support\n",
      "\n",
      "           0       0.98      0.98      0.98      5393\n",
      "           1       0.94      0.94      0.94      1343\n",
      "\n",
      "    accuracy                           0.98      6736\n",
      "   macro avg       0.96      0.96      0.96      6736\n",
      "weighted avg       0.98      0.98      0.98      6736\n",
      "\n",
      "\n",
      "\n"
     ]
    },
    {
     "data": {
      "text/plain": [
       "<sklearn.metrics._plot.confusion_matrix.ConfusionMatrixDisplay at 0x237abcc2090>"
      ]
     },
     "execution_count": 30,
     "metadata": {},
     "output_type": "execute_result"
    },
    {
     "data": {
      "image/png": "[encoded data removed]",
      "text/plain": [
       "<Figure size 640x480 with 2 Axes>"
      ]
     },
     "metadata": {},
     "output_type": "display_data"
    }
   ],
   "source": [
    "grid_search_zero = GridSearchCV(DecisionTreeClassifier(random_state=42), param_grid={'max_depth': np.arange(2, 31)}, cv=5, scoring='accuracy', return_train_score=True)\n",
    "\n",
    "grid_search_zero.fit(X_zero_train, y_train)\n",
    "\n",
    "print(grid_search_zero.best_params_)\n",
    "print(\"\\n\")\n",
    "\n",
    "y_pred_0 = grid_search_zero.predict(X_zero_test)\n",
    "\n",
    "print(accuracy_score(y_test, y_pred_0))\n",
    "print(\"\\n\")\n",
    "\n",
    "print(classification_report(y_test, y_pred_0))\n",
    "print(\"\\n\")\n",
    "\n",
    "cm_0 = confusion_matrix(y_test, y_pred_0)\n",
    "\n",
    "disp = ConfusionMatrixDisplay(confusion_matrix=cm_0, display_labels=['Human', 'Robot'])\n",
    "disp.plot()"
   ]
  },
  {
   "attachments": {},
   "cell_type": "markdown",
   "metadata": {},
   "source": [
    "### X mean"
   ]
  },
  {
   "cell_type": "code",
   "execution_count": 31,
   "metadata": {},
   "outputs": [
    {
     "name": "stdout",
     "output_type": "stream",
     "text": [
      "{'max_depth': 12}\n",
      "\n",
      "\n",
      "0.9755047505938242\n",
      "\n",
      "\n",
      "              precision    recall  f1-score   support\n",
      "\n",
      "           0       0.98      0.98      0.98      5393\n",
      "           1       0.94      0.94      0.94      1343\n",
      "\n",
      "    accuracy                           0.98      6736\n",
      "   macro avg       0.96      0.96      0.96      6736\n",
      "weighted avg       0.98      0.98      0.98      6736\n",
      "\n",
      "\n",
      "\n"
     ]
    },
    {
     "data": {
      "text/plain": [
       "<sklearn.metrics._plot.confusion_matrix.ConfusionMatrixDisplay at 0x237abf997d0>"
      ]
     },
     "execution_count": 31,
     "metadata": {},
     "output_type": "execute_result"
    },
    {
     "data": {
      "image/png": "[encoded data removed]",
      "text/plain": [
       "<Figure size 640x480 with 2 Axes>"
      ]
     },
     "metadata": {},
     "output_type": "display_data"
    }
   ],
   "source": [
    "grid_search_mean = GridSearchCV(DecisionTreeClassifier(random_state=42), param_grid={'max_depth': np.arange(2, 31)}, cv=5, scoring='accuracy', return_train_score=True)\n",
    "\n",
    "grid_search_mean.fit(X_mean_train, y_train)\n",
    "\n",
    "print(grid_search_mean.best_params_)\n",
    "print(\"\\n\")\n",
    "\n",
    "y_pred_mean = grid_search_mean.predict(X_mean_test)\n",
    "\n",
    "print(accuracy_score(y_test, y_pred_mean))\n",
    "print(\"\\n\")\n",
    "\n",
    "print(classification_report(y_test, y_pred_mean))\n",
    "print(\"\\n\")\n",
    "\n",
    "cm_mean = confusion_matrix(y_test, y_pred_mean)\n",
    "\n",
    "disp = ConfusionMatrixDisplay(confusion_matrix=cm_mean, display_labels=['Human', 'Robot'])\n",
    "disp.plot()"
   ]
  },
  {
   "attachments": {},
   "cell_type": "markdown",
   "metadata": {},
   "source": [
    "### X drop"
   ]
  },
  {
   "cell_type": "code",
   "execution_count": 32,
   "metadata": {},
   "outputs": [
    {
     "name": "stdout",
     "output_type": "stream",
     "text": [
      "{'max_depth': 12}\n",
      "\n",
      "\n",
      "0.9749109263657957\n",
      "\n",
      "\n",
      "              precision    recall  f1-score   support\n",
      "\n",
      "           0       0.98      0.98      0.98      5393\n",
      "           1       0.94      0.94      0.94      1343\n",
      "\n",
      "    accuracy                           0.97      6736\n",
      "   macro avg       0.96      0.96      0.96      6736\n",
      "weighted avg       0.97      0.97      0.97      6736\n",
      "\n",
      "\n",
      "\n"
     ]
    },
    {
     "data": {
      "text/plain": [
       "<sklearn.metrics._plot.confusion_matrix.ConfusionMatrixDisplay at 0x237aaa98d10>"
      ]
     },
     "execution_count": 32,
     "metadata": {},
     "output_type": "execute_result"
    },
    {
     "data": {
      "image/png": "[encoded data removed]",
      "text/plain": [
       "<Figure size 640x480 with 2 Axes>"
      ]
     },
     "metadata": {},
     "output_type": "display_data"
    }
   ],
   "source": [
    "grid_search_drop = GridSearchCV(DecisionTreeClassifier(random_state=42), param_grid={'max_depth': np.arange(2, 31)}, cv=5, scoring='accuracy', return_train_score=True)\n",
    "\n",
    "grid_search_drop.fit(X_drop_train, y_train)\n",
    "\n",
    "print(grid_search_drop.best_params_)\n",
    "print(\"\\n\")\n",
    "\n",
    "y_pred_drop = grid_search_drop.predict(X_drop_test)\n",
    "\n",
    "print(accuracy_score(y_test, y_pred_drop))\n",
    "print(\"\\n\")\n",
    "\n",
    "print(classification_report(y_test, y_pred_drop))\n",
    "print(\"\\n\")\n",
    "\n",
    "cm_drop = confusion_matrix(y_test, y_pred_drop)\n",
    "\n",
    "disp = ConfusionMatrixDisplay(confusion_matrix=cm_drop, display_labels=['Human', 'Robot'])\n",
    "disp.plot()"
   ]
  },
  {
   "attachments": {},
   "cell_type": "markdown",
   "metadata": {},
   "source": [
    "Aangezien de verschillen zeer minimaal zijn tussen de X_zero, X_mean en X_drop resultaten en de STD() te veel afwijkten bij de X_zero en X_meam ga ik de X_drop gebruiken. Ook bij de Feature importance kan er gezien worden dat STANDARD_DEVIATION, SF_REFERRER EN SF_FILETYPE nauwelijks impact (importance) hebben"
   ]
  },
  {
   "attachments": {},
   "cell_type": "markdown",
   "metadata": {},
   "source": [
    "## DecisionTreeClassifier resultaten vergelijken met BaggingClassifier (Met en zonder OOB), met AdaBoostClassifier, GradientBoostClassifier en RandomForestClassifier"
   ]
  },
  {
   "attachments": {},
   "cell_type": "markdown",
   "metadata": {},
   "source": [
    "De ranges van de waarden bij de features verschillen soms erg veel (De number of request bvb kan oplopen tot een nummer groter dan 9000 terwijl er bij de HTTP_REQUEST soms getallen van 0.3 zijn) --> testen of de models betere resultaten geven wanneer features gescaled zijn"
   ]
  },
  {
   "cell_type": "code",
   "execution_count": 33,
   "metadata": {},
   "outputs": [
    {
     "data": {
      "text/plain": [
       "DEPTH                -0.425615\n",
       "STD_DEPTH            -0.396751\n",
       "MAX_BARRAGE          -0.364051\n",
       "CONSECUTIVE          -0.338921\n",
       "HTML_TO_IMAGE        -0.301658\n",
       "HTML_TO_CSS          -0.256439\n",
       "HTML_TO_JS           -0.247344\n",
       "PENALTY              -0.150441\n",
       "NUMBER_OF_REQUESTS   -0.044259\n",
       "WIDTH                -0.044049\n",
       "IMAGES               -0.022613\n",
       "GET_METHOD           -0.014206\n",
       "HTTP_RESPONSE_2XX    -0.000953\n",
       "PPI                   0.057544\n",
       "TOTAL_DURATION        0.081283\n",
       "DATA                  0.122371\n",
       "NIGHT                 0.208905\n",
       "TOTAL_HTML            0.236839\n",
       "AVERAGE_TIME          0.263035\n",
       "UNASSIGNED            0.803059\n",
       "ROBOT                 1.000000\n",
       "Name: ROBOT, dtype: float64"
      ]
     },
     "execution_count": 33,
     "metadata": {},
     "output_type": "execute_result"
    }
   ],
   "source": [
    "df = pd.read_csv('../data/weblogs1.csv')\n",
    "\n",
    "df = df.drop(['ID', 'STANDARD_DEVIATION', 'SF_REFERRER', 'SF_FILETYPE', 'OTHER_METHOD', 'POST_METHOD', 'HEAD_METHOD', 'HTTP_RESPONSE_3XX',  'HTTP_RESPONSE_4XX', 'HTTP_RESPONSE_5XX','REPEATED_REQUESTS'], axis=1)\n",
    "X = df.drop(['ROBOT'], axis=1)\n",
    "y = df['ROBOT']\n",
    "\n",
    "corr_matrix = df.corr()\n",
    "corr_matrix['ROBOT'].sort_values(ascending=True)"
   ]
  },
  {
   "attachments": {},
   "cell_type": "markdown",
   "metadata": {},
   "source": [
    "We zien dat \"HTTP_RESPONSE_2XX\" en \"GET_METHOD\" een zeer lage correlatie hebben met ROBOT --> laten deze vallen"
   ]
  },
  {
   "cell_type": "code",
   "execution_count": 34,
   "metadata": {},
   "outputs": [],
   "source": [
    "X = X.drop(['HTTP_RESPONSE_2XX', \"GET_METHOD\"], axis=1)"
   ]
  },
  {
   "cell_type": "code",
   "execution_count": 35,
   "metadata": {},
   "outputs": [
    {
     "name": "stdout",
     "output_type": "stream",
     "text": [
      "(26940, 18) (6736, 18) (26940,) (6736,)\n"
     ]
    }
   ],
   "source": [
    "X_train, X_test, y_train, y_test = train_test_split(X, y, test_size=0.2, random_state=42)\n",
    "\n",
    "print(X_train.shape, X_test.shape, y_train.shape, y_test.shape)"
   ]
  },
  {
   "attachments": {},
   "cell_type": "markdown",
   "metadata": {},
   "source": [
    "### Zonder scaling"
   ]
  },
  {
   "attachments": {},
   "cell_type": "markdown",
   "metadata": {},
   "source": [
    "##### DecisionTreeClassifier"
   ]
  },
  {
   "cell_type": "code",
   "execution_count": 36,
   "metadata": {},
   "outputs": [
    {
     "name": "stdout",
     "output_type": "stream",
     "text": [
      "{'max_depth': 11, 'min_samples_leaf': 1, 'min_samples_split': 8}\n",
      "\n",
      "\n",
      "0.9755047505938242\n",
      "\n",
      "\n",
      "              precision    recall  f1-score   support\n",
      "\n",
      "           0       0.98      0.99      0.98      5393\n",
      "           1       0.94      0.93      0.94      1343\n",
      "\n",
      "    accuracy                           0.98      6736\n",
      "   macro avg       0.96      0.96      0.96      6736\n",
      "weighted avg       0.98      0.98      0.98      6736\n",
      "\n"
     ]
    },
    {
     "data": {
      "text/plain": [
       "<sklearn.metrics._plot.confusion_matrix.ConfusionMatrixDisplay at 0x237aca99f50>"
      ]
     },
     "execution_count": 36,
     "metadata": {},
     "output_type": "execute_result"
    },
    {
     "data": {
      "image/png": "[encoded data removed]",
      "text/plain": [
       "<Figure size 640x480 with 2 Axes>"
      ]
     },
     "metadata": {},
     "output_type": "display_data"
    }
   ],
   "source": [
    "param_grid_dtc = {'max_depth': np.arange(2, 19), 'min_samples_split': np.arange(2, 11, 2), 'min_samples_leaf': np.arange(1, 12, 2)}\n",
    "\n",
    "grid_search_dtc = GridSearchCV(DecisionTreeClassifier(random_state=42), param_grid=param_grid_dtc, cv=5, scoring='precision', return_train_score=True)\n",
    "\n",
    "grid_search_dtc.fit(X_train, y_train)\n",
    "\n",
    "print(grid_search_dtc.best_params_)\n",
    "print(\"\\n\")\n",
    "\n",
    "dt_clf = grid_search_dtc.best_estimator_\n",
    "\n",
    "dt_clf.fit(X_train, y_train)\n",
    "\n",
    "y_pred_dtc = dt_clf.predict(X_test)\n",
    "\n",
    "print(accuracy_score(y_test, y_pred_dtc))\n",
    "print(\"\\n\")\n",
    "print(classification_report(y_test, y_pred_dtc))\n",
    "\n",
    "cm = confusion_matrix(y_test, y_pred_dtc)\n",
    "disp = ConfusionMatrixDisplay(confusion_matrix=cm, display_labels=['Human', 'Robot'])\n",
    "disp.plot()"
   ]
  },
  {
   "attachments": {},
   "cell_type": "markdown",
   "metadata": {},
   "source": [
    "##### BaggingClassifier zonder OOB\n",
    "\n",
    "- n_estimators = 500 --> 500 decision trees getrained op subset vd data\n",
    "- max_samples = 100 --> elke tree zal op 100 samples v/e random subset worden getrained\n",
    "- bootstrap = True --> training data samples zullen replaced worden"
   ]
  },
  {
   "cell_type": "code",
   "execution_count": 37,
   "metadata": {},
   "outputs": [
    {
     "name": "stdout",
     "output_type": "stream",
     "text": [
      "0.9557600950118765\n",
      "\n",
      "\n",
      "              precision    recall  f1-score   support\n",
      "\n",
      "           0       0.98      0.97      0.97      5393\n",
      "           1       0.87      0.92      0.89      1343\n",
      "\n",
      "    accuracy                           0.96      6736\n",
      "   macro avg       0.92      0.94      0.93      6736\n",
      "weighted avg       0.96      0.96      0.96      6736\n",
      "\n"
     ]
    },
    {
     "data": {
      "text/plain": [
       "<sklearn.metrics._plot.confusion_matrix.ConfusionMatrixDisplay at 0x237ac0a16d0>"
      ]
     },
     "execution_count": 37,
     "metadata": {},
     "output_type": "execute_result"
    },
    {
     "data": {
      "image/png": "[encoded data removed]",
      "text/plain": [
       "<Figure size 640x480 with 2 Axes>"
      ]
     },
     "metadata": {},
     "output_type": "display_data"
    }
   ],
   "source": [
    "bag_clf = BaggingClassifier(DecisionTreeClassifier(), n_estimators=500, max_samples=100, bootstrap=True, n_jobs=-1, random_state=42)\n",
    "\n",
    "bag_clf.fit(X_train, y_train)\n",
    "\n",
    "y_pred_bc = bag_clf.predict(X_test)\n",
    "\n",
    "print(accuracy_score(y_test, y_pred_bc))\n",
    "print(\"\\n\")\n",
    "print(classification_report(y_test, y_pred_bc))\n",
    "\n",
    "cm = confusion_matrix(y_test, y_pred_bc)\n",
    "disp = ConfusionMatrixDisplay(confusion_matrix=cm, display_labels=['Human', 'Robot'])\n",
    "disp.plot()"
   ]
  },
  {
   "attachments": {},
   "cell_type": "markdown",
   "metadata": {},
   "source": [
    "##### BaggingClassifier met OOB\n",
    "\n",
    "- oob_score = True --> niet gebruikte data samples voor evaluatie BaggingClassifier"
   ]
  },
  {
   "cell_type": "code",
   "execution_count": 38,
   "metadata": {},
   "outputs": [
    {
     "data": {
      "text/plain": [
       "0.9531180400890868"
      ]
     },
     "execution_count": 38,
     "metadata": {},
     "output_type": "execute_result"
    }
   ],
   "source": [
    "bag_clf = BaggingClassifier(DecisionTreeClassifier(), n_estimators=500, max_samples=100, bootstrap=True, oob_score=True, n_jobs=-1, random_state=42)\n",
    "\n",
    "bag_clf.fit(X_train, y_train)\n",
    "\n",
    "bag_clf.oob_score_"
   ]
  },
  {
   "cell_type": "code",
   "execution_count": 39,
   "metadata": {},
   "outputs": [
    {
     "data": {
      "text/plain": [
       "0.9557600950118765"
      ]
     },
     "execution_count": 39,
     "metadata": {},
     "output_type": "execute_result"
    }
   ],
   "source": [
    "y_pred_oob = bag_clf.predict(X_test)\n",
    "accuracy_score(y_test, y_pred_oob)"
   ]
  },
  {
   "attachments": {},
   "cell_type": "markdown",
   "metadata": {},
   "source": [
    "Is zeer dicht bij de OOB score"
   ]
  },
  {
   "cell_type": "code",
   "execution_count": 40,
   "metadata": {},
   "outputs": [
    {
     "name": "stdout",
     "output_type": "stream",
     "text": [
      "              precision    recall  f1-score   support\n",
      "\n",
      "           0       0.98      0.97      0.97      5393\n",
      "           1       0.87      0.92      0.89      1343\n",
      "\n",
      "    accuracy                           0.96      6736\n",
      "   macro avg       0.92      0.94      0.93      6736\n",
      "weighted avg       0.96      0.96      0.96      6736\n",
      "\n"
     ]
    }
   ],
   "source": [
    "print(classification_report(y_test, y_pred_oob))"
   ]
  },
  {
   "attachments": {},
   "cell_type": "markdown",
   "metadata": {},
   "source": [
    "##### AdaBoostClassifier"
   ]
  },
  {
   "cell_type": "code",
   "execution_count": 41,
   "metadata": {},
   "outputs": [
    {
     "name": "stdout",
     "output_type": "stream",
     "text": [
      "0.9734263657957245\n",
      "\n",
      "              precision    recall  f1-score   support\n",
      "\n",
      "           0       0.98      0.99      0.98      5393\n",
      "           1       0.94      0.92      0.93      1343\n",
      "\n",
      "    accuracy                           0.97      6736\n",
      "   macro avg       0.96      0.95      0.96      6736\n",
      "weighted avg       0.97      0.97      0.97      6736\n",
      "\n"
     ]
    },
    {
     "data": {
      "text/plain": [
       "<sklearn.metrics._plot.confusion_matrix.ConfusionMatrixDisplay at 0x237abb78a10>"
      ]
     },
     "execution_count": 41,
     "metadata": {},
     "output_type": "execute_result"
    },
    {
     "data": {
      "image/png": "[encoded data removed]",
      "text/plain": [
       "<Figure size 640x480 with 2 Axes>"
      ]
     },
     "metadata": {},
     "output_type": "display_data"
    }
   ],
   "source": [
    "ada_clf = AdaBoostClassifier(\n",
    "    DecisionTreeClassifier(), n_estimators=200,\n",
    "    algorithm=\"SAMME.R\", learning_rate=0.5, random_state=42)\n",
    "ada_clf.fit(X_train, y_train)\n",
    "\n",
    "y_pred_ada = ada_clf.predict(X_test)\n",
    "print(f\"{accuracy_score(y_test, y_pred_ada)}\\n\")\n",
    "\n",
    "print(classification_report(y_test, y_pred_ada))\n",
    "\n",
    "cm = confusion_matrix(y_test, y_pred_ada)\n",
    "\n",
    "disp = ConfusionMatrixDisplay(confusion_matrix=cm, display_labels=['Human', 'Robot'])\n",
    "disp.plot()"
   ]
  },
  {
   "attachments": {},
   "cell_type": "markdown",
   "metadata": {},
   "source": [
    "##### GradientBoostClassifier"
   ]
  },
  {
   "attachments": {},
   "cell_type": "markdown",
   "metadata": {},
   "source": [
    "best_n_estimators --> list van MSE's --> kiezen index met laagste (minimum) MSE en + 1 omdat index op 0 start"
   ]
  },
  {
   "cell_type": "code",
   "execution_count": 42,
   "metadata": {},
   "outputs": [
    {
     "name": "stdout",
     "output_type": "stream",
     "text": [
      "0.9769893111638955\n",
      "\n",
      "              precision    recall  f1-score   support\n",
      "\n",
      "           0       0.98      0.99      0.99      5393\n",
      "           1       0.95      0.93      0.94      1343\n",
      "\n",
      "    accuracy                           0.98      6736\n",
      "   macro avg       0.97      0.96      0.96      6736\n",
      "weighted avg       0.98      0.98      0.98      6736\n",
      "\n"
     ]
    },
    {
     "data": {
      "text/plain": [
       "<sklearn.metrics._plot.confusion_matrix.ConfusionMatrixDisplay at 0x237aca2fa90>"
      ]
     },
     "execution_count": 42,
     "metadata": {},
     "output_type": "execute_result"
    },
    {
     "data": {
      "image/png": "[encoded data removed]",
      "text/plain": [
       "<Figure size 640x480 with 2 Axes>"
      ]
     },
     "metadata": {},
     "output_type": "display_data"
    }
   ],
   "source": [
    "gbrt = GradientBoostingClassifier(max_depth=18, n_estimators=120, learning_rate=0.1, random_state=42)\n",
    "gbrt.fit(X_train, y_train)\n",
    "\n",
    "errors_gbrt = [mean_squared_error(y_test, y_pred) for y_pred in gbrt.staged_predict(X_test)]\n",
    "\n",
    "best_n_estimators = np.argmin(errors_gbrt) + 1\n",
    "\n",
    "gbrt_best = GradientBoostingClassifier(max_depth=18, n_estimators=best_n_estimators, learning_rate=0.1, random_state=42)\n",
    "gbrt_best.fit(X_train, y_train)\n",
    "\n",
    "y_pred_gbrt = gbrt_best.predict(X_test)\n",
    "\n",
    "print(f\"{accuracy_score(y_test, y_pred_gbrt)}\\n\")\n",
    "\n",
    "print(classification_report(y_test, y_pred_gbrt))\n",
    "\n",
    "cm = confusion_matrix(y_test, y_pred_gbrt)\n",
    "disp = ConfusionMatrixDisplay(confusion_matrix=cm, display_labels=['Human', 'Robot'])\n",
    "disp.plot()"
   ]
  },
  {
   "attachments": {},
   "cell_type": "markdown",
   "metadata": {},
   "source": [
    "##### RandomForestClassifier"
   ]
  },
  {
   "cell_type": "code",
   "execution_count": 43,
   "metadata": {},
   "outputs": [
    {
     "name": "stdout",
     "output_type": "stream",
     "text": [
      "{'max_depth': 30, 'min_samples_leaf': 2, 'min_samples_split': 2, 'n_estimators': 70}\n",
      "0.9768408551068883\n",
      "\n",
      "              precision    recall  f1-score   support\n",
      "\n",
      "           0       0.98      0.99      0.99      5393\n",
      "           1       0.95      0.93      0.94      1343\n",
      "\n",
      "    accuracy                           0.98      6736\n",
      "   macro avg       0.97      0.96      0.96      6736\n",
      "weighted avg       0.98      0.98      0.98      6736\n",
      "\n"
     ]
    },
    {
     "data": {
      "text/plain": [
       "<sklearn.metrics._plot.confusion_matrix.ConfusionMatrixDisplay at 0x237ac0a2b90>"
      ]
     },
     "execution_count": 43,
     "metadata": {},
     "output_type": "execute_result"
    },
    {
     "data": {
      "image/png": "[encoded data removed]",
      "text/plain": [
       "<Figure size 640x480 with 2 Axes>"
      ]
     },
     "metadata": {},
     "output_type": "display_data"
    }
   ],
   "source": [
    "param_grid = {\n",
    "    'n_estimators': np.arange(10, 200, 10),\n",
    "    'max_depth': [1, 2, 5, 10, 15, 20, 25, 30],\n",
    "    'min_samples_leaf' : [1, 2, 4],\n",
    "    'min_samples_split' : [2, 5, 10],\n",
    "}\n",
    "\n",
    "grid_search_rfc = GridSearchCV(RandomForestClassifier(random_state=42), param_grid=param_grid, cv=5, n_jobs=-1)\n",
    "\n",
    "grid_search_rfc.fit(X_train, y_train)\n",
    "\n",
    "print(grid_search_rfc.best_params_)\n",
    "\n",
    "rf_clf = grid_search_rfc.best_estimator_\n",
    "rf_clf.fit(X_train, y_train)\n",
    "\n",
    "y_pred_rfc = rf_clf.predict(X_test)\n",
    "print(f\"{accuracy_score(y_test, y_pred_rfc)}\\n\")\n",
    "\n",
    "print(classification_report(y_test, y_pred_rfc))\n",
    "\n",
    "cm = confusion_matrix(y_test, y_pred_rfc)\n",
    "\n",
    "disp = ConfusionMatrixDisplay(confusion_matrix=cm, display_labels=['Human', 'Robot'])\n",
    "disp.plot()"
   ]
  },
  {
   "attachments": {},
   "cell_type": "markdown",
   "metadata": {},
   "source": [
    "### Met Scaling"
   ]
  },
  {
   "cell_type": "code",
   "execution_count": 44,
   "metadata": {},
   "outputs": [],
   "source": [
    "df = pd.read_csv('../data/weblogs1.csv')\n",
    "\n",
    "X = df.drop(['ROBOT', 'ID', 'STANDARD_DEVIATION', 'SF_REFERRER', 'SF_FILETYPE', 'OTHER_METHOD', 'POST_METHOD', 'HEAD_METHOD', 'HTTP_RESPONSE_3XX',  'HTTP_RESPONSE_4XX', 'HTTP_RESPONSE_5XX','REPEATED_REQUESTS'], axis=1)\n",
    "y = df['ROBOT']\n",
    "\n",
    "X_train, X_test, y_train, y_test = train_test_split(X, y, test_size=0.2, random_state=42)"
   ]
  },
  {
   "cell_type": "code",
   "execution_count": 45,
   "metadata": {},
   "outputs": [
    {
     "name": "stdout",
     "output_type": "stream",
     "text": [
      "0.9719418052256532\n",
      "\n",
      "              precision    recall  f1-score   support\n",
      "\n",
      "           0       0.98      0.98      0.98      5393\n",
      "           1       0.93      0.93      0.93      1343\n",
      "\n",
      "    accuracy                           0.97      6736\n",
      "   macro avg       0.96      0.96      0.96      6736\n",
      "weighted avg       0.97      0.97      0.97      6736\n",
      "\n"
     ]
    },
    {
     "data": {
      "text/plain": [
       "<sklearn.metrics._plot.confusion_matrix.ConfusionMatrixDisplay at 0x237aa768a10>"
      ]
     },
     "execution_count": 45,
     "metadata": {},
     "output_type": "execute_result"
    },
    {
     "data": {
      "image/png": "[encoded data removed]",
      "text/plain": [
       "<Figure size 640x480 with 2 Axes>"
      ]
     },
     "metadata": {},
     "output_type": "display_data"
    }
   ],
   "source": [
    "from sklearn.pipeline import Pipeline\n",
    "\n",
    "scaler = StandardScaler()\n",
    "\n",
    "dt_clf_scaled = DecisionTreeClassifier(random_state=42)\n",
    "\n",
    "pipeline = Pipeline([\n",
    "    ('scaler', scaler),\n",
    "    ('gs_dt_clf_scaled', GridSearchCV(dt_clf_scaled, param_grid=param_grid_dtc, cv=5, n_jobs=-1)),\n",
    "])\n",
    "\n",
    "pipeline.fit(X_train, y_train)\n",
    "\n",
    "y_pred_pipeline = pipeline.predict(X_test)\n",
    "\n",
    "print(f\"{accuracy_score(y_test, y_pred_pipeline)}\\n\")\n",
    "\n",
    "print(classification_report(y_test, y_pred_pipeline))\n",
    "\n",
    "cm = confusion_matrix(y_test, y_pred_pipeline)\n",
    "disp = ConfusionMatrixDisplay(confusion_matrix=cm, display_labels=['Human', 'Robot'])\n",
    "disp.plot()"
   ]
  },
  {
   "cell_type": "code",
   "execution_count": 46,
   "metadata": {},
   "outputs": [
    {
     "name": "stdout",
     "output_type": "stream",
     "text": [
      "0.9547209026128266\n",
      "\n",
      "              precision    recall  f1-score   support\n",
      "\n",
      "           0       0.98      0.96      0.97      5393\n",
      "           1       0.86      0.92      0.89      1343\n",
      "\n",
      "    accuracy                           0.95      6736\n",
      "   macro avg       0.92      0.94      0.93      6736\n",
      "weighted avg       0.96      0.95      0.96      6736\n",
      "\n"
     ]
    },
    {
     "data": {
      "text/plain": [
       "<sklearn.metrics._plot.confusion_matrix.ConfusionMatrixDisplay at 0x237abac4bd0>"
      ]
     },
     "execution_count": 46,
     "metadata": {},
     "output_type": "execute_result"
    },
    {
     "data": {
      "image/png": "[encoded data removed]",
      "text/plain": [
       "<Figure size 640x480 with 2 Axes>"
      ]
     },
     "metadata": {},
     "output_type": "display_data"
    }
   ],
   "source": [
    "bag_clf_scaled = BaggingClassifier(DecisionTreeClassifier(), n_estimators=500, max_samples=100, bootstrap=True, n_jobs=-1, random_state=42)\n",
    "\n",
    "pipeline = Pipeline([\n",
    "    ('scaler', scaler),\n",
    "    ('bag_clf_scaled', bag_clf_scaled),\n",
    "])\n",
    "\n",
    "pipeline.fit(X_train, y_train)\n",
    "\n",
    "y_pred_pipeline = pipeline.predict(X_test)\n",
    "\n",
    "print(f\"{accuracy_score(y_test, y_pred_pipeline)}\\n\")\n",
    "\n",
    "print(classification_report(y_test, y_pred_pipeline))\n",
    "\n",
    "cm = confusion_matrix(y_test, y_pred_pipeline)\n",
    "disp = ConfusionMatrixDisplay(confusion_matrix=cm, display_labels=['Human', 'Robot'])\n",
    "disp.plot()"
   ]
  },
  {
   "cell_type": "code",
   "execution_count": 47,
   "metadata": {},
   "outputs": [
    {
     "name": "stdout",
     "output_type": "stream",
     "text": [
      "0.9547209026128266\n",
      "\n",
      "              precision    recall  f1-score   support\n",
      "\n",
      "           0       0.98      0.96      0.97      5393\n",
      "           1       0.86      0.92      0.89      1343\n",
      "\n",
      "    accuracy                           0.95      6736\n",
      "   macro avg       0.92      0.94      0.93      6736\n",
      "weighted avg       0.96      0.95      0.96      6736\n",
      "\n"
     ]
    },
    {
     "data": {
      "text/plain": [
       "<sklearn.metrics._plot.confusion_matrix.ConfusionMatrixDisplay at 0x237b02c2d90>"
      ]
     },
     "execution_count": 47,
     "metadata": {},
     "output_type": "execute_result"
    },
    {
     "data": {
      "image/png": "[encoded data removed]",
      "text/plain": [
       "<Figure size 640x480 with 2 Axes>"
      ]
     },
     "metadata": {},
     "output_type": "display_data"
    }
   ],
   "source": [
    "bag_clf_oob_scaled = BaggingClassifier(DecisionTreeClassifier(), n_estimators=500, max_samples=100, bootstrap=True, oob_score=True, n_jobs=-1, random_state=42)\n",
    "\n",
    "pipeline = Pipeline([\n",
    "    ('scaler', scaler),\n",
    "    ('bag_clf_oob_scaled', bag_clf_oob_scaled),\n",
    "])\n",
    "\n",
    "pipeline.fit(X_train, y_train)\n",
    "\n",
    "y_pred_pipeline = pipeline.predict(X_test)\n",
    "\n",
    "print(f\"{accuracy_score(y_test, y_pred_pipeline)}\\n\")\n",
    "\n",
    "print(classification_report(y_test, y_pred_pipeline))\n",
    "\n",
    "cm = confusion_matrix(y_test, y_pred_pipeline)\n",
    "disp = ConfusionMatrixDisplay(confusion_matrix=cm, display_labels=['Human', 'Robot'])\n",
    "disp.plot()"
   ]
  },
  {
   "cell_type": "code",
   "execution_count": 48,
   "metadata": {},
   "outputs": [
    {
     "name": "stdout",
     "output_type": "stream",
     "text": [
      "0.9726840855106889\n",
      "\n",
      "              precision    recall  f1-score   support\n",
      "\n",
      "           0       0.98      0.99      0.98      5393\n",
      "           1       0.94      0.92      0.93      1343\n",
      "\n",
      "    accuracy                           0.97      6736\n",
      "   macro avg       0.96      0.95      0.96      6736\n",
      "weighted avg       0.97      0.97      0.97      6736\n",
      "\n"
     ]
    },
    {
     "data": {
      "text/plain": [
       "<sklearn.metrics._plot.confusion_matrix.ConfusionMatrixDisplay at 0x237afaac050>"
      ]
     },
     "execution_count": 48,
     "metadata": {},
     "output_type": "execute_result"
    },
    {
     "data": {
      "image/png": "[encoded data removed]",
      "text/plain": [
       "<Figure size 640x480 with 2 Axes>"
      ]
     },
     "metadata": {},
     "output_type": "display_data"
    }
   ],
   "source": [
    "ada_clf_scaled = AdaBoostClassifier(\n",
    "    DecisionTreeClassifier(), n_estimators=200,\n",
    "    algorithm=\"SAMME.R\", learning_rate=0.5, random_state=42)\n",
    "\n",
    "pipeline = Pipeline([\n",
    "    ('scaler', scaler),\n",
    "    ('ada_clf_scaled', ada_clf_scaled),\n",
    "])\n",
    "\n",
    "pipeline.fit(X_train, y_train)\n",
    "\n",
    "y_pred_pipeline = pipeline.predict(X_test)\n",
    "\n",
    "print(f\"{accuracy_score(y_test, y_pred_pipeline)}\\n\")\n",
    "\n",
    "print(classification_report(y_test, y_pred_pipeline))\n",
    "\n",
    "cm = confusion_matrix(y_test, y_pred_pipeline)\n",
    "disp = ConfusionMatrixDisplay(confusion_matrix=cm, display_labels=['Human', 'Robot'])\n",
    "disp.plot()"
   ]
  },
  {
   "cell_type": "code",
   "execution_count": 49,
   "metadata": {},
   "outputs": [
    {
     "name": "stdout",
     "output_type": "stream",
     "text": [
      "0.9719418052256532\n",
      "\n",
      "              precision    recall  f1-score   support\n",
      "\n",
      "           0       0.98      0.99      0.98      5393\n",
      "           1       0.95      0.91      0.93      1343\n",
      "\n",
      "    accuracy                           0.97      6736\n",
      "   macro avg       0.96      0.95      0.96      6736\n",
      "weighted avg       0.97      0.97      0.97      6736\n",
      "\n"
     ]
    },
    {
     "data": {
      "text/plain": [
       "<sklearn.metrics._plot.confusion_matrix.ConfusionMatrixDisplay at 0x237b04ba990>"
      ]
     },
     "execution_count": 49,
     "metadata": {},
     "output_type": "execute_result"
    },
    {
     "data": {
      "image/png": "[encoded data removed]",
      "text/plain": [
       "<Figure size 640x480 with 2 Axes>"
      ]
     },
     "metadata": {},
     "output_type": "display_data"
    }
   ],
   "source": [
    "gbrt_best_scaled = GradientBoostingClassifier(max_depth=18, n_estimators=best_n_estimators, learning_rate=0.1, random_state=42)\n",
    "\n",
    "pipeline = Pipeline([\n",
    "    ('scaler', scaler),\n",
    "    ('gbrt_best_scaled', gbrt_best_scaled),\n",
    "])\n",
    "\n",
    "pipeline.fit(X_train, y_train)\n",
    "\n",
    "y_pred_pipeline = pipeline.predict(X_test)\n",
    "\n",
    "print(f\"{accuracy_score(y_test, y_pred_pipeline)}\\n\")\n",
    "\n",
    "print(classification_report(y_test, y_pred_pipeline))\n",
    "\n",
    "cm = confusion_matrix(y_test, y_pred_pipeline)\n",
    "disp = ConfusionMatrixDisplay(confusion_matrix=cm, display_labels=['Human', 'Robot'])\n",
    "disp.plot()"
   ]
  },
  {
   "cell_type": "code",
   "execution_count": 50,
   "metadata": {},
   "outputs": [
    {
     "name": "stdout",
     "output_type": "stream",
     "text": [
      "0.9722387173396675\n",
      "\n",
      "              precision    recall  f1-score   support\n",
      "\n",
      "           0       0.98      0.98      0.98      5393\n",
      "           1       0.93      0.94      0.93      1343\n",
      "\n",
      "    accuracy                           0.97      6736\n",
      "   macro avg       0.96      0.96      0.96      6736\n",
      "weighted avg       0.97      0.97      0.97      6736\n",
      "\n"
     ]
    },
    {
     "data": {
      "text/plain": [
       "<sklearn.metrics._plot.confusion_matrix.ConfusionMatrixDisplay at 0x237b0621210>"
      ]
     },
     "execution_count": 50,
     "metadata": {},
     "output_type": "execute_result"
    },
    {
     "data": {
      "image/png": "[encoded data removed]",
      "text/plain": [
       "<Figure size 640x480 with 2 Axes>"
      ]
     },
     "metadata": {},
     "output_type": "display_data"
    }
   ],
   "source": [
    "rf_clf_scaled = RandomForestClassifier(random_state=42)\n",
    "\n",
    "pipeline = Pipeline([\n",
    "    ('scaler', scaler),\n",
    "    ('rf_clf_scaled', GridSearchCV(rf_clf_scaled, param_grid=param_grid, cv=5, n_jobs=-1)),\n",
    "])\n",
    "\n",
    "pipeline.fit(X_train, y_train)\n",
    "\n",
    "y_pred_pipeline = pipeline.predict(X_test)\n",
    "\n",
    "print(f\"{accuracy_score(y_test, y_pred_pipeline)}\\n\")\n",
    "\n",
    "print(classification_report(y_test, y_pred_pipeline))\n",
    "\n",
    "cm = confusion_matrix(y_test, y_pred_pipeline)\n",
    "disp = ConfusionMatrixDisplay(confusion_matrix=cm, display_labels=['Human', 'Robot'])\n",
    "disp.plot()"
   ]
  },
  {
   "attachments": {},
   "cell_type": "markdown",
   "metadata": {},
   "source": [
    "Conclusie --> scaling heeft de resultaten slechter gemaakt"
   ]
  },
  {
   "attachments": {},
   "cell_type": "markdown",
   "metadata": {},
   "source": [
    "### Models opslaan"
   ]
  },
  {
   "cell_type": "code",
   "execution_count": 52,
   "metadata": {},
   "outputs": [],
   "source": [
    "filename = '../main_models/decision_tree_classifier1.sav'\n",
    "pickle.dump(dt_clf, open(filename, 'wb'))\n",
    "\n",
    "filename2 = '../main_models/bagging_classifier_oob1.sav'\n",
    "pickle.dump(bag_clf, open(filename2, 'wb'))\n",
    "\n",
    "filename3 = '../main_models/adaboost_classifier1.sav'\n",
    "pickle.dump(ada_clf, open(filename3, 'wb'))\n",
    "\n",
    "filename4 = '../main_models/gradient_boosting_classifier1.sav'\n",
    "pickle.dump(gbrt_best, open(filename4, 'wb'))\n",
    "\n",
    "filename5 = '../main_models/random_forest_classifier1.sav'\n",
    "pickle.dump(rf_clf, open(filename5, 'wb'))"
   ]
  }
 ],
 "metadata": {
  "kernelspec": {
   "display_name": "Python 3",
   "language": "python",
   "name": "python3"
  },
  "language_info": {
   "codemirror_mode": {
    "name": "ipython",
    "version": 3
   },
   "file_extension": ".py",
   "mimetype": "text/x-python",
   "name": "python",
   "nbconvert_exporter": "python",
   "pygments_lexer": "ipython3",
   "version": "3.11.3"
  },
  "orig_nbformat": 4
 },
 "nbformat": 4,
 "nbformat_minor": 2
}
