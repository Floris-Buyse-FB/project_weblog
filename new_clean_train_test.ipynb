{
 "cells": [
  {
   "cell_type": "code",
   "execution_count": 213,
   "metadata": {},
   "outputs": [],
   "source": [
    "import pandas as pd\n",
    "import numpy as np\n",
    "import matplotlib.pyplot as plt\n",
    "import sklearn\n",
    "import pickle\n",
    "from sklearn.model_selection import train_test_split, GridSearchCV, cross_val_predict, cross_val_score\n",
    "from sklearn.preprocessing import StandardScaler\n",
    "from sklearn.tree import DecisionTreeClassifier\n",
    "from sklearn.ensemble import BaggingClassifier, RandomForestClassifier\n",
    "from sklearn.metrics import accuracy_score, confusion_matrix, precision_score, recall_score, f1_score, classification_report\n",
    "from sklearn.ensemble import AdaBoostClassifier\n",
    "from sklearn.ensemble import GradientBoostingClassifier\n",
    "from sklearn.metrics import mean_squared_error\n",
    "from sklearn.metrics import ConfusionMatrixDisplay"
   ]
  },
  {
   "cell_type": "code",
   "execution_count": 214,
   "metadata": {},
   "outputs": [
    {
     "data": {
      "text/html": [
       "<div>\n",
       "<style scoped>\n",
       "    .dataframe tbody tr th:only-of-type {\n",
       "        vertical-align: middle;\n",
       "    }\n",
       "\n",
       "    .dataframe tbody tr th {\n",
       "        vertical-align: top;\n",
       "    }\n",
       "\n",
       "    .dataframe thead th {\n",
       "        text-align: right;\n",
       "    }\n",
       "</style>\n",
       "<table border=\"1\" class=\"dataframe\">\n",
       "  <thead>\n",
       "    <tr style=\"text-align: right;\">\n",
       "      <th></th>\n",
       "      <th>ID</th>\n",
       "      <th>NUMBER_OF_REQUESTS</th>\n",
       "      <th>TOTAL_DURATION</th>\n",
       "      <th>AVERAGE_TIME</th>\n",
       "      <th>STANDARD_DEVIATION</th>\n",
       "      <th>REPEATED_REQUESTS</th>\n",
       "      <th>HTTP_RESPONSE_2XX</th>\n",
       "      <th>HTTP_RESPONSE_3XX</th>\n",
       "      <th>HTTP_RESPONSE_4XX</th>\n",
       "      <th>HTTP_RESPONSE_5XX</th>\n",
       "      <th>...</th>\n",
       "      <th>DEPTH</th>\n",
       "      <th>STD_DEPTH</th>\n",
       "      <th>CONSECUTIVE</th>\n",
       "      <th>DATA</th>\n",
       "      <th>PPI</th>\n",
       "      <th>SF_REFERRER</th>\n",
       "      <th>SF_FILETYPE</th>\n",
       "      <th>MAX_BARRAGE</th>\n",
       "      <th>PENALTY</th>\n",
       "      <th>ROBOT</th>\n",
       "    </tr>\n",
       "  </thead>\n",
       "  <tbody>\n",
       "    <tr>\n",
       "      <th>0</th>\n",
       "      <td>obSnwGoBCue8G08E_WCX</td>\n",
       "      <td>79</td>\n",
       "      <td>592</td>\n",
       "      <td>7.589744</td>\n",
       "      <td>1.800540</td>\n",
       "      <td>0.000000</td>\n",
       "      <td>0.873418</td>\n",
       "      <td>0.126582</td>\n",
       "      <td>0.000000</td>\n",
       "      <td>0.000000</td>\n",
       "      <td>...</td>\n",
       "      <td>4.0</td>\n",
       "      <td>0.494041</td>\n",
       "      <td>0.101266</td>\n",
       "      <td>1555089.0</td>\n",
       "      <td>2.718334e+07</td>\n",
       "      <td>0.000000</td>\n",
       "      <td>0.205128</td>\n",
       "      <td>1</td>\n",
       "      <td>0</td>\n",
       "      <td>1</td>\n",
       "    </tr>\n",
       "    <tr>\n",
       "      <th>1</th>\n",
       "      <td>nLSnwGoBCue8G08E_WCX</td>\n",
       "      <td>350</td>\n",
       "      <td>103621</td>\n",
       "      <td>296.908300</td>\n",
       "      <td>260.332670</td>\n",
       "      <td>0.000000</td>\n",
       "      <td>0.997143</td>\n",
       "      <td>0.000000</td>\n",
       "      <td>0.002857</td>\n",
       "      <td>0.000000</td>\n",
       "      <td>...</td>\n",
       "      <td>6.0</td>\n",
       "      <td>0.341303</td>\n",
       "      <td>0.425714</td>\n",
       "      <td>2071344.0</td>\n",
       "      <td>1.427714e+01</td>\n",
       "      <td>0.547278</td>\n",
       "      <td>0.461318</td>\n",
       "      <td>4</td>\n",
       "      <td>0</td>\n",
       "      <td>1</td>\n",
       "    </tr>\n",
       "    <tr>\n",
       "      <th>2</th>\n",
       "      <td>ErSowGoBCue8G08ECmHa</td>\n",
       "      <td>15</td>\n",
       "      <td>368</td>\n",
       "      <td>26.285715</td>\n",
       "      <td>87.329780</td>\n",
       "      <td>0.000000</td>\n",
       "      <td>1.000000</td>\n",
       "      <td>0.000000</td>\n",
       "      <td>0.000000</td>\n",
       "      <td>0.000000</td>\n",
       "      <td>...</td>\n",
       "      <td>3.0</td>\n",
       "      <td>0.000000</td>\n",
       "      <td>0.000000</td>\n",
       "      <td>49505.0</td>\n",
       "      <td>1.413333e+01</td>\n",
       "      <td>0.642857</td>\n",
       "      <td>1.000000</td>\n",
       "      <td>2</td>\n",
       "      <td>0</td>\n",
       "      <td>0</td>\n",
       "    </tr>\n",
       "    <tr>\n",
       "      <th>3</th>\n",
       "      <td>E7SowGoBCue8G08ECmHa</td>\n",
       "      <td>28</td>\n",
       "      <td>11</td>\n",
       "      <td>0.407407</td>\n",
       "      <td>1.097447</td>\n",
       "      <td>0.000000</td>\n",
       "      <td>1.000000</td>\n",
       "      <td>0.000000</td>\n",
       "      <td>0.000000</td>\n",
       "      <td>0.000000</td>\n",
       "      <td>...</td>\n",
       "      <td>3.0</td>\n",
       "      <td>0.000000</td>\n",
       "      <td>0.821429</td>\n",
       "      <td>45984.0</td>\n",
       "      <td>1.332143e+01</td>\n",
       "      <td>0.037037</td>\n",
       "      <td>0.148148</td>\n",
       "      <td>5</td>\n",
       "      <td>0</td>\n",
       "      <td>0</td>\n",
       "    </tr>\n",
       "    <tr>\n",
       "      <th>4</th>\n",
       "      <td>FbSowGoBCue8G08ECmHa</td>\n",
       "      <td>9342</td>\n",
       "      <td>80946</td>\n",
       "      <td>8.665668</td>\n",
       "      <td>17.566462</td>\n",
       "      <td>0.000107</td>\n",
       "      <td>0.996896</td>\n",
       "      <td>0.002569</td>\n",
       "      <td>0.000214</td>\n",
       "      <td>0.000321</td>\n",
       "      <td>...</td>\n",
       "      <td>4.0</td>\n",
       "      <td>0.152943</td>\n",
       "      <td>0.953757</td>\n",
       "      <td>83171793.0</td>\n",
       "      <td>1.307407e+01</td>\n",
       "      <td>0.000000</td>\n",
       "      <td>0.023552</td>\n",
       "      <td>1</td>\n",
       "      <td>0</td>\n",
       "      <td>1</td>\n",
       "    </tr>\n",
       "  </tbody>\n",
       "</table>\n",
       "<p>5 rows × 32 columns</p>\n",
       "</div>"
      ],
      "text/plain": [
       "                     ID  NUMBER_OF_REQUESTS  TOTAL_DURATION  AVERAGE_TIME   \n",
       "0  obSnwGoBCue8G08E_WCX                  79             592      7.589744  \\\n",
       "1  nLSnwGoBCue8G08E_WCX                 350          103621    296.908300   \n",
       "2  ErSowGoBCue8G08ECmHa                  15             368     26.285715   \n",
       "3  E7SowGoBCue8G08ECmHa                  28              11      0.407407   \n",
       "4  FbSowGoBCue8G08ECmHa                9342           80946      8.665668   \n",
       "\n",
       "   STANDARD_DEVIATION  REPEATED_REQUESTS  HTTP_RESPONSE_2XX   \n",
       "0            1.800540           0.000000           0.873418  \\\n",
       "1          260.332670           0.000000           0.997143   \n",
       "2           87.329780           0.000000           1.000000   \n",
       "3            1.097447           0.000000           1.000000   \n",
       "4           17.566462           0.000107           0.996896   \n",
       "\n",
       "   HTTP_RESPONSE_3XX  HTTP_RESPONSE_4XX  HTTP_RESPONSE_5XX  ...  DEPTH   \n",
       "0           0.126582           0.000000           0.000000  ...    4.0  \\\n",
       "1           0.000000           0.002857           0.000000  ...    6.0   \n",
       "2           0.000000           0.000000           0.000000  ...    3.0   \n",
       "3           0.000000           0.000000           0.000000  ...    3.0   \n",
       "4           0.002569           0.000214           0.000321  ...    4.0   \n",
       "\n",
       "   STD_DEPTH  CONSECUTIVE        DATA           PPI  SF_REFERRER  SF_FILETYPE   \n",
       "0   0.494041     0.101266   1555089.0  2.718334e+07     0.000000     0.205128  \\\n",
       "1   0.341303     0.425714   2071344.0  1.427714e+01     0.547278     0.461318   \n",
       "2   0.000000     0.000000     49505.0  1.413333e+01     0.642857     1.000000   \n",
       "3   0.000000     0.821429     45984.0  1.332143e+01     0.037037     0.148148   \n",
       "4   0.152943     0.953757  83171793.0  1.307407e+01     0.000000     0.023552   \n",
       "\n",
       "   MAX_BARRAGE  PENALTY  ROBOT  \n",
       "0            1        0      1  \n",
       "1            4        0      1  \n",
       "2            2        0      0  \n",
       "3            5        0      0  \n",
       "4            1        0      1  \n",
       "\n",
       "[5 rows x 32 columns]"
      ]
     },
     "execution_count": 214,
     "metadata": {},
     "output_type": "execute_result"
    }
   ],
   "source": [
    "df = pd.read_csv('./data/weblogs.csv')\n",
    "df.head()"
   ]
  },
  {
   "attachments": {},
   "cell_type": "markdown",
   "metadata": {},
   "source": [
    "ID droppen"
   ]
  },
  {
   "cell_type": "code",
   "execution_count": 165,
   "metadata": {},
   "outputs": [],
   "source": [
    "df = df.drop(['ID'], axis=1)"
   ]
  },
  {
   "attachments": {},
   "cell_type": "markdown",
   "metadata": {},
   "source": [
    "Opsplitsen in X en y"
   ]
  },
  {
   "cell_type": "code",
   "execution_count": 166,
   "metadata": {},
   "outputs": [],
   "source": [
    "X = df.drop(['ROBOT'], axis=1)\n",
    "y = df['ROBOT']"
   ]
  },
  {
   "cell_type": "code",
   "execution_count": 167,
   "metadata": {},
   "outputs": [
    {
     "name": "stdout",
     "output_type": "stream",
     "text": [
      "<class 'pandas.core.frame.DataFrame'>\n",
      "RangeIndex: 67352 entries, 0 to 67351\n",
      "Data columns (total 30 columns):\n",
      " #   Column              Non-Null Count  Dtype  \n",
      "---  ------              --------------  -----  \n",
      " 0   NUMBER_OF_REQUESTS  67352 non-null  int64  \n",
      " 1   TOTAL_DURATION      67352 non-null  int64  \n",
      " 2   AVERAGE_TIME        67352 non-null  float64\n",
      " 3   STANDARD_DEVIATION  52945 non-null  float64\n",
      " 4   REPEATED_REQUESTS   67352 non-null  float64\n",
      " 5   HTTP_RESPONSE_2XX   67352 non-null  float64\n",
      " 6   HTTP_RESPONSE_3XX   67352 non-null  float64\n",
      " 7   HTTP_RESPONSE_4XX   67352 non-null  float64\n",
      " 8   HTTP_RESPONSE_5XX   67352 non-null  float64\n",
      " 9   GET_METHOD          67352 non-null  float64\n",
      " 10  POST_METHOD         67352 non-null  float64\n",
      " 11  HEAD_METHOD         67352 non-null  float64\n",
      " 12  OTHER_METHOD        67352 non-null  float64\n",
      " 13  NIGHT               67352 non-null  float64\n",
      " 14  UNASSIGNED          67352 non-null  float64\n",
      " 15  IMAGES              67352 non-null  float64\n",
      " 16  TOTAL_HTML          67352 non-null  float64\n",
      " 17  HTML_TO_IMAGE       67352 non-null  float64\n",
      " 18  HTML_TO_CSS         67352 non-null  float64\n",
      " 19  HTML_TO_JS          67352 non-null  float64\n",
      " 20  WIDTH               67352 non-null  float64\n",
      " 21  DEPTH               67352 non-null  float64\n",
      " 22  STD_DEPTH           67352 non-null  float64\n",
      " 23  CONSECUTIVE         67352 non-null  float64\n",
      " 24  DATA                67352 non-null  float64\n",
      " 25  PPI                 67352 non-null  float64\n",
      " 26  SF_REFERRER         52945 non-null  float64\n",
      " 27  SF_FILETYPE         52945 non-null  float64\n",
      " 28  MAX_BARRAGE         67352 non-null  int64  \n",
      " 29  PENALTY             67352 non-null  int64  \n",
      "dtypes: float64(26), int64(4)\n",
      "memory usage: 15.4 MB\n"
     ]
    }
   ],
   "source": [
    "X.info()"
   ]
  },
  {
   "attachments": {},
   "cell_type": "markdown",
   "metadata": {},
   "source": [
    "STANDARD_DEVIATION,  SF_FILETYPE en SF_REFERRER --> hebben NaN waarden\n",
    "\n",
    "Opvullen met 0, opvullen met mean() of weglaten"
   ]
  },
  {
   "attachments": {},
   "cell_type": "markdown",
   "metadata": {},
   "source": [
    "### Opvullen met 0\n",
    "en vergelijken met std()"
   ]
  },
  {
   "cell_type": "code",
   "execution_count": 168,
   "metadata": {},
   "outputs": [
    {
     "data": {
      "text/plain": [
       "NUMBER_OF_REQUESTS    1.704055e+02\n",
       "TOTAL_DURATION        8.037288e+03\n",
       "AVERAGE_TIME          1.509743e+02\n",
       "STANDARD_DEVIATION    8.988634e+01\n",
       "REPEATED_REQUESTS     7.927613e-02\n",
       "HTTP_RESPONSE_2XX     1.119441e-01\n",
       "HTTP_RESPONSE_3XX     5.831336e-02\n",
       "HTTP_RESPONSE_4XX     9.247594e-02\n",
       "HTTP_RESPONSE_5XX     2.623111e-02\n",
       "GET_METHOD            5.458825e-02\n",
       "POST_METHOD           3.179709e-02\n",
       "HEAD_METHOD           4.393626e-02\n",
       "OTHER_METHOD          7.723733e-03\n",
       "NIGHT                 2.547399e-01\n",
       "UNASSIGNED            4.237582e-01\n",
       "IMAGES                3.054074e-01\n",
       "TOTAL_HTML            3.512502e-01\n",
       "HTML_TO_IMAGE         5.067831e+00\n",
       "HTML_TO_CSS           1.671526e+00\n",
       "HTML_TO_JS            2.688560e+00\n",
       "WIDTH                 1.483404e+02\n",
       "DEPTH                 1.491212e+00\n",
       "STD_DEPTH             5.986306e-01\n",
       "CONSECUTIVE           2.802233e-01\n",
       "DATA                  1.937276e+06\n",
       "PPI                   4.307353e+07\n",
       "SF_REFERRER           2.435843e-01\n",
       "SF_FILETYPE           2.488430e-01\n",
       "MAX_BARRAGE           1.956844e+01\n",
       "PENALTY               5.816903e+00\n",
       "dtype: float64"
      ]
     },
     "execution_count": 168,
     "metadata": {},
     "output_type": "execute_result"
    }
   ],
   "source": [
    "X.std()"
   ]
  },
  {
   "cell_type": "code",
   "execution_count": 169,
   "metadata": {},
   "outputs": [
    {
     "data": {
      "text/plain": [
       "NUMBER_OF_REQUESTS    1.704055e+02\n",
       "TOTAL_DURATION        8.037288e+03\n",
       "AVERAGE_TIME          1.509743e+02\n",
       "STANDARD_DEVIATION    8.139176e+01\n",
       "REPEATED_REQUESTS     7.927613e-02\n",
       "HTTP_RESPONSE_2XX     1.119441e-01\n",
       "HTTP_RESPONSE_3XX     5.831336e-02\n",
       "HTTP_RESPONSE_4XX     9.247594e-02\n",
       "HTTP_RESPONSE_5XX     2.623111e-02\n",
       "GET_METHOD            5.458825e-02\n",
       "POST_METHOD           3.179709e-02\n",
       "HEAD_METHOD           4.393626e-02\n",
       "OTHER_METHOD          7.723733e-03\n",
       "NIGHT                 2.547399e-01\n",
       "UNASSIGNED            4.237582e-01\n",
       "IMAGES                3.054074e-01\n",
       "TOTAL_HTML            3.512502e-01\n",
       "HTML_TO_IMAGE         5.067831e+00\n",
       "HTML_TO_CSS           1.671526e+00\n",
       "HTML_TO_JS            2.688560e+00\n",
       "WIDTH                 1.483404e+02\n",
       "DEPTH                 1.491212e+00\n",
       "STD_DEPTH             5.986306e-01\n",
       "CONSECUTIVE           2.802233e-01\n",
       "DATA                  1.937276e+06\n",
       "PPI                   4.307353e+07\n",
       "SF_REFERRER           2.410086e-01\n",
       "SF_FILETYPE           2.713591e-01\n",
       "MAX_BARRAGE           1.956844e+01\n",
       "PENALTY               5.816903e+00\n",
       "dtype: float64"
      ]
     },
     "execution_count": 169,
     "metadata": {},
     "output_type": "execute_result"
    }
   ],
   "source": [
    "X_zero = X.copy()\n",
    "X_zero = X.fillna(0)\n",
    "X_zero.std()"
   ]
  },
  {
   "attachments": {},
   "cell_type": "markdown",
   "metadata": {},
   "source": [
    "Bij STANDARD_DEVIATION is er bijna een verschil van 1.0 bij de std()\n",
    "\n",
    "Bij SF_REFERRER is er maar een verschil van ongv. 0.025\n",
    "\n",
    "Bij SF_FILETYPE zien we een verschil van ongv. 0.225"
   ]
  },
  {
   "attachments": {},
   "cell_type": "markdown",
   "metadata": {},
   "source": [
    "Dit lijkt mij een te grote afwijking --> fillna(X.mean()) testen"
   ]
  },
  {
   "attachments": {},
   "cell_type": "markdown",
   "metadata": {},
   "source": [
    "### Opvullen met mean()"
   ]
  },
  {
   "cell_type": "code",
   "execution_count": 170,
   "metadata": {},
   "outputs": [
    {
     "data": {
      "text/plain": [
       "NUMBER_OF_REQUESTS    1.704055e+02\n",
       "TOTAL_DURATION        8.037288e+03\n",
       "AVERAGE_TIME          1.509743e+02\n",
       "STANDARD_DEVIATION    8.988634e+01\n",
       "REPEATED_REQUESTS     7.927613e-02\n",
       "HTTP_RESPONSE_2XX     1.119441e-01\n",
       "HTTP_RESPONSE_3XX     5.831336e-02\n",
       "HTTP_RESPONSE_4XX     9.247594e-02\n",
       "HTTP_RESPONSE_5XX     2.623111e-02\n",
       "GET_METHOD            5.458825e-02\n",
       "POST_METHOD           3.179709e-02\n",
       "HEAD_METHOD           4.393626e-02\n",
       "OTHER_METHOD          7.723733e-03\n",
       "NIGHT                 2.547399e-01\n",
       "UNASSIGNED            4.237582e-01\n",
       "IMAGES                3.054074e-01\n",
       "TOTAL_HTML            3.512502e-01\n",
       "HTML_TO_IMAGE         5.067831e+00\n",
       "HTML_TO_CSS           1.671526e+00\n",
       "HTML_TO_JS            2.688560e+00\n",
       "WIDTH                 1.483404e+02\n",
       "DEPTH                 1.491212e+00\n",
       "STD_DEPTH             5.986306e-01\n",
       "CONSECUTIVE           2.802233e-01\n",
       "DATA                  1.937276e+06\n",
       "PPI                   4.307353e+07\n",
       "SF_REFERRER           2.435843e-01\n",
       "SF_FILETYPE           2.488430e-01\n",
       "MAX_BARRAGE           1.956844e+01\n",
       "PENALTY               5.816903e+00\n",
       "dtype: float64"
      ]
     },
     "execution_count": 170,
     "metadata": {},
     "output_type": "execute_result"
    }
   ],
   "source": [
    "X_mean = X.copy()\n",
    "X_mean = X.fillna(X.mean())\n",
    "X.std()"
   ]
  },
  {
   "attachments": {},
   "cell_type": "markdown",
   "metadata": {},
   "source": [
    "Hier zien we nog een grotere afwijking --> Features met Nan-Values droppen"
   ]
  },
  {
   "attachments": {},
   "cell_type": "markdown",
   "metadata": {},
   "source": [
    "### Features met Nan-values droppen"
   ]
  },
  {
   "cell_type": "code",
   "execution_count": 171,
   "metadata": {},
   "outputs": [],
   "source": [
    "X_drop = X.copy()\n",
    "X_drop = X.drop(['STANDARD_DEVIATION', 'SF_REFERRER', 'SF_FILETYPE'], axis=1)"
   ]
  },
  {
   "attachments": {},
   "cell_type": "markdown",
   "metadata": {},
   "source": [
    "### Train en test opsplitsen voor alle soorten X (zero, mean, drop)"
   ]
  },
  {
   "cell_type": "code",
   "execution_count": 172,
   "metadata": {},
   "outputs": [
    {
     "name": "stdout",
     "output_type": "stream",
     "text": [
      "(53881, 30) (13471, 30) (53881,) (13471,)\n"
     ]
    }
   ],
   "source": [
    "X_zero_train, X_zero_test, y_train, y_test = train_test_split(X_zero, y, test_size=0.2, random_state=42)\n",
    "\n",
    "print(X_zero_train.shape, X_zero_test.shape, y_train.shape, y_test.shape)"
   ]
  },
  {
   "cell_type": "code",
   "execution_count": 173,
   "metadata": {},
   "outputs": [
    {
     "name": "stdout",
     "output_type": "stream",
     "text": [
      "(53881, 30) (13471, 30) (53881,) (13471,)\n"
     ]
    }
   ],
   "source": [
    "X_mean_train, X_mean_test, y_train, y_test = train_test_split(X_mean, y, test_size=0.2, random_state=42)\n",
    "\n",
    "print(X_mean_train.shape, X_mean_test.shape, y_train.shape, y_test.shape)"
   ]
  },
  {
   "cell_type": "code",
   "execution_count": 174,
   "metadata": {},
   "outputs": [
    {
     "name": "stdout",
     "output_type": "stream",
     "text": [
      "(53881, 27) (13471, 27) (53881,) (13471,)\n"
     ]
    }
   ],
   "source": [
    "X_drop_train, X_drop_test, y_train, y_test = train_test_split(X_drop, y, test_size=0.2, random_state=42)\n",
    "\n",
    "print(X_drop_train.shape, X_drop_test.shape, y_train.shape, y_test.shape)"
   ]
  },
  {
   "attachments": {},
   "cell_type": "markdown",
   "metadata": {},
   "source": [
    "# DecisionTreeClassifier trainen en testen"
   ]
  },
  {
   "attachments": {},
   "cell_type": "markdown",
   "metadata": {},
   "source": [
    "#### DecisionTreeClassifier best estimator zoeken met grid search cv"
   ]
  },
  {
   "attachments": {},
   "cell_type": "markdown",
   "metadata": {},
   "source": [
    "##### X_zero"
   ]
  },
  {
   "cell_type": "code",
   "execution_count": 175,
   "metadata": {},
   "outputs": [
    {
     "name": "stdout",
     "output_type": "stream",
     "text": [
      "{'max_depth': 17}\n",
      "\n",
      "\n",
      "0.9757998663796303\n",
      "\n",
      "\n",
      "              precision    recall  f1-score   support\n",
      "\n",
      "           0       0.99      0.98      0.98     10785\n",
      "           1       0.93      0.95      0.94      2686\n",
      "\n",
      "    accuracy                           0.98     13471\n",
      "   macro avg       0.96      0.96      0.96     13471\n",
      "weighted avg       0.98      0.98      0.98     13471\n",
      "\n",
      "\n",
      "\n",
      "[[10603   182]\n",
      " [  144  2542]]\n",
      "\n",
      "\n"
     ]
    }
   ],
   "source": [
    "grid_search_zero = GridSearchCV(DecisionTreeClassifier(random_state=42), param_grid={'max_depth': np.arange(2, 31)}, cv=5, scoring='accuracy', return_train_score=True)\n",
    "\n",
    "grid_search_zero.fit(X_zero_train, y_train)\n",
    "\n",
    "print(grid_search_zero.best_params_)\n",
    "print(\"\\n\")\n",
    "\n",
    "y_pred_0 = grid_search_zero.predict(X_zero_test)\n",
    "\n",
    "print(accuracy_score(y_test, y_pred_0))\n",
    "print(\"\\n\")\n",
    "\n",
    "print(classification_report(y_test, y_pred_0))\n",
    "print(\"\\n\")\n",
    "\n",
    "cm_0 = confusion_matrix(y_test, y_pred_0)\n",
    "\n",
    "print(cm_0)\n",
    "print(\"\\n\")"
   ]
  },
  {
   "attachments": {},
   "cell_type": "markdown",
   "metadata": {},
   "source": [
    "##### X_mean"
   ]
  },
  {
   "cell_type": "code",
   "execution_count": 176,
   "metadata": {},
   "outputs": [
    {
     "name": "stdout",
     "output_type": "stream",
     "text": [
      "{'max_depth': 16}\n",
      "\n",
      "\n",
      "0.9758740999183431\n",
      "\n",
      "\n",
      "              precision    recall  f1-score   support\n",
      "\n",
      "           0       0.99      0.98      0.98     10785\n",
      "           1       0.93      0.95      0.94      2686\n",
      "\n",
      "    accuracy                           0.98     13471\n",
      "   macro avg       0.96      0.97      0.96     13471\n",
      "weighted avg       0.98      0.98      0.98     13471\n",
      "\n",
      "\n",
      "\n",
      "[[10602   183]\n",
      " [  142  2544]]\n",
      "\n",
      "\n"
     ]
    }
   ],
   "source": [
    "grid_search_mean = GridSearchCV(DecisionTreeClassifier(random_state=42), param_grid={'max_depth': np.arange(2, 31)}, cv=5, scoring='accuracy', return_train_score=True)\n",
    "\n",
    "grid_search_mean.fit(X_mean_train, y_train)\n",
    "\n",
    "print(grid_search_mean.best_params_)\n",
    "print(\"\\n\")\n",
    "\n",
    "y_pred_mean = grid_search_mean.predict(X_mean_test)\n",
    "\n",
    "print(accuracy_score(y_test, y_pred_mean))\n",
    "print(\"\\n\")\n",
    "\n",
    "print(classification_report(y_test, y_pred_mean))\n",
    "print(\"\\n\")\n",
    "\n",
    "cm_mean = confusion_matrix(y_test, y_pred_mean)\n",
    "\n",
    "print(cm_mean)\n",
    "print(\"\\n\")"
   ]
  },
  {
   "attachments": {},
   "cell_type": "markdown",
   "metadata": {},
   "source": [
    "##### X_drop"
   ]
  },
  {
   "cell_type": "code",
   "execution_count": 177,
   "metadata": {},
   "outputs": [
    {
     "name": "stdout",
     "output_type": "stream",
     "text": [
      "{'max_depth': 16}\n",
      "\n",
      "\n",
      "0.9746863632989384\n",
      "\n",
      "\n",
      "              precision    recall  f1-score   support\n",
      "\n",
      "           0       0.99      0.98      0.98     10785\n",
      "           1       0.93      0.95      0.94      2686\n",
      "\n",
      "    accuracy                           0.97     13471\n",
      "   macro avg       0.96      0.96      0.96     13471\n",
      "weighted avg       0.97      0.97      0.97     13471\n",
      "\n",
      "\n",
      "\n",
      "[[10586   199]\n",
      " [  142  2544]]\n",
      "\n",
      "\n"
     ]
    }
   ],
   "source": [
    "grid_search_drop = GridSearchCV(DecisionTreeClassifier(random_state=42), param_grid={'max_depth': np.arange(2, 31)}, cv=5, scoring='accuracy', return_train_score=True)\n",
    "\n",
    "grid_search_drop.fit(X_drop_train, y_train)\n",
    "\n",
    "print(grid_search_drop.best_params_)\n",
    "print(\"\\n\")\n",
    "\n",
    "y_pred_drop = grid_search_drop.predict(X_drop_test)\n",
    "\n",
    "print(accuracy_score(y_test, y_pred_drop))\n",
    "print(\"\\n\")\n",
    "\n",
    "print(classification_report(y_test, y_pred_drop))\n",
    "print(\"\\n\")\n",
    "\n",
    "cm_drop = confusion_matrix(y_test, y_pred_drop)\n",
    "\n",
    "print(cm_drop)\n",
    "print(\"\\n\")"
   ]
  },
  {
   "attachments": {},
   "cell_type": "markdown",
   "metadata": {},
   "source": [
    "Geen groot verschil tussen de 3 verschillende X'en"
   ]
  },
  {
   "attachments": {},
   "cell_type": "markdown",
   "metadata": {},
   "source": [
    "### Feature Importance bekijken"
   ]
  },
  {
   "cell_type": "code",
   "execution_count": 178,
   "metadata": {},
   "outputs": [
    {
     "data": {
      "text/html": [
       "<div>\n",
       "<style scoped>\n",
       "    .dataframe tbody tr th:only-of-type {\n",
       "        vertical-align: middle;\n",
       "    }\n",
       "\n",
       "    .dataframe tbody tr th {\n",
       "        vertical-align: top;\n",
       "    }\n",
       "\n",
       "    .dataframe thead th {\n",
       "        text-align: right;\n",
       "    }\n",
       "</style>\n",
       "<table border=\"1\" class=\"dataframe\">\n",
       "  <thead>\n",
       "    <tr style=\"text-align: right;\">\n",
       "      <th></th>\n",
       "      <th>feature</th>\n",
       "      <th>importance</th>\n",
       "    </tr>\n",
       "  </thead>\n",
       "  <tbody>\n",
       "    <tr>\n",
       "      <th>14</th>\n",
       "      <td>UNASSIGNED</td>\n",
       "      <td>0.708889</td>\n",
       "    </tr>\n",
       "    <tr>\n",
       "      <th>24</th>\n",
       "      <td>DATA</td>\n",
       "      <td>0.079816</td>\n",
       "    </tr>\n",
       "    <tr>\n",
       "      <th>25</th>\n",
       "      <td>PPI</td>\n",
       "      <td>0.039659</td>\n",
       "    </tr>\n",
       "    <tr>\n",
       "      <th>29</th>\n",
       "      <td>PENALTY</td>\n",
       "      <td>0.036231</td>\n",
       "    </tr>\n",
       "    <tr>\n",
       "      <th>19</th>\n",
       "      <td>HTML_TO_JS</td>\n",
       "      <td>0.025675</td>\n",
       "    </tr>\n",
       "    <tr>\n",
       "      <th>5</th>\n",
       "      <td>HTTP_RESPONSE_2XX</td>\n",
       "      <td>0.021724</td>\n",
       "    </tr>\n",
       "    <tr>\n",
       "      <th>16</th>\n",
       "      <td>TOTAL_HTML</td>\n",
       "      <td>0.014489</td>\n",
       "    </tr>\n",
       "    <tr>\n",
       "      <th>21</th>\n",
       "      <td>DEPTH</td>\n",
       "      <td>0.011178</td>\n",
       "    </tr>\n",
       "    <tr>\n",
       "      <th>2</th>\n",
       "      <td>AVERAGE_TIME</td>\n",
       "      <td>0.011107</td>\n",
       "    </tr>\n",
       "    <tr>\n",
       "      <th>1</th>\n",
       "      <td>TOTAL_DURATION</td>\n",
       "      <td>0.010479</td>\n",
       "    </tr>\n",
       "    <tr>\n",
       "      <th>22</th>\n",
       "      <td>STD_DEPTH</td>\n",
       "      <td>0.006309</td>\n",
       "    </tr>\n",
       "    <tr>\n",
       "      <th>28</th>\n",
       "      <td>MAX_BARRAGE</td>\n",
       "      <td>0.005553</td>\n",
       "    </tr>\n",
       "    <tr>\n",
       "      <th>23</th>\n",
       "      <td>CONSECUTIVE</td>\n",
       "      <td>0.003720</td>\n",
       "    </tr>\n",
       "    <tr>\n",
       "      <th>0</th>\n",
       "      <td>NUMBER_OF_REQUESTS</td>\n",
       "      <td>0.003422</td>\n",
       "    </tr>\n",
       "    <tr>\n",
       "      <th>13</th>\n",
       "      <td>NIGHT</td>\n",
       "      <td>0.003207</td>\n",
       "    </tr>\n",
       "    <tr>\n",
       "      <th>3</th>\n",
       "      <td>STANDARD_DEVIATION</td>\n",
       "      <td>0.002719</td>\n",
       "    </tr>\n",
       "    <tr>\n",
       "      <th>17</th>\n",
       "      <td>HTML_TO_IMAGE</td>\n",
       "      <td>0.002537</td>\n",
       "    </tr>\n",
       "    <tr>\n",
       "      <th>15</th>\n",
       "      <td>IMAGES</td>\n",
       "      <td>0.002285</td>\n",
       "    </tr>\n",
       "    <tr>\n",
       "      <th>20</th>\n",
       "      <td>WIDTH</td>\n",
       "      <td>0.002226</td>\n",
       "    </tr>\n",
       "    <tr>\n",
       "      <th>27</th>\n",
       "      <td>SF_FILETYPE</td>\n",
       "      <td>0.002047</td>\n",
       "    </tr>\n",
       "    <tr>\n",
       "      <th>9</th>\n",
       "      <td>GET_METHOD</td>\n",
       "      <td>0.001961</td>\n",
       "    </tr>\n",
       "    <tr>\n",
       "      <th>18</th>\n",
       "      <td>HTML_TO_CSS</td>\n",
       "      <td>0.001891</td>\n",
       "    </tr>\n",
       "    <tr>\n",
       "      <th>26</th>\n",
       "      <td>SF_REFERRER</td>\n",
       "      <td>0.001129</td>\n",
       "    </tr>\n",
       "    <tr>\n",
       "      <th>4</th>\n",
       "      <td>REPEATED_REQUESTS</td>\n",
       "      <td>0.000658</td>\n",
       "    </tr>\n",
       "    <tr>\n",
       "      <th>7</th>\n",
       "      <td>HTTP_RESPONSE_4XX</td>\n",
       "      <td>0.000444</td>\n",
       "    </tr>\n",
       "    <tr>\n",
       "      <th>6</th>\n",
       "      <td>HTTP_RESPONSE_3XX</td>\n",
       "      <td>0.000218</td>\n",
       "    </tr>\n",
       "    <tr>\n",
       "      <th>11</th>\n",
       "      <td>HEAD_METHOD</td>\n",
       "      <td>0.000162</td>\n",
       "    </tr>\n",
       "    <tr>\n",
       "      <th>8</th>\n",
       "      <td>HTTP_RESPONSE_5XX</td>\n",
       "      <td>0.000147</td>\n",
       "    </tr>\n",
       "    <tr>\n",
       "      <th>10</th>\n",
       "      <td>POST_METHOD</td>\n",
       "      <td>0.000103</td>\n",
       "    </tr>\n",
       "    <tr>\n",
       "      <th>12</th>\n",
       "      <td>OTHER_METHOD</td>\n",
       "      <td>0.000014</td>\n",
       "    </tr>\n",
       "  </tbody>\n",
       "</table>\n",
       "</div>"
      ],
      "text/plain": [
       "               feature  importance\n",
       "14          UNASSIGNED    0.708889\n",
       "24                DATA    0.079816\n",
       "25                 PPI    0.039659\n",
       "29             PENALTY    0.036231\n",
       "19          HTML_TO_JS    0.025675\n",
       "5    HTTP_RESPONSE_2XX    0.021724\n",
       "16          TOTAL_HTML    0.014489\n",
       "21               DEPTH    0.011178\n",
       "2         AVERAGE_TIME    0.011107\n",
       "1       TOTAL_DURATION    0.010479\n",
       "22           STD_DEPTH    0.006309\n",
       "28         MAX_BARRAGE    0.005553\n",
       "23         CONSECUTIVE    0.003720\n",
       "0   NUMBER_OF_REQUESTS    0.003422\n",
       "13               NIGHT    0.003207\n",
       "3   STANDARD_DEVIATION    0.002719\n",
       "17       HTML_TO_IMAGE    0.002537\n",
       "15              IMAGES    0.002285\n",
       "20               WIDTH    0.002226\n",
       "27         SF_FILETYPE    0.002047\n",
       "9           GET_METHOD    0.001961\n",
       "18         HTML_TO_CSS    0.001891\n",
       "26         SF_REFERRER    0.001129\n",
       "4    REPEATED_REQUESTS    0.000658\n",
       "7    HTTP_RESPONSE_4XX    0.000444\n",
       "6    HTTP_RESPONSE_3XX    0.000218\n",
       "11         HEAD_METHOD    0.000162\n",
       "8    HTTP_RESPONSE_5XX    0.000147\n",
       "10         POST_METHOD    0.000103\n",
       "12        OTHER_METHOD    0.000014"
      ]
     },
     "execution_count": 178,
     "metadata": {},
     "output_type": "execute_result"
    }
   ],
   "source": [
    "features_0 = X_zero.columns\n",
    "\n",
    "dt_clf_0 = DecisionTreeClassifier(random_state=42, max_depth=17)\n",
    "dt_clf_0.fit(X_zero_train, y_train)\n",
    "\n",
    "importances_0 = dt_clf_0.feature_importances_\n",
    "\n",
    "df_importances_0 = pd.DataFrame({'feature': features_0, 'importance': importances_0})\n",
    "df_importances_0 = df_importances_0.sort_values(by='importance', ascending=False)\n",
    "df_importances_0"
   ]
  },
  {
   "cell_type": "code",
   "execution_count": 179,
   "metadata": {},
   "outputs": [
    {
     "data": {
      "text/html": [
       "<div>\n",
       "<style scoped>\n",
       "    .dataframe tbody tr th:only-of-type {\n",
       "        vertical-align: middle;\n",
       "    }\n",
       "\n",
       "    .dataframe tbody tr th {\n",
       "        vertical-align: top;\n",
       "    }\n",
       "\n",
       "    .dataframe thead th {\n",
       "        text-align: right;\n",
       "    }\n",
       "</style>\n",
       "<table border=\"1\" class=\"dataframe\">\n",
       "  <thead>\n",
       "    <tr style=\"text-align: right;\">\n",
       "      <th></th>\n",
       "      <th>feature</th>\n",
       "      <th>importance</th>\n",
       "    </tr>\n",
       "  </thead>\n",
       "  <tbody>\n",
       "    <tr>\n",
       "      <th>14</th>\n",
       "      <td>UNASSIGNED</td>\n",
       "      <td>0.689238</td>\n",
       "    </tr>\n",
       "    <tr>\n",
       "      <th>24</th>\n",
       "      <td>DATA</td>\n",
       "      <td>0.102251</td>\n",
       "    </tr>\n",
       "    <tr>\n",
       "      <th>25</th>\n",
       "      <td>PPI</td>\n",
       "      <td>0.037362</td>\n",
       "    </tr>\n",
       "    <tr>\n",
       "      <th>29</th>\n",
       "      <td>PENALTY</td>\n",
       "      <td>0.034911</td>\n",
       "    </tr>\n",
       "    <tr>\n",
       "      <th>19</th>\n",
       "      <td>HTML_TO_JS</td>\n",
       "      <td>0.025185</td>\n",
       "    </tr>\n",
       "    <tr>\n",
       "      <th>5</th>\n",
       "      <td>HTTP_RESPONSE_2XX</td>\n",
       "      <td>0.021008</td>\n",
       "    </tr>\n",
       "    <tr>\n",
       "      <th>16</th>\n",
       "      <td>TOTAL_HTML</td>\n",
       "      <td>0.015312</td>\n",
       "    </tr>\n",
       "    <tr>\n",
       "      <th>2</th>\n",
       "      <td>AVERAGE_TIME</td>\n",
       "      <td>0.011253</td>\n",
       "    </tr>\n",
       "    <tr>\n",
       "      <th>1</th>\n",
       "      <td>TOTAL_DURATION</td>\n",
       "      <td>0.010714</td>\n",
       "    </tr>\n",
       "    <tr>\n",
       "      <th>21</th>\n",
       "      <td>DEPTH</td>\n",
       "      <td>0.009752</td>\n",
       "    </tr>\n",
       "    <tr>\n",
       "      <th>22</th>\n",
       "      <td>STD_DEPTH</td>\n",
       "      <td>0.006254</td>\n",
       "    </tr>\n",
       "    <tr>\n",
       "      <th>28</th>\n",
       "      <td>MAX_BARRAGE</td>\n",
       "      <td>0.005294</td>\n",
       "    </tr>\n",
       "    <tr>\n",
       "      <th>26</th>\n",
       "      <td>SF_REFERRER</td>\n",
       "      <td>0.004449</td>\n",
       "    </tr>\n",
       "    <tr>\n",
       "      <th>3</th>\n",
       "      <td>STANDARD_DEVIATION</td>\n",
       "      <td>0.004103</td>\n",
       "    </tr>\n",
       "    <tr>\n",
       "      <th>27</th>\n",
       "      <td>SF_FILETYPE</td>\n",
       "      <td>0.003950</td>\n",
       "    </tr>\n",
       "    <tr>\n",
       "      <th>15</th>\n",
       "      <td>IMAGES</td>\n",
       "      <td>0.003765</td>\n",
       "    </tr>\n",
       "    <tr>\n",
       "      <th>13</th>\n",
       "      <td>NIGHT</td>\n",
       "      <td>0.002778</td>\n",
       "    </tr>\n",
       "    <tr>\n",
       "      <th>23</th>\n",
       "      <td>CONSECUTIVE</td>\n",
       "      <td>0.002676</td>\n",
       "    </tr>\n",
       "    <tr>\n",
       "      <th>17</th>\n",
       "      <td>HTML_TO_IMAGE</td>\n",
       "      <td>0.002073</td>\n",
       "    </tr>\n",
       "    <tr>\n",
       "      <th>9</th>\n",
       "      <td>GET_METHOD</td>\n",
       "      <td>0.002027</td>\n",
       "    </tr>\n",
       "    <tr>\n",
       "      <th>18</th>\n",
       "      <td>HTML_TO_CSS</td>\n",
       "      <td>0.001752</td>\n",
       "    </tr>\n",
       "    <tr>\n",
       "      <th>0</th>\n",
       "      <td>NUMBER_OF_REQUESTS</td>\n",
       "      <td>0.001204</td>\n",
       "    </tr>\n",
       "    <tr>\n",
       "      <th>20</th>\n",
       "      <td>WIDTH</td>\n",
       "      <td>0.000918</td>\n",
       "    </tr>\n",
       "    <tr>\n",
       "      <th>4</th>\n",
       "      <td>REPEATED_REQUESTS</td>\n",
       "      <td>0.000588</td>\n",
       "    </tr>\n",
       "    <tr>\n",
       "      <th>11</th>\n",
       "      <td>HEAD_METHOD</td>\n",
       "      <td>0.000377</td>\n",
       "    </tr>\n",
       "    <tr>\n",
       "      <th>6</th>\n",
       "      <td>HTTP_RESPONSE_3XX</td>\n",
       "      <td>0.000296</td>\n",
       "    </tr>\n",
       "    <tr>\n",
       "      <th>8</th>\n",
       "      <td>HTTP_RESPONSE_5XX</td>\n",
       "      <td>0.000256</td>\n",
       "    </tr>\n",
       "    <tr>\n",
       "      <th>7</th>\n",
       "      <td>HTTP_RESPONSE_4XX</td>\n",
       "      <td>0.000122</td>\n",
       "    </tr>\n",
       "    <tr>\n",
       "      <th>10</th>\n",
       "      <td>POST_METHOD</td>\n",
       "      <td>0.000117</td>\n",
       "    </tr>\n",
       "    <tr>\n",
       "      <th>12</th>\n",
       "      <td>OTHER_METHOD</td>\n",
       "      <td>0.000013</td>\n",
       "    </tr>\n",
       "  </tbody>\n",
       "</table>\n",
       "</div>"
      ],
      "text/plain": [
       "               feature  importance\n",
       "14          UNASSIGNED    0.689238\n",
       "24                DATA    0.102251\n",
       "25                 PPI    0.037362\n",
       "29             PENALTY    0.034911\n",
       "19          HTML_TO_JS    0.025185\n",
       "5    HTTP_RESPONSE_2XX    0.021008\n",
       "16          TOTAL_HTML    0.015312\n",
       "2         AVERAGE_TIME    0.011253\n",
       "1       TOTAL_DURATION    0.010714\n",
       "21               DEPTH    0.009752\n",
       "22           STD_DEPTH    0.006254\n",
       "28         MAX_BARRAGE    0.005294\n",
       "26         SF_REFERRER    0.004449\n",
       "3   STANDARD_DEVIATION    0.004103\n",
       "27         SF_FILETYPE    0.003950\n",
       "15              IMAGES    0.003765\n",
       "13               NIGHT    0.002778\n",
       "23         CONSECUTIVE    0.002676\n",
       "17       HTML_TO_IMAGE    0.002073\n",
       "9           GET_METHOD    0.002027\n",
       "18         HTML_TO_CSS    0.001752\n",
       "0   NUMBER_OF_REQUESTS    0.001204\n",
       "20               WIDTH    0.000918\n",
       "4    REPEATED_REQUESTS    0.000588\n",
       "11         HEAD_METHOD    0.000377\n",
       "6    HTTP_RESPONSE_3XX    0.000296\n",
       "8    HTTP_RESPONSE_5XX    0.000256\n",
       "7    HTTP_RESPONSE_4XX    0.000122\n",
       "10         POST_METHOD    0.000117\n",
       "12        OTHER_METHOD    0.000013"
      ]
     },
     "execution_count": 179,
     "metadata": {},
     "output_type": "execute_result"
    }
   ],
   "source": [
    "features_m = X_mean.columns\n",
    "\n",
    "dt_clf_m = DecisionTreeClassifier(random_state=42)\n",
    "dt_clf_m.fit(X_mean_train, y_train)\n",
    "\n",
    "importances_m = dt_clf_m.feature_importances_\n",
    "\n",
    "df_importances_m = pd.DataFrame({'feature': features_m, 'importance': importances_m})\n",
    "df_importances_m = df_importances_m.sort_values(by='importance', ascending=False)\n",
    "df_importances_m"
   ]
  },
  {
   "cell_type": "code",
   "execution_count": 180,
   "metadata": {},
   "outputs": [
    {
     "data": {
      "text/html": [
       "<div>\n",
       "<style scoped>\n",
       "    .dataframe tbody tr th:only-of-type {\n",
       "        vertical-align: middle;\n",
       "    }\n",
       "\n",
       "    .dataframe tbody tr th {\n",
       "        vertical-align: top;\n",
       "    }\n",
       "\n",
       "    .dataframe thead th {\n",
       "        text-align: right;\n",
       "    }\n",
       "</style>\n",
       "<table border=\"1\" class=\"dataframe\">\n",
       "  <thead>\n",
       "    <tr style=\"text-align: right;\">\n",
       "      <th></th>\n",
       "      <th>feature</th>\n",
       "      <th>importance</th>\n",
       "    </tr>\n",
       "  </thead>\n",
       "  <tbody>\n",
       "    <tr>\n",
       "      <th>13</th>\n",
       "      <td>UNASSIGNED</td>\n",
       "      <td>0.689621</td>\n",
       "    </tr>\n",
       "    <tr>\n",
       "      <th>23</th>\n",
       "      <td>DATA</td>\n",
       "      <td>0.101442</td>\n",
       "    </tr>\n",
       "    <tr>\n",
       "      <th>24</th>\n",
       "      <td>PPI</td>\n",
       "      <td>0.040127</td>\n",
       "    </tr>\n",
       "    <tr>\n",
       "      <th>26</th>\n",
       "      <td>PENALTY</td>\n",
       "      <td>0.035166</td>\n",
       "    </tr>\n",
       "    <tr>\n",
       "      <th>18</th>\n",
       "      <td>HTML_TO_JS</td>\n",
       "      <td>0.025523</td>\n",
       "    </tr>\n",
       "    <tr>\n",
       "      <th>4</th>\n",
       "      <td>HTTP_RESPONSE_2XX</td>\n",
       "      <td>0.020888</td>\n",
       "    </tr>\n",
       "    <tr>\n",
       "      <th>15</th>\n",
       "      <td>TOTAL_HTML</td>\n",
       "      <td>0.014310</td>\n",
       "    </tr>\n",
       "    <tr>\n",
       "      <th>20</th>\n",
       "      <td>DEPTH</td>\n",
       "      <td>0.013898</td>\n",
       "    </tr>\n",
       "    <tr>\n",
       "      <th>2</th>\n",
       "      <td>AVERAGE_TIME</td>\n",
       "      <td>0.013036</td>\n",
       "    </tr>\n",
       "    <tr>\n",
       "      <th>1</th>\n",
       "      <td>TOTAL_DURATION</td>\n",
       "      <td>0.011308</td>\n",
       "    </tr>\n",
       "    <tr>\n",
       "      <th>21</th>\n",
       "      <td>STD_DEPTH</td>\n",
       "      <td>0.006026</td>\n",
       "    </tr>\n",
       "    <tr>\n",
       "      <th>25</th>\n",
       "      <td>MAX_BARRAGE</td>\n",
       "      <td>0.005548</td>\n",
       "    </tr>\n",
       "    <tr>\n",
       "      <th>22</th>\n",
       "      <td>CONSECUTIVE</td>\n",
       "      <td>0.004259</td>\n",
       "    </tr>\n",
       "    <tr>\n",
       "      <th>16</th>\n",
       "      <td>HTML_TO_IMAGE</td>\n",
       "      <td>0.003747</td>\n",
       "    </tr>\n",
       "    <tr>\n",
       "      <th>12</th>\n",
       "      <td>NIGHT</td>\n",
       "      <td>0.003347</td>\n",
       "    </tr>\n",
       "    <tr>\n",
       "      <th>19</th>\n",
       "      <td>WIDTH</td>\n",
       "      <td>0.002636</td>\n",
       "    </tr>\n",
       "    <tr>\n",
       "      <th>14</th>\n",
       "      <td>IMAGES</td>\n",
       "      <td>0.002530</td>\n",
       "    </tr>\n",
       "    <tr>\n",
       "      <th>17</th>\n",
       "      <td>HTML_TO_CSS</td>\n",
       "      <td>0.001856</td>\n",
       "    </tr>\n",
       "    <tr>\n",
       "      <th>8</th>\n",
       "      <td>GET_METHOD</td>\n",
       "      <td>0.001584</td>\n",
       "    </tr>\n",
       "    <tr>\n",
       "      <th>0</th>\n",
       "      <td>NUMBER_OF_REQUESTS</td>\n",
       "      <td>0.001392</td>\n",
       "    </tr>\n",
       "    <tr>\n",
       "      <th>3</th>\n",
       "      <td>REPEATED_REQUESTS</td>\n",
       "      <td>0.000611</td>\n",
       "    </tr>\n",
       "    <tr>\n",
       "      <th>10</th>\n",
       "      <td>HEAD_METHOD</td>\n",
       "      <td>0.000389</td>\n",
       "    </tr>\n",
       "    <tr>\n",
       "      <th>9</th>\n",
       "      <td>POST_METHOD</td>\n",
       "      <td>0.000334</td>\n",
       "    </tr>\n",
       "    <tr>\n",
       "      <th>5</th>\n",
       "      <td>HTTP_RESPONSE_3XX</td>\n",
       "      <td>0.000266</td>\n",
       "    </tr>\n",
       "    <tr>\n",
       "      <th>6</th>\n",
       "      <td>HTTP_RESPONSE_4XX</td>\n",
       "      <td>0.000157</td>\n",
       "    </tr>\n",
       "    <tr>\n",
       "      <th>11</th>\n",
       "      <td>OTHER_METHOD</td>\n",
       "      <td>0.000000</td>\n",
       "    </tr>\n",
       "    <tr>\n",
       "      <th>7</th>\n",
       "      <td>HTTP_RESPONSE_5XX</td>\n",
       "      <td>0.000000</td>\n",
       "    </tr>\n",
       "  </tbody>\n",
       "</table>\n",
       "</div>"
      ],
      "text/plain": [
       "               feature  importance\n",
       "13          UNASSIGNED    0.689621\n",
       "23                DATA    0.101442\n",
       "24                 PPI    0.040127\n",
       "26             PENALTY    0.035166\n",
       "18          HTML_TO_JS    0.025523\n",
       "4    HTTP_RESPONSE_2XX    0.020888\n",
       "15          TOTAL_HTML    0.014310\n",
       "20               DEPTH    0.013898\n",
       "2         AVERAGE_TIME    0.013036\n",
       "1       TOTAL_DURATION    0.011308\n",
       "21           STD_DEPTH    0.006026\n",
       "25         MAX_BARRAGE    0.005548\n",
       "22         CONSECUTIVE    0.004259\n",
       "16       HTML_TO_IMAGE    0.003747\n",
       "12               NIGHT    0.003347\n",
       "19               WIDTH    0.002636\n",
       "14              IMAGES    0.002530\n",
       "17         HTML_TO_CSS    0.001856\n",
       "8           GET_METHOD    0.001584\n",
       "0   NUMBER_OF_REQUESTS    0.001392\n",
       "3    REPEATED_REQUESTS    0.000611\n",
       "10         HEAD_METHOD    0.000389\n",
       "9          POST_METHOD    0.000334\n",
       "5    HTTP_RESPONSE_3XX    0.000266\n",
       "6    HTTP_RESPONSE_4XX    0.000157\n",
       "11        OTHER_METHOD    0.000000\n",
       "7    HTTP_RESPONSE_5XX    0.000000"
      ]
     },
     "execution_count": 180,
     "metadata": {},
     "output_type": "execute_result"
    }
   ],
   "source": [
    "features_d = X_drop.columns\n",
    "\n",
    "dt_clf_d = DecisionTreeClassifier(random_state=42)\n",
    "dt_clf_d.fit(X_drop_train, y_train)\n",
    "\n",
    "importances_d = dt_clf_d.feature_importances_\n",
    "\n",
    "df_importances_d = pd.DataFrame({'feature': features_d, 'importance': importances_d})\n",
    "df_importances_d = df_importances_d.sort_values(by='importance', ascending=False)\n",
    "df_importances_d"
   ]
  },
  {
   "cell_type": "code",
   "execution_count": 181,
   "metadata": {},
   "outputs": [
    {
     "data": {
      "image/png": "[encoded data removed]",
      "text/plain": [
       "<Figure size 1500x500 with 3 Axes>"
      ]
     },
     "metadata": {},
     "output_type": "display_data"
    }
   ],
   "source": [
    "fig, ax = plt.subplots(1, 3, figsize=(15, 5))\n",
    "\n",
    "ax[0].barh(df_importances_0['feature'], df_importances_0['importance'])\n",
    "ax[0].set_title('Feature Importances for Zero Imputed Data')\n",
    "\n",
    "ax[1].barh(df_importances_m['feature'], df_importances_m['importance'])\n",
    "ax[1].set_title('Feature Importances for Mean Imputed Data')\n",
    "\n",
    "ax[2].barh(df_importances_d['feature'], df_importances_d['importance'])\n",
    "ax[2].set_title('Feature Importances for Dropped Data')\n",
    "\n",
    "plt.tight_layout()\n",
    "plt.show()"
   ]
  },
  {
   "attachments": {},
   "cell_type": "markdown",
   "metadata": {},
   "source": [
    "Duidelijk dat OTHER_METHOD, POST_METHOD, HEAD_METHOD, HTTP_RESPONSE(3,4,5)XX en REPEATED_REQUESTS geen importance hebben --> droppen"
   ]
  },
  {
   "cell_type": "code",
   "execution_count": 182,
   "metadata": {},
   "outputs": [],
   "source": [
    "X_zero = X.copy()\n",
    "X_zero = X_zero.fillna(0)\n",
    "X_zero = X_zero.drop(['OTHER_METHOD', 'POST_METHOD', 'HEAD_METHOD', 'HTTP_RESPONSE_3XX',  'HTTP_RESPONSE_4XX', 'HTTP_RESPONSE_5XX','REPEATED_REQUESTS'], axis=1)\n",
    "\n",
    "X_mean = X.copy()\n",
    "X_mean = X_mean.fillna(0)\n",
    "X_mean = X_mean.drop(['OTHER_METHOD', 'POST_METHOD', 'HEAD_METHOD', 'HTTP_RESPONSE_3XX',  'HTTP_RESPONSE_4XX', 'HTTP_RESPONSE_5XX','REPEATED_REQUESTS'], axis=1)\n",
    "\n",
    "X_drop = X.copy()\n",
    "X_drop = X.drop(['STANDARD_DEVIATION', 'SF_REFERRER', 'SF_FILETYPE', 'OTHER_METHOD', 'POST_METHOD', 'HEAD_METHOD', 'HTTP_RESPONSE_3XX',  'HTTP_RESPONSE_4XX', 'HTTP_RESPONSE_5XX','REPEATED_REQUESTS'], axis=1)"
   ]
  },
  {
   "attachments": {},
   "cell_type": "markdown",
   "metadata": {},
   "source": [
    "### Accuracy, confusion matrix en classification report vergelijken na het droppen"
   ]
  },
  {
   "cell_type": "code",
   "execution_count": 183,
   "metadata": {},
   "outputs": [
    {
     "name": "stdout",
     "output_type": "stream",
     "text": [
      "(53881, 23) (13471, 23) (53881,) (13471,)\n"
     ]
    }
   ],
   "source": [
    "X_zero_train, X_zero_test, y_train, y_test = train_test_split(X_zero, y, test_size=0.2, random_state=42)\n",
    "\n",
    "print(X_zero_train.shape, X_zero_test.shape, y_train.shape, y_test.shape)"
   ]
  },
  {
   "cell_type": "code",
   "execution_count": 184,
   "metadata": {},
   "outputs": [
    {
     "name": "stdout",
     "output_type": "stream",
     "text": [
      "(53881, 23) (13471, 23) (53881,) (13471,)\n"
     ]
    }
   ],
   "source": [
    "X_mean_train, X_mean_test, y_train, y_test = train_test_split(X_mean, y, test_size=0.2, random_state=42)\n",
    "\n",
    "print(X_mean_train.shape, X_mean_test.shape, y_train.shape, y_test.shape)"
   ]
  },
  {
   "cell_type": "code",
   "execution_count": 185,
   "metadata": {},
   "outputs": [
    {
     "name": "stdout",
     "output_type": "stream",
     "text": [
      "(53881, 20) (13471, 20) (53881,) (13471,)\n"
     ]
    }
   ],
   "source": [
    "X_drop_train, X_drop_test, y_train, y_test = train_test_split(X_drop, y, test_size=0.2, random_state=42)\n",
    "\n",
    "print(X_drop_train.shape, X_drop_test.shape, y_train.shape, y_test.shape)"
   ]
  },
  {
   "attachments": {},
   "cell_type": "markdown",
   "metadata": {},
   "source": [
    "### X zero"
   ]
  },
  {
   "cell_type": "code",
   "execution_count": 186,
   "metadata": {},
   "outputs": [
    {
     "name": "stdout",
     "output_type": "stream",
     "text": [
      "{'max_depth': 16}\n",
      "\n",
      "\n",
      "0.9758740999183431\n",
      "\n",
      "\n",
      "              precision    recall  f1-score   support\n",
      "\n",
      "           0       0.99      0.98      0.98     10785\n",
      "           1       0.93      0.95      0.94      2686\n",
      "\n",
      "    accuracy                           0.98     13471\n",
      "   macro avg       0.96      0.97      0.96     13471\n",
      "weighted avg       0.98      0.98      0.98     13471\n",
      "\n",
      "\n",
      "\n"
     ]
    },
    {
     "data": {
      "text/plain": [
       "<sklearn.metrics._plot.confusion_matrix.ConfusionMatrixDisplay at 0x211a3eede90>"
      ]
     },
     "execution_count": 186,
     "metadata": {},
     "output_type": "execute_result"
    },
    {
     "data": {
      "image/png": "[encoded data removed]",
      "text/plain": [
       "<Figure size 640x480 with 2 Axes>"
      ]
     },
     "metadata": {},
     "output_type": "display_data"
    }
   ],
   "source": [
    "grid_search_zero = GridSearchCV(DecisionTreeClassifier(random_state=42), param_grid={'max_depth': np.arange(2, 31)}, cv=5, scoring='accuracy', return_train_score=True)\n",
    "\n",
    "grid_search_zero.fit(X_zero_train, y_train)\n",
    "\n",
    "print(grid_search_zero.best_params_)\n",
    "print(\"\\n\")\n",
    "\n",
    "y_pred_0 = grid_search_zero.predict(X_zero_test)\n",
    "\n",
    "print(accuracy_score(y_test, y_pred_0))\n",
    "print(\"\\n\")\n",
    "\n",
    "print(classification_report(y_test, y_pred_0))\n",
    "print(\"\\n\")\n",
    "\n",
    "cm_0 = confusion_matrix(y_test, y_pred_0)\n",
    "\n",
    "disp = ConfusionMatrixDisplay(confusion_matrix=cm_0, display_labels=['Human', 'Robot'])\n",
    "disp.plot()"
   ]
  },
  {
   "attachments": {},
   "cell_type": "markdown",
   "metadata": {},
   "source": [
    "### X mean"
   ]
  },
  {
   "cell_type": "code",
   "execution_count": 187,
   "metadata": {},
   "outputs": [
    {
     "name": "stdout",
     "output_type": "stream",
     "text": [
      "{'max_depth': 16}\n",
      "\n",
      "\n",
      "0.9758740999183431\n",
      "\n",
      "\n",
      "              precision    recall  f1-score   support\n",
      "\n",
      "           0       0.99      0.98      0.98     10785\n",
      "           1       0.93      0.95      0.94      2686\n",
      "\n",
      "    accuracy                           0.98     13471\n",
      "   macro avg       0.96      0.97      0.96     13471\n",
      "weighted avg       0.98      0.98      0.98     13471\n",
      "\n",
      "\n",
      "\n"
     ]
    },
    {
     "data": {
      "text/plain": [
       "<sklearn.metrics._plot.confusion_matrix.ConfusionMatrixDisplay at 0x211a07bdc50>"
      ]
     },
     "execution_count": 187,
     "metadata": {},
     "output_type": "execute_result"
    },
    {
     "data": {
      "image/png": "[encoded data removed]",
      "text/plain": [
       "<Figure size 640x480 with 2 Axes>"
      ]
     },
     "metadata": {},
     "output_type": "display_data"
    }
   ],
   "source": [
    "grid_search_mean = GridSearchCV(DecisionTreeClassifier(random_state=42), param_grid={'max_depth': np.arange(2, 31)}, cv=5, scoring='accuracy', return_train_score=True)\n",
    "\n",
    "grid_search_mean.fit(X_mean_train, y_train)\n",
    "\n",
    "print(grid_search_mean.best_params_)\n",
    "print(\"\\n\")\n",
    "\n",
    "y_pred_mean = grid_search_mean.predict(X_mean_test)\n",
    "\n",
    "print(accuracy_score(y_test, y_pred_mean))\n",
    "print(\"\\n\")\n",
    "\n",
    "print(classification_report(y_test, y_pred_mean))\n",
    "print(\"\\n\")\n",
    "\n",
    "cm_mean = confusion_matrix(y_test, y_pred_mean)\n",
    "\n",
    "disp = ConfusionMatrixDisplay(confusion_matrix=cm_mean, display_labels=['Human', 'Robot'])\n",
    "disp.plot()"
   ]
  },
  {
   "attachments": {},
   "cell_type": "markdown",
   "metadata": {},
   "source": [
    "### X drop"
   ]
  },
  {
   "cell_type": "code",
   "execution_count": 188,
   "metadata": {},
   "outputs": [
    {
     "name": "stdout",
     "output_type": "stream",
     "text": [
      "{'max_depth': 18}\n",
      "\n",
      "\n",
      "0.9753544651473536\n",
      "\n",
      "\n",
      "              precision    recall  f1-score   support\n",
      "\n",
      "           0       0.99      0.98      0.98     10785\n",
      "           1       0.93      0.95      0.94      2686\n",
      "\n",
      "    accuracy                           0.98     13471\n",
      "   macro avg       0.96      0.96      0.96     13471\n",
      "weighted avg       0.98      0.98      0.98     13471\n",
      "\n",
      "\n",
      "\n"
     ]
    },
    {
     "data": {
      "text/plain": [
       "<sklearn.metrics._plot.confusion_matrix.ConfusionMatrixDisplay at 0x211ad1b7ed0>"
      ]
     },
     "execution_count": 188,
     "metadata": {},
     "output_type": "execute_result"
    },
    {
     "data": {
      "image/png": "[encoded data removed]",
      "text/plain": [
       "<Figure size 640x480 with 2 Axes>"
      ]
     },
     "metadata": {},
     "output_type": "display_data"
    }
   ],
   "source": [
    "grid_search_drop = GridSearchCV(DecisionTreeClassifier(random_state=42), param_grid={'max_depth': np.arange(2, 31)}, cv=5, scoring='accuracy', return_train_score=True)\n",
    "\n",
    "grid_search_drop.fit(X_drop_train, y_train)\n",
    "\n",
    "print(grid_search_drop.best_params_)\n",
    "print(\"\\n\")\n",
    "\n",
    "y_pred_drop = grid_search_drop.predict(X_drop_test)\n",
    "\n",
    "print(accuracy_score(y_test, y_pred_drop))\n",
    "print(\"\\n\")\n",
    "\n",
    "print(classification_report(y_test, y_pred_drop))\n",
    "print(\"\\n\")\n",
    "\n",
    "cm_drop = confusion_matrix(y_test, y_pred_drop)\n",
    "\n",
    "disp = ConfusionMatrixDisplay(confusion_matrix=cm_drop, display_labels=['Human', 'Robot'])\n",
    "disp.plot()"
   ]
  },
  {
   "attachments": {},
   "cell_type": "markdown",
   "metadata": {},
   "source": [
    "Aangezien de verschillen zeer minimaal zijn tussen de X_zero, X_mean en X_drop resultaten en de STD() te veel afwijkten bij de X_zero en X_meam ga ik de X_drop gebruiken. Ook bij de Feature importance kan er gezien worden dat STANDARD_DEVIATION, SF_REFERRER EN SF_FILETYPE nauwelijks impact (importance) hebben"
   ]
  },
  {
   "attachments": {},
   "cell_type": "markdown",
   "metadata": {},
   "source": [
    "## DecisionTreeClassifier resultaten vergelijken met BaggingClassifier (Met en zonder OOB), met AdaBoostClassifier en GradientBoostClassifier"
   ]
  },
  {
   "attachments": {},
   "cell_type": "markdown",
   "metadata": {},
   "source": [
    "De ranges van de waarden bij de features verschillen soms erg veel (De number of request bvb kan oplopen tot een nummer groter dan 9000 terwijl er bij de HTTP_REQUEST soms getallen van 0.3 zijn) --> testen of de models betere resultaten geven wanneer features gescaled zijn"
   ]
  },
  {
   "cell_type": "code",
   "execution_count": 207,
   "metadata": {},
   "outputs": [],
   "source": [
    "df = pd.read_csv('./data/weblogs.csv')\n",
    "\n",
    "X = df.drop(['ROBOT', 'ID', 'STANDARD_DEVIATION', 'SF_REFERRER', 'SF_FILETYPE', 'OTHER_METHOD', 'POST_METHOD', 'HEAD_METHOD', 'HTTP_RESPONSE_3XX',  'HTTP_RESPONSE_4XX', 'HTTP_RESPONSE_5XX','REPEATED_REQUESTS'], axis=1)\n",
    "y = df['ROBOT']\n",
    "\n",
    "X_train, X_test, y_train, y_test = train_test_split(X, y, test_size=0.2, random_state=42)"
   ]
  },
  {
   "attachments": {},
   "cell_type": "markdown",
   "metadata": {},
   "source": [
    "### Zonder scaling"
   ]
  },
  {
   "attachments": {},
   "cell_type": "markdown",
   "metadata": {},
   "source": [
    "##### DecisionTreeClassifier"
   ]
  },
  {
   "cell_type": "code",
   "execution_count": 208,
   "metadata": {},
   "outputs": [
    {
     "name": "stdout",
     "output_type": "stream",
     "text": [
      "0.9753544651473536\n",
      "\n",
      "\n",
      "              precision    recall  f1-score   support\n",
      "\n",
      "           0       0.99      0.98      0.98     10785\n",
      "           1       0.93      0.95      0.94      2686\n",
      "\n",
      "    accuracy                           0.98     13471\n",
      "   macro avg       0.96      0.96      0.96     13471\n",
      "weighted avg       0.98      0.98      0.98     13471\n",
      "\n"
     ]
    },
    {
     "data": {
      "text/plain": [
       "<sklearn.metrics._plot.confusion_matrix.ConfusionMatrixDisplay at 0x211a7a5cd10>"
      ]
     },
     "execution_count": 208,
     "metadata": {},
     "output_type": "execute_result"
    },
    {
     "data": {
      "image/png": "[encoded data removed]",
      "text/plain": [
       "<Figure size 640x480 with 2 Axes>"
      ]
     },
     "metadata": {},
     "output_type": "display_data"
    }
   ],
   "source": [
    "dt_clf = grid_search_drop.best_estimator_\n",
    "\n",
    "dt_clf.fit(X_train, y_train)\n",
    "\n",
    "y_pred_dtc = dt_clf.predict(X_test)\n",
    "\n",
    "print(accuracy_score(y_test, y_pred_dtc))\n",
    "print(\"\\n\")\n",
    "print(classification_report(y_test, y_pred_dtc))\n",
    "\n",
    "cm = confusion_matrix(y_test, y_pred_dtc)\n",
    "disp = ConfusionMatrixDisplay(confusion_matrix=cm, display_labels=['Human', 'Robot'])\n",
    "disp.plot()"
   ]
  },
  {
   "attachments": {},
   "cell_type": "markdown",
   "metadata": {},
   "source": [
    "##### BaggingClassifier zonder OOB\n",
    "\n",
    "- n_estimators = 500 --> 500 decision trees getrained op subset vd data\n",
    "- max_samples = 100 --> elke tree zal op 100 samples v/e random subset worden getrained\n",
    "- bootstrap = True --> training data samples zullen replaced worden"
   ]
  },
  {
   "cell_type": "code",
   "execution_count": 209,
   "metadata": {},
   "outputs": [
    {
     "name": "stdout",
     "output_type": "stream",
     "text": [
      "0.9501892955237177\n",
      "\n",
      "\n",
      "              precision    recall  f1-score   support\n",
      "\n",
      "           0       0.98      0.96      0.97     10785\n",
      "           1       0.84      0.92      0.88      2686\n",
      "\n",
      "    accuracy                           0.95     13471\n",
      "   macro avg       0.91      0.94      0.92     13471\n",
      "weighted avg       0.95      0.95      0.95     13471\n",
      "\n"
     ]
    },
    {
     "data": {
      "text/plain": [
       "<sklearn.metrics._plot.confusion_matrix.ConfusionMatrixDisplay at 0x211a787f3d0>"
      ]
     },
     "execution_count": 209,
     "metadata": {},
     "output_type": "execute_result"
    },
    {
     "data": {
      "image/png": "[encoded data removed]",
      "text/plain": [
       "<Figure size 640x480 with 2 Axes>"
      ]
     },
     "metadata": {},
     "output_type": "display_data"
    }
   ],
   "source": [
    "bag_clf = BaggingClassifier(DecisionTreeClassifier(), n_estimators=500, max_samples=100, bootstrap=True, n_jobs=-1, random_state=42)\n",
    "\n",
    "bag_clf.fit(X_train, y_train)\n",
    "\n",
    "y_pred_bc = bag_clf.predict(X_test)\n",
    "\n",
    "print(accuracy_score(y_test, y_pred_bc))\n",
    "print(\"\\n\")\n",
    "print(classification_report(y_test, y_pred_bc))\n",
    "\n",
    "cm = confusion_matrix(y_test, y_pred_bc)\n",
    "disp = ConfusionMatrixDisplay(confusion_matrix=cm, display_labels=['Human', 'Robot'])\n",
    "disp.plot()"
   ]
  },
  {
   "attachments": {},
   "cell_type": "markdown",
   "metadata": {},
   "source": [
    "##### BaggingClassifier met OOB\n",
    "\n",
    "- oob_score = True --> niet gebruikte data samples voor evaluatie BaggingClassifier"
   ]
  },
  {
   "cell_type": "code",
   "execution_count": 210,
   "metadata": {},
   "outputs": [
    {
     "data": {
      "text/plain": [
       "0.951912548022494"
      ]
     },
     "execution_count": 210,
     "metadata": {},
     "output_type": "execute_result"
    }
   ],
   "source": [
    "bag_clf = BaggingClassifier(DecisionTreeClassifier(), n_estimators=500, max_samples=100, bootstrap=True, oob_score=True, n_jobs=-1, random_state=42)\n",
    "\n",
    "bag_clf.fit(X_train, y_train)\n",
    "\n",
    "bag_clf.oob_score_"
   ]
  },
  {
   "cell_type": "code",
   "execution_count": 211,
   "metadata": {},
   "outputs": [
    {
     "data": {
      "text/plain": [
       "0.9501892955237177"
      ]
     },
     "execution_count": 211,
     "metadata": {},
     "output_type": "execute_result"
    }
   ],
   "source": [
    "y_pred_oob = bag_clf.predict(X_test)\n",
    "accuracy_score(y_test, y_pred_oob)"
   ]
  },
  {
   "attachments": {},
   "cell_type": "markdown",
   "metadata": {},
   "source": [
    "Is zeer dicht bij de OOB score"
   ]
  },
  {
   "cell_type": "code",
   "execution_count": 212,
   "metadata": {},
   "outputs": [
    {
     "name": "stdout",
     "output_type": "stream",
     "text": [
      "              precision    recall  f1-score   support\n",
      "\n",
      "           0       0.98      0.96      0.97     10785\n",
      "           1       0.84      0.92      0.88      2686\n",
      "\n",
      "    accuracy                           0.95     13471\n",
      "   macro avg       0.91      0.94      0.92     13471\n",
      "weighted avg       0.95      0.95      0.95     13471\n",
      "\n"
     ]
    }
   ],
   "source": [
    "print(classification_report(y_test, y_pred_oob))"
   ]
  },
  {
   "attachments": {},
   "cell_type": "markdown",
   "metadata": {},
   "source": [
    "##### AdaBoostClassifier"
   ]
  },
  {
   "cell_type": "code",
   "execution_count": 216,
   "metadata": {},
   "outputs": [
    {
     "name": "stdout",
     "output_type": "stream",
     "text": [
      "0.9753544651473536\n",
      "\n",
      "              precision    recall  f1-score   support\n",
      "\n",
      "           0       0.98      0.98      0.98     10785\n",
      "           1       0.94      0.94      0.94      2686\n",
      "\n",
      "    accuracy                           0.98     13471\n",
      "   macro avg       0.96      0.96      0.96     13471\n",
      "weighted avg       0.98      0.98      0.98     13471\n",
      "\n"
     ]
    },
    {
     "data": {
      "text/plain": [
       "<sklearn.metrics._plot.confusion_matrix.ConfusionMatrixDisplay at 0x211ac267550>"
      ]
     },
     "execution_count": 216,
     "metadata": {},
     "output_type": "execute_result"
    },
    {
     "data": {
      "image/png": "[encoded data removed]",
      "text/plain": [
       "<Figure size 640x480 with 2 Axes>"
      ]
     },
     "metadata": {},
     "output_type": "display_data"
    }
   ],
   "source": [
    "ada_clf = AdaBoostClassifier(\n",
    "    DecisionTreeClassifier(), n_estimators=200,\n",
    "    algorithm=\"SAMME.R\", learning_rate=0.5, random_state=42)\n",
    "ada_clf.fit(X_train, y_train)\n",
    "\n",
    "y_pred_ada = ada_clf.predict(X_test)\n",
    "print(f\"{accuracy_score(y_test, y_pred_ada)}\\n\")\n",
    "\n",
    "print(classification_report(y_test, y_pred_ada))\n",
    "\n",
    "cm = confusion_matrix(y_test, y_pred_ada)\n",
    "\n",
    "disp = ConfusionMatrixDisplay(confusion_matrix=cm, display_labels=['Human', 'Robot'])\n",
    "disp.plot()"
   ]
  },
  {
   "attachments": {},
   "cell_type": "markdown",
   "metadata": {},
   "source": [
    "##### GradientBoostClassifier"
   ]
  },
  {
   "cell_type": "code",
   "execution_count": 217,
   "metadata": {},
   "outputs": [
    {
     "name": "stdout",
     "output_type": "stream",
     "text": [
      "0.978398040234578\n",
      "\n",
      "              precision    recall  f1-score   support\n",
      "\n",
      "           0       0.99      0.99      0.99     10785\n",
      "           1       0.94      0.95      0.95      2686\n",
      "\n",
      "    accuracy                           0.98     13471\n",
      "   macro avg       0.97      0.97      0.97     13471\n",
      "weighted avg       0.98      0.98      0.98     13471\n",
      "\n"
     ]
    },
    {
     "data": {
      "text/plain": [
       "<sklearn.metrics._plot.confusion_matrix.ConfusionMatrixDisplay at 0x211a6c13a50>"
      ]
     },
     "execution_count": 217,
     "metadata": {},
     "output_type": "execute_result"
    },
    {
     "data": {
      "image/png": "[encoded data removed]",
      "text/plain": [
       "<Figure size 640x480 with 2 Axes>"
      ]
     },
     "metadata": {},
     "output_type": "display_data"
    }
   ],
   "source": [
    "gbrt = GradientBoostingClassifier(max_depth=18, n_estimators=120, learning_rate=0.1, random_state=42)\n",
    "gbrt.fit(X_train, y_train)\n",
    "\n",
    "errors_gbrt = [mean_squared_error(y_test, y_pred) for y_pred in gbrt.staged_predict(X_test)]\n",
    "\n",
    "best_n_estimators = np.argmin(errors_gbrt) + 1\n",
    "\n",
    "gbrt_best = GradientBoostingClassifier(max_depth=18, n_estimators=best_n_estimators, learning_rate=0.1, random_state=42)\n",
    "gbrt_best.fit(X_train, y_train)\n",
    "\n",
    "y_pred_gbrt = gbrt_best.predict(X_test)\n",
    "\n",
    "print(f\"{accuracy_score(y_test, y_pred_gbrt)}\\n\")\n",
    "\n",
    "print(classification_report(y_test, y_pred_gbrt))\n",
    "\n",
    "cm = confusion_matrix(y_test, y_pred_gbrt)\n",
    "disp = ConfusionMatrixDisplay(confusion_matrix=cm, display_labels=['Human', 'Robot'])\n",
    "disp.plot()"
   ]
  },
  {
   "attachments": {},
   "cell_type": "markdown",
   "metadata": {},
   "source": [
    "### Met Scaling"
   ]
  },
  {
   "cell_type": "code",
   "execution_count": 218,
   "metadata": {},
   "outputs": [],
   "source": [
    "df = pd.read_csv('./data/weblogs.csv')\n",
    "\n",
    "X = df.drop(['ROBOT', 'ID', 'STANDARD_DEVIATION', 'SF_REFERRER', 'SF_FILETYPE', 'OTHER_METHOD', 'POST_METHOD', 'HEAD_METHOD', 'HTTP_RESPONSE_3XX',  'HTTP_RESPONSE_4XX', 'HTTP_RESPONSE_5XX','REPEATED_REQUESTS'], axis=1)\n",
    "y = df['ROBOT']\n",
    "\n",
    "X_train, X_test, y_train, y_test = train_test_split(X, y, test_size=0.2, random_state=42)"
   ]
  },
  {
   "cell_type": "code",
   "execution_count": 220,
   "metadata": {},
   "outputs": [
    {
     "name": "stdout",
     "output_type": "stream",
     "text": [
      "0.9720881894439908\n",
      "\n",
      "              precision    recall  f1-score   support\n",
      "\n",
      "           0       0.98      0.98      0.98     10785\n",
      "           1       0.93      0.93      0.93      2686\n",
      "\n",
      "    accuracy                           0.97     13471\n",
      "   macro avg       0.95      0.96      0.96     13471\n",
      "weighted avg       0.97      0.97      0.97     13471\n",
      "\n"
     ]
    },
    {
     "data": {
      "text/plain": [
       "<sklearn.metrics._plot.confusion_matrix.ConfusionMatrixDisplay at 0x211ad54e410>"
      ]
     },
     "execution_count": 220,
     "metadata": {},
     "output_type": "execute_result"
    },
    {
     "data": {
      "image/png": "[encoded data removed]",
      "text/plain": [
       "<Figure size 640x480 with 2 Axes>"
      ]
     },
     "metadata": {},
     "output_type": "display_data"
    }
   ],
   "source": [
    "from sklearn.pipeline import Pipeline\n",
    "\n",
    "scaler = StandardScaler()\n",
    "\n",
    "dt_clf_scaled = grid_search_drop.best_estimator_\n",
    "\n",
    "pipeline = Pipeline([\n",
    "    ('scaler', scaler),\n",
    "    ('dt_clf_scaled', dt_clf_scaled),\n",
    "])\n",
    "\n",
    "pipeline.fit(X_train, y_train)\n",
    "\n",
    "y_pred_pipeline = pipeline.predict(X_test)\n",
    "\n",
    "print(f\"{accuracy_score(y_test, y_pred_pipeline)}\\n\")\n",
    "\n",
    "print(classification_report(y_test, y_pred_pipeline))\n",
    "\n",
    "cm = confusion_matrix(y_test, y_pred_pipeline)\n",
    "disp = ConfusionMatrixDisplay(confusion_matrix=cm, display_labels=['Human', 'Robot'])\n",
    "disp.plot()"
   ]
  },
  {
   "cell_type": "code",
   "execution_count": 221,
   "metadata": {},
   "outputs": [
    {
     "name": "stdout",
     "output_type": "stream",
     "text": [
      "0.9472941875139188\n",
      "\n",
      "              precision    recall  f1-score   support\n",
      "\n",
      "           0       0.98      0.95      0.97     10785\n",
      "           1       0.82      0.94      0.88      2686\n",
      "\n",
      "    accuracy                           0.95     13471\n",
      "   macro avg       0.90      0.94      0.92     13471\n",
      "weighted avg       0.95      0.95      0.95     13471\n",
      "\n"
     ]
    },
    {
     "data": {
      "text/plain": [
       "<sklearn.metrics._plot.confusion_matrix.ConfusionMatrixDisplay at 0x211ac22b710>"
      ]
     },
     "execution_count": 221,
     "metadata": {},
     "output_type": "execute_result"
    },
    {
     "data": {
      "image/png": "[encoded data removed]",
      "text/plain": [
       "<Figure size 640x480 with 2 Axes>"
      ]
     },
     "metadata": {},
     "output_type": "display_data"
    }
   ],
   "source": [
    "bag_clf_scaled = BaggingClassifier(DecisionTreeClassifier(), n_estimators=500, max_samples=100, bootstrap=True, n_jobs=-1, random_state=42)\n",
    "\n",
    "pipeline = Pipeline([\n",
    "    ('scaler', scaler),\n",
    "    ('bag_clf_scaled', bag_clf_scaled),\n",
    "])\n",
    "\n",
    "pipeline.fit(X_train, y_train)\n",
    "\n",
    "y_pred_pipeline = pipeline.predict(X_test)\n",
    "\n",
    "print(f\"{accuracy_score(y_test, y_pred_pipeline)}\\n\")\n",
    "\n",
    "print(classification_report(y_test, y_pred_pipeline))\n",
    "\n",
    "cm = confusion_matrix(y_test, y_pred_pipeline)\n",
    "disp = ConfusionMatrixDisplay(confusion_matrix=cm, display_labels=['Human', 'Robot'])\n",
    "disp.plot()"
   ]
  },
  {
   "cell_type": "code",
   "execution_count": 222,
   "metadata": {},
   "outputs": [
    {
     "name": "stdout",
     "output_type": "stream",
     "text": [
      "0.9472941875139188\n",
      "\n",
      "              precision    recall  f1-score   support\n",
      "\n",
      "           0       0.98      0.95      0.97     10785\n",
      "           1       0.82      0.94      0.88      2686\n",
      "\n",
      "    accuracy                           0.95     13471\n",
      "   macro avg       0.90      0.94      0.92     13471\n",
      "weighted avg       0.95      0.95      0.95     13471\n",
      "\n"
     ]
    },
    {
     "data": {
      "text/plain": [
       "<sklearn.metrics._plot.confusion_matrix.ConfusionMatrixDisplay at 0x211ab70bd10>"
      ]
     },
     "execution_count": 222,
     "metadata": {},
     "output_type": "execute_result"
    },
    {
     "data": {
      "image/png": "[encoded data removed]",
      "text/plain": [
       "<Figure size 640x480 with 2 Axes>"
      ]
     },
     "metadata": {},
     "output_type": "display_data"
    }
   ],
   "source": [
    "bag_clf_oob_scaled = BaggingClassifier(DecisionTreeClassifier(), n_estimators=500, max_samples=100, bootstrap=True, oob_score=True, n_jobs=-1, random_state=42)\n",
    "\n",
    "pipeline = Pipeline([\n",
    "    ('scaler', scaler),\n",
    "    ('bag_clf_oob_scaled', bag_clf_oob_scaled),\n",
    "])\n",
    "\n",
    "pipeline.fit(X_train, y_train)\n",
    "\n",
    "y_pred_pipeline = pipeline.predict(X_test)\n",
    "\n",
    "print(f\"{accuracy_score(y_test, y_pred_pipeline)}\\n\")\n",
    "\n",
    "print(classification_report(y_test, y_pred_pipeline))\n",
    "\n",
    "cm = confusion_matrix(y_test, y_pred_pipeline)\n",
    "disp = ConfusionMatrixDisplay(confusion_matrix=cm, display_labels=['Human', 'Robot'])\n",
    "disp.plot()"
   ]
  },
  {
   "cell_type": "code",
   "execution_count": 223,
   "metadata": {},
   "outputs": [
    {
     "name": "stdout",
     "output_type": "stream",
     "text": [
      "0.9732016925246827\n",
      "\n",
      "              precision    recall  f1-score   support\n",
      "\n",
      "           0       0.98      0.98      0.98     10785\n",
      "           1       0.94      0.93      0.93      2686\n",
      "\n",
      "    accuracy                           0.97     13471\n",
      "   macro avg       0.96      0.96      0.96     13471\n",
      "weighted avg       0.97      0.97      0.97     13471\n",
      "\n"
     ]
    },
    {
     "data": {
      "text/plain": [
       "<sklearn.metrics._plot.confusion_matrix.ConfusionMatrixDisplay at 0x211abbd3d10>"
      ]
     },
     "execution_count": 223,
     "metadata": {},
     "output_type": "execute_result"
    },
    {
     "data": {
      "image/png": "[encoded data removed]",
      "text/plain": [
       "<Figure size 640x480 with 2 Axes>"
      ]
     },
     "metadata": {},
     "output_type": "display_data"
    }
   ],
   "source": [
    "ada_clf_scaled = AdaBoostClassifier(\n",
    "    DecisionTreeClassifier(), n_estimators=200,\n",
    "    algorithm=\"SAMME.R\", learning_rate=0.5, random_state=42)\n",
    "\n",
    "pipeline = Pipeline([\n",
    "    ('scaler', scaler),\n",
    "    ('ada_clf_scaled', ada_clf_scaled),\n",
    "])\n",
    "\n",
    "pipeline.fit(X_train, y_train)\n",
    "\n",
    "y_pred_pipeline = pipeline.predict(X_test)\n",
    "\n",
    "print(f\"{accuracy_score(y_test, y_pred_pipeline)}\\n\")\n",
    "\n",
    "print(classification_report(y_test, y_pred_pipeline))\n",
    "\n",
    "cm = confusion_matrix(y_test, y_pred_pipeline)\n",
    "disp = ConfusionMatrixDisplay(confusion_matrix=cm, display_labels=['Human', 'Robot'])\n",
    "disp.plot()"
   ]
  },
  {
   "cell_type": "code",
   "execution_count": 224,
   "metadata": {},
   "outputs": [
    {
     "name": "stdout",
     "output_type": "stream",
     "text": [
      "0.9740182614505234\n",
      "\n",
      "              precision    recall  f1-score   support\n",
      "\n",
      "           0       0.98      0.98      0.98     10785\n",
      "           1       0.94      0.93      0.93      2686\n",
      "\n",
      "    accuracy                           0.97     13471\n",
      "   macro avg       0.96      0.96      0.96     13471\n",
      "weighted avg       0.97      0.97      0.97     13471\n",
      "\n"
     ]
    },
    {
     "data": {
      "text/plain": [
       "<sklearn.metrics._plot.confusion_matrix.ConfusionMatrixDisplay at 0x211ad579e50>"
      ]
     },
     "execution_count": 224,
     "metadata": {},
     "output_type": "execute_result"
    },
    {
     "data": {
      "image/png": "[encoded data removed]",
      "text/plain": [
       "<Figure size 640x480 with 2 Axes>"
      ]
     },
     "metadata": {},
     "output_type": "display_data"
    }
   ],
   "source": [
    "gbrt_best_scaled = GradientBoostingClassifier(max_depth=18, n_estimators=best_n_estimators, learning_rate=0.1, random_state=42)\n",
    "\n",
    "pipeline = Pipeline([\n",
    "    ('scaler', scaler),\n",
    "    ('gbrt_best_scaled', gbrt_best_scaled),\n",
    "])\n",
    "\n",
    "pipeline.fit(X_train, y_train)\n",
    "\n",
    "y_pred_pipeline = pipeline.predict(X_test)\n",
    "\n",
    "print(f\"{accuracy_score(y_test, y_pred_pipeline)}\\n\")\n",
    "\n",
    "print(classification_report(y_test, y_pred_pipeline))\n",
    "\n",
    "cm = confusion_matrix(y_test, y_pred_pipeline)\n",
    "disp = ConfusionMatrixDisplay(confusion_matrix=cm, display_labels=['Human', 'Robot'])\n",
    "disp.plot()"
   ]
  },
  {
   "attachments": {},
   "cell_type": "markdown",
   "metadata": {},
   "source": [
    "Conclusie --> scaling heeft de resultaten slechter gemaakt"
   ]
  },
  {
   "attachments": {},
   "cell_type": "markdown",
   "metadata": {},
   "source": [
    "### Models opslaan"
   ]
  },
  {
   "cell_type": "code",
   "execution_count": 227,
   "metadata": {},
   "outputs": [],
   "source": [
    "filename = './new_models/decision_tree_classifier.sav'\n",
    "pickle.dump(dt_clf, open(filename, 'wb'))\n",
    "\n",
    "filename2 = './new_models/bagging_classifier_oob.sav'\n",
    "pickle.dump(bag_clf, open(filename2, 'wb'))\n",
    "\n",
    "filename3 = './new_models/adaboost_classifier.sav'\n",
    "pickle.dump(ada_clf, open(filename3, 'wb'))\n",
    "\n",
    "filename4 = './new_models/gradient_boosting_classifier.sav'\n",
    "pickle.dump(gbrt_best, open(filename4, 'wb'))"
   ]
  }
 ],
 "metadata": {
  "kernelspec": {
   "display_name": "Python 3",
   "language": "python",
   "name": "python3"
  },
  "language_info": {
   "codemirror_mode": {
    "name": "ipython",
    "version": 3
   },
   "file_extension": ".py",
   "mimetype": "text/x-python",
   "name": "python",
   "nbconvert_exporter": "python",
   "pygments_lexer": "ipython3",
   "version": "3.11.3"
  },
  "orig_nbformat": 4
 },
 "nbformat": 4,
 "nbformat_minor": 2
}
